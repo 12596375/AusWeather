{
 "cells": [
  {
   "cell_type": "code",
   "execution_count": 60,
   "metadata": {},
   "outputs": [],
   "source": [
    "import pandas as pd\n",
    "import numpy as np\n",
    "import matplotlib.pyplot as plt\n",
    "from sklearn.model_selection import train_test_split\n",
    "from time import process_time\n",
    "from sklearn.model_selection import KFold\n",
    "from sklearn.metrics import precision_recall_fscore_support as score\n",
    "from sklearn.feature_selection import RFE\n",
    "from sklearn.metrics import classification_report\n",
    "from xgboost import XGBClassifier\n",
    "from sklearn.linear_model import LogisticRegression\n",
    "from sklearn.metrics import confusion_matrix\n",
    "from sklearn import preprocessing\n",
    "import warnings\n",
    "import seaborn as sns\n",
    "warnings.filterwarnings('ignore')"
   ]
  },
  {
   "cell_type": "code",
   "execution_count": null,
   "metadata": {},
   "outputs": [],
   "source": [
    "bucket = 'andrew-data-sagemaker/WeatherClassifier'\n",
    "data_key = 'WeatherAusReady.csv' \n",
    "data_location = 's3://{}/{}'.format(bucket, data_key) \n",
    "weather_df = pd.read_csv(data_location)\n",
    "weather_df.head()"
   ]
  },
  {
   "cell_type": "code",
   "execution_count": 2,
   "metadata": {},
   "outputs": [
    {
     "data": {
      "text/html": [
       "<div>\n",
       "<style scoped>\n",
       "    .dataframe tbody tr th:only-of-type {\n",
       "        vertical-align: middle;\n",
       "    }\n",
       "\n",
       "    .dataframe tbody tr th {\n",
       "        vertical-align: top;\n",
       "    }\n",
       "\n",
       "    .dataframe thead th {\n",
       "        text-align: right;\n",
       "    }\n",
       "</style>\n",
       "<table border=\"1\" class=\"dataframe\">\n",
       "  <thead>\n",
       "    <tr style=\"text-align: right;\">\n",
       "      <th></th>\n",
       "      <th>Unnamed: 0</th>\n",
       "      <th>Date</th>\n",
       "      <th>Location</th>\n",
       "      <th>MinTemp</th>\n",
       "      <th>MaxTemp</th>\n",
       "      <th>Rainfall</th>\n",
       "      <th>Evaporation</th>\n",
       "      <th>Sunshine</th>\n",
       "      <th>WindGustDir</th>\n",
       "      <th>WindGustSpeed</th>\n",
       "      <th>...</th>\n",
       "      <th>Pressure9am</th>\n",
       "      <th>Pressure3pm</th>\n",
       "      <th>Cloud9am</th>\n",
       "      <th>Cloud3pm</th>\n",
       "      <th>Temp9am</th>\n",
       "      <th>Temp3pm</th>\n",
       "      <th>RainToday</th>\n",
       "      <th>RISK_MM</th>\n",
       "      <th>RainTomorrow</th>\n",
       "      <th>id</th>\n",
       "    </tr>\n",
       "  </thead>\n",
       "  <tbody>\n",
       "    <tr>\n",
       "      <th>0</th>\n",
       "      <td>0</td>\n",
       "      <td>2008-12-01</td>\n",
       "      <td>Albury</td>\n",
       "      <td>13.4</td>\n",
       "      <td>22.9</td>\n",
       "      <td>0.6</td>\n",
       "      <td>5.1</td>\n",
       "      <td>10.9</td>\n",
       "      <td>W</td>\n",
       "      <td>44.0</td>\n",
       "      <td>...</td>\n",
       "      <td>1007.7</td>\n",
       "      <td>1007.1</td>\n",
       "      <td>8.0</td>\n",
       "      <td>6.2</td>\n",
       "      <td>16.9</td>\n",
       "      <td>21.8</td>\n",
       "      <td>0.0</td>\n",
       "      <td>0.0</td>\n",
       "      <td>No</td>\n",
       "      <td>1</td>\n",
       "    </tr>\n",
       "    <tr>\n",
       "      <th>1</th>\n",
       "      <td>1</td>\n",
       "      <td>2008-12-02</td>\n",
       "      <td>Albury</td>\n",
       "      <td>7.4</td>\n",
       "      <td>25.1</td>\n",
       "      <td>0.0</td>\n",
       "      <td>5.1</td>\n",
       "      <td>10.9</td>\n",
       "      <td>WNW</td>\n",
       "      <td>44.0</td>\n",
       "      <td>...</td>\n",
       "      <td>1010.6</td>\n",
       "      <td>1007.8</td>\n",
       "      <td>2.9</td>\n",
       "      <td>6.2</td>\n",
       "      <td>17.2</td>\n",
       "      <td>24.3</td>\n",
       "      <td>0.0</td>\n",
       "      <td>0.0</td>\n",
       "      <td>No</td>\n",
       "      <td>2</td>\n",
       "    </tr>\n",
       "    <tr>\n",
       "      <th>2</th>\n",
       "      <td>2</td>\n",
       "      <td>2008-12-03</td>\n",
       "      <td>Albury</td>\n",
       "      <td>12.9</td>\n",
       "      <td>25.7</td>\n",
       "      <td>0.0</td>\n",
       "      <td>5.1</td>\n",
       "      <td>10.9</td>\n",
       "      <td>WSW</td>\n",
       "      <td>46.0</td>\n",
       "      <td>...</td>\n",
       "      <td>1007.6</td>\n",
       "      <td>1008.7</td>\n",
       "      <td>2.9</td>\n",
       "      <td>2.0</td>\n",
       "      <td>21.0</td>\n",
       "      <td>23.2</td>\n",
       "      <td>0.0</td>\n",
       "      <td>0.0</td>\n",
       "      <td>No</td>\n",
       "      <td>3</td>\n",
       "    </tr>\n",
       "    <tr>\n",
       "      <th>3</th>\n",
       "      <td>3</td>\n",
       "      <td>2008-12-04</td>\n",
       "      <td>Albury</td>\n",
       "      <td>9.2</td>\n",
       "      <td>28.0</td>\n",
       "      <td>0.0</td>\n",
       "      <td>5.1</td>\n",
       "      <td>10.9</td>\n",
       "      <td>NE</td>\n",
       "      <td>24.0</td>\n",
       "      <td>...</td>\n",
       "      <td>1017.6</td>\n",
       "      <td>1012.8</td>\n",
       "      <td>2.9</td>\n",
       "      <td>6.2</td>\n",
       "      <td>18.1</td>\n",
       "      <td>26.5</td>\n",
       "      <td>0.0</td>\n",
       "      <td>1.0</td>\n",
       "      <td>No</td>\n",
       "      <td>4</td>\n",
       "    </tr>\n",
       "    <tr>\n",
       "      <th>4</th>\n",
       "      <td>4</td>\n",
       "      <td>2008-12-05</td>\n",
       "      <td>Albury</td>\n",
       "      <td>17.5</td>\n",
       "      <td>32.3</td>\n",
       "      <td>1.0</td>\n",
       "      <td>5.1</td>\n",
       "      <td>10.9</td>\n",
       "      <td>W</td>\n",
       "      <td>41.0</td>\n",
       "      <td>...</td>\n",
       "      <td>1010.8</td>\n",
       "      <td>1006.0</td>\n",
       "      <td>7.0</td>\n",
       "      <td>8.0</td>\n",
       "      <td>17.8</td>\n",
       "      <td>29.7</td>\n",
       "      <td>0.0</td>\n",
       "      <td>0.2</td>\n",
       "      <td>No</td>\n",
       "      <td>5</td>\n",
       "    </tr>\n",
       "  </tbody>\n",
       "</table>\n",
       "<p>5 rows × 26 columns</p>\n",
       "</div>"
      ],
      "text/plain": [
       "   Unnamed: 0        Date Location  MinTemp  MaxTemp  Rainfall  Evaporation  \\\n",
       "0           0  2008-12-01   Albury     13.4     22.9       0.6          5.1   \n",
       "1           1  2008-12-02   Albury      7.4     25.1       0.0          5.1   \n",
       "2           2  2008-12-03   Albury     12.9     25.7       0.0          5.1   \n",
       "3           3  2008-12-04   Albury      9.2     28.0       0.0          5.1   \n",
       "4           4  2008-12-05   Albury     17.5     32.3       1.0          5.1   \n",
       "\n",
       "   Sunshine WindGustDir  WindGustSpeed  ... Pressure9am Pressure3pm  Cloud9am  \\\n",
       "0      10.9           W           44.0  ...      1007.7      1007.1       8.0   \n",
       "1      10.9         WNW           44.0  ...      1010.6      1007.8       2.9   \n",
       "2      10.9         WSW           46.0  ...      1007.6      1008.7       2.9   \n",
       "3      10.9          NE           24.0  ...      1017.6      1012.8       2.9   \n",
       "4      10.9           W           41.0  ...      1010.8      1006.0       7.0   \n",
       "\n",
       "   Cloud3pm  Temp9am  Temp3pm  RainToday  RISK_MM  RainTomorrow  id  \n",
       "0       6.2     16.9     21.8        0.0      0.0            No   1  \n",
       "1       6.2     17.2     24.3        0.0      0.0            No   2  \n",
       "2       2.0     21.0     23.2        0.0      0.0            No   3  \n",
       "3       6.2     18.1     26.5        0.0      1.0            No   4  \n",
       "4       8.0     17.8     29.7        0.0      0.2            No   5  \n",
       "\n",
       "[5 rows x 26 columns]"
      ]
     },
     "execution_count": 2,
     "metadata": {},
     "output_type": "execute_result"
    }
   ],
   "source": [
    "data_location = 'data/weatherAUSReady.csv'\n",
    "weather_df = pd.read_csv(data_location)\n",
    "weather_df.head()"
   ]
  },
  {
   "cell_type": "markdown",
   "metadata": {},
   "source": [
    "# Final Variables\n",
    "\n",
    "We dummies the seasons because it is a categorical numerical variable where a number isn't better than the other. We also drop unnecessary columns such as Wind Direction and RISK_MM."
   ]
  },
  {
   "cell_type": "code",
   "execution_count": 11,
   "metadata": {},
   "outputs": [],
   "source": [
    "weather_df = pd.concat([weather_df, pd.get_dummies(weather_df['Seasons'], prefix=\"Seasons\"), \n",
    "                        pd.get_dummies(weather_df['Location'], prefix=\"Location\")], axis = 1)\n",
    "weather_df.drop(['Seasons', 'Location', 'RISK_MM', 'WindGustDir', 'WindDir9am', 'WindDir3pm',\n",
    "                 'Year', 'Month', 'Date', 'Unnamed: 0', 'id'], axis=1, inplace=True)"
   ]
  },
  {
   "cell_type": "code",
   "execution_count": 12,
   "metadata": {},
   "outputs": [
    {
     "data": {
      "text/plain": [
       "0.0    110738\n",
       "1.0     31455\n",
       "Name: RainToday, dtype: int64"
      ]
     },
     "execution_count": 12,
     "metadata": {},
     "output_type": "execute_result"
    }
   ],
   "source": [
    "weather_df.RainToday.value_counts()"
   ]
  },
  {
   "cell_type": "code",
   "execution_count": 13,
   "metadata": {},
   "outputs": [
    {
     "data": {
      "text/plain": [
       "Index(['MinTemp', 'MaxTemp', 'Rainfall', 'Evaporation', 'Sunshine',\n",
       "       'WindGustSpeed', 'WindSpeed9am', 'WindSpeed3pm', 'Humidity9am',\n",
       "       'Humidity3pm', 'Pressure9am', 'Pressure3pm', 'Cloud9am', 'Cloud3pm',\n",
       "       'Temp9am', 'Temp3pm', 'RainToday', 'RainTomorrow', 'Seasons_1',\n",
       "       'Seasons_2', 'Seasons_3', 'Seasons_4', 'Location_Adelaide',\n",
       "       'Location_Albany', 'Location_Albury', 'Location_AliceSprings',\n",
       "       'Location_BadgerysCreek', 'Location_Ballarat', 'Location_Bendigo',\n",
       "       'Location_Brisbane', 'Location_Cairns', 'Location_Canberra',\n",
       "       'Location_Cobar', 'Location_CoffsHarbour', 'Location_Dartmoor',\n",
       "       'Location_Darwin', 'Location_GoldCoast', 'Location_Hobart',\n",
       "       'Location_Katherine', 'Location_Launceston', 'Location_Melbourne',\n",
       "       'Location_MelbourneAirport', 'Location_Mildura', 'Location_Moree',\n",
       "       'Location_MountGambier', 'Location_MountGinini', 'Location_Newcastle',\n",
       "       'Location_Nhil', 'Location_NorahHead', 'Location_NorfolkIsland',\n",
       "       'Location_Nuriootpa', 'Location_PearceRAAF', 'Location_Penrith',\n",
       "       'Location_Perth', 'Location_PerthAirport', 'Location_Portland',\n",
       "       'Location_Richmond', 'Location_Sale', 'Location_SalmonGums',\n",
       "       'Location_Sydney', 'Location_SydneyAirport', 'Location_Townsville',\n",
       "       'Location_Tuggeranong', 'Location_Uluru', 'Location_WaggaWagga',\n",
       "       'Location_Walpole', 'Location_Watsonia', 'Location_Williamtown',\n",
       "       'Location_Witchcliffe', 'Location_Wollongong', 'Location_Woomera'],\n",
       "      dtype='object')"
      ]
     },
     "execution_count": 13,
     "metadata": {},
     "output_type": "execute_result"
    }
   ],
   "source": [
    "weather_df.columns"
   ]
  },
  {
   "cell_type": "markdown",
   "metadata": {},
   "source": [
    "# Reclusive Feature elimination \n",
    "\n",
    "As there is so many varibles and most likely some variables do not contribute to the model well, we will be applying Reclusive Feature Elimination - Logistic Regression. This is applying Logistic Regression modelling but with elimination of features. "
   ]
  },
  {
   "cell_type": "code",
   "execution_count": 14,
   "metadata": {},
   "outputs": [
    {
     "name": "stdout",
     "output_type": "stream",
     "text": [
      "[ True False False False  True  True False False False  True  True  True\n",
      " False  True False False  True  True False  True False  True  True  True\n",
      " False  True  True  True  True  True  True  True  True False  True  True\n",
      "  True  True  True False  True False  True False  True  True False  True\n",
      "  True False  True  True  True  True False  True  True  True  True  True\n",
      "  True  True False  True  True  True  True  True  True  True]\n",
      "[ 1 21 13 18  1  1 20  8 19  1  1  1  4  1 11 15  1  1 14  1  7  1  1  1\n",
      "  5  1  1  1  1  1  1  1  1  2  1  1  1  1  1 12  1  9  1  6  1  1 10  1\n",
      "  1  3  1  1  1  1 16  1  1  1  1  1  1  1 17  1  1  1  1  1  1  1]\n"
     ]
    }
   ],
   "source": [
    "target = 'RainTomorrow'\n",
    "features = [col for col in weather_df.columns if col != target]\n",
    "logreg = LogisticRegression()\n",
    "X = weather_df[features]\n",
    "y = weather_df[target]\n",
    "rfe = RFE(logreg, 50)\n",
    "rfe.fit(X, y.values.ravel())\n",
    "print(rfe.support_)\n",
    "print(rfe.ranking_)"
   ]
  },
  {
   "cell_type": "code",
   "execution_count": 15,
   "metadata": {},
   "outputs": [
    {
     "data": {
      "text/plain": [
       "70"
      ]
     },
     "execution_count": 15,
     "metadata": {},
     "output_type": "execute_result"
    }
   ],
   "source": [
    "rfe_ranks = rfe.ranking_.tolist()\n",
    "len(rfe_ranks)"
   ]
  },
  {
   "cell_type": "code",
   "execution_count": 16,
   "metadata": {},
   "outputs": [],
   "source": [
    "rfe_table = pd.DataFrame({'features':features, 'ranks':rfe_ranks})\n",
    "rfe_table = rfe_table.loc[rfe_table['ranks'] == 1]\n",
    "rfe_features = rfe_table.features.tolist()"
   ]
  },
  {
   "cell_type": "code",
   "execution_count": 17,
   "metadata": {},
   "outputs": [
    {
     "data": {
      "text/plain": [
       "70"
      ]
     },
     "execution_count": 17,
     "metadata": {},
     "output_type": "execute_result"
    }
   ],
   "source": [
    "len(features)"
   ]
  },
  {
   "cell_type": "code",
   "execution_count": 18,
   "metadata": {},
   "outputs": [],
   "source": [
    "lgr_rfe_weather_df = pd.concat([weather_df[rfe_features], weather_df.RainTomorrow], axis=1)"
   ]
  },
  {
   "cell_type": "markdown",
   "metadata": {},
   "source": [
    "# Logistic Regression with RFE\n",
    "\n",
    "Using the features from RFE, we will create a logistic regression model and then 10-fold cross validate it."
   ]
  },
  {
   "cell_type": "code",
   "execution_count": 19,
   "metadata": {},
   "outputs": [],
   "source": [
    "X,y = lgr_rfe_weather_df.iloc[:,lgr_rfe_weather_df.columns != 'RainTomorrow'], lgr_rfe_weather_df['RainTomorrow']\n",
    "X_train, X_test, y_train, y_test = train_test_split(X, y, test_size = 0.2, random_state=42)"
   ]
  },
  {
   "cell_type": "code",
   "execution_count": 20,
   "metadata": {},
   "outputs": [
    {
     "name": "stdout",
     "output_type": "stream",
     "text": [
      "Accuracy of logistic regression classifier on test set: 0.84\n",
      "              precision    recall  f1-score   support\n",
      "\n",
      "           0       0.87      0.94      0.90     22098\n",
      "           1       0.72      0.49      0.58      6341\n",
      "\n",
      "    accuracy                           0.84     28439\n",
      "   macro avg       0.79      0.72      0.74     28439\n",
      "weighted avg       0.83      0.84      0.83     28439\n",
      "\n"
     ]
    }
   ],
   "source": [
    "logreg.fit(X_train, y_train)\n",
    "y_pred = logreg.predict(X_test)\n",
    "print('Accuracy of logistic regression classifier on test set: {:.2f}'.format(logreg.score(X_test, y_test)))\n",
    "print(classification_report(y_test, y_pred))"
   ]
  },
  {
   "cell_type": "code",
   "execution_count": 21,
   "metadata": {},
   "outputs": [
    {
     "name": "stdout",
     "output_type": "stream",
     "text": [
      "Confusion matrix\n",
      "\n",
      " [[20856  1242]\n",
      " [ 3225  3116]]\n",
      "\n",
      "True Positives(TP) =  20856\n",
      "\n",
      "True Negatives(TN) =  3116\n",
      "\n",
      "False Positives(FP) =  1242\n",
      "\n",
      "False Negatives(FN) =  3225\n"
     ]
    }
   ],
   "source": [
    "cm = confusion_matrix(y_test, y_pred)\n",
    "TP = cm[0,0]\n",
    "TN = cm[1,1]\n",
    "FP = cm[0,1]\n",
    "FN = cm[1,0]\n",
    "print('Confusion matrix\\n\\n', cm)\n",
    "print('\\nTrue Positives(TP) = ', TP)\n",
    "print('\\nTrue Negatives(TN) = ', TN )\n",
    "print('\\nFalse Positives(FP) = ', FP)\n",
    "print('\\nFalse Negatives(FN) = ', FN )"
   ]
  },
  {
   "cell_type": "code",
   "execution_count": 22,
   "metadata": {},
   "outputs": [
    {
     "data": {
      "text/plain": [
       "<matplotlib.axes._subplots.AxesSubplot at 0x19a120b5dd8>"
      ]
     },
     "execution_count": 22,
     "metadata": {},
     "output_type": "execute_result"
    },
    {
     "data": {
      "image/png": "[encoded data removed]",
      "text/plain": [
       "<Figure size 432x288 with 2 Axes>"
      ]
     },
     "metadata": {
      "needs_background": "light"
     },
     "output_type": "display_data"
    }
   ],
   "source": [
    "cm_matrix = pd.DataFrame(data=cm, columns=['Actual Positive:1', 'Actual Negative:0'], \n",
    "                                 index=['Predict Positive:1', 'Predict Negative:0'])\n",
    "\n",
    "sns.heatmap(cm_matrix, annot=True, fmt='d', cmap='YlGnBu')"
   ]
  },
  {
   "cell_type": "code",
   "execution_count": 23,
   "metadata": {},
   "outputs": [
    {
     "name": "stdout",
     "output_type": "stream",
     "text": [
      "Precision : 0.9438\n",
      "Recall : 0.8661\n",
      "F1-score : 0.9033\n"
     ]
    }
   ],
   "source": [
    "precision = TP / float(TP + FP)\n",
    "print('Precision : {0:0.4f}'.format(precision))\n",
    "recall = TP / float(TP + FN)\n",
    "print('Recall : {0:0.4f}'.format(recall))\n",
    "f1score = 2 *( (precision * recall)/ (precision + recall))\n",
    "print('F1-score : {0:0.4f}'.format(f1score))"
   ]
  },
  {
   "cell_type": "code",
   "execution_count": 24,
   "metadata": {},
   "outputs": [
    {
     "name": "stdout",
     "output_type": "stream",
     "text": [
      "Score: [0.90374847 0.58156787] Recall: [0.86423954 0.72587376] Precision: [0.94705094 0.48519092]\n"
     ]
    }
   ],
   "source": [
    "lgr_rfe_scores = []\n",
    "lgr_rfe_recalls = []\n",
    "lgr_rfe_precisions = []\n",
    "kf = KFold(10, True)\n",
    "temp_cv_scores = []\n",
    "cv_lgr_rfe = LogisticRegression()\n",
    "for train, test in kf.split(X):\n",
    "    X_train, X_test = X.values[train], X.values[test]\n",
    "    y_train, y_test = y.values[train], y.values[test]\n",
    "    cv_lgr_rfe.fit(X_train, y_train)\n",
    "    y_pred = cv_lgr_rfe.predict(X_test)\n",
    "    precision, recall, fscore, support = score(y_pred, y_test)\n",
    "    lgr_rfe_scores.append(fscore)\n",
    "    lgr_rfe_recalls.append(recall)\n",
    "    lgr_rfe_precisions.append(precision)\n",
    "print('Score:', sum(lgr_rfe_scores) / len(lgr_rfe_scores), 'Recall:', sum(lgr_rfe_recalls) / len(lgr_rfe_recalls), \n",
    "      'Precision:', sum(lgr_rfe_precisions) / len(lgr_rfe_precisions))"
   ]
  },
  {
   "cell_type": "code",
   "execution_count": 25,
   "metadata": {},
   "outputs": [
    {
     "name": "stdout",
     "output_type": "stream",
     "text": [
      "Confusion matrix\n",
      "\n",
      " [[10469   593]\n",
      " [ 1644  1513]]\n",
      "\n",
      "True Positives(TP) =  10469\n",
      "\n",
      "True Negatives(TN) =  1513\n",
      "\n",
      "False Positives(FP) =  593\n",
      "\n",
      "False Negatives(FN) =  1644\n"
     ]
    }
   ],
   "source": [
    "cm = confusion_matrix(y_test, y_pred)\n",
    "TP = cm[0,0]\n",
    "TN = cm[1,1]\n",
    "FP = cm[0,1]\n",
    "FN = cm[1,0]\n",
    "print('Confusion matrix\\n\\n', cm)\n",
    "print('\\nTrue Positives(TP) = ', TP)\n",
    "print('\\nTrue Negatives(TN) = ', TN )\n",
    "print('\\nFalse Positives(FP) = ', FP)\n",
    "print('\\nFalse Negatives(FN) = ', FN )"
   ]
  },
  {
   "cell_type": "code",
   "execution_count": 26,
   "metadata": {},
   "outputs": [
    {
     "data": {
      "text/plain": [
       "<matplotlib.axes._subplots.AxesSubplot at 0x19a11d9bd30>"
      ]
     },
     "execution_count": 26,
     "metadata": {},
     "output_type": "execute_result"
    },
    {
     "data": {
      "image/png": "[encoded data removed]",
      "text/plain": [
       "<Figure size 432x288 with 2 Axes>"
      ]
     },
     "metadata": {
      "needs_background": "light"
     },
     "output_type": "display_data"
    }
   ],
   "source": [
    "cm_matrix = pd.DataFrame(data=cm, columns=['Actual Positive:1', 'Actual Negative:0'], \n",
    "                                 index=['Predict Positive:1', 'Predict Negative:0'])\n",
    "\n",
    "sns.heatmap(cm_matrix, annot=True, fmt='d', cmap='YlGnBu')"
   ]
  },
  {
   "cell_type": "code",
   "execution_count": 27,
   "metadata": {},
   "outputs": [
    {
     "name": "stdout",
     "output_type": "stream",
     "text": [
      "Precision : 0.9464\n",
      "Recall : 0.8643\n",
      "F1-score : 0.9035\n"
     ]
    }
   ],
   "source": [
    "precision = TP / float(TP + FP)\n",
    "print('Precision : {0:0.4f}'.format(precision))\n",
    "recall = TP / float(TP + FN)\n",
    "print('Recall : {0:0.4f}'.format(recall))\n",
    "f1score = 2 *( (precision * recall)/ (precision + recall))\n",
    "print('F1-score : {0:0.4f}'.format(f1score))"
   ]
  },
  {
   "cell_type": "markdown",
   "metadata": {},
   "source": [
    "# Logistic Regression without RFE\n",
    "\n",
    "This is similar to the RFE Logistic Regression however we will be using all features rather than the features from RFE. This is to test if the RFE is necessary to improve the results"
   ]
  },
  {
   "cell_type": "code",
   "execution_count": 28,
   "metadata": {},
   "outputs": [],
   "source": [
    "X,y = weather_df.iloc[:,weather_df.columns != 'RainTomorrow'], weather_df['RainTomorrow']\n",
    "X_train, X_test, y_train, y_test = train_test_split(X, y, test_size = 0.2, random_state=42)"
   ]
  },
  {
   "cell_type": "code",
   "execution_count": 29,
   "metadata": {},
   "outputs": [
    {
     "name": "stdout",
     "output_type": "stream",
     "text": [
      "Accuracy of logistic regression classifier on test set: 0.84\n",
      "              precision    recall  f1-score   support\n",
      "\n",
      "           0       0.87      0.94      0.90     22098\n",
      "           1       0.72      0.49      0.59      6341\n",
      "\n",
      "    accuracy                           0.84     28439\n",
      "   macro avg       0.79      0.72      0.74     28439\n",
      "weighted avg       0.83      0.84      0.83     28439\n",
      "\n"
     ]
    }
   ],
   "source": [
    "logreg.fit(X_train, y_train)\n",
    "y_pred = logreg.predict(X_test)\n",
    "print('Accuracy of logistic regression classifier on test set: {:.2f}'.format(logreg.score(X_test, y_test)))\n",
    "print(classification_report(y_test, y_pred))"
   ]
  },
  {
   "cell_type": "code",
   "execution_count": 30,
   "metadata": {},
   "outputs": [
    {
     "name": "stdout",
     "output_type": "stream",
     "text": [
      "Confusion matrix\n",
      "\n",
      " [[20856  1242]\n",
      " [ 3205  3136]]\n",
      "\n",
      "True Positives(TP) =  20856\n",
      "\n",
      "True Negatives(TN) =  3136\n",
      "\n",
      "False Positives(FP) =  1242\n",
      "\n",
      "False Negatives(FN) =  3205\n"
     ]
    }
   ],
   "source": [
    "cm = confusion_matrix(y_test, y_pred)\n",
    "TP = cm[0,0]\n",
    "TN = cm[1,1]\n",
    "FP = cm[0,1]\n",
    "FN = cm[1,0]\n",
    "print('Confusion matrix\\n\\n', cm)\n",
    "print('\\nTrue Positives(TP) = ', TP)\n",
    "print('\\nTrue Negatives(TN) = ', TN )\n",
    "print('\\nFalse Positives(FP) = ', FP)\n",
    "print('\\nFalse Negatives(FN) = ', FN )"
   ]
  },
  {
   "cell_type": "code",
   "execution_count": 31,
   "metadata": {},
   "outputs": [
    {
     "data": {
      "text/plain": [
       "<matplotlib.axes._subplots.AxesSubplot at 0x19a127d43c8>"
      ]
     },
     "execution_count": 31,
     "metadata": {},
     "output_type": "execute_result"
    },
    {
     "data": {
      "image/png": "[encoded data removed]",
      "text/plain": [
       "<Figure size 432x288 with 2 Axes>"
      ]
     },
     "metadata": {
      "needs_background": "light"
     },
     "output_type": "display_data"
    }
   ],
   "source": [
    "cm_matrix = pd.DataFrame(data=cm, columns=['Actual Positive:1', 'Actual Negative:0'], \n",
    "                                 index=['Predict Positive:1', 'Predict Negative:0'])\n",
    "\n",
    "sns.heatmap(cm_matrix, annot=True, fmt='d', cmap='YlGnBu')"
   ]
  },
  {
   "cell_type": "code",
   "execution_count": 32,
   "metadata": {},
   "outputs": [
    {
     "name": "stdout",
     "output_type": "stream",
     "text": [
      "Precision : 0.9438\n",
      "Recall : 0.8668\n",
      "F1-score : 0.9037\n"
     ]
    }
   ],
   "source": [
    "precision = TP / float(TP + FP)\n",
    "print('Precision : {0:0.4f}'.format(precision))\n",
    "recall = TP / float(TP + FN)\n",
    "print('Recall : {0:0.4f}'.format(recall))\n",
    "f1score = 2 *( (precision * recall)/ (precision + recall))\n",
    "print('F1-score : {0:0.4f}'.format(f1score))"
   ]
  },
  {
   "cell_type": "code",
   "execution_count": 33,
   "metadata": {
    "scrolled": true
   },
   "outputs": [
    {
     "name": "stdout",
     "output_type": "stream",
     "text": [
      "Score: [0.90528982 0.59031101] Recall: [0.86646344 0.73242404] Precision: [0.94776932 0.49449098]\n"
     ]
    }
   ],
   "source": [
    "lgr_scores = []\n",
    "lgr_recalls = []\n",
    "lgr_precisions = []\n",
    "kf = KFold(10, True)\n",
    "temp_cv_scores = []\n",
    "cv_lgr = LogisticRegression()\n",
    "for train, test in kf.split(X):\n",
    "    X_train, X_test = X.values[train], X.values[test]\n",
    "    y_train, y_test = y.values[train], y.values[test]\n",
    "    cv_lgr.fit(X_train, y_train)\n",
    "    y_pred = cv_lgr.predict(X_test)\n",
    "    precision, recall, fscore, support = score(y_pred, y_test)\n",
    "    lgr_scores.append(fscore)\n",
    "    lgr_recalls.append(recall)\n",
    "    lgr_precisions.append(precision)\n",
    "print('Score:', sum(lgr_scores) / len(lgr_scores), 'Recall:', sum(lgr_recalls) / len(lgr_recalls), \n",
    "      'Precision:', sum(lgr_precisions) / len(lgr_precisions))"
   ]
  },
  {
   "cell_type": "code",
   "execution_count": 34,
   "metadata": {},
   "outputs": [
    {
     "name": "stdout",
     "output_type": "stream",
     "text": [
      "Confusion matrix\n",
      "\n",
      " [[10477   572]\n",
      " [ 1611  1559]]\n",
      "\n",
      "True Positives(TP) =  10477\n",
      "\n",
      "True Negatives(TN) =  1559\n",
      "\n",
      "False Positives(FP) =  572\n",
      "\n",
      "False Negatives(FN) =  1611\n"
     ]
    }
   ],
   "source": [
    "cm = confusion_matrix(y_test, y_pred)\n",
    "TP = cm[0,0]\n",
    "TN = cm[1,1]\n",
    "FP = cm[0,1]\n",
    "FN = cm[1,0]\n",
    "print('Confusion matrix\\n\\n', cm)\n",
    "print('\\nTrue Positives(TP) = ', TP)\n",
    "print('\\nTrue Negatives(TN) = ', TN )\n",
    "print('\\nFalse Positives(FP) = ', FP)\n",
    "print('\\nFalse Negatives(FN) = ', FN )"
   ]
  },
  {
   "cell_type": "code",
   "execution_count": 35,
   "metadata": {},
   "outputs": [
    {
     "data": {
      "text/plain": [
       "<matplotlib.axes._subplots.AxesSubplot at 0x19a12867b00>"
      ]
     },
     "execution_count": 35,
     "metadata": {},
     "output_type": "execute_result"
    },
    {
     "data": {
      "image/png": "[encoded data removed]",
      "text/plain": [
       "<Figure size 432x288 with 2 Axes>"
      ]
     },
     "metadata": {
      "needs_background": "light"
     },
     "output_type": "display_data"
    }
   ],
   "source": [
    "cm_matrix = pd.DataFrame(data=cm, columns=['Actual Positive:1', 'Actual Negative:0'], \n",
    "                                 index=['Predict Positive:1', 'Predict Negative:0'])\n",
    "\n",
    "sns.heatmap(cm_matrix, annot=True, fmt='d', cmap='YlGnBu')"
   ]
  },
  {
   "cell_type": "code",
   "execution_count": 36,
   "metadata": {},
   "outputs": [
    {
     "name": "stdout",
     "output_type": "stream",
     "text": [
      "Precision : 0.9482\n",
      "Recall : 0.8667\n",
      "F1-score : 0.9056\n"
     ]
    }
   ],
   "source": [
    "precision = TP / float(TP + FP)\n",
    "print('Precision : {0:0.4f}'.format(precision))\n",
    "recall = TP / float(TP + FN)\n",
    "print('Recall : {0:0.4f}'.format(recall))\n",
    "f1score = 2 *( (precision * recall)/ (precision + recall))\n",
    "print('F1-score : {0:0.4f}'.format(f1score))"
   ]
  },
  {
   "cell_type": "markdown",
   "metadata": {},
   "source": [
    "# RFE - XGboost\n",
    "\n",
    "Same test as the LGR RFE."
   ]
  },
  {
   "cell_type": "code",
   "execution_count": 37,
   "metadata": {},
   "outputs": [
    {
     "name": "stdout",
     "output_type": "stream",
     "text": [
      "[ True  True  True  True  True  True  True  True  True  True  True  True\n",
      "  True  True  True  True False  True False  True  True  True  True  True\n",
      " False  True  True False  True False False False  True False False  True\n",
      "  True  True False  True  True False False False  True False False  True\n",
      " False  True  True  True  True False False False  True  True  True False\n",
      "  True  True  True  True  True  True  True  True  True  True]\n",
      "[ 1  1  1  1  1  1  1  1  1  1  1  1  1  1  1  1 18  1 10  1  1  1  1  1\n",
      "  2  1  1  3  1  7 11 13  1 19 21  1  1  1  8  1  1 14 15 12  1 17 20  1\n",
      " 16  1  1  1  1  9  6  5  1  1  1  4  1  1  1  1  1  1  1  1  1  1]\n"
     ]
    }
   ],
   "source": [
    "target = 'RainTomorrow'\n",
    "features = [col for col in weather_df.columns if col != target]\n",
    "xgboost = XGBClassifier()\n",
    "X = weather_df[features]\n",
    "y = weather_df[target]\n",
    "rfe = RFE(xgboost, 50)\n",
    "rfe.fit(X, y.values.ravel())\n",
    "print(rfe.support_)\n",
    "print(rfe.ranking_)"
   ]
  },
  {
   "cell_type": "code",
   "execution_count": 38,
   "metadata": {
    "scrolled": false
   },
   "outputs": [
    {
     "data": {
      "text/plain": [
       "70"
      ]
     },
     "execution_count": 38,
     "metadata": {},
     "output_type": "execute_result"
    }
   ],
   "source": [
    "rfe_ranks = rfe.ranking_.tolist()\n",
    "len(rfe_ranks)"
   ]
  },
  {
   "cell_type": "code",
   "execution_count": 39,
   "metadata": {},
   "outputs": [],
   "source": [
    "rfe_table = pd.DataFrame({'features':features, 'ranks':rfe_ranks})\n",
    "rfe_table = rfe_table.loc[rfe_table['ranks'] == 1]\n",
    "rfe_features = rfe_table.features.tolist()"
   ]
  },
  {
   "cell_type": "code",
   "execution_count": 40,
   "metadata": {},
   "outputs": [],
   "source": [
    "xgb_rfe_weather_df = pd.concat([weather_df[rfe_features], weather_df.RainTomorrow], axis=1)"
   ]
  },
  {
   "cell_type": "code",
   "execution_count": 41,
   "metadata": {},
   "outputs": [],
   "source": [
    "X,y = xgb_rfe_weather_df.iloc[:,xgb_rfe_weather_df.columns != 'RainTomorrow'], xgb_rfe_weather_df['RainTomorrow']\n",
    "X_train, X_test, y_train, y_test = train_test_split(X, y, test_size = 0.2, random_state=42)"
   ]
  },
  {
   "cell_type": "code",
   "execution_count": 42,
   "metadata": {},
   "outputs": [
    {
     "name": "stdout",
     "output_type": "stream",
     "text": [
      "              precision    recall  f1-score   support\n",
      "\n",
      "           0       0.88      0.94      0.91     22098\n",
      "           1       0.74      0.57      0.64      6341\n",
      "\n",
      "    accuracy                           0.86     28439\n",
      "   macro avg       0.81      0.76      0.78     28439\n",
      "weighted avg       0.85      0.86      0.85     28439\n",
      "\n"
     ]
    }
   ],
   "source": [
    "xgboost_model = XGBClassifier(learning_rate=0.1, n_estimators=1000, max_depth=6, subsample = 0.7, objective= 'binary:logistic')\n",
    "xgboost_model.fit(X_train, y_train)\n",
    "xgboost_predictions = xgboost_model.predict(X_test)\n",
    "print(classification_report(y_test, xgboost_predictions))"
   ]
  },
  {
   "cell_type": "code",
   "execution_count": 43,
   "metadata": {},
   "outputs": [
    {
     "name": "stdout",
     "output_type": "stream",
     "text": [
      "Confusion matrix\n",
      "\n",
      " [[20849  1249]\n",
      " [ 2739  3602]]\n",
      "\n",
      "True Positives(TP) =  20849\n",
      "\n",
      "True Negatives(TN) =  3602\n",
      "\n",
      "False Positives(FP) =  1249\n",
      "\n",
      "False Negatives(FN) =  2739\n"
     ]
    }
   ],
   "source": [
    "cm = confusion_matrix(y_test, xgboost_predictions)\n",
    "TP = cm[0,0]\n",
    "TN = cm[1,1]\n",
    "FP = cm[0,1]\n",
    "FN = cm[1,0]\n",
    "print('Confusion matrix\\n\\n', cm)\n",
    "print('\\nTrue Positives(TP) = ', TP)\n",
    "print('\\nTrue Negatives(TN) = ', TN )\n",
    "print('\\nFalse Positives(FP) = ', FP)\n",
    "print('\\nFalse Negatives(FN) = ', FN )"
   ]
  },
  {
   "cell_type": "code",
   "execution_count": 44,
   "metadata": {},
   "outputs": [
    {
     "data": {
      "text/plain": [
       "<matplotlib.axes._subplots.AxesSubplot at 0x19a12912860>"
      ]
     },
     "execution_count": 44,
     "metadata": {},
     "output_type": "execute_result"
    },
    {
     "data": {
      "image/png": "[encoded data removed]",
      "text/plain": [
       "<Figure size 432x288 with 2 Axes>"
      ]
     },
     "metadata": {
      "needs_background": "light"
     },
     "output_type": "display_data"
    }
   ],
   "source": [
    "cm_matrix = pd.DataFrame(data=cm, columns=['Actual Positive:1', 'Actual Negative:0'], \n",
    "                                 index=['Predict Positive:1', 'Predict Negative:0'])\n",
    "\n",
    "sns.heatmap(cm_matrix, annot=True, fmt='d', cmap='YlGnBu')"
   ]
  },
  {
   "cell_type": "code",
   "execution_count": 45,
   "metadata": {},
   "outputs": [
    {
     "name": "stdout",
     "output_type": "stream",
     "text": [
      "Precision : 0.9435\n",
      "Recall : 0.8839\n",
      "F1-score : 0.9127\n"
     ]
    }
   ],
   "source": [
    "precision = TP / float(TP + FP)\n",
    "print('Precision : {0:0.4f}'.format(precision))\n",
    "recall = TP / float(TP + FN)\n",
    "print('Recall : {0:0.4f}'.format(recall))\n",
    "f1score = 2 *( (precision * recall)/ (precision + recall))\n",
    "print('F1-score : {0:0.4f}'.format(f1score))"
   ]
  },
  {
   "cell_type": "code",
   "execution_count": 46,
   "metadata": {},
   "outputs": [
    {
     "name": "stdout",
     "output_type": "stream",
     "text": [
      "Score: [0.90418677 0.58117879] Recall: [0.86384093 0.73045566] Precision: [0.94850105 0.48268822]\n"
     ]
    }
   ],
   "source": [
    "xgb_rfe_scores = []\n",
    "xgb_rfe_recalls = []\n",
    "xgb_rfe_precisions = []\n",
    "kf = KFold(10, True)\n",
    "temp_cv_scores = []\n",
    "cv_xgb_rfe = LogisticRegression()\n",
    "for train, test in kf.split(X):\n",
    "    X_train, X_test = X.values[train], X.values[test]\n",
    "    y_train, y_test = y.values[train], y.values[test]\n",
    "    cv_xgb_rfe.fit(X_train, y_train)\n",
    "    y_pred = cv_xgb_rfe.predict(X_test)\n",
    "    precision, recall, fscore, support = score(y_pred, y_test)\n",
    "    xgb_rfe_scores.append(fscore)\n",
    "    xgb_rfe_recalls.append(recall)\n",
    "    xgb_rfe_precisions.append(precision)\n",
    "print('Score:', sum(xgb_rfe_scores) / len(xgb_rfe_scores), 'Recall:', sum(xgb_rfe_recalls) / len(xgb_rfe_recalls), \n",
    "      'Precision:', sum(xgb_rfe_precisions) / len(xgb_rfe_precisions))"
   ]
  },
  {
   "cell_type": "code",
   "execution_count": 47,
   "metadata": {},
   "outputs": [
    {
     "name": "stdout",
     "output_type": "stream",
     "text": [
      "Confusion matrix\n",
      "\n",
      " [[10422   574]\n",
      " [ 1724  1499]]\n",
      "\n",
      "True Positives(TP) =  10422\n",
      "\n",
      "True Negatives(TN) =  1499\n",
      "\n",
      "False Positives(FP) =  574\n",
      "\n",
      "False Negatives(FN) =  1724\n"
     ]
    }
   ],
   "source": [
    "cm = confusion_matrix(y_test, y_pred)\n",
    "TP = cm[0,0]\n",
    "TN = cm[1,1]\n",
    "FP = cm[0,1]\n",
    "FN = cm[1,0]\n",
    "print('Confusion matrix\\n\\n', cm)\n",
    "print('\\nTrue Positives(TP) = ', TP)\n",
    "print('\\nTrue Negatives(TN) = ', TN )\n",
    "print('\\nFalse Positives(FP) = ', FP)\n",
    "print('\\nFalse Negatives(FN) = ', FN )"
   ]
  },
  {
   "cell_type": "code",
   "execution_count": 48,
   "metadata": {},
   "outputs": [
    {
     "data": {
      "text/plain": [
       "<matplotlib.axes._subplots.AxesSubplot at 0x19a13b8b9e8>"
      ]
     },
     "execution_count": 48,
     "metadata": {},
     "output_type": "execute_result"
    },
    {
     "data": {
      "image/png": "[encoded data removed]",
      "text/plain": [
       "<Figure size 432x288 with 2 Axes>"
      ]
     },
     "metadata": {
      "needs_background": "light"
     },
     "output_type": "display_data"
    }
   ],
   "source": [
    "cm_matrix = pd.DataFrame(data=cm, columns=['Actual Positive:1', 'Actual Negative:0'], \n",
    "                                 index=['Predict Positive:1', 'Predict Negative:0'])\n",
    "\n",
    "sns.heatmap(cm_matrix, annot=True, fmt='d', cmap='YlGnBu')"
   ]
  },
  {
   "cell_type": "code",
   "execution_count": 49,
   "metadata": {},
   "outputs": [
    {
     "name": "stdout",
     "output_type": "stream",
     "text": [
      "Precision : 0.9478\n",
      "Recall : 0.8581\n",
      "F1-score : 0.9007\n"
     ]
    }
   ],
   "source": [
    "precision = TP / float(TP + FP)\n",
    "print('Precision : {0:0.4f}'.format(precision))\n",
    "recall = TP / float(TP + FN)\n",
    "print('Recall : {0:0.4f}'.format(recall))\n",
    "f1score = 2 *( (precision * recall)/ (precision + recall))\n",
    "print('F1-score : {0:0.4f}'.format(f1score))"
   ]
  },
  {
   "cell_type": "markdown",
   "metadata": {},
   "source": [
    "# XGBoost \n",
    "\n",
    "Same test as the LGR."
   ]
  },
  {
   "cell_type": "code",
   "execution_count": 50,
   "metadata": {},
   "outputs": [],
   "source": [
    "X,y = weather_df.iloc[:,weather_df.columns != 'RainTomorrow'], weather_df['RainTomorrow']\n",
    "X_train, X_test, y_train, y_test = train_test_split(X, y, test_size = 0.2, random_state=42)"
   ]
  },
  {
   "cell_type": "code",
   "execution_count": 51,
   "metadata": {},
   "outputs": [
    {
     "name": "stdout",
     "output_type": "stream",
     "text": [
      "              precision    recall  f1-score   support\n",
      "\n",
      "           0       0.89      0.94      0.91     22098\n",
      "           1       0.75      0.57      0.65      6341\n",
      "\n",
      "    accuracy                           0.86     28439\n",
      "   macro avg       0.82      0.76      0.78     28439\n",
      "weighted avg       0.85      0.86      0.86     28439\n",
      "\n"
     ]
    }
   ],
   "source": [
    "xgboost_model = XGBClassifier(learning_rate=0.1, n_estimators=1000, max_depth=6, subsample = 0.7, objective= 'binary:logistic')\n",
    "xgboost_model.fit(X_train, y_train)\n",
    "xgboost_predictions = xgboost_model.predict(X_test)\n",
    "print(classification_report(y_test, xgboost_predictions))"
   ]
  },
  {
   "cell_type": "code",
   "execution_count": 52,
   "metadata": {},
   "outputs": [
    {
     "name": "stdout",
     "output_type": "stream",
     "text": [
      "Confusion matrix\n",
      "\n",
      " [[20870  1228]\n",
      " [ 2698  3643]]\n",
      "\n",
      "True Positives(TP) =  20870\n",
      "\n",
      "True Negatives(TN) =  3643\n",
      "\n",
      "False Positives(FP) =  1228\n",
      "\n",
      "False Negatives(FN) =  2698\n"
     ]
    }
   ],
   "source": [
    "cm = confusion_matrix(y_test, xgboost_predictions)\n",
    "TP = cm[0,0]\n",
    "TN = cm[1,1]\n",
    "FP = cm[0,1]\n",
    "FN = cm[1,0]\n",
    "print('Confusion matrix\\n\\n', cm)\n",
    "print('\\nTrue Positives(TP) = ', TP)\n",
    "print('\\nTrue Negatives(TN) = ', TN )\n",
    "print('\\nFalse Positives(FP) = ', FP)\n",
    "print('\\nFalse Negatives(FN) = ', FN )"
   ]
  },
  {
   "cell_type": "code",
   "execution_count": 53,
   "metadata": {},
   "outputs": [
    {
     "data": {
      "text/plain": [
       "<matplotlib.axes._subplots.AxesSubplot at 0x19a13c24208>"
      ]
     },
     "execution_count": 53,
     "metadata": {},
     "output_type": "execute_result"
    },
    {
     "data": {
      "image/png": "[encoded data removed]",
      "text/plain": [
       "<Figure size 432x288 with 2 Axes>"
      ]
     },
     "metadata": {
      "needs_background": "light"
     },
     "output_type": "display_data"
    }
   ],
   "source": [
    "cm_matrix = pd.DataFrame(data=cm, columns=['Actual Positive:1', 'Actual Negative:0'], \n",
    "                                 index=['Predict Positive:1', 'Predict Negative:0'])\n",
    "\n",
    "sns.heatmap(cm_matrix, annot=True, fmt='d', cmap='YlGnBu')"
   ]
  },
  {
   "cell_type": "code",
   "execution_count": 54,
   "metadata": {},
   "outputs": [
    {
     "name": "stdout",
     "output_type": "stream",
     "text": [
      "Precision : 0.9444\n",
      "Recall : 0.8855\n",
      "F1-score : 0.9140\n"
     ]
    }
   ],
   "source": [
    "precision = TP / float(TP + FP)\n",
    "print('Precision : {0:0.4f}'.format(precision))\n",
    "recall = TP / float(TP + FN)\n",
    "print('Recall : {0:0.4f}'.format(recall))\n",
    "f1score = 2 *( (precision * recall)/ (precision + recall))\n",
    "print('F1-score : {0:0.4f}'.format(f1score))"
   ]
  },
  {
   "cell_type": "code",
   "execution_count": 55,
   "metadata": {
    "scrolled": true
   },
   "outputs": [
    {
     "name": "stdout",
     "output_type": "stream",
     "text": [
      "Score: [0.90515105 0.5894266 ] Recall: [0.86620033 0.7319674 ] Precision: [0.94777355 0.49338813]\n"
     ]
    }
   ],
   "source": [
    "xgb_scores = []\n",
    "xgb_recalls = []\n",
    "xgb_precisions = []\n",
    "kf = KFold(10, True)\n",
    "temp_cv_scores = []\n",
    "cv_xgb = LogisticRegression()\n",
    "for train, test in kf.split(X):\n",
    "    X_train, X_test = X.values[train], X.values[test]\n",
    "    y_train, y_test = y.values[train], y.values[test]\n",
    "    cv_xgb.fit(X_train, y_train)\n",
    "    y_pred = cv_xgb.predict(X_test)\n",
    "    precision, recall, fscore, support = score(y_pred, y_test)\n",
    "    xgb_scores.append(fscore)\n",
    "    xgb_recalls.append(recall)\n",
    "    xgb_precisions.append(precision)\n",
    "print('Score:', sum(xgb_scores) / len(xgb_scores), 'Recall:', sum(xgb_recalls) / len(xgb_recalls), \n",
    "      'Precision:', sum(xgb_precisions) / len(xgb_precisions))"
   ]
  },
  {
   "cell_type": "code",
   "execution_count": 56,
   "metadata": {},
   "outputs": [
    {
     "name": "stdout",
     "output_type": "stream",
     "text": [
      "Confusion matrix\n",
      "\n",
      " [[10452   559]\n",
      " [ 1630  1578]]\n",
      "\n",
      "True Positives(TP) =  10452\n",
      "\n",
      "True Negatives(TN) =  1578\n",
      "\n",
      "False Positives(FP) =  559\n",
      "\n",
      "False Negatives(FN) =  1630\n"
     ]
    }
   ],
   "source": [
    "cm = confusion_matrix(y_test, y_pred)\n",
    "TP = cm[0,0]\n",
    "TN = cm[1,1]\n",
    "FP = cm[0,1]\n",
    "FN = cm[1,0]\n",
    "print('Confusion matrix\\n\\n', cm)\n",
    "print('\\nTrue Positives(TP) = ', TP)\n",
    "print('\\nTrue Negatives(TN) = ', TN )\n",
    "print('\\nFalse Positives(FP) = ', FP)\n",
    "print('\\nFalse Negatives(FN) = ', FN )"
   ]
  },
  {
   "cell_type": "code",
   "execution_count": 57,
   "metadata": {},
   "outputs": [
    {
     "data": {
      "text/plain": [
       "<matplotlib.axes._subplots.AxesSubplot at 0x19a14053e80>"
      ]
     },
     "execution_count": 57,
     "metadata": {},
     "output_type": "execute_result"
    },
    {
     "data": {
      "image/png": "[encoded data removed]",
      "text/plain": [
       "<Figure size 432x288 with 2 Axes>"
      ]
     },
     "metadata": {
      "needs_background": "light"
     },
     "output_type": "display_data"
    }
   ],
   "source": [
    "cm_matrix = pd.DataFrame(data=cm, columns=['Actual Positive:1', 'Actual Negative:0'], \n",
    "                                 index=['Predict Positive:1', 'Predict Negative:0'])\n",
    "\n",
    "sns.heatmap(cm_matrix, annot=True, fmt='d', cmap='YlGnBu')"
   ]
  },
  {
   "cell_type": "code",
   "execution_count": 58,
   "metadata": {},
   "outputs": [
    {
     "name": "stdout",
     "output_type": "stream",
     "text": [
      "Precision : 0.9492\n",
      "Recall : 0.8651\n",
      "F1-score : 0.9052\n"
     ]
    }
   ],
   "source": [
    "precision = TP / float(TP + FP)\n",
    "print('Precision : {0:0.4f}'.format(precision))\n",
    "recall = TP / float(TP + FN)\n",
    "print('Recall : {0:0.4f}'.format(recall))\n",
    "f1score = 2 *( (precision * recall)/ (precision + recall))\n",
    "print('F1-score : {0:0.4f}'.format(f1score))"
   ]
  },
  {
   "cell_type": "markdown",
   "metadata": {},
   "source": [
    "# Normalisation for Logistic Regression"
   ]
  },
  {
   "cell_type": "code",
   "execution_count": 73,
   "metadata": {},
   "outputs": [],
   "source": [
    "min_max_scaler = preprocessing.MinMaxScaler()\n",
    "normal_weather_df = min_max_scaler.fit_transform(weather_df)\n",
    "column = weather_df.columns.tolist()\n",
    "normal_weather_df = pd.DataFrame(normal_weather_df, columns=column)"
   ]
  },
  {
   "cell_type": "code",
   "execution_count": 74,
   "metadata": {},
   "outputs": [],
   "source": [
    "X,y = normal_weather_df.iloc[:,normal_weather_df.columns != 'RainTomorrow'], normal_weather_df['RainTomorrow']\n",
    "X_train, X_test, y_train, y_test = train_test_split(X, y, test_size = 0.2, random_state=42)"
   ]
  },
  {
   "cell_type": "code",
   "execution_count": 75,
   "metadata": {},
   "outputs": [
    {
     "name": "stdout",
     "output_type": "stream",
     "text": [
      "Accuracy of logistic regression classifier on test set: 0.85\n",
      "              precision    recall  f1-score   support\n",
      "\n",
      "         0.0       0.87      0.94      0.90     22098\n",
      "         1.0       0.72      0.50      0.59      6341\n",
      "\n",
      "    accuracy                           0.85     28439\n",
      "   macro avg       0.80      0.72      0.75     28439\n",
      "weighted avg       0.84      0.85      0.84     28439\n",
      "\n"
     ]
    }
   ],
   "source": [
    "logreg.fit(X_train, y_train)\n",
    "y_pred = logreg.predict(X_test)\n",
    "print('Accuracy of logistic regression classifier on test set: {:.2f}'.format(logreg.score(X_test, y_test)))\n",
    "print(classification_report(y_test, y_pred))"
   ]
  },
  {
   "cell_type": "code",
   "execution_count": 76,
   "metadata": {},
   "outputs": [
    {
     "name": "stdout",
     "output_type": "stream",
     "text": [
      "Confusion matrix\n",
      "\n",
      " [[20870  1228]\n",
      " [ 3157  3184]]\n",
      "\n",
      "True Positives(TP) =  20870\n",
      "\n",
      "True Negatives(TN) =  3184\n",
      "\n",
      "False Positives(FP) =  1228\n",
      "\n",
      "False Negatives(FN) =  3157\n"
     ]
    }
   ],
   "source": [
    "cm = confusion_matrix(y_test, y_pred)\n",
    "TP = cm[0,0]\n",
    "TN = cm[1,1]\n",
    "FP = cm[0,1]\n",
    "FN = cm[1,0]\n",
    "print('Confusion matrix\\n\\n', cm)\n",
    "print('\\nTrue Positives(TP) = ', TP)\n",
    "print('\\nTrue Negatives(TN) = ', TN )\n",
    "print('\\nFalse Positives(FP) = ', FP)\n",
    "print('\\nFalse Negatives(FN) = ', FN )"
   ]
  },
  {
   "cell_type": "code",
   "execution_count": 77,
   "metadata": {},
   "outputs": [
    {
     "data": {
      "text/plain": [
       "<matplotlib.axes._subplots.AxesSubplot at 0x19a140ec748>"
      ]
     },
     "execution_count": 77,
     "metadata": {},
     "output_type": "execute_result"
    },
    {
     "data": {
      "image/png": "[encoded data removed]",
      "text/plain": [
       "<Figure size 432x288 with 2 Axes>"
      ]
     },
     "metadata": {
      "needs_background": "light"
     },
     "output_type": "display_data"
    }
   ],
   "source": [
    "cm_matrix = pd.DataFrame(data=cm, columns=['Actual Positive:1', 'Actual Negative:0'], \n",
    "                                 index=['Predict Positive:1', 'Predict Negative:0'])\n",
    "\n",
    "sns.heatmap(cm_matrix, annot=True, fmt='d', cmap='YlGnBu')"
   ]
  },
  {
   "cell_type": "code",
   "execution_count": 78,
   "metadata": {},
   "outputs": [
    {
     "name": "stdout",
     "output_type": "stream",
     "text": [
      "Precision : 0.9444\n",
      "Recall : 0.8686\n",
      "F1-score : 0.9049\n"
     ]
    }
   ],
   "source": [
    "precision = TP / float(TP + FP)\n",
    "print('Precision : {0:0.4f}'.format(precision))\n",
    "recall = TP / float(TP + FN)\n",
    "print('Recall : {0:0.4f}'.format(recall))\n",
    "f1score = 2 *( (precision * recall)/ (precision + recall))\n",
    "print('F1-score : {0:0.4f}'.format(f1score))"
   ]
  },
  {
   "cell_type": "code",
   "execution_count": null,
   "metadata": {},
   "outputs": [],
   "source": [
    "pd.to_csv()"
   ]
  }
 ],
 "metadata": {
  "kernelspec": {
   "display_name": "Python 3",
   "language": "python",
   "name": "python3"
  },
  "language_info": {
   "codemirror_mode": {
    "name": "ipython",
    "version": 3
   },
   "file_extension": ".py",
   "mimetype": "text/x-python",
   "name": "python",
   "nbconvert_exporter": "python",
   "pygments_lexer": "ipython3",
   "version": "3.7.3"
  }
 },
 "nbformat": 4,
 "nbformat_minor": 2
}
