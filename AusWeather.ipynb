{
 "cells": [
  {
   "cell_type": "code",
   "execution_count": 311,
   "metadata": {},
   "outputs": [],
   "source": [
    "import pandas as pd\n",
    "import numpy as np\n",
    "import missingno\n",
    "import seaborn as sns\n",
    "from sklearn.model_selection import train_test_split\n",
    "from sklearn.neighbors import KNeighborsRegressor\n",
    "from sklearn.metrics import mean_squared_error\n",
    "from math import sqrt\n",
    "from time import process_time\n",
    "import matplotlib.pyplot as plt\n",
    "from sklearn.model_selection import KFold"
   ]
  },
  {
   "cell_type": "code",
   "execution_count": 312,
   "metadata": {},
   "outputs": [
    {
     "data": {
      "text/html": [
       "<div>\n",
       "<style scoped>\n",
       "    .dataframe tbody tr th:only-of-type {\n",
       "        vertical-align: middle;\n",
       "    }\n",
       "\n",
       "    .dataframe tbody tr th {\n",
       "        vertical-align: top;\n",
       "    }\n",
       "\n",
       "    .dataframe thead th {\n",
       "        text-align: right;\n",
       "    }\n",
       "</style>\n",
       "<table border=\"1\" class=\"dataframe\">\n",
       "  <thead>\n",
       "    <tr style=\"text-align: right;\">\n",
       "      <th></th>\n",
       "      <th>Date</th>\n",
       "      <th>Location</th>\n",
       "      <th>MinTemp</th>\n",
       "      <th>MaxTemp</th>\n",
       "      <th>Rainfall</th>\n",
       "      <th>Evaporation</th>\n",
       "      <th>Sunshine</th>\n",
       "      <th>WindGustDir</th>\n",
       "      <th>WindGustSpeed</th>\n",
       "      <th>WindDir9am</th>\n",
       "      <th>...</th>\n",
       "      <th>Humidity3pm</th>\n",
       "      <th>Pressure9am</th>\n",
       "      <th>Pressure3pm</th>\n",
       "      <th>Cloud9am</th>\n",
       "      <th>Cloud3pm</th>\n",
       "      <th>Temp9am</th>\n",
       "      <th>Temp3pm</th>\n",
       "      <th>RainToday</th>\n",
       "      <th>RISK_MM</th>\n",
       "      <th>RainTomorrow</th>\n",
       "    </tr>\n",
       "  </thead>\n",
       "  <tbody>\n",
       "    <tr>\n",
       "      <th>0</th>\n",
       "      <td>2008-12-01</td>\n",
       "      <td>Albury</td>\n",
       "      <td>13.4</td>\n",
       "      <td>22.9</td>\n",
       "      <td>0.6</td>\n",
       "      <td>NaN</td>\n",
       "      <td>NaN</td>\n",
       "      <td>W</td>\n",
       "      <td>44.0</td>\n",
       "      <td>W</td>\n",
       "      <td>...</td>\n",
       "      <td>22.0</td>\n",
       "      <td>1007.7</td>\n",
       "      <td>1007.1</td>\n",
       "      <td>8.0</td>\n",
       "      <td>NaN</td>\n",
       "      <td>16.9</td>\n",
       "      <td>21.8</td>\n",
       "      <td>No</td>\n",
       "      <td>0.0</td>\n",
       "      <td>No</td>\n",
       "    </tr>\n",
       "    <tr>\n",
       "      <th>1</th>\n",
       "      <td>2008-12-02</td>\n",
       "      <td>Albury</td>\n",
       "      <td>7.4</td>\n",
       "      <td>25.1</td>\n",
       "      <td>0.0</td>\n",
       "      <td>NaN</td>\n",
       "      <td>NaN</td>\n",
       "      <td>WNW</td>\n",
       "      <td>44.0</td>\n",
       "      <td>NNW</td>\n",
       "      <td>...</td>\n",
       "      <td>25.0</td>\n",
       "      <td>1010.6</td>\n",
       "      <td>1007.8</td>\n",
       "      <td>NaN</td>\n",
       "      <td>NaN</td>\n",
       "      <td>17.2</td>\n",
       "      <td>24.3</td>\n",
       "      <td>No</td>\n",
       "      <td>0.0</td>\n",
       "      <td>No</td>\n",
       "    </tr>\n",
       "    <tr>\n",
       "      <th>2</th>\n",
       "      <td>2008-12-03</td>\n",
       "      <td>Albury</td>\n",
       "      <td>12.9</td>\n",
       "      <td>25.7</td>\n",
       "      <td>0.0</td>\n",
       "      <td>NaN</td>\n",
       "      <td>NaN</td>\n",
       "      <td>WSW</td>\n",
       "      <td>46.0</td>\n",
       "      <td>W</td>\n",
       "      <td>...</td>\n",
       "      <td>30.0</td>\n",
       "      <td>1007.6</td>\n",
       "      <td>1008.7</td>\n",
       "      <td>NaN</td>\n",
       "      <td>2.0</td>\n",
       "      <td>21.0</td>\n",
       "      <td>23.2</td>\n",
       "      <td>No</td>\n",
       "      <td>0.0</td>\n",
       "      <td>No</td>\n",
       "    </tr>\n",
       "    <tr>\n",
       "      <th>3</th>\n",
       "      <td>2008-12-04</td>\n",
       "      <td>Albury</td>\n",
       "      <td>9.2</td>\n",
       "      <td>28.0</td>\n",
       "      <td>0.0</td>\n",
       "      <td>NaN</td>\n",
       "      <td>NaN</td>\n",
       "      <td>NE</td>\n",
       "      <td>24.0</td>\n",
       "      <td>SE</td>\n",
       "      <td>...</td>\n",
       "      <td>16.0</td>\n",
       "      <td>1017.6</td>\n",
       "      <td>1012.8</td>\n",
       "      <td>NaN</td>\n",
       "      <td>NaN</td>\n",
       "      <td>18.1</td>\n",
       "      <td>26.5</td>\n",
       "      <td>No</td>\n",
       "      <td>1.0</td>\n",
       "      <td>No</td>\n",
       "    </tr>\n",
       "    <tr>\n",
       "      <th>4</th>\n",
       "      <td>2008-12-05</td>\n",
       "      <td>Albury</td>\n",
       "      <td>17.5</td>\n",
       "      <td>32.3</td>\n",
       "      <td>1.0</td>\n",
       "      <td>NaN</td>\n",
       "      <td>NaN</td>\n",
       "      <td>W</td>\n",
       "      <td>41.0</td>\n",
       "      <td>ENE</td>\n",
       "      <td>...</td>\n",
       "      <td>33.0</td>\n",
       "      <td>1010.8</td>\n",
       "      <td>1006.0</td>\n",
       "      <td>7.0</td>\n",
       "      <td>8.0</td>\n",
       "      <td>17.8</td>\n",
       "      <td>29.7</td>\n",
       "      <td>No</td>\n",
       "      <td>0.2</td>\n",
       "      <td>No</td>\n",
       "    </tr>\n",
       "  </tbody>\n",
       "</table>\n",
       "<p>5 rows × 24 columns</p>\n",
       "</div>"
      ],
      "text/plain": [
       "         Date Location  MinTemp  MaxTemp  Rainfall  Evaporation  Sunshine  \\\n",
       "0  2008-12-01   Albury     13.4     22.9       0.6          NaN       NaN   \n",
       "1  2008-12-02   Albury      7.4     25.1       0.0          NaN       NaN   \n",
       "2  2008-12-03   Albury     12.9     25.7       0.0          NaN       NaN   \n",
       "3  2008-12-04   Albury      9.2     28.0       0.0          NaN       NaN   \n",
       "4  2008-12-05   Albury     17.5     32.3       1.0          NaN       NaN   \n",
       "\n",
       "  WindGustDir  WindGustSpeed WindDir9am  ... Humidity3pm  Pressure9am  \\\n",
       "0           W           44.0          W  ...        22.0       1007.7   \n",
       "1         WNW           44.0        NNW  ...        25.0       1010.6   \n",
       "2         WSW           46.0          W  ...        30.0       1007.6   \n",
       "3          NE           24.0         SE  ...        16.0       1017.6   \n",
       "4           W           41.0        ENE  ...        33.0       1010.8   \n",
       "\n",
       "   Pressure3pm  Cloud9am  Cloud3pm  Temp9am  Temp3pm  RainToday  RISK_MM  \\\n",
       "0       1007.1       8.0       NaN     16.9     21.8         No      0.0   \n",
       "1       1007.8       NaN       NaN     17.2     24.3         No      0.0   \n",
       "2       1008.7       NaN       2.0     21.0     23.2         No      0.0   \n",
       "3       1012.8       NaN       NaN     18.1     26.5         No      1.0   \n",
       "4       1006.0       7.0       8.0     17.8     29.7         No      0.2   \n",
       "\n",
       "   RainTomorrow  \n",
       "0            No  \n",
       "1            No  \n",
       "2            No  \n",
       "3            No  \n",
       "4            No  \n",
       "\n",
       "[5 rows x 24 columns]"
      ]
     },
     "execution_count": 312,
     "metadata": {},
     "output_type": "execute_result"
    }
   ],
   "source": [
    "bucket = 'andrew-data-sagemaker/WeatherClassifier'\n",
    "data_key = 'weatherAUS.csv' \n",
    "data_location = 's3://{}/{}'.format(bucket, data_key) \n",
    "weather_df = pd.read_csv(data_location)\n",
    "weather_df.head()"
   ]
  },
  {
   "cell_type": "code",
   "execution_count": 313,
   "metadata": {},
   "outputs": [
    {
     "name": "stdout",
     "output_type": "stream",
     "text": [
      "(142193, 24)\n"
     ]
    }
   ],
   "source": [
    "print(weather_df.shape)"
   ]
  },
  {
   "cell_type": "code",
   "execution_count": 345,
   "metadata": {},
   "outputs": [
    {
     "data": {
      "text/plain": [
       "<matplotlib.axes._subplots.AxesSubplot at 0x7fd1396f4da0>"
      ]
     },
     "execution_count": 345,
     "metadata": {},
     "output_type": "execute_result"
    },
    {
     "data": {
      "image/png": "[encoded data removed]",
      "text/plain": [
       "<Figure size 1800x720 with 2 Axes>"
      ]
     },
     "metadata": {},
     "output_type": "display_data"
    }
   ],
   "source": [
    "missingno.matrix(weather_df, labels=True)"
   ]
  },
  {
   "cell_type": "code",
   "execution_count": 315,
   "metadata": {
    "scrolled": true
   },
   "outputs": [
    {
     "name": "stdout",
     "output_type": "stream",
     "text": [
      "There are 49 locations\n"
     ]
    },
    {
     "data": {
      "image/png": "[encoded data removed]",
      "text/plain": [
       "<Figure size 432x288 with 1 Axes>"
      ]
     },
     "metadata": {},
     "output_type": "display_data"
    }
   ],
   "source": [
    "weather_df.Location.value_counts().plot(kind='barh')\n",
    "print('There are {} locations'.format(len(weather_df.Location.value_counts())))"
   ]
  },
  {
   "cell_type": "code",
   "execution_count": 316,
   "metadata": {},
   "outputs": [
    {
     "name": "stdout",
     "output_type": "stream",
     "text": [
      "count    141556.000000\n",
      "mean         12.186400\n",
      "std           6.403283\n",
      "min          -8.500000\n",
      "25%           7.600000\n",
      "50%          12.000000\n",
      "75%          16.800000\n",
      "max          33.900000\n",
      "Name: MinTemp, dtype: float64\n",
      "There are 637 missing values\n"
     ]
    }
   ],
   "source": [
    "print(weather_df.MinTemp.describe())\n",
    "print('There are {} missing values'.format(weather_df.MinTemp.isnull().sum()))"
   ]
  },
  {
   "cell_type": "code",
   "execution_count": 317,
   "metadata": {},
   "outputs": [],
   "source": [
    "#weather_df['MinTemp'].fillna(weather_df['MinTemp'].mean(), inplace=True)\n",
    "#print('There are {} missing values'.format(weather_df.MinTemp.isna().sum()))"
   ]
  },
  {
   "cell_type": "code",
   "execution_count": 318,
   "metadata": {},
   "outputs": [
    {
     "data": {
      "text/plain": [
       "<matplotlib.axes._subplots.AxesSubplot at 0x7fd135c9e0b8>"
      ]
     },
     "execution_count": 318,
     "metadata": {},
     "output_type": "execute_result"
    },
    {
     "data": {
      "image/png": "[encoded data removed]",
      "text/plain": [
       "<Figure size 432x288 with 1 Axes>"
      ]
     },
     "metadata": {},
     "output_type": "display_data"
    }
   ],
   "source": [
    "weather_df.MinTemp.plot(kind='box', vert=False)"
   ]
  },
  {
   "cell_type": "code",
   "execution_count": 319,
   "metadata": {},
   "outputs": [
    {
     "name": "stdout",
     "output_type": "stream",
     "text": [
      "count    141871.000000\n",
      "mean         23.226784\n",
      "std           7.117618\n",
      "min          -4.800000\n",
      "25%          17.900000\n",
      "50%          22.600000\n",
      "75%          28.200000\n",
      "max          48.100000\n",
      "Name: MaxTemp, dtype: float64\n",
      "There are 322 missing values\n"
     ]
    }
   ],
   "source": [
    "print(weather_df.MaxTemp.describe())\n",
    "print('There are {} missing values'.format(weather_df.MaxTemp.isnull().sum()))"
   ]
  },
  {
   "cell_type": "code",
   "execution_count": 320,
   "metadata": {},
   "outputs": [],
   "source": [
    "#weather_df['MaxTemp'].fillna(weather_df['MaxTemp'].mean(), inplace=True)\n",
    "#print('There are {} missing values'.format(weather_df.MaxTemp.isna().sum()))"
   ]
  },
  {
   "cell_type": "code",
   "execution_count": 321,
   "metadata": {},
   "outputs": [
    {
     "data": {
      "text/plain": [
       "<matplotlib.axes._subplots.AxesSubplot at 0x7fd135d2c630>"
      ]
     },
     "execution_count": 321,
     "metadata": {},
     "output_type": "execute_result"
    },
    {
     "data": {
      "image/png": "[encoded data removed]",
      "text/plain": [
       "<Figure size 432x288 with 1 Axes>"
      ]
     },
     "metadata": {},
     "output_type": "display_data"
    }
   ],
   "source": [
    "weather_df.MaxTemp.plot(kind='box', vert=False)"
   ]
  },
  {
   "cell_type": "markdown",
   "metadata": {},
   "source": [
    "There could be an issue with filling the temp with just the mean. Possibilities of a min temp of 25 and the max temp will be 23. That will make no sense. Best to use a prediction model perhaps?"
   ]
  },
  {
   "cell_type": "code",
   "execution_count": 322,
   "metadata": {
    "scrolled": false
   },
   "outputs": [
    {
     "data": {
      "text/html": [
       "<div>\n",
       "<style scoped>\n",
       "    .dataframe tbody tr th:only-of-type {\n",
       "        vertical-align: middle;\n",
       "    }\n",
       "\n",
       "    .dataframe tbody tr th {\n",
       "        vertical-align: top;\n",
       "    }\n",
       "\n",
       "    .dataframe thead th {\n",
       "        text-align: right;\n",
       "    }\n",
       "</style>\n",
       "<table border=\"1\" class=\"dataframe\">\n",
       "  <thead>\n",
       "    <tr style=\"text-align: right;\">\n",
       "      <th></th>\n",
       "      <th>Date</th>\n",
       "      <th>Location</th>\n",
       "      <th>MinTemp</th>\n",
       "      <th>MaxTemp</th>\n",
       "      <th>Rainfall</th>\n",
       "      <th>Evaporation</th>\n",
       "      <th>Sunshine</th>\n",
       "      <th>WindGustDir</th>\n",
       "      <th>WindGustSpeed</th>\n",
       "      <th>WindDir9am</th>\n",
       "      <th>...</th>\n",
       "      <th>Humidity3pm</th>\n",
       "      <th>Pressure9am</th>\n",
       "      <th>Pressure3pm</th>\n",
       "      <th>Cloud9am</th>\n",
       "      <th>Cloud3pm</th>\n",
       "      <th>Temp9am</th>\n",
       "      <th>Temp3pm</th>\n",
       "      <th>RainToday</th>\n",
       "      <th>RISK_MM</th>\n",
       "      <th>RainTomorrow</th>\n",
       "    </tr>\n",
       "  </thead>\n",
       "  <tbody>\n",
       "  </tbody>\n",
       "</table>\n",
       "<p>0 rows × 24 columns</p>\n",
       "</div>"
      ],
      "text/plain": [
       "Empty DataFrame\n",
       "Columns: [Date, Location, MinTemp, MaxTemp, Rainfall, Evaporation, Sunshine, WindGustDir, WindGustSpeed, WindDir9am, WindDir3pm, WindSpeed9am, WindSpeed3pm, Humidity9am, Humidity3pm, Pressure9am, Pressure3pm, Cloud9am, Cloud3pm, Temp9am, Temp3pm, RainToday, RISK_MM, RainTomorrow]\n",
       "Index: []\n",
       "\n",
       "[0 rows x 24 columns]"
      ]
     },
     "execution_count": 322,
     "metadata": {},
     "output_type": "execute_result"
    }
   ],
   "source": [
    "weather_df[weather_df.MaxTemp < weather_df.MinTemp]"
   ]
  },
  {
   "cell_type": "markdown",
   "metadata": {},
   "source": [
    "Convert nan matches to 1000\n",
    "Then fill na\n",
    "Then drop the 1000\n",
    "then fill with the means"
   ]
  },
  {
   "cell_type": "code",
   "execution_count": 323,
   "metadata": {},
   "outputs": [
    {
     "name": "stdout",
     "output_type": "stream",
     "text": [
      "Missing Max Temp: 234, Missing Min Temp: 549\n"
     ]
    }
   ],
   "source": [
    "weather_df.loc[weather_df.MinTemp.isnull() & weather_df.MaxTemp.isnull(), ['MinTemp','MaxTemp']] = 1000\n",
    "print('Missing Max Temp: {}, Missing Min Temp: {}'.format(weather_df.MaxTemp.isnull().sum(), weather_df.MinTemp.isnull().sum()))"
   ]
  },
  {
   "cell_type": "code",
   "execution_count": 324,
   "metadata": {},
   "outputs": [],
   "source": [
    "Temp_df = pd.concat([weather_df.MinTemp, weather_df.MaxTemp], axis=1)\n",
    "Temp_df = Temp_df.dropna()\n",
    "X,y = Temp_df.iloc[:,Temp_df.columns != 'MaxTemp'], Temp_df['MaxTemp']\n",
    "X_train, X_test, y_train, y_test = train_test_split(X, y, test_size = 0.2, random_state=42)"
   ]
  },
  {
   "cell_type": "code",
   "execution_count": 325,
   "metadata": {},
   "outputs": [],
   "source": [
    "Temp_null = weather_df[weather_df.MaxTemp.isnull()]\n",
    "Max_null = pd.concat([Temp_null.MinTemp, Temp_null.MaxTemp], axis=1)\n",
    "Max_null = Max_null.drop(columns=['MaxTemp'])\n",
    "Max_null = Max_null.dropna()\n",
    "Temp_min_null = weather_df[weather_df.MinTemp.isnull()]\n",
    "Min_null = pd.concat([Temp_min_null.MinTemp, Temp_min_null.MaxTemp], axis=1)\n",
    "Min_null = Min_null.drop(columns=['MinTemp'])\n",
    "Min_null = Min_null.dropna()"
   ]
  },
  {
   "cell_type": "code",
   "execution_count": 326,
   "metadata": {
    "scrolled": true
   },
   "outputs": [
    {
     "name": "stdout",
     "output_type": "stream",
     "text": [
      "KNN on neighbors = 1 has a rmse of 7.030469061637774 and took 0.2590077190000102 seconds to compute\n",
      "KNN on neighbors = 3 has a rmse of 5.54425235511653 and took 0.2635581800000182 seconds to compute\n",
      "KNN on neighbors = 5 has a rmse of 5.246217388602983 and took 0.2661143020000054 seconds to compute\n",
      "KNN on neighbors = 7 has a rmse of 5.123454091999229 and took 0.2706280580000566 seconds to compute\n",
      "KNN on neighbors = 9 has a rmse of 5.0637460522362865 and took 0.27014576900000975 seconds to compute\n",
      "KNN on neighbors = 11 has a rmse of 5.011745327284819 and took 0.2772837120000986 seconds to compute\n",
      "KNN on neighbors = 13 has a rmse of 4.987400541140674 and took 0.27744720500004405 seconds to compute\n",
      "KNN on neighbors = 15 has a rmse of 4.951597775995567 and took 0.2842146610000782 seconds to compute\n",
      "KNN on neighbors = 17 has a rmse of 4.928282435455426 and took 0.28782164800009014 seconds to compute\n",
      "KNN on neighbors = 19 has a rmse of 4.927096487049278 and took 0.29964342800008126 seconds to compute\n",
      "KNN on neighbors = 21 has a rmse of 4.916477289908 and took 0.3051859039999272 seconds to compute\n",
      "KNN on neighbors = 23 has a rmse of 4.910451011711052 and took 0.323666613000114 seconds to compute\n",
      "KNN on neighbors = 25 has a rmse of 4.901842047726395 and took 0.32811745499998324 seconds to compute\n",
      "KNN on neighbors = 27 has a rmse of 4.898134938410957 and took 0.341949108000108 seconds to compute\n",
      "KNN on neighbors = 29 has a rmse of 4.8919859856566905 and took 0.35215058900007534 seconds to compute\n",
      "KNN on neighbors = 31 has a rmse of 4.891447348538719 and took 0.3639661229999547 seconds to compute\n",
      "KNN on neighbors = 33 has a rmse of 4.889913849977548 and took 0.37184544199999436 seconds to compute\n",
      "KNN on neighbors = 35 has a rmse of 4.886114059613927 and took 0.3734902819999206 seconds to compute\n",
      "KNN on neighbors = 37 has a rmse of 4.881618960446221 and took 0.385950886000046 seconds to compute\n",
      "KNN on neighbors = 39 has a rmse of 4.878376184698969 and took 0.395959848000075 seconds to compute\n",
      "KNN on neighbors = 41 has a rmse of 4.880709322516652 and took 0.4001542459998291 seconds to compute\n",
      "KNN on neighbors = 43 has a rmse of 4.875224723624889 and took 0.4093446540000514 seconds to compute\n",
      "KNN on neighbors = 45 has a rmse of 4.870769460768279 and took 0.4206651930001044 seconds to compute\n",
      "KNN on neighbors = 47 has a rmse of 4.863258154309704 and took 0.42726444300001276 seconds to compute\n",
      "KNN on neighbors = 49 has a rmse of 4.860194399706983 and took 0.40000965099989116 seconds to compute\n"
     ]
    }
   ],
   "source": [
    "Neighbors_list = list(range(1,50))\n",
    "Neighbors = list(filter(lambda x: x %2 != 0, Neighbors_list))\n",
    "score = []\n",
    "for k in Neighbors:\n",
    "    start_time = process_time()\n",
    "    max_model = KNeighborsRegressor(n_neighbors=k)\n",
    "    max_model.fit(X_train, y_train)\n",
    "    max_predictions = max_model.predict(X_test)\n",
    "    mse = mean_squared_error(max_predictions, y_test)\n",
    "    rmse = sqrt(mse)\n",
    "    end_time = process_time()\n",
    "    time_lapsed = end_time - start_time\n",
    "    score.append(rmse)\n",
    "    print('KNN on neighbors = {} has a rmse of {} and took {} seconds to compute'.format(k, rmse, time_lapsed))"
   ]
  },
  {
   "cell_type": "code",
   "execution_count": 327,
   "metadata": {},
   "outputs": [
    {
     "data": {
      "image/png": "[encoded data removed]",
      "text/plain": [
       "<Figure size 432x288 with 1 Axes>"
      ]
     },
     "metadata": {},
     "output_type": "display_data"
    }
   ],
   "source": [
    "plt.plot(Neighbors, score)\n",
    "plt.xlabel('Numbers of Neighbors K')\n",
    "plt.ylabel('RMSE')\n",
    "plt.show()"
   ]
  },
  {
   "cell_type": "code",
   "execution_count": 328,
   "metadata": {},
   "outputs": [],
   "source": [
    "cv_scores = []\n",
    "kf = KFold(10, True)\n",
    "fold = 0\n",
    "for k in Neighbors:\n",
    "    cv_max_model = KNeighborsRegressor(n_neighbors=k)\n",
    "    temp_cv_scores = []\n",
    "    for train, test in kf.split(X):\n",
    "        fold += 1\n",
    "        X_train, X_test = X.values[train], X.values[test]\n",
    "        y_train, y_test = y.values[train], y.values[test]\n",
    "        cv_max_model.fit(X_train, y_train)\n",
    "        predictions = cv_max_model.predict(X_test)\n",
    "        mse = mean_squared_error(predictions, y_test)\n",
    "        rmse = sqrt(mse)\n",
    "        temp_cv_scores.append(rmse)\n",
    "    cv_scores.append(np.min(temp_cv_scores)) "
   ]
  },
  {
   "cell_type": "code",
   "execution_count": 329,
   "metadata": {},
   "outputs": [
    {
     "data": {
      "image/png": "[encoded data removed]",
      "text/plain": [
       "<Figure size 432x288 with 1 Axes>"
      ]
     },
     "metadata": {},
     "output_type": "display_data"
    }
   ],
   "source": [
    "plt.plot(Neighbors, score, Neighbors, cv_scores)\n",
    "plt.xlabel('Numbers of Neighbors K')\n",
    "plt.ylabel('RMSE')\n",
    "plt.show()"
   ]
  },
  {
   "cell_type": "code",
   "execution_count": 330,
   "metadata": {},
   "outputs": [],
   "source": [
    "max_model = KNeighborsRegressor(n_neighbors=20)\n",
    "max_model.fit(X_train, y_train)\n",
    "max_predictions = max_model.predict(Max_null)\n",
    "max_results = pd.DataFrame(max_predictions, columns=['MaxTemp'])\n",
    "max_results = max_results.round(1)\n",
    "weather_df['MaxTemp'] = weather_df['MaxTemp'].fillna(max_results['MaxTemp'].values[0])"
   ]
  },
  {
   "cell_type": "code",
   "execution_count": 331,
   "metadata": {
    "scrolled": true
   },
   "outputs": [
    {
     "data": {
      "text/plain": [
       "count    142193.000000\n",
       "mean         23.836344\n",
       "std          25.311181\n",
       "min          -4.800000\n",
       "25%          17.900000\n",
       "50%          22.700000\n",
       "75%          28.200000\n",
       "max        1000.000000\n",
       "Name: MaxTemp, dtype: float64"
      ]
     },
     "execution_count": 331,
     "metadata": {},
     "output_type": "execute_result"
    }
   ],
   "source": [
    "weather_df.MaxTemp.describe()"
   ]
  },
  {
   "cell_type": "code",
   "execution_count": 332,
   "metadata": {},
   "outputs": [],
   "source": [
    "Temp_df = pd.concat([weather_df.MinTemp, weather_df.MaxTemp], axis=1)\n",
    "Temp_df = Temp_df.dropna()\n",
    "X,y = Temp_df.iloc[:,Temp_df.columns != 'MinTemp'], Temp_df['MinTemp']\n",
    "X_train, X_test, y_train, y_test = train_test_split(X, y, test_size = 0.2, random_state=42)"
   ]
  },
  {
   "cell_type": "code",
   "execution_count": 333,
   "metadata": {},
   "outputs": [
    {
     "name": "stdout",
     "output_type": "stream",
     "text": [
      "KNN on neighbors = 1 has a rmse of 5.994925755074296 and took 0.24550183499991363 seconds to compute\n",
      "KNN on neighbors = 3 has a rmse of 4.865523613875711 and took 0.24867968800003837 seconds to compute\n",
      "KNN on neighbors = 5 has a rmse of 4.68364637267548 and took 0.24957861099983347 seconds to compute\n",
      "KNN on neighbors = 7 has a rmse of 4.549044162028489 and took 0.25617825700010144 seconds to compute\n",
      "KNN on neighbors = 9 has a rmse of 4.518671913692557 and took 0.2541721840000264 seconds to compute\n",
      "KNN on neighbors = 11 has a rmse of 4.477377946857635 and took 0.2560309339999094 seconds to compute\n",
      "KNN on neighbors = 13 has a rmse of 4.448303432092907 and took 0.26339661700012584 seconds to compute\n",
      "KNN on neighbors = 15 has a rmse of 4.428236581830936 and took 0.26980026699993687 seconds to compute\n",
      "KNN on neighbors = 17 has a rmse of 4.416540257801104 and took 0.28043015100001867 seconds to compute\n",
      "KNN on neighbors = 19 has a rmse of 4.397975100800634 and took 0.2879927359999783 seconds to compute\n",
      "KNN on neighbors = 21 has a rmse of 4.395954527976298 and took 0.2927314349999506 seconds to compute\n",
      "KNN on neighbors = 23 has a rmse of 4.3921075981292805 and took 0.30466668600001867 seconds to compute\n",
      "KNN on neighbors = 25 has a rmse of 4.381143535517833 and took 0.3101715170000716 seconds to compute\n",
      "KNN on neighbors = 27 has a rmse of 4.377365646755773 and took 0.3256710400000884 seconds to compute\n",
      "KNN on neighbors = 29 has a rmse of 4.369506405496313 and took 0.33653887700006635 seconds to compute\n",
      "KNN on neighbors = 31 has a rmse of 4.365285021625534 and took 0.34338775900005203 seconds to compute\n",
      "KNN on neighbors = 33 has a rmse of 4.359744439035176 and took 0.3563942449998194 seconds to compute\n",
      "KNN on neighbors = 35 has a rmse of 4.354918468724404 and took 0.35729703299989524 seconds to compute\n",
      "KNN on neighbors = 37 has a rmse of 4.350935347790154 and took 0.3676042749998487 seconds to compute\n",
      "KNN on neighbors = 39 has a rmse of 4.347827689886701 and took 0.3756220679999842 seconds to compute\n",
      "KNN on neighbors = 41 has a rmse of 4.346804178522161 and took 0.38629186399998616 seconds to compute\n",
      "KNN on neighbors = 43 has a rmse of 4.345482646717629 and took 0.3953799920000165 seconds to compute\n",
      "KNN on neighbors = 45 has a rmse of 4.34333431434191 and took 0.40729602800001885 seconds to compute\n",
      "KNN on neighbors = 47 has a rmse of 4.340531853341456 and took 0.4176724630001445 seconds to compute\n",
      "KNN on neighbors = 49 has a rmse of 4.338574706358876 and took 0.3970187940001324 seconds to compute\n"
     ]
    }
   ],
   "source": [
    "Neighbors_list = list(range(1,50))\n",
    "Neighbors = list(filter(lambda x: x %2 != 0, Neighbors_list))\n",
    "min_score = []\n",
    "for k in Neighbors:\n",
    "    start_time = process_time()\n",
    "    min_model = KNeighborsRegressor(n_neighbors=k)\n",
    "    min_model.fit(X_train, y_train)\n",
    "    min_predictions = min_model.predict(X_test)\n",
    "    mse = mean_squared_error(min_predictions, y_test)\n",
    "    rmse = sqrt(mse)\n",
    "    end_time = process_time()\n",
    "    time_lapsed = end_time - start_time\n",
    "    min_score.append(rmse)\n",
    "    print('KNN on neighbors = {} has a rmse of {} and took {} seconds to compute'.format(k, rmse, time_lapsed))"
   ]
  },
  {
   "cell_type": "code",
   "execution_count": 334,
   "metadata": {
    "scrolled": true
   },
   "outputs": [
    {
     "data": {
      "image/png": "[encoded data removed]",
      "text/plain": [
       "<Figure size 432x288 with 1 Axes>"
      ]
     },
     "metadata": {},
     "output_type": "display_data"
    }
   ],
   "source": [
    "plt.plot(Neighbors, min_score)\n",
    "plt.xlabel('Numbers of Neighbors K')\n",
    "plt.ylabel('RMSE')\n",
    "plt.show()"
   ]
  },
  {
   "cell_type": "code",
   "execution_count": 335,
   "metadata": {},
   "outputs": [],
   "source": [
    "min_cv_scores = []\n",
    "kf = KFold(10, True)\n",
    "fold = 0\n",
    "for k in Neighbors:\n",
    "    min_cv_model = KNeighborsRegressor(n_neighbors=k)\n",
    "    temp_cv_scores = []\n",
    "    for train, test in kf.split(X):\n",
    "        fold += 1\n",
    "        X_train, X_test = X.values[train], X.values[test]\n",
    "        y_train, y_test = y.values[train], y.values[test]\n",
    "        min_cv_model.fit(X_train, y_train)\n",
    "        predictions = min_cv_model.predict(X_test)\n",
    "        mse = mean_squared_error(predictions, y_test)\n",
    "        rmse = sqrt(mse)\n",
    "        temp_cv_scores.append(rmse)\n",
    "    min_cv_scores.append(np.min(temp_cv_scores)) "
   ]
  },
  {
   "cell_type": "code",
   "execution_count": 336,
   "metadata": {},
   "outputs": [
    {
     "data": {
      "image/png": "[encoded data removed]",
      "text/plain": [
       "<Figure size 432x288 with 1 Axes>"
      ]
     },
     "metadata": {},
     "output_type": "display_data"
    }
   ],
   "source": [
    "plt.plot(Neighbors, min_score, Neighbors, min_cv_scores)\n",
    "plt.xlabel('Numbers of Neighbors K')\n",
    "plt.ylabel('RMSE')\n",
    "plt.show()"
   ]
  },
  {
   "cell_type": "code",
   "execution_count": 337,
   "metadata": {},
   "outputs": [
    {
     "name": "stdout",
     "output_type": "stream",
     "text": [
      "37\n"
     ]
    }
   ],
   "source": [
    "optimal_k = Neighbors[min_cv_scores.index(min(min_cv_scores))]\n",
    "print(optimal_k)"
   ]
  },
  {
   "cell_type": "code",
   "execution_count": 338,
   "metadata": {},
   "outputs": [],
   "source": [
    "min_model = KNeighborsRegressor(n_neighbors=41)\n",
    "min_model.fit(X_train, y_train)\n",
    "min_predictions = min_model.predict(Min_null)\n",
    "min_results = pd.DataFrame(min_predictions, columns=['MinTemp'])\n",
    "min_results = min_results.round(1)\n",
    "weather_df['MinTemp'] = weather_df['MinTemp'].fillna(min_results['MinTemp'].values[0])"
   ]
  },
  {
   "cell_type": "code",
   "execution_count": 339,
   "metadata": {},
   "outputs": [
    {
     "data": {
      "text/plain": [
       "count    142193.000000\n",
       "mean         12.783888\n",
       "std          25.385046\n",
       "min          -8.500000\n",
       "25%           7.600000\n",
       "50%          12.000000\n",
       "75%          16.800000\n",
       "max        1000.000000\n",
       "Name: MinTemp, dtype: float64"
      ]
     },
     "execution_count": 339,
     "metadata": {},
     "output_type": "execute_result"
    }
   ],
   "source": [
    "weather_df.MinTemp.describe()"
   ]
  },
  {
   "cell_type": "code",
   "execution_count": 340,
   "metadata": {},
   "outputs": [],
   "source": [
    "weather_df.loc[weather_df['MinTemp'] == 1000, ['MinTemp']] = np.nan\n",
    "weather_df.loc[weather_df['MaxTemp'] == 1000, ['MaxTemp']] = np.nan"
   ]
  },
  {
   "cell_type": "code",
   "execution_count": 343,
   "metadata": {},
   "outputs": [
    {
     "name": "stdout",
     "output_type": "stream",
     "text": [
      "0\n",
      "0\n"
     ]
    }
   ],
   "source": [
    "print(weather_df.MaxTemp.isnull().sum())\n",
    "print(weather_df.MinTemp.isnull().sum())"
   ]
  },
  {
   "cell_type": "code",
   "execution_count": 344,
   "metadata": {},
   "outputs": [
    {
     "name": "stdout",
     "output_type": "stream",
     "text": [
      "count    142193.000000\n",
      "mean         12.172544\n",
      "std           6.392794\n",
      "min          -8.500000\n",
      "25%           7.600000\n",
      "50%          12.000000\n",
      "75%          16.800000\n",
      "max          33.900000\n",
      "Name: MinTemp, dtype: float64\n",
      "count    142193.000000\n",
      "mean         23.231845\n",
      "std           7.110646\n",
      "min          -4.800000\n",
      "25%          17.900000\n",
      "50%          22.700000\n",
      "75%          28.200000\n",
      "max          48.100000\n",
      "Name: MaxTemp, dtype: float64\n"
     ]
    }
   ],
   "source": [
    "weather_df['MinTemp'].fillna(weather_df['MinTemp'].mean(), inplace=True)\n",
    "weather_df['MaxTemp'].fillna(weather_df['MaxTemp'].mean(), inplace=True)\n",
    "print(weather_df.MinTemp.describe())\n",
    "print(weather_df.MaxTemp.describe())"
   ]
  },
  {
   "cell_type": "code",
   "execution_count": 55,
   "metadata": {},
   "outputs": [
    {
     "name": "stdout",
     "output_type": "stream",
     "text": [
      "count    140787.000000\n",
      "mean          2.349974\n",
      "std           8.465173\n",
      "min           0.000000\n",
      "25%           0.000000\n",
      "50%           0.000000\n",
      "75%           0.800000\n",
      "max         371.000000\n",
      "Name: Rainfall, dtype: float64\n",
      "There are 1406 missing values\n"
     ]
    }
   ],
   "source": [
    "print(weather_df.Rainfall.describe())\n",
    "print('There are {} missing values'.format(weather_df.Rainfall.isnull().sum()))"
   ]
  },
  {
   "cell_type": "code",
   "execution_count": 61,
   "metadata": {},
   "outputs": [
    {
     "data": {
      "text/plain": [
       "Williamtown      177\n",
       "Melbourne        137\n",
       "PearceRAAF       116\n",
       "MountGinini       91\n",
       "Adelaide          70\n",
       "Moree             63\n",
       "GoldCoast         56\n",
       "Penrith           53\n",
       "BadgerysCreek     51\n",
       "Walpole           49\n",
       "Richmond          45\n",
       "NorahHead         41\n",
       "Wollongong        40\n",
       "Tuggeranong       39\n",
       "Brisbane          29\n",
       "Witchcliffe       28\n",
       "Newcastle         26\n",
       "Cairns            24\n",
       "Albany            20\n",
       "NorfolkIsland     20\n",
       "Albury            20\n",
       "Uluru             19\n",
       "WaggaWagga        18\n",
       "Canberra          16\n",
       "Katherine         14\n",
       "SalmonGums        14\n",
       "CoffsHarbour      13\n",
       "Portland          12\n",
       "Ballarat          11\n",
       "Watsonia           9\n",
       "Sale               8\n",
       "Cobar              8\n",
       "Launceston         8\n",
       "MountGambier       8\n",
       "Nuriootpa          6\n",
       "Woomera            6\n",
       "Townsville         6\n",
       "Sydney             6\n",
       "AliceSprings       6\n",
       "Hobart             5\n",
       "SydneyAirport      4\n",
       "Dartmoor           4\n",
       "Nhil               4\n",
       "Bendigo            4\n",
       "Mildura            2\n",
       "Name: Location, dtype: int64"
      ]
     },
     "execution_count": 61,
     "metadata": {},
     "output_type": "execute_result"
    }
   ],
   "source": [
    "weather_df[weather_df.Rainfall.isnull()].Location.value_counts()"
   ]
  },
  {
   "cell_type": "code",
   "execution_count": 11,
   "metadata": {},
   "outputs": [
    {
     "data": {
      "text/plain": [
       "<matplotlib.axes._subplots.AxesSubplot at 0x7fb8b7a83ac8>"
      ]
     },
     "execution_count": 11,
     "metadata": {},
     "output_type": "execute_result"
    },
    {
     "data": {
      "image/png": "[encoded data removed]",
      "text/plain": [
       "<Figure size 432x288 with 1 Axes>"
      ]
     },
     "metadata": {},
     "output_type": "display_data"
    }
   ],
   "source": [
    "weather_df.Rainfall.value_counts()[:3].plot(kind='barh')"
   ]
  },
  {
   "cell_type": "code",
   "execution_count": 12,
   "metadata": {},
   "outputs": [
    {
     "name": "stdout",
     "output_type": "stream",
     "text": [
      "60843\n",
      "142193\n"
     ]
    }
   ],
   "source": [
    "print(weather_df.Evaporation.isnull().sum())\n",
    "print(len(weather_df.Evaporation))"
   ]
  },
  {
   "cell_type": "code",
   "execution_count": 13,
   "metadata": {},
   "outputs": [
    {
     "name": "stdout",
     "output_type": "stream",
     "text": [
      "67816\n"
     ]
    }
   ],
   "source": [
    "weather_df.Sunshine.describe()\n",
    "print(weather_df.Sunshine.isnull().sum())"
   ]
  },
  {
   "cell_type": "code",
   "execution_count": 14,
   "metadata": {},
   "outputs": [
    {
     "data": {
      "text/plain": [
       "<matplotlib.axes._subplots.AxesSubplot at 0x7fb8b799fb70>"
      ]
     },
     "execution_count": 14,
     "metadata": {},
     "output_type": "execute_result"
    },
    {
     "data": {
      "image/png": "[encoded data removed]",
      "text/plain": [
       "<Figure size 432x288 with 1 Axes>"
      ]
     },
     "metadata": {},
     "output_type": "display_data"
    }
   ],
   "source": [
    "weather_df.Sunshine.plot(kind='box', vert=False)"
   ]
  },
  {
   "cell_type": "code",
   "execution_count": 15,
   "metadata": {},
   "outputs": [
    {
     "name": "stdout",
     "output_type": "stream",
     "text": [
      "W      9780\n",
      "SE     9309\n",
      "E      9071\n",
      "N      9033\n",
      "SSE    8993\n",
      "S      8949\n",
      "WSW    8901\n",
      "SW     8797\n",
      "SSW    8610\n",
      "WNW    8066\n",
      "NW     8003\n",
      "ENE    7992\n",
      "ESE    7305\n",
      "NE     7060\n",
      "NNW    6561\n",
      "NNE    6433\n",
      "Name: WindGustDir, dtype: int64\n",
      "9330\n"
     ]
    },
    {
     "data": {
      "text/plain": [
       "<matplotlib.axes._subplots.AxesSubplot at 0x7fb8b7980b70>"
      ]
     },
     "execution_count": 15,
     "metadata": {},
     "output_type": "execute_result"
    },
    {
     "data": {
      "image/png": "[encoded data removed]",
      "text/plain": [
       "<Figure size 432x288 with 1 Axes>"
      ]
     },
     "metadata": {},
     "output_type": "display_data"
    }
   ],
   "source": [
    "print(weather_df.WindGustDir.value_counts())\n",
    "print(weather_df.WindGustDir.isnull().sum())\n",
    "weather_df.WindGustDir.value_counts().plot(kind='barh')"
   ]
  },
  {
   "cell_type": "code",
   "execution_count": 16,
   "metadata": {},
   "outputs": [
    {
     "name": "stdout",
     "output_type": "stream",
     "text": [
      "count    132923.000000\n",
      "mean         39.984292\n",
      "std          13.588801\n",
      "min           6.000000\n",
      "25%          31.000000\n",
      "50%          39.000000\n",
      "75%          48.000000\n",
      "max         135.000000\n",
      "Name: WindGustSpeed, dtype: float64\n",
      "9270\n"
     ]
    },
    {
     "data": {
      "text/plain": [
       "<matplotlib.axes._subplots.AxesSubplot at 0x7fb8b7910d30>"
      ]
     },
     "execution_count": 16,
     "metadata": {},
     "output_type": "execute_result"
    },
    {
     "data": {
      "image/png": "[encoded data removed]",
      "text/plain": [
       "<Figure size 432x288 with 1 Axes>"
      ]
     },
     "metadata": {},
     "output_type": "display_data"
    }
   ],
   "source": [
    "print(weather_df.WindGustSpeed.describe())\n",
    "print(weather_df.WindGustSpeed.isnull().sum())\n",
    "weather_df.WindGustSpeed.plot(kind='box', vert=False)"
   ]
  },
  {
   "cell_type": "code",
   "execution_count": 17,
   "metadata": {},
   "outputs": [
    {
     "name": "stdout",
     "output_type": "stream",
     "text": [
      "SE     10663\n",
      "W       9911\n",
      "S       9598\n",
      "WSW     9329\n",
      "SW      9182\n",
      "SSE     9142\n",
      "N       8667\n",
      "WNW     8656\n",
      "NW      8468\n",
      "ESE     8382\n",
      "E       8342\n",
      "NE      8164\n",
      "SSW     8010\n",
      "NNW     7733\n",
      "ENE     7724\n",
      "NNE     6444\n",
      "Name: WindDir3pm, dtype: int64\n",
      "3778\n"
     ]
    },
    {
     "data": {
      "text/plain": [
       "<matplotlib.axes._subplots.AxesSubplot at 0x7fb8b7872a20>"
      ]
     },
     "execution_count": 17,
     "metadata": {},
     "output_type": "execute_result"
    },
    {
     "data": {
      "image/png": "[encoded data removed]",
      "text/plain": [
       "<Figure size 432x288 with 1 Axes>"
      ]
     },
     "metadata": {},
     "output_type": "display_data"
    }
   ],
   "source": [
    "print(weather_df.WindDir3pm.value_counts())\n",
    "print(weather_df.WindDir3pm.isnull().sum())\n",
    "weather_df.WindDir3pm.value_counts().plot(kind='barh')"
   ]
  },
  {
   "cell_type": "code",
   "execution_count": null,
   "metadata": {},
   "outputs": [],
   "source": []
  }
 ],
 "metadata": {
  "kernelspec": {
   "display_name": "conda_python3",
   "language": "python",
   "name": "conda_python3"
  },
  "language_info": {
   "codemirror_mode": {
    "name": "ipython",
    "version": 3
   },
   "file_extension": ".py",
   "mimetype": "text/x-python",
   "name": "python",
   "nbconvert_exporter": "python",
   "pygments_lexer": "ipython3",
   "version": "3.6.5"
  }
 },
 "nbformat": 4,
 "nbformat_minor": 2
}
