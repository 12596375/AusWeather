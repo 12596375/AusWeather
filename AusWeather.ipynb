{
 "cells": [
  {
   "cell_type": "code",
   "execution_count": 1,
   "metadata": {},
   "outputs": [],
   "source": [
    "import pandas as pd\n",
    "import numpy as np\n",
    "import missingno\n",
    "import seaborn as sns\n",
    "from sklearn.model_selection import train_test_split\n",
    "from sklearn.neighbors import KNeighborsRegressor\n",
    "from sklearn.neighbors import KNeighborsClassifier\n",
    "from sklearn.metrics import mean_squared_error\n",
    "from sklearn.metrics import recall_score\n",
    "from math import sqrt\n",
    "from time import process_time\n",
    "import matplotlib.pyplot as plt\n",
    "from sklearn.model_selection import KFold"
   ]
  },
  {
   "cell_type": "markdown",
   "metadata": {},
   "source": [
    "# AWS Bucket\n",
    "\n",
    "Using AWS Sagemaker t2.Medium to run this notebook, which I believe is just 4GB of Ram with the Intel Xeon. Thus all compute speed is from those technical specs. If you're running this on your own computer, remove the bucket, datakey and change data_location to where you are storinig the CSV file."
   ]
  },
  {
   "cell_type": "code",
   "execution_count": null,
   "metadata": {},
   "outputs": [],
   "source": [
    "bucket = 'andrew-data-sagemaker/WeatherClassifier'\n",
    "data_key = 'weatherAUS.csv' \n",
    "data_location = 's3://{}/{}'.format(bucket, data_key) \n",
    "weather_df = pd.read_csv(data_location)\n",
    "weather_df.head()"
   ]
  },
  {
   "cell_type": "markdown",
   "metadata": {},
   "source": [
    "# If you are not using an AWS Bucket, run this."
   ]
  },
  {
   "cell_type": "code",
   "execution_count": 2,
   "metadata": {},
   "outputs": [
    {
     "data": {
      "text/html": [
       "<div>\n",
       "<style scoped>\n",
       "    .dataframe tbody tr th:only-of-type {\n",
       "        vertical-align: middle;\n",
       "    }\n",
       "\n",
       "    .dataframe tbody tr th {\n",
       "        vertical-align: top;\n",
       "    }\n",
       "\n",
       "    .dataframe thead th {\n",
       "        text-align: right;\n",
       "    }\n",
       "</style>\n",
       "<table border=\"1\" class=\"dataframe\">\n",
       "  <thead>\n",
       "    <tr style=\"text-align: right;\">\n",
       "      <th></th>\n",
       "      <th>Date</th>\n",
       "      <th>Location</th>\n",
       "      <th>MinTemp</th>\n",
       "      <th>MaxTemp</th>\n",
       "      <th>Rainfall</th>\n",
       "      <th>Evaporation</th>\n",
       "      <th>Sunshine</th>\n",
       "      <th>WindGustDir</th>\n",
       "      <th>WindGustSpeed</th>\n",
       "      <th>WindDir9am</th>\n",
       "      <th>...</th>\n",
       "      <th>Humidity3pm</th>\n",
       "      <th>Pressure9am</th>\n",
       "      <th>Pressure3pm</th>\n",
       "      <th>Cloud9am</th>\n",
       "      <th>Cloud3pm</th>\n",
       "      <th>Temp9am</th>\n",
       "      <th>Temp3pm</th>\n",
       "      <th>RainToday</th>\n",
       "      <th>RISK_MM</th>\n",
       "      <th>RainTomorrow</th>\n",
       "    </tr>\n",
       "  </thead>\n",
       "  <tbody>\n",
       "    <tr>\n",
       "      <th>0</th>\n",
       "      <td>2008-12-01</td>\n",
       "      <td>Albury</td>\n",
       "      <td>13.4</td>\n",
       "      <td>22.9</td>\n",
       "      <td>0.6</td>\n",
       "      <td>NaN</td>\n",
       "      <td>NaN</td>\n",
       "      <td>W</td>\n",
       "      <td>44.0</td>\n",
       "      <td>W</td>\n",
       "      <td>...</td>\n",
       "      <td>22.0</td>\n",
       "      <td>1007.7</td>\n",
       "      <td>1007.1</td>\n",
       "      <td>8.0</td>\n",
       "      <td>NaN</td>\n",
       "      <td>16.9</td>\n",
       "      <td>21.8</td>\n",
       "      <td>No</td>\n",
       "      <td>0.0</td>\n",
       "      <td>No</td>\n",
       "    </tr>\n",
       "    <tr>\n",
       "      <th>1</th>\n",
       "      <td>2008-12-02</td>\n",
       "      <td>Albury</td>\n",
       "      <td>7.4</td>\n",
       "      <td>25.1</td>\n",
       "      <td>0.0</td>\n",
       "      <td>NaN</td>\n",
       "      <td>NaN</td>\n",
       "      <td>WNW</td>\n",
       "      <td>44.0</td>\n",
       "      <td>NNW</td>\n",
       "      <td>...</td>\n",
       "      <td>25.0</td>\n",
       "      <td>1010.6</td>\n",
       "      <td>1007.8</td>\n",
       "      <td>NaN</td>\n",
       "      <td>NaN</td>\n",
       "      <td>17.2</td>\n",
       "      <td>24.3</td>\n",
       "      <td>No</td>\n",
       "      <td>0.0</td>\n",
       "      <td>No</td>\n",
       "    </tr>\n",
       "    <tr>\n",
       "      <th>2</th>\n",
       "      <td>2008-12-03</td>\n",
       "      <td>Albury</td>\n",
       "      <td>12.9</td>\n",
       "      <td>25.7</td>\n",
       "      <td>0.0</td>\n",
       "      <td>NaN</td>\n",
       "      <td>NaN</td>\n",
       "      <td>WSW</td>\n",
       "      <td>46.0</td>\n",
       "      <td>W</td>\n",
       "      <td>...</td>\n",
       "      <td>30.0</td>\n",
       "      <td>1007.6</td>\n",
       "      <td>1008.7</td>\n",
       "      <td>NaN</td>\n",
       "      <td>2.0</td>\n",
       "      <td>21.0</td>\n",
       "      <td>23.2</td>\n",
       "      <td>No</td>\n",
       "      <td>0.0</td>\n",
       "      <td>No</td>\n",
       "    </tr>\n",
       "    <tr>\n",
       "      <th>3</th>\n",
       "      <td>2008-12-04</td>\n",
       "      <td>Albury</td>\n",
       "      <td>9.2</td>\n",
       "      <td>28.0</td>\n",
       "      <td>0.0</td>\n",
       "      <td>NaN</td>\n",
       "      <td>NaN</td>\n",
       "      <td>NE</td>\n",
       "      <td>24.0</td>\n",
       "      <td>SE</td>\n",
       "      <td>...</td>\n",
       "      <td>16.0</td>\n",
       "      <td>1017.6</td>\n",
       "      <td>1012.8</td>\n",
       "      <td>NaN</td>\n",
       "      <td>NaN</td>\n",
       "      <td>18.1</td>\n",
       "      <td>26.5</td>\n",
       "      <td>No</td>\n",
       "      <td>1.0</td>\n",
       "      <td>No</td>\n",
       "    </tr>\n",
       "    <tr>\n",
       "      <th>4</th>\n",
       "      <td>2008-12-05</td>\n",
       "      <td>Albury</td>\n",
       "      <td>17.5</td>\n",
       "      <td>32.3</td>\n",
       "      <td>1.0</td>\n",
       "      <td>NaN</td>\n",
       "      <td>NaN</td>\n",
       "      <td>W</td>\n",
       "      <td>41.0</td>\n",
       "      <td>ENE</td>\n",
       "      <td>...</td>\n",
       "      <td>33.0</td>\n",
       "      <td>1010.8</td>\n",
       "      <td>1006.0</td>\n",
       "      <td>7.0</td>\n",
       "      <td>8.0</td>\n",
       "      <td>17.8</td>\n",
       "      <td>29.7</td>\n",
       "      <td>No</td>\n",
       "      <td>0.2</td>\n",
       "      <td>No</td>\n",
       "    </tr>\n",
       "  </tbody>\n",
       "</table>\n",
       "<p>5 rows × 24 columns</p>\n",
       "</div>"
      ],
      "text/plain": [
       "         Date Location  MinTemp  MaxTemp  Rainfall  Evaporation  Sunshine  \\\n",
       "0  2008-12-01   Albury     13.4     22.9       0.6          NaN       NaN   \n",
       "1  2008-12-02   Albury      7.4     25.1       0.0          NaN       NaN   \n",
       "2  2008-12-03   Albury     12.9     25.7       0.0          NaN       NaN   \n",
       "3  2008-12-04   Albury      9.2     28.0       0.0          NaN       NaN   \n",
       "4  2008-12-05   Albury     17.5     32.3       1.0          NaN       NaN   \n",
       "\n",
       "  WindGustDir  WindGustSpeed WindDir9am  ... Humidity3pm  Pressure9am  \\\n",
       "0           W           44.0          W  ...        22.0       1007.7   \n",
       "1         WNW           44.0        NNW  ...        25.0       1010.6   \n",
       "2         WSW           46.0          W  ...        30.0       1007.6   \n",
       "3          NE           24.0         SE  ...        16.0       1017.6   \n",
       "4           W           41.0        ENE  ...        33.0       1010.8   \n",
       "\n",
       "   Pressure3pm  Cloud9am  Cloud3pm  Temp9am  Temp3pm  RainToday  RISK_MM  \\\n",
       "0       1007.1       8.0       NaN     16.9     21.8         No      0.0   \n",
       "1       1007.8       NaN       NaN     17.2     24.3         No      0.0   \n",
       "2       1008.7       NaN       2.0     21.0     23.2         No      0.0   \n",
       "3       1012.8       NaN       NaN     18.1     26.5         No      1.0   \n",
       "4       1006.0       7.0       8.0     17.8     29.7         No      0.2   \n",
       "\n",
       "   RainTomorrow  \n",
       "0            No  \n",
       "1            No  \n",
       "2            No  \n",
       "3            No  \n",
       "4            No  \n",
       "\n",
       "[5 rows x 24 columns]"
      ]
     },
     "execution_count": 2,
     "metadata": {},
     "output_type": "execute_result"
    }
   ],
   "source": [
    "data_location = 'data/weatherAUS.csv'\n",
    "weather_df = pd.read_csv(data_location)\n",
    "weather_df.head()"
   ]
  },
  {
   "cell_type": "markdown",
   "metadata": {},
   "source": [
    "# Create an id for each row by the index + 1 (index starts at 0)\n",
    "\n",
    "Using the index (index starts at 0, thus the need to +1 to make it start at 0) to create an ID for each row."
   ]
  },
  {
   "cell_type": "code",
   "execution_count": 3,
   "metadata": {},
   "outputs": [
    {
     "name": "stdout",
     "output_type": "stream",
     "text": [
      "(142193, 25)\n"
     ]
    },
    {
     "data": {
      "text/html": [
       "<div>\n",
       "<style scoped>\n",
       "    .dataframe tbody tr th:only-of-type {\n",
       "        vertical-align: middle;\n",
       "    }\n",
       "\n",
       "    .dataframe tbody tr th {\n",
       "        vertical-align: top;\n",
       "    }\n",
       "\n",
       "    .dataframe thead th {\n",
       "        text-align: right;\n",
       "    }\n",
       "</style>\n",
       "<table border=\"1\" class=\"dataframe\">\n",
       "  <thead>\n",
       "    <tr style=\"text-align: right;\">\n",
       "      <th></th>\n",
       "      <th>Date</th>\n",
       "      <th>Location</th>\n",
       "      <th>MinTemp</th>\n",
       "      <th>MaxTemp</th>\n",
       "      <th>Rainfall</th>\n",
       "      <th>Evaporation</th>\n",
       "      <th>Sunshine</th>\n",
       "      <th>WindGustDir</th>\n",
       "      <th>WindGustSpeed</th>\n",
       "      <th>WindDir9am</th>\n",
       "      <th>...</th>\n",
       "      <th>Pressure9am</th>\n",
       "      <th>Pressure3pm</th>\n",
       "      <th>Cloud9am</th>\n",
       "      <th>Cloud3pm</th>\n",
       "      <th>Temp9am</th>\n",
       "      <th>Temp3pm</th>\n",
       "      <th>RainToday</th>\n",
       "      <th>RISK_MM</th>\n",
       "      <th>RainTomorrow</th>\n",
       "      <th>id</th>\n",
       "    </tr>\n",
       "  </thead>\n",
       "  <tbody>\n",
       "    <tr>\n",
       "      <th>0</th>\n",
       "      <td>2008-12-01</td>\n",
       "      <td>Albury</td>\n",
       "      <td>13.4</td>\n",
       "      <td>22.9</td>\n",
       "      <td>0.6</td>\n",
       "      <td>NaN</td>\n",
       "      <td>NaN</td>\n",
       "      <td>W</td>\n",
       "      <td>44.0</td>\n",
       "      <td>W</td>\n",
       "      <td>...</td>\n",
       "      <td>1007.7</td>\n",
       "      <td>1007.1</td>\n",
       "      <td>8.0</td>\n",
       "      <td>NaN</td>\n",
       "      <td>16.9</td>\n",
       "      <td>21.8</td>\n",
       "      <td>No</td>\n",
       "      <td>0.0</td>\n",
       "      <td>No</td>\n",
       "      <td>1</td>\n",
       "    </tr>\n",
       "    <tr>\n",
       "      <th>1</th>\n",
       "      <td>2008-12-02</td>\n",
       "      <td>Albury</td>\n",
       "      <td>7.4</td>\n",
       "      <td>25.1</td>\n",
       "      <td>0.0</td>\n",
       "      <td>NaN</td>\n",
       "      <td>NaN</td>\n",
       "      <td>WNW</td>\n",
       "      <td>44.0</td>\n",
       "      <td>NNW</td>\n",
       "      <td>...</td>\n",
       "      <td>1010.6</td>\n",
       "      <td>1007.8</td>\n",
       "      <td>NaN</td>\n",
       "      <td>NaN</td>\n",
       "      <td>17.2</td>\n",
       "      <td>24.3</td>\n",
       "      <td>No</td>\n",
       "      <td>0.0</td>\n",
       "      <td>No</td>\n",
       "      <td>2</td>\n",
       "    </tr>\n",
       "    <tr>\n",
       "      <th>2</th>\n",
       "      <td>2008-12-03</td>\n",
       "      <td>Albury</td>\n",
       "      <td>12.9</td>\n",
       "      <td>25.7</td>\n",
       "      <td>0.0</td>\n",
       "      <td>NaN</td>\n",
       "      <td>NaN</td>\n",
       "      <td>WSW</td>\n",
       "      <td>46.0</td>\n",
       "      <td>W</td>\n",
       "      <td>...</td>\n",
       "      <td>1007.6</td>\n",
       "      <td>1008.7</td>\n",
       "      <td>NaN</td>\n",
       "      <td>2.0</td>\n",
       "      <td>21.0</td>\n",
       "      <td>23.2</td>\n",
       "      <td>No</td>\n",
       "      <td>0.0</td>\n",
       "      <td>No</td>\n",
       "      <td>3</td>\n",
       "    </tr>\n",
       "    <tr>\n",
       "      <th>3</th>\n",
       "      <td>2008-12-04</td>\n",
       "      <td>Albury</td>\n",
       "      <td>9.2</td>\n",
       "      <td>28.0</td>\n",
       "      <td>0.0</td>\n",
       "      <td>NaN</td>\n",
       "      <td>NaN</td>\n",
       "      <td>NE</td>\n",
       "      <td>24.0</td>\n",
       "      <td>SE</td>\n",
       "      <td>...</td>\n",
       "      <td>1017.6</td>\n",
       "      <td>1012.8</td>\n",
       "      <td>NaN</td>\n",
       "      <td>NaN</td>\n",
       "      <td>18.1</td>\n",
       "      <td>26.5</td>\n",
       "      <td>No</td>\n",
       "      <td>1.0</td>\n",
       "      <td>No</td>\n",
       "      <td>4</td>\n",
       "    </tr>\n",
       "    <tr>\n",
       "      <th>4</th>\n",
       "      <td>2008-12-05</td>\n",
       "      <td>Albury</td>\n",
       "      <td>17.5</td>\n",
       "      <td>32.3</td>\n",
       "      <td>1.0</td>\n",
       "      <td>NaN</td>\n",
       "      <td>NaN</td>\n",
       "      <td>W</td>\n",
       "      <td>41.0</td>\n",
       "      <td>ENE</td>\n",
       "      <td>...</td>\n",
       "      <td>1010.8</td>\n",
       "      <td>1006.0</td>\n",
       "      <td>7.0</td>\n",
       "      <td>8.0</td>\n",
       "      <td>17.8</td>\n",
       "      <td>29.7</td>\n",
       "      <td>No</td>\n",
       "      <td>0.2</td>\n",
       "      <td>No</td>\n",
       "      <td>5</td>\n",
       "    </tr>\n",
       "  </tbody>\n",
       "</table>\n",
       "<p>5 rows × 25 columns</p>\n",
       "</div>"
      ],
      "text/plain": [
       "         Date Location  MinTemp  MaxTemp  Rainfall  Evaporation  Sunshine  \\\n",
       "0  2008-12-01   Albury     13.4     22.9       0.6          NaN       NaN   \n",
       "1  2008-12-02   Albury      7.4     25.1       0.0          NaN       NaN   \n",
       "2  2008-12-03   Albury     12.9     25.7       0.0          NaN       NaN   \n",
       "3  2008-12-04   Albury      9.2     28.0       0.0          NaN       NaN   \n",
       "4  2008-12-05   Albury     17.5     32.3       1.0          NaN       NaN   \n",
       "\n",
       "  WindGustDir  WindGustSpeed WindDir9am  ... Pressure9am  Pressure3pm  \\\n",
       "0           W           44.0          W  ...      1007.7       1007.1   \n",
       "1         WNW           44.0        NNW  ...      1010.6       1007.8   \n",
       "2         WSW           46.0          W  ...      1007.6       1008.7   \n",
       "3          NE           24.0         SE  ...      1017.6       1012.8   \n",
       "4           W           41.0        ENE  ...      1010.8       1006.0   \n",
       "\n",
       "   Cloud9am  Cloud3pm  Temp9am  Temp3pm  RainToday  RISK_MM  RainTomorrow  id  \n",
       "0       8.0       NaN     16.9     21.8         No      0.0            No   1  \n",
       "1       NaN       NaN     17.2     24.3         No      0.0            No   2  \n",
       "2       NaN       2.0     21.0     23.2         No      0.0            No   3  \n",
       "3       NaN       NaN     18.1     26.5         No      1.0            No   4  \n",
       "4       7.0       8.0     17.8     29.7         No      0.2            No   5  \n",
       "\n",
       "[5 rows x 25 columns]"
      ]
     },
     "execution_count": 3,
     "metadata": {},
     "output_type": "execute_result"
    }
   ],
   "source": [
    "weather_df[\"id\"] = weather_df.index + 1\n",
    "print(weather_df.shape)\n",
    "weather_df.head()"
   ]
  },
  {
   "cell_type": "markdown",
   "metadata": {},
   "source": [
    "# Dependent Variable RainTomorrow"
   ]
  },
  {
   "cell_type": "code",
   "execution_count": 4,
   "metadata": {},
   "outputs": [],
   "source": [
    "raintomorrow_dict = {'Yes': 1, 'No': 0}\n",
    "weather_df['RainTomorrow'] = weather_df['RainTomorrow'].map(raintomorrow_dict)"
   ]
  },
  {
   "cell_type": "markdown",
   "metadata": {},
   "source": [
    "# Missing Values Visualisation\n",
    "\n",
    "By using a package called Missingno, it allows us to visualise how many columns have missing values. Grey bars means that it is filled where white indicates it has missing values. It does not provide an exact number for the missing numbers but it allows us to know that for example, Evaporation has lots of missing values."
   ]
  },
  {
   "cell_type": "code",
   "execution_count": 5,
   "metadata": {
    "scrolled": true
   },
   "outputs": [
    {
     "data": {
      "text/plain": [
       "<matplotlib.axes._subplots.AxesSubplot at 0x1bf1ad2d860>"
      ]
     },
     "execution_count": 5,
     "metadata": {},
     "output_type": "execute_result"
    },
    {
     "data": {
      "image/png": "[encoded data removed]",
      "text/plain": [
       "<Figure size 1800x720 with 2 Axes>"
      ]
     },
     "metadata": {
      "needs_background": "light"
     },
     "output_type": "display_data"
    }
   ],
   "source": [
    "missingno.matrix(weather_df, labels=True)"
   ]
  },
  {
   "cell_type": "markdown",
   "metadata": {},
   "source": [
    "# Feature Engineering Seasons\n",
    "\n",
    "Convert the date to datetime so we can separate the Year and Months. The apply math formula to convert the month into seasons. "
   ]
  },
  {
   "cell_type": "code",
   "execution_count": 6,
   "metadata": {},
   "outputs": [
    {
     "name": "stdout",
     "output_type": "stream",
     "text": [
      "2    37397\n",
      "3    35930\n",
      "4    34610\n",
      "1    34256\n",
      "Name: Seasons, dtype: int64\n"
     ]
    }
   ],
   "source": [
    "weather_df['Date'] = pd.to_datetime(weather_df['Date'])\n",
    "weather_df['Year'] = weather_df['Date'].dt.year\n",
    "weather_df['Month'] = weather_df['Date'].dt.month\n",
    "weather_df['Seasons'] = weather_df['Month'].apply(lambda dt: (dt%12+3)//3)\n",
    "print(weather_df.Seasons.value_counts())"
   ]
  },
  {
   "cell_type": "markdown",
   "metadata": {},
   "source": [
    "# Location Overview\n",
    "\n",
    "The location column are where they recorded the weather data during the day. It's noted that there is no missing data but it is categorical string data. Thus, one hot encoding is required and most likely certain location would not benefit the model with the increase dimensionality from the encoding. However, we will proceed with the feature engineerinig after imputing all the missing values\n"
   ]
  },
  {
   "cell_type": "code",
   "execution_count": 7,
   "metadata": {
    "scrolled": true
   },
   "outputs": [
    {
     "name": "stdout",
     "output_type": "stream",
     "text": [
      "There are 49 locations.\n"
     ]
    },
    {
     "data": {
      "image/png": "[encoded data removed]",
      "text/plain": [
       "<Figure size 432x288 with 1 Axes>"
      ]
     },
     "metadata": {
      "needs_background": "light"
     },
     "output_type": "display_data"
    }
   ],
   "source": [
    "weather_df.Location.value_counts().plot(kind='barh')\n",
    "print('There are {} locations.'.format(len(weather_df.Location.value_counts())))"
   ]
  },
  {
   "cell_type": "markdown",
   "metadata": {},
   "source": [
    "# Temperature Overview\n",
    "There are many temperature variables such as MinTemp, MaxTemp, Temp9am and Temp3pm. The main focus for the next couple cells will be imputing the missing values from Min and Max Temp. Min Temp and Max Temp from my intrepation means the minimum/lowest point and maximum/highest point of degrees during the day.\n",
    "\n",
    "Generally with such a low count of missing values between the two, we will usually just use the mean or median. However, an issue will arise if a row has a Min temp = 25 and Max temp = 23. This does not make sense at all, therefore we will attempt to use K-Nearest Neighbors(KNN) to locate the most similiar point. As both Min and Max temperature have missing values, we will create a new dataframe with both variables but dropping all NaNs. This will be used to train the model and then for example if we are predicting Max we will create a new dataframe where Max = NaN with the Min Temp. Thus the model will use the Min Temp to determine and impute the missing values.\n",
    "\n",
    "Another issue that arise from this method will be when both Min and Max temperature in a row is missing. Therefore, rather than deleting/removing the data, we will just fill it with the Mean on one side and continue with KNN approach. This will not be a perfect solution and most likely there will be a few rows where Min > Max which we will just make the Max = Min. \n",
    "\n",
    "Standard Practice of 10-fold Cross-Validation will be used on the model to ensure we will not be overfitting the model. We will also just use up to 50 Neighbors as if we are not happy with the results from the end predictive model then we will tweak this."
   ]
  },
  {
   "cell_type": "code",
   "execution_count": 8,
   "metadata": {},
   "outputs": [
    {
     "name": "stdout",
     "output_type": "stream",
     "text": [
      "count    141556.000000\n",
      "mean         12.186400\n",
      "std           6.403283\n",
      "min          -8.500000\n",
      "25%           7.600000\n",
      "50%          12.000000\n",
      "75%          16.800000\n",
      "max          33.900000\n",
      "Name: MinTemp, dtype: float64\n",
      "There are 637 missing values\n"
     ]
    }
   ],
   "source": [
    "print(weather_df.MinTemp.describe())\n",
    "print('There are {} missing values'.format(weather_df.MinTemp.isnull().sum()))"
   ]
  },
  {
   "cell_type": "code",
   "execution_count": 9,
   "metadata": {},
   "outputs": [
    {
     "data": {
      "text/plain": [
       "<matplotlib.axes._subplots.AxesSubplot at 0x1bf1af1d4e0>"
      ]
     },
     "execution_count": 9,
     "metadata": {},
     "output_type": "execute_result"
    },
    {
     "data": {
      "image/png": "[encoded data removed]",
      "text/plain": [
       "<Figure size 432x288 with 1 Axes>"
      ]
     },
     "metadata": {
      "needs_background": "light"
     },
     "output_type": "display_data"
    }
   ],
   "source": [
    "weather_df.MinTemp.plot(kind='box', vert=False)"
   ]
  },
  {
   "cell_type": "code",
   "execution_count": 10,
   "metadata": {},
   "outputs": [
    {
     "name": "stdout",
     "output_type": "stream",
     "text": [
      "count    141871.000000\n",
      "mean         23.226784\n",
      "std           7.117618\n",
      "min          -4.800000\n",
      "25%          17.900000\n",
      "50%          22.600000\n",
      "75%          28.200000\n",
      "max          48.100000\n",
      "Name: MaxTemp, dtype: float64\n",
      "There are 322 missing values\n"
     ]
    }
   ],
   "source": [
    "print(weather_df.MaxTemp.describe())\n",
    "print('There are {} missing values'.format(weather_df.MaxTemp.isnull().sum()))"
   ]
  },
  {
   "cell_type": "code",
   "execution_count": 11,
   "metadata": {},
   "outputs": [
    {
     "data": {
      "text/plain": [
       "<matplotlib.axes._subplots.AxesSubplot at 0x1bf1b5e5240>"
      ]
     },
     "execution_count": 11,
     "metadata": {},
     "output_type": "execute_result"
    },
    {
     "data": {
      "image/png": "[encoded data removed]",
      "text/plain": [
       "<Figure size 432x288 with 1 Axes>"
      ]
     },
     "metadata": {
      "needs_background": "light"
     },
     "output_type": "display_data"
    }
   ],
   "source": [
    "weather_df.MaxTemp.plot(kind='box', vert=False)"
   ]
  },
  {
   "cell_type": "code",
   "execution_count": 12,
   "metadata": {
    "scrolled": true
   },
   "outputs": [
    {
     "data": {
      "text/html": [
       "<div>\n",
       "<style scoped>\n",
       "    .dataframe tbody tr th:only-of-type {\n",
       "        vertical-align: middle;\n",
       "    }\n",
       "\n",
       "    .dataframe tbody tr th {\n",
       "        vertical-align: top;\n",
       "    }\n",
       "\n",
       "    .dataframe thead th {\n",
       "        text-align: right;\n",
       "    }\n",
       "</style>\n",
       "<table border=\"1\" class=\"dataframe\">\n",
       "  <thead>\n",
       "    <tr style=\"text-align: right;\">\n",
       "      <th></th>\n",
       "      <th>Date</th>\n",
       "      <th>Location</th>\n",
       "      <th>MinTemp</th>\n",
       "      <th>MaxTemp</th>\n",
       "      <th>Rainfall</th>\n",
       "      <th>Evaporation</th>\n",
       "      <th>Sunshine</th>\n",
       "      <th>WindGustDir</th>\n",
       "      <th>WindGustSpeed</th>\n",
       "      <th>WindDir9am</th>\n",
       "      <th>...</th>\n",
       "      <th>Cloud3pm</th>\n",
       "      <th>Temp9am</th>\n",
       "      <th>Temp3pm</th>\n",
       "      <th>RainToday</th>\n",
       "      <th>RISK_MM</th>\n",
       "      <th>RainTomorrow</th>\n",
       "      <th>id</th>\n",
       "      <th>Year</th>\n",
       "      <th>Month</th>\n",
       "      <th>Seasons</th>\n",
       "    </tr>\n",
       "  </thead>\n",
       "  <tbody>\n",
       "  </tbody>\n",
       "</table>\n",
       "<p>0 rows × 28 columns</p>\n",
       "</div>"
      ],
      "text/plain": [
       "Empty DataFrame\n",
       "Columns: [Date, Location, MinTemp, MaxTemp, Rainfall, Evaporation, Sunshine, WindGustDir, WindGustSpeed, WindDir9am, WindDir3pm, WindSpeed9am, WindSpeed3pm, Humidity9am, Humidity3pm, Pressure9am, Pressure3pm, Cloud9am, Cloud3pm, Temp9am, Temp3pm, RainToday, RISK_MM, RainTomorrow, id, Year, Month, Seasons]\n",
       "Index: []\n",
       "\n",
       "[0 rows x 28 columns]"
      ]
     },
     "execution_count": 12,
     "metadata": {},
     "output_type": "execute_result"
    }
   ],
   "source": [
    "weather_df[weather_df.MaxTemp < weather_df.MinTemp]"
   ]
  },
  {
   "cell_type": "markdown",
   "metadata": {},
   "source": [
    "# Dealing with rows missing both min and max temp\n",
    "\n",
    "Firstly we will make the missing matching MinTemp be 1000 as a placeholder and then locate the corresponding Max temp. We will just fill it with the medium and then change the MinTemp = 1000 as NaN."
   ]
  },
  {
   "cell_type": "code",
   "execution_count": 13,
   "metadata": {},
   "outputs": [],
   "source": [
    "weather_df.loc[weather_df.MaxTemp.isna() & weather_df.MinTemp.isna(), ['MinTemp']] = 1000\n",
    "weather_df.loc[weather_df.MinTemp == 1000, ['MaxTemp']] = weather_df.MaxTemp.median()\n",
    "weather_df.loc[weather_df['MinTemp'] == 1000, ['MinTemp']] = np.nan\n"
   ]
  },
  {
   "cell_type": "code",
   "execution_count": 14,
   "metadata": {},
   "outputs": [
    {
     "data": {
      "text/html": [
       "<div>\n",
       "<style scoped>\n",
       "    .dataframe tbody tr th:only-of-type {\n",
       "        vertical-align: middle;\n",
       "    }\n",
       "\n",
       "    .dataframe tbody tr th {\n",
       "        vertical-align: top;\n",
       "    }\n",
       "\n",
       "    .dataframe thead th {\n",
       "        text-align: right;\n",
       "    }\n",
       "</style>\n",
       "<table border=\"1\" class=\"dataframe\">\n",
       "  <thead>\n",
       "    <tr style=\"text-align: right;\">\n",
       "      <th></th>\n",
       "      <th>Date</th>\n",
       "      <th>Location</th>\n",
       "      <th>MinTemp</th>\n",
       "      <th>MaxTemp</th>\n",
       "      <th>Rainfall</th>\n",
       "      <th>Evaporation</th>\n",
       "      <th>Sunshine</th>\n",
       "      <th>WindGustDir</th>\n",
       "      <th>WindGustSpeed</th>\n",
       "      <th>WindDir9am</th>\n",
       "      <th>...</th>\n",
       "      <th>Cloud3pm</th>\n",
       "      <th>Temp9am</th>\n",
       "      <th>Temp3pm</th>\n",
       "      <th>RainToday</th>\n",
       "      <th>RISK_MM</th>\n",
       "      <th>RainTomorrow</th>\n",
       "      <th>id</th>\n",
       "      <th>Year</th>\n",
       "      <th>Month</th>\n",
       "      <th>Seasons</th>\n",
       "    </tr>\n",
       "  </thead>\n",
       "  <tbody>\n",
       "  </tbody>\n",
       "</table>\n",
       "<p>0 rows × 28 columns</p>\n",
       "</div>"
      ],
      "text/plain": [
       "Empty DataFrame\n",
       "Columns: [Date, Location, MinTemp, MaxTemp, Rainfall, Evaporation, Sunshine, WindGustDir, WindGustSpeed, WindDir9am, WindDir3pm, WindSpeed9am, WindSpeed3pm, Humidity9am, Humidity3pm, Pressure9am, Pressure3pm, Cloud9am, Cloud3pm, Temp9am, Temp3pm, RainToday, RISK_MM, RainTomorrow, id, Year, Month, Seasons]\n",
       "Index: []\n",
       "\n",
       "[0 rows x 28 columns]"
      ]
     },
     "execution_count": 14,
     "metadata": {},
     "output_type": "execute_result"
    }
   ],
   "source": [
    "weather_df.loc[weather_df.MinTemp.isnull() & weather_df.MaxTemp.isnull()] "
   ]
  },
  {
   "cell_type": "code",
   "execution_count": 15,
   "metadata": {},
   "outputs": [
    {
     "name": "stdout",
     "output_type": "stream",
     "text": [
      "Missing Max Temp: 234, Missing Min Temp: 637\n"
     ]
    }
   ],
   "source": [
    "print('Missing Max Temp: {}, Missing Min Temp: {}'.format(weather_df.MaxTemp.isnull().sum(), weather_df.MinTemp.isnull().sum()))"
   ]
  },
  {
   "cell_type": "code",
   "execution_count": 16,
   "metadata": {},
   "outputs": [],
   "source": [
    "def neighbor_search(x_train, x_test, y_train, y_test, i, score, timer):\n",
    "    start_time = process_time()\n",
    "    neighbor = KNeighborsRegressor(n_neighbors=i)\n",
    "    neighbor.fit(X_train, y_train)\n",
    "    predictions = neighbor.predict(X_test)\n",
    "    mse = mean_squared_error(predictions, y_test)\n",
    "    rmse = sqrt(mse)\n",
    "    end_time = process_time()\n",
    "    time_lapsed = end_time - start_time\n",
    "    score.append(rmse)\n",
    "    timer.append(time_lapsed)\n",
    "    print('KNN on neighbors = {} has a rmse of {} and took {} seconds to compute'.format(i, rmse, time_lapsed))"
   ]
  },
  {
   "cell_type": "code",
   "execution_count": 17,
   "metadata": {},
   "outputs": [],
   "source": [
    "def cv_neighbor_search(x_train, x_test, y_train, y_test, i, score, timer):\n",
    "    start_time = process_time()\n",
    "    neighbor = KNeighborsRegressor(n_neighbors=i)\n",
    "    neighbor.fit(X_train, y_train)\n",
    "    predictions = neighbor.predict(X_test)\n",
    "    mse = mean_squared_error(predictions, y_test)\n",
    "    rmse = sqrt(mse)\n",
    "    end_time = process_time()\n",
    "    time_lapsed = end_time - start_time\n",
    "    score.append(rmse)\n",
    "    timer.append(time_lapsed)"
   ]
  },
  {
   "cell_type": "code",
   "execution_count": 18,
   "metadata": {},
   "outputs": [],
   "source": [
    "def neighbor_search_classifier(x_train, x_test, y_train, y_test, i, score, timer):\n",
    "    start_time = process_time()\n",
    "    neighbor = KNeighborsClassifier(n_neighbors=i)\n",
    "    neighbor.fit(X_train, y_train)\n",
    "    predictions = neighbor.predict(X_test)\n",
    "    recall = recall_score(predictions, y_test, average = 'weighted')\n",
    "    end_time = process_time()\n",
    "    time_lapsed = end_time - start_time\n",
    "    score.append(recall)\n",
    "    timer.append(time_lapsed)\n",
    "    print('KNN on neighbors = {} has a recall of {} and took {} seconds to compute'.format(i, recall, time_lapsed))"
   ]
  },
  {
   "cell_type": "code",
   "execution_count": 19,
   "metadata": {},
   "outputs": [],
   "source": [
    "def cv_neighbor_search_classifier(x_train, x_test, y_train, y_test, i, score, timer):\n",
    "    start_time = process_time()\n",
    "    neighbor = KNeighborsClassifier(n_neighbors=i)\n",
    "    neighbor.fit(X_train, y_train)\n",
    "    predictions = neighbor.predict(X_test)\n",
    "    recall = recall_score(predictions, y_test, average = 'weighted')\n",
    "    end_time = process_time()\n",
    "    time_lapsed = end_time - start_time\n",
    "    score.append(recall)\n",
    "    timer.append(time_lapsed)"
   ]
  },
  {
   "cell_type": "code",
   "execution_count": 20,
   "metadata": {},
   "outputs": [],
   "source": [
    "neighbors_list = list(range(1,50))\n",
    "neighbors = list(filter(lambda x: x %2 != 0, neighbors_list))"
   ]
  },
  {
   "cell_type": "code",
   "execution_count": 21,
   "metadata": {},
   "outputs": [],
   "source": [
    "max_null = weather_df.loc[weather_df.MaxTemp.isnull(), ['MinTemp']]\n",
    "min_null = weather_df.loc[weather_df.MinTemp.isnull(), ['MaxTemp']]"
   ]
  },
  {
   "cell_type": "code",
   "execution_count": 22,
   "metadata": {
    "scrolled": true
   },
   "outputs": [],
   "source": [
    "temp_df = pd.concat([weather_df.MaxTemp, weather_df.MinTemp], axis=1).dropna()\n",
    "X, y = temp_df.loc[:, ['MinTemp']], temp_df['MaxTemp']\n",
    "X_train, X_test, y_train, y_test = train_test_split(X, y, test_size = 0.2, random_state=42)"
   ]
  },
  {
   "cell_type": "code",
   "execution_count": 23,
   "metadata": {},
   "outputs": [
    {
     "name": "stdout",
     "output_type": "stream",
     "text": [
      "KNN on neighbors = 1 has a rmse of 6.781542024023599 and took 0.875 seconds to compute\n",
      "KNN on neighbors = 3 has a rmse of 5.689193466811331 and took 1.5 seconds to compute\n",
      "KNN on neighbors = 5 has a rmse of 5.389036449222861 and took 1.5 seconds to compute\n",
      "KNN on neighbors = 7 has a rmse of 5.197258706930612 and took 1.625 seconds to compute\n",
      "KNN on neighbors = 9 has a rmse of 5.111150780373005 and took 1.5 seconds to compute\n",
      "KNN on neighbors = 11 has a rmse of 5.050606118728501 and took 1.625 seconds to compute\n",
      "KNN on neighbors = 13 has a rmse of 5.004965838249654 and took 1.5 seconds to compute\n",
      "KNN on neighbors = 15 has a rmse of 4.975065551999592 and took 1.625 seconds to compute\n",
      "KNN on neighbors = 17 has a rmse of 4.951732633023714 and took 1.625 seconds to compute\n",
      "KNN on neighbors = 19 has a rmse of 4.936544310224405 and took 1.765625 seconds to compute\n",
      "KNN on neighbors = 21 has a rmse of 4.923701848647531 and took 1.609375 seconds to compute\n",
      "KNN on neighbors = 23 has a rmse of 4.914876647048697 and took 1.75 seconds to compute\n",
      "KNN on neighbors = 25 has a rmse of 4.899370832735585 and took 1.75 seconds to compute\n",
      "KNN on neighbors = 27 has a rmse of 4.894406783505271 and took 1.78125 seconds to compute\n",
      "KNN on neighbors = 29 has a rmse of 4.887804047490555 and took 1.640625 seconds to compute\n",
      "KNN on neighbors = 31 has a rmse of 4.885014703672924 and took 1.640625 seconds to compute\n",
      "KNN on neighbors = 33 has a rmse of 4.87913963780446 and took 1.78125 seconds to compute\n",
      "KNN on neighbors = 35 has a rmse of 4.868722542043158 and took 1.765625 seconds to compute\n",
      "KNN on neighbors = 37 has a rmse of 4.861249353142295 and took 1.78125 seconds to compute\n",
      "KNN on neighbors = 39 has a rmse of 4.859309499711827 and took 1.765625 seconds to compute\n",
      "KNN on neighbors = 41 has a rmse of 4.856871227679257 and took 1.78125 seconds to compute\n",
      "KNN on neighbors = 43 has a rmse of 4.857857591951063 and took 1.78125 seconds to compute\n",
      "KNN on neighbors = 45 has a rmse of 4.854506254593047 and took 1.796875 seconds to compute\n",
      "KNN on neighbors = 47 has a rmse of 4.849898593805887 and took 1.796875 seconds to compute\n",
      "KNN on neighbors = 49 has a rmse of 4.84591067104098 and took 1.8125 seconds to compute\n"
     ]
    }
   ],
   "source": [
    "max_score = []\n",
    "max_timer = []\n",
    "for k in neighbors:\n",
    "    neighbor_search(X_train, X_test, y_train, y_test, k, max_score, max_timer)"
   ]
  },
  {
   "cell_type": "code",
   "execution_count": 24,
   "metadata": {},
   "outputs": [
    {
     "data": {
      "image/png": "[encoded data removed]",
      "text/plain": [
       "<Figure size 432x288 with 1 Axes>"
      ]
     },
     "metadata": {
      "needs_background": "light"
     },
     "output_type": "display_data"
    }
   ],
   "source": [
    "plt.plot(neighbors, max_score, label='RMSE')\n",
    "plt.xlabel('Numbers of Neighbors K')\n",
    "plt.ylabel('RMSE')\n",
    "plt.legend(loc='upper right')\n",
    "plt.title('K-Nearest Neighbors RMSE of MaxTemp')\n",
    "plt.show()"
   ]
  },
  {
   "cell_type": "code",
   "execution_count": 25,
   "metadata": {},
   "outputs": [],
   "source": [
    "cv_max_scores = []\n",
    "cv_max_timer = []\n",
    "kf = KFold(10, True)\n",
    "fold = 0\n",
    "for k in neighbors:\n",
    "    temp_cv_scores = []\n",
    "    for train, test in kf.split(X):\n",
    "        fold += 1\n",
    "        X_train, X_test = X.values[train], X.values[test]\n",
    "        y_train, y_test = y.values[train], y.values[test]\n",
    "        cv_neighbor_search(X_train, X_test, y_train, y_test, k, temp_cv_scores, cv_max_timer)\n",
    "    cv_max_scores.append(np.min(temp_cv_scores))\n",
    "    cv_max_timer.append(np.min(cv_max_timer))"
   ]
  },
  {
   "cell_type": "code",
   "execution_count": 26,
   "metadata": {},
   "outputs": [
    {
     "data": {
      "image/png": "[encoded data removed]",
      "text/plain": [
       "<Figure size 432x288 with 1 Axes>"
      ]
     },
     "metadata": {
      "needs_background": "light"
     },
     "output_type": "display_data"
    }
   ],
   "source": [
    "plt.plot(neighbors, max_score, label='RMSE') \n",
    "plt.plot(neighbors, cv_max_scores, label='CV-RMSE')\n",
    "plt.xlabel('Numbers of Neighbors K')\n",
    "plt.ylabel('RMSE')\n",
    "plt.title('K-Nearest Neighbors RMSE and 10-Fold Cross Validation of MaxTemp')\n",
    "plt.legend(loc='upper right')\n",
    "plt.show()"
   ]
  },
  {
   "cell_type": "code",
   "execution_count": 27,
   "metadata": {},
   "outputs": [
    {
     "name": "stdout",
     "output_type": "stream",
     "text": [
      "47\n"
     ]
    }
   ],
   "source": [
    "optimal_k = neighbors[cv_max_scores.index(min(cv_max_scores))]\n",
    "print(optimal_k)"
   ]
  },
  {
   "cell_type": "code",
   "execution_count": 28,
   "metadata": {},
   "outputs": [],
   "source": [
    "max_model = KNeighborsRegressor(n_neighbors=49)\n",
    "max_model.fit(X_train, y_train)\n",
    "max_predictions = max_model.predict(max_null)\n",
    "max_results = pd.DataFrame(max_predictions, columns=['MaxTemp'])\n",
    "max_results = max_results.round(1)\n",
    "weather_df['MaxTemp'] = weather_df['MaxTemp'].fillna(max_results['MaxTemp'].values[0])"
   ]
  },
  {
   "cell_type": "code",
   "execution_count": 29,
   "metadata": {
    "scrolled": true
   },
   "outputs": [
    {
     "data": {
      "text/plain": [
       "count    142193.000000\n",
       "mean         23.229479\n",
       "std           7.109977\n",
       "min          -4.800000\n",
       "25%          17.900000\n",
       "50%          22.600000\n",
       "75%          28.200000\n",
       "max          48.100000\n",
       "Name: MaxTemp, dtype: float64"
      ]
     },
     "execution_count": 29,
     "metadata": {},
     "output_type": "execute_result"
    }
   ],
   "source": [
    "weather_df.MaxTemp.describe()"
   ]
  },
  {
   "cell_type": "code",
   "execution_count": 30,
   "metadata": {},
   "outputs": [
    {
     "data": {
      "text/html": [
       "<div>\n",
       "<style scoped>\n",
       "    .dataframe tbody tr th:only-of-type {\n",
       "        vertical-align: middle;\n",
       "    }\n",
       "\n",
       "    .dataframe tbody tr th {\n",
       "        vertical-align: top;\n",
       "    }\n",
       "\n",
       "    .dataframe thead th {\n",
       "        text-align: right;\n",
       "    }\n",
       "</style>\n",
       "<table border=\"1\" class=\"dataframe\">\n",
       "  <thead>\n",
       "    <tr style=\"text-align: right;\">\n",
       "      <th></th>\n",
       "      <th>Date</th>\n",
       "      <th>Location</th>\n",
       "      <th>MinTemp</th>\n",
       "      <th>MaxTemp</th>\n",
       "      <th>Rainfall</th>\n",
       "      <th>Evaporation</th>\n",
       "      <th>Sunshine</th>\n",
       "      <th>WindGustDir</th>\n",
       "      <th>WindGustSpeed</th>\n",
       "      <th>WindDir9am</th>\n",
       "      <th>...</th>\n",
       "      <th>Cloud3pm</th>\n",
       "      <th>Temp9am</th>\n",
       "      <th>Temp3pm</th>\n",
       "      <th>RainToday</th>\n",
       "      <th>RISK_MM</th>\n",
       "      <th>RainTomorrow</th>\n",
       "      <th>id</th>\n",
       "      <th>Year</th>\n",
       "      <th>Month</th>\n",
       "      <th>Seasons</th>\n",
       "    </tr>\n",
       "  </thead>\n",
       "  <tbody>\n",
       "    <tr>\n",
       "      <th>135042</th>\n",
       "      <td>2015-01-20</td>\n",
       "      <td>AliceSprings</td>\n",
       "      <td>25.8</td>\n",
       "      <td>25.1</td>\n",
       "      <td>0.0</td>\n",
       "      <td>12.0</td>\n",
       "      <td>11.7</td>\n",
       "      <td>WSW</td>\n",
       "      <td>52.0</td>\n",
       "      <td>WSW</td>\n",
       "      <td>...</td>\n",
       "      <td>7.0</td>\n",
       "      <td>35.3</td>\n",
       "      <td>41.1</td>\n",
       "      <td>No</td>\n",
       "      <td>0.0</td>\n",
       "      <td>0</td>\n",
       "      <td>135043</td>\n",
       "      <td>2015</td>\n",
       "      <td>1</td>\n",
       "      <td>1</td>\n",
       "    </tr>\n",
       "    <tr>\n",
       "      <th>139343</th>\n",
       "      <td>2013-10-17</td>\n",
       "      <td>Katherine</td>\n",
       "      <td>25.2</td>\n",
       "      <td>25.1</td>\n",
       "      <td>0.0</td>\n",
       "      <td>10.8</td>\n",
       "      <td>NaN</td>\n",
       "      <td>NNE</td>\n",
       "      <td>33.0</td>\n",
       "      <td>NNW</td>\n",
       "      <td>...</td>\n",
       "      <td>6.0</td>\n",
       "      <td>29.7</td>\n",
       "      <td>38.0</td>\n",
       "      <td>No</td>\n",
       "      <td>0.0</td>\n",
       "      <td>0</td>\n",
       "      <td>139344</td>\n",
       "      <td>2013</td>\n",
       "      <td>10</td>\n",
       "      <td>4</td>\n",
       "    </tr>\n",
       "    <tr>\n",
       "      <th>139360</th>\n",
       "      <td>2013-11-03</td>\n",
       "      <td>Katherine</td>\n",
       "      <td>26.9</td>\n",
       "      <td>25.1</td>\n",
       "      <td>0.0</td>\n",
       "      <td>9.2</td>\n",
       "      <td>NaN</td>\n",
       "      <td>NE</td>\n",
       "      <td>33.0</td>\n",
       "      <td>N</td>\n",
       "      <td>...</td>\n",
       "      <td>4.0</td>\n",
       "      <td>31.0</td>\n",
       "      <td>41.0</td>\n",
       "      <td>No</td>\n",
       "      <td>0.0</td>\n",
       "      <td>0</td>\n",
       "      <td>139361</td>\n",
       "      <td>2013</td>\n",
       "      <td>11</td>\n",
       "      <td>4</td>\n",
       "    </tr>\n",
       "    <tr>\n",
       "      <th>140112</th>\n",
       "      <td>2015-12-01</td>\n",
       "      <td>Katherine</td>\n",
       "      <td>25.5</td>\n",
       "      <td>25.1</td>\n",
       "      <td>0.0</td>\n",
       "      <td>6.6</td>\n",
       "      <td>NaN</td>\n",
       "      <td>NNE</td>\n",
       "      <td>44.0</td>\n",
       "      <td>WSW</td>\n",
       "      <td>...</td>\n",
       "      <td>NaN</td>\n",
       "      <td>31.0</td>\n",
       "      <td>NaN</td>\n",
       "      <td>No</td>\n",
       "      <td>31.8</td>\n",
       "      <td>1</td>\n",
       "      <td>140113</td>\n",
       "      <td>2015</td>\n",
       "      <td>12</td>\n",
       "      <td>1</td>\n",
       "    </tr>\n",
       "    <tr>\n",
       "      <th>140444</th>\n",
       "      <td>2016-10-31</td>\n",
       "      <td>Katherine</td>\n",
       "      <td>28.0</td>\n",
       "      <td>25.1</td>\n",
       "      <td>0.0</td>\n",
       "      <td>14.6</td>\n",
       "      <td>NaN</td>\n",
       "      <td>NW</td>\n",
       "      <td>41.0</td>\n",
       "      <td>NNW</td>\n",
       "      <td>...</td>\n",
       "      <td>NaN</td>\n",
       "      <td>33.0</td>\n",
       "      <td>NaN</td>\n",
       "      <td>No</td>\n",
       "      <td>0.0</td>\n",
       "      <td>0</td>\n",
       "      <td>140445</td>\n",
       "      <td>2016</td>\n",
       "      <td>10</td>\n",
       "      <td>4</td>\n",
       "    </tr>\n",
       "  </tbody>\n",
       "</table>\n",
       "<p>5 rows × 28 columns</p>\n",
       "</div>"
      ],
      "text/plain": [
       "             Date      Location  MinTemp  MaxTemp  Rainfall  Evaporation  \\\n",
       "135042 2015-01-20  AliceSprings     25.8     25.1       0.0         12.0   \n",
       "139343 2013-10-17     Katherine     25.2     25.1       0.0         10.8   \n",
       "139360 2013-11-03     Katherine     26.9     25.1       0.0          9.2   \n",
       "140112 2015-12-01     Katherine     25.5     25.1       0.0          6.6   \n",
       "140444 2016-10-31     Katherine     28.0     25.1       0.0         14.6   \n",
       "\n",
       "        Sunshine WindGustDir  WindGustSpeed WindDir9am  ... Cloud3pm  Temp9am  \\\n",
       "135042      11.7         WSW           52.0        WSW  ...      7.0     35.3   \n",
       "139343       NaN         NNE           33.0        NNW  ...      6.0     29.7   \n",
       "139360       NaN          NE           33.0          N  ...      4.0     31.0   \n",
       "140112       NaN         NNE           44.0        WSW  ...      NaN     31.0   \n",
       "140444       NaN          NW           41.0        NNW  ...      NaN     33.0   \n",
       "\n",
       "        Temp3pm  RainToday  RISK_MM  RainTomorrow      id  Year  Month  \\\n",
       "135042     41.1         No      0.0             0  135043  2015      1   \n",
       "139343     38.0         No      0.0             0  139344  2013     10   \n",
       "139360     41.0         No      0.0             0  139361  2013     11   \n",
       "140112      NaN         No     31.8             1  140113  2015     12   \n",
       "140444      NaN         No      0.0             0  140445  2016     10   \n",
       "\n",
       "        Seasons  \n",
       "135042        1  \n",
       "139343        4  \n",
       "139360        4  \n",
       "140112        1  \n",
       "140444        4  \n",
       "\n",
       "[5 rows x 28 columns]"
      ]
     },
     "execution_count": 30,
     "metadata": {},
     "output_type": "execute_result"
    }
   ],
   "source": [
    "weather_df.loc[weather_df.MaxTemp < weather_df.MinTemp]"
   ]
  },
  {
   "cell_type": "code",
   "execution_count": 31,
   "metadata": {},
   "outputs": [],
   "source": [
    "weather_df.loc[weather_df.MaxTemp < weather_df.MinTemp, 'MaxTemp'] = weather_df['MinTemp']"
   ]
  },
  {
   "cell_type": "code",
   "execution_count": 32,
   "metadata": {},
   "outputs": [
    {
     "data": {
      "text/html": [
       "<div>\n",
       "<style scoped>\n",
       "    .dataframe tbody tr th:only-of-type {\n",
       "        vertical-align: middle;\n",
       "    }\n",
       "\n",
       "    .dataframe tbody tr th {\n",
       "        vertical-align: top;\n",
       "    }\n",
       "\n",
       "    .dataframe thead th {\n",
       "        text-align: right;\n",
       "    }\n",
       "</style>\n",
       "<table border=\"1\" class=\"dataframe\">\n",
       "  <thead>\n",
       "    <tr style=\"text-align: right;\">\n",
       "      <th></th>\n",
       "      <th>MinTemp</th>\n",
       "      <th>MaxTemp</th>\n",
       "    </tr>\n",
       "  </thead>\n",
       "  <tbody>\n",
       "  </tbody>\n",
       "</table>\n",
       "</div>"
      ],
      "text/plain": [
       "Empty DataFrame\n",
       "Columns: [MinTemp, MaxTemp]\n",
       "Index: []"
      ]
     },
     "execution_count": 32,
     "metadata": {},
     "output_type": "execute_result"
    }
   ],
   "source": [
    "weather_df.loc[weather_df.MaxTemp < weather_df.MinTemp, ['MinTemp', 'MaxTemp']]"
   ]
  },
  {
   "cell_type": "markdown",
   "metadata": {},
   "source": [
    "# Minimum Temperature Imputation"
   ]
  },
  {
   "cell_type": "code",
   "execution_count": 33,
   "metadata": {},
   "outputs": [],
   "source": [
    "temp_df = pd.concat([weather_df.MaxTemp, weather_df.MinTemp], axis=1).dropna()\n",
    "X, y = temp_df.loc[:, ['MaxTemp']].dropna(), temp_df['MinTemp'].dropna()\n",
    "X_train, X_test, y_train, y_test = train_test_split(X, y, test_size = 0.2, random_state=42)"
   ]
  },
  {
   "cell_type": "code",
   "execution_count": 34,
   "metadata": {},
   "outputs": [
    {
     "name": "stdout",
     "output_type": "stream",
     "text": [
      "KNN on neighbors = 1 has a rmse of 6.068547141684781 and took 0.796875 seconds to compute\n",
      "KNN on neighbors = 3 has a rmse of 4.927936080870197 and took 1.484375 seconds to compute\n",
      "KNN on neighbors = 5 has a rmse of 4.700114687207318 and took 1.5 seconds to compute\n",
      "KNN on neighbors = 7 has a rmse of 4.607445712711409 and took 1.5 seconds to compute\n",
      "KNN on neighbors = 9 has a rmse of 4.526000398875092 and took 1.5 seconds to compute\n",
      "KNN on neighbors = 11 has a rmse of 4.488336401672519 and took 1.625 seconds to compute\n",
      "KNN on neighbors = 13 has a rmse of 4.459088641399746 and took 1.5 seconds to compute\n",
      "KNN on neighbors = 15 has a rmse of 4.4281395793691605 and took 1.484375 seconds to compute\n",
      "KNN on neighbors = 17 has a rmse of 4.412170587571405 and took 1.78125 seconds to compute\n",
      "KNN on neighbors = 19 has a rmse of 4.409982502686977 and took 1.515625 seconds to compute\n",
      "KNN on neighbors = 21 has a rmse of 4.4048286667658525 and took 1.75 seconds to compute\n",
      "KNN on neighbors = 23 has a rmse of 4.402285142494742 and took 1.625 seconds to compute\n",
      "KNN on neighbors = 25 has a rmse of 4.392103080647928 and took 1.625 seconds to compute\n",
      "KNN on neighbors = 27 has a rmse of 4.381169182609292 and took 1.75 seconds to compute\n",
      "KNN on neighbors = 29 has a rmse of 4.379672579040676 and took 1.765625 seconds to compute\n",
      "KNN on neighbors = 31 has a rmse of 4.376585833922949 and took 1.640625 seconds to compute\n",
      "KNN on neighbors = 33 has a rmse of 4.370516614397568 and took 1.75 seconds to compute\n",
      "KNN on neighbors = 35 has a rmse of 4.366019094767025 and took 1.765625 seconds to compute\n",
      "KNN on neighbors = 37 has a rmse of 4.361418162501149 and took 1.765625 seconds to compute\n",
      "KNN on neighbors = 39 has a rmse of 4.358590695760762 and took 1.78125 seconds to compute\n",
      "KNN on neighbors = 41 has a rmse of 4.352949655695828 and took 1.78125 seconds to compute\n",
      "KNN on neighbors = 43 has a rmse of 4.352769052916954 and took 1.65625 seconds to compute\n",
      "KNN on neighbors = 45 has a rmse of 4.351514251525108 and took 1.78125 seconds to compute\n",
      "KNN on neighbors = 47 has a rmse of 4.3496384848238145 and took 1.90625 seconds to compute\n",
      "KNN on neighbors = 49 has a rmse of 4.347814617144285 and took 1.671875 seconds to compute\n"
     ]
    }
   ],
   "source": [
    "min_score = []\n",
    "min_timer = []\n",
    "for k in neighbors:\n",
    "    neighbor_search(X_train, X_test, y_train, y_test, k, min_score, min_timer)"
   ]
  },
  {
   "cell_type": "code",
   "execution_count": 35,
   "metadata": {
    "scrolled": true
   },
   "outputs": [
    {
     "data": {
      "image/png": "[encoded data removed]",
      "text/plain": [
       "<Figure size 432x288 with 1 Axes>"
      ]
     },
     "metadata": {
      "needs_background": "light"
     },
     "output_type": "display_data"
    }
   ],
   "source": [
    "plt.plot(neighbors, min_score, label='RMSE')\n",
    "plt.xlabel('Numbers of Neighbors K')\n",
    "plt.ylabel('RMSE')\n",
    "plt.title('K-Nearest Neighbors RMSE and MinTemp')\n",
    "plt.legend(loc='upper right')\n",
    "plt.show()"
   ]
  },
  {
   "cell_type": "code",
   "execution_count": 36,
   "metadata": {},
   "outputs": [],
   "source": [
    "cv_min_scores = []\n",
    "cv_min_timer = []\n",
    "kf = KFold(10, True)\n",
    "fold = 0\n",
    "for k in neighbors:\n",
    "    temp_cv_scores = []\n",
    "    for train, test in kf.split(X):\n",
    "        fold += 1\n",
    "        X_train, X_test = X.values[train], X.values[test]\n",
    "        y_train, y_test = y.values[train], y.values[test]\n",
    "        cv_neighbor_search(X_train, X_test, y_train, y_test, k, temp_cv_scores, cv_min_timer)\n",
    "    cv_min_scores.append(np.min(temp_cv_scores))\n",
    "    cv_min_timer.append(np.min(cv_max_timer))"
   ]
  },
  {
   "cell_type": "code",
   "execution_count": 37,
   "metadata": {},
   "outputs": [
    {
     "data": {
      "image/png": "[encoded data removed]",
      "text/plain": [
       "<Figure size 432x288 with 1 Axes>"
      ]
     },
     "metadata": {
      "needs_background": "light"
     },
     "output_type": "display_data"
    }
   ],
   "source": [
    "plt.plot(neighbors, min_score, label='RMSE')\n",
    "plt.plot(neighbors, cv_min_scores, label='CV-RMSE')\n",
    "plt.xlabel('Numbers of Neighbors K')\n",
    "plt.ylabel('RMSE')\n",
    "plt.title('K-Nearest Neighbors RMSE and 10-fold Cross Valdation of Mintemp')\n",
    "plt.legend(loc ='upper right')\n",
    "plt.show()"
   ]
  },
  {
   "cell_type": "code",
   "execution_count": 38,
   "metadata": {},
   "outputs": [
    {
     "name": "stdout",
     "output_type": "stream",
     "text": [
      "49\n"
     ]
    }
   ],
   "source": [
    "optimal_k = neighbors[cv_min_scores.index(min(cv_min_scores))]\n",
    "print(optimal_k)"
   ]
  },
  {
   "cell_type": "code",
   "execution_count": 39,
   "metadata": {},
   "outputs": [],
   "source": [
    "min_model = KNeighborsRegressor(n_neighbors=49)\n",
    "min_model.fit(X_train, y_train)\n",
    "min_predictions = min_model.predict(min_null)\n",
    "min_results = pd.DataFrame(min_predictions, columns=['MinTemp'])\n",
    "min_results = min_results.round(1)\n",
    "weather_df['MinTemp'] = weather_df['MinTemp'].fillna(min_results['MinTemp'].values[0])"
   ]
  },
  {
   "cell_type": "code",
   "execution_count": 40,
   "metadata": {},
   "outputs": [
    {
     "data": {
      "text/plain": [
       "count    142193.000000\n",
       "mean         12.173021\n",
       "std           6.392036\n",
       "min          -8.500000\n",
       "25%           7.600000\n",
       "50%          12.000000\n",
       "75%          16.800000\n",
       "max          33.900000\n",
       "Name: MinTemp, dtype: float64"
      ]
     },
     "execution_count": 40,
     "metadata": {},
     "output_type": "execute_result"
    }
   ],
   "source": [
    "weather_df.MinTemp.describe()"
   ]
  },
  {
   "cell_type": "code",
   "execution_count": 41,
   "metadata": {
    "scrolled": true
   },
   "outputs": [
    {
     "data": {
      "text/html": [
       "<div>\n",
       "<style scoped>\n",
       "    .dataframe tbody tr th:only-of-type {\n",
       "        vertical-align: middle;\n",
       "    }\n",
       "\n",
       "    .dataframe tbody tr th {\n",
       "        vertical-align: top;\n",
       "    }\n",
       "\n",
       "    .dataframe thead th {\n",
       "        text-align: right;\n",
       "    }\n",
       "</style>\n",
       "<table border=\"1\" class=\"dataframe\">\n",
       "  <thead>\n",
       "    <tr style=\"text-align: right;\">\n",
       "      <th></th>\n",
       "      <th>Date</th>\n",
       "      <th>Location</th>\n",
       "      <th>MinTemp</th>\n",
       "      <th>MaxTemp</th>\n",
       "      <th>Rainfall</th>\n",
       "      <th>Evaporation</th>\n",
       "      <th>Sunshine</th>\n",
       "      <th>WindGustDir</th>\n",
       "      <th>WindGustSpeed</th>\n",
       "      <th>WindDir9am</th>\n",
       "      <th>...</th>\n",
       "      <th>Cloud3pm</th>\n",
       "      <th>Temp9am</th>\n",
       "      <th>Temp3pm</th>\n",
       "      <th>RainToday</th>\n",
       "      <th>RISK_MM</th>\n",
       "      <th>RainTomorrow</th>\n",
       "      <th>id</th>\n",
       "      <th>Year</th>\n",
       "      <th>Month</th>\n",
       "      <th>Seasons</th>\n",
       "    </tr>\n",
       "  </thead>\n",
       "  <tbody>\n",
       "    <tr>\n",
       "      <th>50953</th>\n",
       "      <td>2009-06-06</td>\n",
       "      <td>MountGinini</td>\n",
       "      <td>9.2</td>\n",
       "      <td>3.2</td>\n",
       "      <td>NaN</td>\n",
       "      <td>NaN</td>\n",
       "      <td>NaN</td>\n",
       "      <td>WSW</td>\n",
       "      <td>43.0</td>\n",
       "      <td>NaN</td>\n",
       "      <td>...</td>\n",
       "      <td>NaN</td>\n",
       "      <td>NaN</td>\n",
       "      <td>NaN</td>\n",
       "      <td>NaN</td>\n",
       "      <td>7.4</td>\n",
       "      <td>1</td>\n",
       "      <td>50954</td>\n",
       "      <td>2009</td>\n",
       "      <td>6</td>\n",
       "      <td>3</td>\n",
       "    </tr>\n",
       "    <tr>\n",
       "      <th>50973</th>\n",
       "      <td>2009-06-27</td>\n",
       "      <td>MountGinini</td>\n",
       "      <td>9.2</td>\n",
       "      <td>4.2</td>\n",
       "      <td>NaN</td>\n",
       "      <td>NaN</td>\n",
       "      <td>NaN</td>\n",
       "      <td>NNE</td>\n",
       "      <td>26.0</td>\n",
       "      <td>NaN</td>\n",
       "      <td>...</td>\n",
       "      <td>NaN</td>\n",
       "      <td>NaN</td>\n",
       "      <td>NaN</td>\n",
       "      <td>NaN</td>\n",
       "      <td>2.6</td>\n",
       "      <td>1</td>\n",
       "      <td>50974</td>\n",
       "      <td>2009</td>\n",
       "      <td>6</td>\n",
       "      <td>3</td>\n",
       "    </tr>\n",
       "    <tr>\n",
       "      <th>50981</th>\n",
       "      <td>2009-07-07</td>\n",
       "      <td>MountGinini</td>\n",
       "      <td>9.2</td>\n",
       "      <td>-1.3</td>\n",
       "      <td>NaN</td>\n",
       "      <td>NaN</td>\n",
       "      <td>NaN</td>\n",
       "      <td>E</td>\n",
       "      <td>37.0</td>\n",
       "      <td>NaN</td>\n",
       "      <td>...</td>\n",
       "      <td>NaN</td>\n",
       "      <td>NaN</td>\n",
       "      <td>-1.6</td>\n",
       "      <td>NaN</td>\n",
       "      <td>0.0</td>\n",
       "      <td>0</td>\n",
       "      <td>50982</td>\n",
       "      <td>2009</td>\n",
       "      <td>7</td>\n",
       "      <td>3</td>\n",
       "    </tr>\n",
       "    <tr>\n",
       "      <th>51032</th>\n",
       "      <td>2009-08-30</td>\n",
       "      <td>MountGinini</td>\n",
       "      <td>9.2</td>\n",
       "      <td>0.1</td>\n",
       "      <td>32.6</td>\n",
       "      <td>NaN</td>\n",
       "      <td>NaN</td>\n",
       "      <td>W</td>\n",
       "      <td>102.0</td>\n",
       "      <td>NaN</td>\n",
       "      <td>...</td>\n",
       "      <td>NaN</td>\n",
       "      <td>NaN</td>\n",
       "      <td>-1.4</td>\n",
       "      <td>Yes</td>\n",
       "      <td>2.4</td>\n",
       "      <td>1</td>\n",
       "      <td>51033</td>\n",
       "      <td>2009</td>\n",
       "      <td>8</td>\n",
       "      <td>3</td>\n",
       "    </tr>\n",
       "    <tr>\n",
       "      <th>51034</th>\n",
       "      <td>2009-09-01</td>\n",
       "      <td>MountGinini</td>\n",
       "      <td>9.2</td>\n",
       "      <td>6.6</td>\n",
       "      <td>2.6</td>\n",
       "      <td>NaN</td>\n",
       "      <td>NaN</td>\n",
       "      <td>W</td>\n",
       "      <td>61.0</td>\n",
       "      <td>NaN</td>\n",
       "      <td>...</td>\n",
       "      <td>NaN</td>\n",
       "      <td>NaN</td>\n",
       "      <td>NaN</td>\n",
       "      <td>Yes</td>\n",
       "      <td>0.0</td>\n",
       "      <td>0</td>\n",
       "      <td>51035</td>\n",
       "      <td>2009</td>\n",
       "      <td>9</td>\n",
       "      <td>4</td>\n",
       "    </tr>\n",
       "    <tr>\n",
       "      <th>51038</th>\n",
       "      <td>2009-09-05</td>\n",
       "      <td>MountGinini</td>\n",
       "      <td>9.2</td>\n",
       "      <td>7.6</td>\n",
       "      <td>0.2</td>\n",
       "      <td>NaN</td>\n",
       "      <td>NaN</td>\n",
       "      <td>WSW</td>\n",
       "      <td>41.0</td>\n",
       "      <td>NaN</td>\n",
       "      <td>...</td>\n",
       "      <td>NaN</td>\n",
       "      <td>NaN</td>\n",
       "      <td>5.9</td>\n",
       "      <td>No</td>\n",
       "      <td>0.0</td>\n",
       "      <td>0</td>\n",
       "      <td>51039</td>\n",
       "      <td>2009</td>\n",
       "      <td>9</td>\n",
       "      <td>4</td>\n",
       "    </tr>\n",
       "    <tr>\n",
       "      <th>51053</th>\n",
       "      <td>2009-09-24</td>\n",
       "      <td>MountGinini</td>\n",
       "      <td>9.2</td>\n",
       "      <td>4.9</td>\n",
       "      <td>NaN</td>\n",
       "      <td>NaN</td>\n",
       "      <td>NaN</td>\n",
       "      <td>SW</td>\n",
       "      <td>85.0</td>\n",
       "      <td>NaN</td>\n",
       "      <td>...</td>\n",
       "      <td>NaN</td>\n",
       "      <td>NaN</td>\n",
       "      <td>NaN</td>\n",
       "      <td>NaN</td>\n",
       "      <td>0.0</td>\n",
       "      <td>0</td>\n",
       "      <td>51054</td>\n",
       "      <td>2009</td>\n",
       "      <td>9</td>\n",
       "      <td>4</td>\n",
       "    </tr>\n",
       "    <tr>\n",
       "      <th>51064</th>\n",
       "      <td>2009-10-05</td>\n",
       "      <td>MountGinini</td>\n",
       "      <td>9.2</td>\n",
       "      <td>8.6</td>\n",
       "      <td>6.4</td>\n",
       "      <td>NaN</td>\n",
       "      <td>NaN</td>\n",
       "      <td>NaN</td>\n",
       "      <td>NaN</td>\n",
       "      <td>NaN</td>\n",
       "      <td>...</td>\n",
       "      <td>NaN</td>\n",
       "      <td>NaN</td>\n",
       "      <td>NaN</td>\n",
       "      <td>Yes</td>\n",
       "      <td>3.8</td>\n",
       "      <td>1</td>\n",
       "      <td>51065</td>\n",
       "      <td>2009</td>\n",
       "      <td>10</td>\n",
       "      <td>4</td>\n",
       "    </tr>\n",
       "    <tr>\n",
       "      <th>51065</th>\n",
       "      <td>2009-10-06</td>\n",
       "      <td>MountGinini</td>\n",
       "      <td>9.2</td>\n",
       "      <td>5.6</td>\n",
       "      <td>3.8</td>\n",
       "      <td>NaN</td>\n",
       "      <td>NaN</td>\n",
       "      <td>NaN</td>\n",
       "      <td>NaN</td>\n",
       "      <td>NaN</td>\n",
       "      <td>...</td>\n",
       "      <td>NaN</td>\n",
       "      <td>NaN</td>\n",
       "      <td>5.0</td>\n",
       "      <td>Yes</td>\n",
       "      <td>5.4</td>\n",
       "      <td>1</td>\n",
       "      <td>51066</td>\n",
       "      <td>2009</td>\n",
       "      <td>10</td>\n",
       "      <td>4</td>\n",
       "    </tr>\n",
       "    <tr>\n",
       "      <th>51070</th>\n",
       "      <td>2009-10-11</td>\n",
       "      <td>MountGinini</td>\n",
       "      <td>9.2</td>\n",
       "      <td>7.9</td>\n",
       "      <td>0.0</td>\n",
       "      <td>NaN</td>\n",
       "      <td>NaN</td>\n",
       "      <td>W</td>\n",
       "      <td>31.0</td>\n",
       "      <td>NaN</td>\n",
       "      <td>...</td>\n",
       "      <td>NaN</td>\n",
       "      <td>NaN</td>\n",
       "      <td>5.2</td>\n",
       "      <td>No</td>\n",
       "      <td>2.4</td>\n",
       "      <td>1</td>\n",
       "      <td>51071</td>\n",
       "      <td>2009</td>\n",
       "      <td>10</td>\n",
       "      <td>4</td>\n",
       "    </tr>\n",
       "    <tr>\n",
       "      <th>51256</th>\n",
       "      <td>2010-06-05</td>\n",
       "      <td>MountGinini</td>\n",
       "      <td>9.2</td>\n",
       "      <td>7.2</td>\n",
       "      <td>NaN</td>\n",
       "      <td>NaN</td>\n",
       "      <td>NaN</td>\n",
       "      <td>W</td>\n",
       "      <td>26.0</td>\n",
       "      <td>NaN</td>\n",
       "      <td>...</td>\n",
       "      <td>NaN</td>\n",
       "      <td>NaN</td>\n",
       "      <td>6.0</td>\n",
       "      <td>NaN</td>\n",
       "      <td>0.0</td>\n",
       "      <td>0</td>\n",
       "      <td>51257</td>\n",
       "      <td>2010</td>\n",
       "      <td>6</td>\n",
       "      <td>3</td>\n",
       "    </tr>\n",
       "    <tr>\n",
       "      <th>51258</th>\n",
       "      <td>2010-06-09</td>\n",
       "      <td>MountGinini</td>\n",
       "      <td>9.2</td>\n",
       "      <td>-2.7</td>\n",
       "      <td>NaN</td>\n",
       "      <td>NaN</td>\n",
       "      <td>NaN</td>\n",
       "      <td>WSW</td>\n",
       "      <td>48.0</td>\n",
       "      <td>NaN</td>\n",
       "      <td>...</td>\n",
       "      <td>NaN</td>\n",
       "      <td>-4.2</td>\n",
       "      <td>-2.9</td>\n",
       "      <td>NaN</td>\n",
       "      <td>4.4</td>\n",
       "      <td>1</td>\n",
       "      <td>51259</td>\n",
       "      <td>2010</td>\n",
       "      <td>6</td>\n",
       "      <td>3</td>\n",
       "    </tr>\n",
       "    <tr>\n",
       "      <th>51277</th>\n",
       "      <td>2010-07-01</td>\n",
       "      <td>MountGinini</td>\n",
       "      <td>9.2</td>\n",
       "      <td>0.0</td>\n",
       "      <td>NaN</td>\n",
       "      <td>NaN</td>\n",
       "      <td>NaN</td>\n",
       "      <td>W</td>\n",
       "      <td>39.0</td>\n",
       "      <td>NaN</td>\n",
       "      <td>...</td>\n",
       "      <td>NaN</td>\n",
       "      <td>NaN</td>\n",
       "      <td>-1.5</td>\n",
       "      <td>NaN</td>\n",
       "      <td>0.0</td>\n",
       "      <td>0</td>\n",
       "      <td>51278</td>\n",
       "      <td>2010</td>\n",
       "      <td>7</td>\n",
       "      <td>3</td>\n",
       "    </tr>\n",
       "    <tr>\n",
       "      <th>51281</th>\n",
       "      <td>2010-07-09</td>\n",
       "      <td>MountGinini</td>\n",
       "      <td>9.2</td>\n",
       "      <td>3.8</td>\n",
       "      <td>NaN</td>\n",
       "      <td>NaN</td>\n",
       "      <td>NaN</td>\n",
       "      <td>ENE</td>\n",
       "      <td>41.0</td>\n",
       "      <td>NaN</td>\n",
       "      <td>...</td>\n",
       "      <td>NaN</td>\n",
       "      <td>NaN</td>\n",
       "      <td>2.2</td>\n",
       "      <td>NaN</td>\n",
       "      <td>0.2</td>\n",
       "      <td>0</td>\n",
       "      <td>51282</td>\n",
       "      <td>2010</td>\n",
       "      <td>7</td>\n",
       "      <td>3</td>\n",
       "    </tr>\n",
       "    <tr>\n",
       "      <th>51283</th>\n",
       "      <td>2010-07-12</td>\n",
       "      <td>MountGinini</td>\n",
       "      <td>9.2</td>\n",
       "      <td>5.1</td>\n",
       "      <td>NaN</td>\n",
       "      <td>NaN</td>\n",
       "      <td>NaN</td>\n",
       "      <td>NNE</td>\n",
       "      <td>39.0</td>\n",
       "      <td>NaN</td>\n",
       "      <td>...</td>\n",
       "      <td>NaN</td>\n",
       "      <td>NaN</td>\n",
       "      <td>3.0</td>\n",
       "      <td>NaN</td>\n",
       "      <td>0.0</td>\n",
       "      <td>0</td>\n",
       "      <td>51284</td>\n",
       "      <td>2010</td>\n",
       "      <td>7</td>\n",
       "      <td>3</td>\n",
       "    </tr>\n",
       "    <tr>\n",
       "      <th>51286</th>\n",
       "      <td>2010-07-17</td>\n",
       "      <td>MountGinini</td>\n",
       "      <td>9.2</td>\n",
       "      <td>2.4</td>\n",
       "      <td>NaN</td>\n",
       "      <td>NaN</td>\n",
       "      <td>NaN</td>\n",
       "      <td>WNW</td>\n",
       "      <td>33.0</td>\n",
       "      <td>NaN</td>\n",
       "      <td>...</td>\n",
       "      <td>NaN</td>\n",
       "      <td>NaN</td>\n",
       "      <td>NaN</td>\n",
       "      <td>NaN</td>\n",
       "      <td>0.0</td>\n",
       "      <td>0</td>\n",
       "      <td>51287</td>\n",
       "      <td>2010</td>\n",
       "      <td>7</td>\n",
       "      <td>3</td>\n",
       "    </tr>\n",
       "    <tr>\n",
       "      <th>51287</th>\n",
       "      <td>2010-07-21</td>\n",
       "      <td>MountGinini</td>\n",
       "      <td>9.2</td>\n",
       "      <td>2.9</td>\n",
       "      <td>NaN</td>\n",
       "      <td>NaN</td>\n",
       "      <td>NaN</td>\n",
       "      <td>S</td>\n",
       "      <td>26.0</td>\n",
       "      <td>NaN</td>\n",
       "      <td>...</td>\n",
       "      <td>NaN</td>\n",
       "      <td>NaN</td>\n",
       "      <td>2.5</td>\n",
       "      <td>NaN</td>\n",
       "      <td>0.0</td>\n",
       "      <td>0</td>\n",
       "      <td>51288</td>\n",
       "      <td>2010</td>\n",
       "      <td>7</td>\n",
       "      <td>3</td>\n",
       "    </tr>\n",
       "    <tr>\n",
       "      <th>51300</th>\n",
       "      <td>2010-08-10</td>\n",
       "      <td>MountGinini</td>\n",
       "      <td>9.2</td>\n",
       "      <td>4.3</td>\n",
       "      <td>NaN</td>\n",
       "      <td>NaN</td>\n",
       "      <td>NaN</td>\n",
       "      <td>NaN</td>\n",
       "      <td>NaN</td>\n",
       "      <td>NaN</td>\n",
       "      <td>...</td>\n",
       "      <td>NaN</td>\n",
       "      <td>NaN</td>\n",
       "      <td>NaN</td>\n",
       "      <td>NaN</td>\n",
       "      <td>32.2</td>\n",
       "      <td>1</td>\n",
       "      <td>51301</td>\n",
       "      <td>2010</td>\n",
       "      <td>8</td>\n",
       "      <td>3</td>\n",
       "    </tr>\n",
       "    <tr>\n",
       "      <th>51302</th>\n",
       "      <td>2010-08-13</td>\n",
       "      <td>MountGinini</td>\n",
       "      <td>9.2</td>\n",
       "      <td>6.6</td>\n",
       "      <td>NaN</td>\n",
       "      <td>NaN</td>\n",
       "      <td>NaN</td>\n",
       "      <td>NaN</td>\n",
       "      <td>NaN</td>\n",
       "      <td>NaN</td>\n",
       "      <td>...</td>\n",
       "      <td>NaN</td>\n",
       "      <td>-0.4</td>\n",
       "      <td>5.8</td>\n",
       "      <td>NaN</td>\n",
       "      <td>0.0</td>\n",
       "      <td>0</td>\n",
       "      <td>51303</td>\n",
       "      <td>2010</td>\n",
       "      <td>8</td>\n",
       "      <td>3</td>\n",
       "    </tr>\n",
       "    <tr>\n",
       "      <th>51318</th>\n",
       "      <td>2010-09-03</td>\n",
       "      <td>MountGinini</td>\n",
       "      <td>9.2</td>\n",
       "      <td>7.1</td>\n",
       "      <td>NaN</td>\n",
       "      <td>NaN</td>\n",
       "      <td>NaN</td>\n",
       "      <td>NNE</td>\n",
       "      <td>44.0</td>\n",
       "      <td>NaN</td>\n",
       "      <td>...</td>\n",
       "      <td>NaN</td>\n",
       "      <td>NaN</td>\n",
       "      <td>1.7</td>\n",
       "      <td>NaN</td>\n",
       "      <td>24.6</td>\n",
       "      <td>1</td>\n",
       "      <td>51319</td>\n",
       "      <td>2010</td>\n",
       "      <td>9</td>\n",
       "      <td>4</td>\n",
       "    </tr>\n",
       "    <tr>\n",
       "      <th>51569</th>\n",
       "      <td>2011-06-22</td>\n",
       "      <td>MountGinini</td>\n",
       "      <td>9.2</td>\n",
       "      <td>0.1</td>\n",
       "      <td>NaN</td>\n",
       "      <td>NaN</td>\n",
       "      <td>NaN</td>\n",
       "      <td>W</td>\n",
       "      <td>54.0</td>\n",
       "      <td>NaN</td>\n",
       "      <td>...</td>\n",
       "      <td>NaN</td>\n",
       "      <td>NaN</td>\n",
       "      <td>NaN</td>\n",
       "      <td>NaN</td>\n",
       "      <td>3.8</td>\n",
       "      <td>1</td>\n",
       "      <td>51570</td>\n",
       "      <td>2011</td>\n",
       "      <td>6</td>\n",
       "      <td>3</td>\n",
       "    </tr>\n",
       "    <tr>\n",
       "      <th>51598</th>\n",
       "      <td>2011-07-22</td>\n",
       "      <td>MountGinini</td>\n",
       "      <td>9.2</td>\n",
       "      <td>0.1</td>\n",
       "      <td>NaN</td>\n",
       "      <td>NaN</td>\n",
       "      <td>NaN</td>\n",
       "      <td>ESE</td>\n",
       "      <td>46.0</td>\n",
       "      <td>NaN</td>\n",
       "      <td>...</td>\n",
       "      <td>NaN</td>\n",
       "      <td>NaN</td>\n",
       "      <td>-0.1</td>\n",
       "      <td>NaN</td>\n",
       "      <td>0.0</td>\n",
       "      <td>0</td>\n",
       "      <td>51599</td>\n",
       "      <td>2011</td>\n",
       "      <td>7</td>\n",
       "      <td>3</td>\n",
       "    </tr>\n",
       "    <tr>\n",
       "      <th>51919</th>\n",
       "      <td>2012-06-18</td>\n",
       "      <td>MountGinini</td>\n",
       "      <td>9.2</td>\n",
       "      <td>4.5</td>\n",
       "      <td>NaN</td>\n",
       "      <td>NaN</td>\n",
       "      <td>NaN</td>\n",
       "      <td>SW</td>\n",
       "      <td>52.0</td>\n",
       "      <td>NaN</td>\n",
       "      <td>...</td>\n",
       "      <td>NaN</td>\n",
       "      <td>NaN</td>\n",
       "      <td>NaN</td>\n",
       "      <td>NaN</td>\n",
       "      <td>1.8</td>\n",
       "      <td>1</td>\n",
       "      <td>51920</td>\n",
       "      <td>2012</td>\n",
       "      <td>6</td>\n",
       "      <td>3</td>\n",
       "    </tr>\n",
       "    <tr>\n",
       "      <th>51930</th>\n",
       "      <td>2012-07-03</td>\n",
       "      <td>MountGinini</td>\n",
       "      <td>9.2</td>\n",
       "      <td>0.0</td>\n",
       "      <td>NaN</td>\n",
       "      <td>NaN</td>\n",
       "      <td>NaN</td>\n",
       "      <td>S</td>\n",
       "      <td>56.0</td>\n",
       "      <td>NaN</td>\n",
       "      <td>...</td>\n",
       "      <td>NaN</td>\n",
       "      <td>NaN</td>\n",
       "      <td>NaN</td>\n",
       "      <td>NaN</td>\n",
       "      <td>3.2</td>\n",
       "      <td>1</td>\n",
       "      <td>51931</td>\n",
       "      <td>2012</td>\n",
       "      <td>7</td>\n",
       "      <td>3</td>\n",
       "    </tr>\n",
       "    <tr>\n",
       "      <th>51976</th>\n",
       "      <td>2012-08-26</td>\n",
       "      <td>MountGinini</td>\n",
       "      <td>9.2</td>\n",
       "      <td>1.0</td>\n",
       "      <td>NaN</td>\n",
       "      <td>NaN</td>\n",
       "      <td>NaN</td>\n",
       "      <td>SW</td>\n",
       "      <td>44.0</td>\n",
       "      <td>NaN</td>\n",
       "      <td>...</td>\n",
       "      <td>NaN</td>\n",
       "      <td>NaN</td>\n",
       "      <td>0.1</td>\n",
       "      <td>NaN</td>\n",
       "      <td>1.2</td>\n",
       "      <td>1</td>\n",
       "      <td>51977</td>\n",
       "      <td>2012</td>\n",
       "      <td>8</td>\n",
       "      <td>3</td>\n",
       "    </tr>\n",
       "    <tr>\n",
       "      <th>52179</th>\n",
       "      <td>2013-05-18</td>\n",
       "      <td>MountGinini</td>\n",
       "      <td>9.2</td>\n",
       "      <td>2.4</td>\n",
       "      <td>NaN</td>\n",
       "      <td>NaN</td>\n",
       "      <td>NaN</td>\n",
       "      <td>SW</td>\n",
       "      <td>50.0</td>\n",
       "      <td>NaN</td>\n",
       "      <td>...</td>\n",
       "      <td>NaN</td>\n",
       "      <td>NaN</td>\n",
       "      <td>0.4</td>\n",
       "      <td>NaN</td>\n",
       "      <td>0.8</td>\n",
       "      <td>0</td>\n",
       "      <td>52180</td>\n",
       "      <td>2013</td>\n",
       "      <td>5</td>\n",
       "      <td>2</td>\n",
       "    </tr>\n",
       "  </tbody>\n",
       "</table>\n",
       "<p>26 rows × 28 columns</p>\n",
       "</div>"
      ],
      "text/plain": [
       "            Date     Location  MinTemp  MaxTemp  Rainfall  Evaporation  \\\n",
       "50953 2009-06-06  MountGinini      9.2      3.2       NaN          NaN   \n",
       "50973 2009-06-27  MountGinini      9.2      4.2       NaN          NaN   \n",
       "50981 2009-07-07  MountGinini      9.2     -1.3       NaN          NaN   \n",
       "51032 2009-08-30  MountGinini      9.2      0.1      32.6          NaN   \n",
       "51034 2009-09-01  MountGinini      9.2      6.6       2.6          NaN   \n",
       "51038 2009-09-05  MountGinini      9.2      7.6       0.2          NaN   \n",
       "51053 2009-09-24  MountGinini      9.2      4.9       NaN          NaN   \n",
       "51064 2009-10-05  MountGinini      9.2      8.6       6.4          NaN   \n",
       "51065 2009-10-06  MountGinini      9.2      5.6       3.8          NaN   \n",
       "51070 2009-10-11  MountGinini      9.2      7.9       0.0          NaN   \n",
       "51256 2010-06-05  MountGinini      9.2      7.2       NaN          NaN   \n",
       "51258 2010-06-09  MountGinini      9.2     -2.7       NaN          NaN   \n",
       "51277 2010-07-01  MountGinini      9.2      0.0       NaN          NaN   \n",
       "51281 2010-07-09  MountGinini      9.2      3.8       NaN          NaN   \n",
       "51283 2010-07-12  MountGinini      9.2      5.1       NaN          NaN   \n",
       "51286 2010-07-17  MountGinini      9.2      2.4       NaN          NaN   \n",
       "51287 2010-07-21  MountGinini      9.2      2.9       NaN          NaN   \n",
       "51300 2010-08-10  MountGinini      9.2      4.3       NaN          NaN   \n",
       "51302 2010-08-13  MountGinini      9.2      6.6       NaN          NaN   \n",
       "51318 2010-09-03  MountGinini      9.2      7.1       NaN          NaN   \n",
       "51569 2011-06-22  MountGinini      9.2      0.1       NaN          NaN   \n",
       "51598 2011-07-22  MountGinini      9.2      0.1       NaN          NaN   \n",
       "51919 2012-06-18  MountGinini      9.2      4.5       NaN          NaN   \n",
       "51930 2012-07-03  MountGinini      9.2      0.0       NaN          NaN   \n",
       "51976 2012-08-26  MountGinini      9.2      1.0       NaN          NaN   \n",
       "52179 2013-05-18  MountGinini      9.2      2.4       NaN          NaN   \n",
       "\n",
       "       Sunshine WindGustDir  WindGustSpeed WindDir9am  ... Cloud3pm  Temp9am  \\\n",
       "50953       NaN         WSW           43.0        NaN  ...      NaN      NaN   \n",
       "50973       NaN         NNE           26.0        NaN  ...      NaN      NaN   \n",
       "50981       NaN           E           37.0        NaN  ...      NaN      NaN   \n",
       "51032       NaN           W          102.0        NaN  ...      NaN      NaN   \n",
       "51034       NaN           W           61.0        NaN  ...      NaN      NaN   \n",
       "51038       NaN         WSW           41.0        NaN  ...      NaN      NaN   \n",
       "51053       NaN          SW           85.0        NaN  ...      NaN      NaN   \n",
       "51064       NaN         NaN            NaN        NaN  ...      NaN      NaN   \n",
       "51065       NaN         NaN            NaN        NaN  ...      NaN      NaN   \n",
       "51070       NaN           W           31.0        NaN  ...      NaN      NaN   \n",
       "51256       NaN           W           26.0        NaN  ...      NaN      NaN   \n",
       "51258       NaN         WSW           48.0        NaN  ...      NaN     -4.2   \n",
       "51277       NaN           W           39.0        NaN  ...      NaN      NaN   \n",
       "51281       NaN         ENE           41.0        NaN  ...      NaN      NaN   \n",
       "51283       NaN         NNE           39.0        NaN  ...      NaN      NaN   \n",
       "51286       NaN         WNW           33.0        NaN  ...      NaN      NaN   \n",
       "51287       NaN           S           26.0        NaN  ...      NaN      NaN   \n",
       "51300       NaN         NaN            NaN        NaN  ...      NaN      NaN   \n",
       "51302       NaN         NaN            NaN        NaN  ...      NaN     -0.4   \n",
       "51318       NaN         NNE           44.0        NaN  ...      NaN      NaN   \n",
       "51569       NaN           W           54.0        NaN  ...      NaN      NaN   \n",
       "51598       NaN         ESE           46.0        NaN  ...      NaN      NaN   \n",
       "51919       NaN          SW           52.0        NaN  ...      NaN      NaN   \n",
       "51930       NaN           S           56.0        NaN  ...      NaN      NaN   \n",
       "51976       NaN          SW           44.0        NaN  ...      NaN      NaN   \n",
       "52179       NaN          SW           50.0        NaN  ...      NaN      NaN   \n",
       "\n",
       "       Temp3pm  RainToday  RISK_MM  RainTomorrow     id  Year  Month  Seasons  \n",
       "50953      NaN        NaN      7.4             1  50954  2009      6        3  \n",
       "50973      NaN        NaN      2.6             1  50974  2009      6        3  \n",
       "50981     -1.6        NaN      0.0             0  50982  2009      7        3  \n",
       "51032     -1.4        Yes      2.4             1  51033  2009      8        3  \n",
       "51034      NaN        Yes      0.0             0  51035  2009      9        4  \n",
       "51038      5.9         No      0.0             0  51039  2009      9        4  \n",
       "51053      NaN        NaN      0.0             0  51054  2009      9        4  \n",
       "51064      NaN        Yes      3.8             1  51065  2009     10        4  \n",
       "51065      5.0        Yes      5.4             1  51066  2009     10        4  \n",
       "51070      5.2         No      2.4             1  51071  2009     10        4  \n",
       "51256      6.0        NaN      0.0             0  51257  2010      6        3  \n",
       "51258     -2.9        NaN      4.4             1  51259  2010      6        3  \n",
       "51277     -1.5        NaN      0.0             0  51278  2010      7        3  \n",
       "51281      2.2        NaN      0.2             0  51282  2010      7        3  \n",
       "51283      3.0        NaN      0.0             0  51284  2010      7        3  \n",
       "51286      NaN        NaN      0.0             0  51287  2010      7        3  \n",
       "51287      2.5        NaN      0.0             0  51288  2010      7        3  \n",
       "51300      NaN        NaN     32.2             1  51301  2010      8        3  \n",
       "51302      5.8        NaN      0.0             0  51303  2010      8        3  \n",
       "51318      1.7        NaN     24.6             1  51319  2010      9        4  \n",
       "51569      NaN        NaN      3.8             1  51570  2011      6        3  \n",
       "51598     -0.1        NaN      0.0             0  51599  2011      7        3  \n",
       "51919      NaN        NaN      1.8             1  51920  2012      6        3  \n",
       "51930      NaN        NaN      3.2             1  51931  2012      7        3  \n",
       "51976      0.1        NaN      1.2             1  51977  2012      8        3  \n",
       "52179      0.4        NaN      0.8             0  52180  2013      5        2  \n",
       "\n",
       "[26 rows x 28 columns]"
      ]
     },
     "execution_count": 41,
     "metadata": {},
     "output_type": "execute_result"
    }
   ],
   "source": [
    "weather_df[weather_df.MaxTemp < weather_df.MinTemp]"
   ]
  },
  {
   "cell_type": "markdown",
   "metadata": {},
   "source": [
    "MountGinini is most likely imputated with the same MinTemp"
   ]
  },
  {
   "cell_type": "code",
   "execution_count": 42,
   "metadata": {},
   "outputs": [],
   "source": [
    "weather_df.loc[weather_df.MaxTemp < weather_df.MinTemp, ['MinTemp']] = weather_df['MaxTemp']"
   ]
  },
  {
   "cell_type": "code",
   "execution_count": 43,
   "metadata": {},
   "outputs": [
    {
     "data": {
      "text/html": [
       "<div>\n",
       "<style scoped>\n",
       "    .dataframe tbody tr th:only-of-type {\n",
       "        vertical-align: middle;\n",
       "    }\n",
       "\n",
       "    .dataframe tbody tr th {\n",
       "        vertical-align: top;\n",
       "    }\n",
       "\n",
       "    .dataframe thead th {\n",
       "        text-align: right;\n",
       "    }\n",
       "</style>\n",
       "<table border=\"1\" class=\"dataframe\">\n",
       "  <thead>\n",
       "    <tr style=\"text-align: right;\">\n",
       "      <th></th>\n",
       "      <th>Date</th>\n",
       "      <th>Location</th>\n",
       "      <th>MinTemp</th>\n",
       "      <th>MaxTemp</th>\n",
       "      <th>Rainfall</th>\n",
       "      <th>Evaporation</th>\n",
       "      <th>Sunshine</th>\n",
       "      <th>WindGustDir</th>\n",
       "      <th>WindGustSpeed</th>\n",
       "      <th>WindDir9am</th>\n",
       "      <th>...</th>\n",
       "      <th>Cloud3pm</th>\n",
       "      <th>Temp9am</th>\n",
       "      <th>Temp3pm</th>\n",
       "      <th>RainToday</th>\n",
       "      <th>RISK_MM</th>\n",
       "      <th>RainTomorrow</th>\n",
       "      <th>id</th>\n",
       "      <th>Year</th>\n",
       "      <th>Month</th>\n",
       "      <th>Seasons</th>\n",
       "    </tr>\n",
       "  </thead>\n",
       "  <tbody>\n",
       "  </tbody>\n",
       "</table>\n",
       "<p>0 rows × 28 columns</p>\n",
       "</div>"
      ],
      "text/plain": [
       "Empty DataFrame\n",
       "Columns: [Date, Location, MinTemp, MaxTemp, Rainfall, Evaporation, Sunshine, WindGustDir, WindGustSpeed, WindDir9am, WindDir3pm, WindSpeed9am, WindSpeed3pm, Humidity9am, Humidity3pm, Pressure9am, Pressure3pm, Cloud9am, Cloud3pm, Temp9am, Temp3pm, RainToday, RISK_MM, RainTomorrow, id, Year, Month, Seasons]\n",
       "Index: []\n",
       "\n",
       "[0 rows x 28 columns]"
      ]
     },
     "execution_count": 43,
     "metadata": {},
     "output_type": "execute_result"
    }
   ],
   "source": [
    "weather_df.loc[weather_df.MaxTemp < weather_df.MinTemp]"
   ]
  },
  {
   "cell_type": "code",
   "execution_count": 44,
   "metadata": {},
   "outputs": [
    {
     "name": "stdout",
     "output_type": "stream",
     "text": [
      "There is 0 missing values in MinTemp\n",
      "There is 0 missing values in MaxTemp\n"
     ]
    }
   ],
   "source": [
    "print('There is {} missing values in MinTemp'.format(weather_df.MinTemp.isnull().sum()))\n",
    "print('There is {} missing values in MaxTemp'.format(weather_df.MaxTemp.isnull().sum()))"
   ]
  },
  {
   "cell_type": "markdown",
   "metadata": {},
   "source": [
    "# Rainfall overview\n",
    "\n",
    "As rainfall have 1406 missing values, we will just impute with the median due to the amount of outliers."
   ]
  },
  {
   "cell_type": "code",
   "execution_count": 45,
   "metadata": {},
   "outputs": [
    {
     "name": "stdout",
     "output_type": "stream",
     "text": [
      "count    140787.000000\n",
      "mean          2.349974\n",
      "std           8.465173\n",
      "min           0.000000\n",
      "25%           0.000000\n",
      "50%           0.000000\n",
      "75%           0.800000\n",
      "max         371.000000\n",
      "Name: Rainfall, dtype: float64\n",
      "There are 1406 missing values\n"
     ]
    }
   ],
   "source": [
    "print(weather_df.Rainfall.describe())\n",
    "print('There are {} missing values'.format(weather_df.Rainfall.isnull().sum()))"
   ]
  },
  {
   "cell_type": "code",
   "execution_count": 46,
   "metadata": {},
   "outputs": [
    {
     "data": {
      "text/plain": [
       "0"
      ]
     },
     "execution_count": 46,
     "metadata": {},
     "output_type": "execute_result"
    }
   ],
   "source": [
    "weather_df.Rainfall.fillna(weather_df.Rainfall.median(), inplace = True)\n",
    "weather_df.Rainfall.isnull().sum()"
   ]
  },
  {
   "cell_type": "code",
   "execution_count": 47,
   "metadata": {},
   "outputs": [
    {
     "data": {
      "text/plain": [
       "<matplotlib.axes._subplots.AxesSubplot at 0x1bf1b27acf8>"
      ]
     },
     "execution_count": 47,
     "metadata": {},
     "output_type": "execute_result"
    },
    {
     "data": {
      "image/png": "[encoded data removed]",
      "text/plain": [
       "<Figure size 432x288 with 1 Axes>"
      ]
     },
     "metadata": {
      "needs_background": "light"
     },
     "output_type": "display_data"
    }
   ],
   "source": [
    "weather_df.Rainfall.value_counts()[:3].plot(kind='barh', title='Rainfall Count')"
   ]
  },
  {
   "cell_type": "markdown",
   "metadata": {},
   "source": [
    "# Evaporation Overview\n",
    "\n",
    "Evaporation is one of the main variable with many missing values. Once again, we will be using KNN to predict and impute this data. We will be using the "
   ]
  },
  {
   "cell_type": "code",
   "execution_count": 48,
   "metadata": {},
   "outputs": [
    {
     "name": "stdout",
     "output_type": "stream",
     "text": [
      "60843\n",
      "142193\n"
     ]
    }
   ],
   "source": [
    "print(weather_df.Evaporation.isnull().sum())\n",
    "print(len(weather_df.Evaporation))"
   ]
  },
  {
   "cell_type": "code",
   "execution_count": 49,
   "metadata": {},
   "outputs": [],
   "source": [
    "evaporation_null = weather_df.loc[weather_df.Evaporation.isnull(), ['MinTemp', 'MaxTemp']]"
   ]
  },
  {
   "cell_type": "code",
   "execution_count": 50,
   "metadata": {},
   "outputs": [],
   "source": [
    "temp_df = pd.concat([weather_df.MinTemp, weather_df.MaxTemp, weather_df.Evaporation], axis=1).dropna()\n",
    "X,y = temp_df.loc[:,['MinTemp', 'MaxTemp']], temp_df['Evaporation']\n",
    "X_train, X_test, y_train, y_test = train_test_split(X, y, test_size = 0.2, random_state=42)"
   ]
  },
  {
   "cell_type": "code",
   "execution_count": 51,
   "metadata": {},
   "outputs": [
    {
     "name": "stdout",
     "output_type": "stream",
     "text": [
      "KNN on neighbors = 1 has a rmse of 4.673911299400645 and took 0.03125 seconds to compute\n",
      "KNN on neighbors = 3 has a rmse of 3.8919454822346204 and took 0.5 seconds to compute\n",
      "KNN on neighbors = 5 has a rmse of 3.7361022552203806 and took 0.375 seconds to compute\n",
      "KNN on neighbors = 7 has a rmse of 3.6615559650365364 and took 0.5 seconds to compute\n",
      "KNN on neighbors = 9 has a rmse of 3.6163984741831827 and took 0.5 seconds to compute\n",
      "KNN on neighbors = 11 has a rmse of 3.5895841339633567 and took 0.625 seconds to compute\n",
      "KNN on neighbors = 13 has a rmse of 3.5646907410131923 and took 0.625 seconds to compute\n",
      "KNN on neighbors = 15 has a rmse of 3.555562207319804 and took 0.625 seconds to compute\n",
      "KNN on neighbors = 17 has a rmse of 3.543416938753971 and took 0.75 seconds to compute\n",
      "KNN on neighbors = 19 has a rmse of 3.535322272600163 and took 0.75 seconds to compute\n",
      "KNN on neighbors = 21 has a rmse of 3.528898512817542 and took 0.875 seconds to compute\n",
      "KNN on neighbors = 23 has a rmse of 3.52050024050373 and took 0.75 seconds to compute\n",
      "KNN on neighbors = 25 has a rmse of 3.5180985856028673 and took 0.875 seconds to compute\n",
      "KNN on neighbors = 27 has a rmse of 3.5106600421820606 and took 0.875 seconds to compute\n",
      "KNN on neighbors = 29 has a rmse of 3.508048316576318 and took 0.875 seconds to compute\n",
      "KNN on neighbors = 31 has a rmse of 3.505415041351751 and took 0.875 seconds to compute\n",
      "KNN on neighbors = 33 has a rmse of 3.5037318122614876 and took 0.875 seconds to compute\n",
      "KNN on neighbors = 35 has a rmse of 3.502176024601204 and took 1.0 seconds to compute\n",
      "KNN on neighbors = 37 has a rmse of 3.5001010408310695 and took 1.0 seconds to compute\n",
      "KNN on neighbors = 39 has a rmse of 3.497036831767557 and took 1.125 seconds to compute\n",
      "KNN on neighbors = 41 has a rmse of 3.4932674128798182 and took 1.0 seconds to compute\n",
      "KNN on neighbors = 43 has a rmse of 3.490273140320005 and took 1.25 seconds to compute\n",
      "KNN on neighbors = 45 has a rmse of 3.4890263934162125 and took 1.125 seconds to compute\n",
      "KNN on neighbors = 47 has a rmse of 3.4859965102310206 and took 1.25 seconds to compute\n",
      "KNN on neighbors = 49 has a rmse of 3.4847234591898015 and took 1.25 seconds to compute\n"
     ]
    }
   ],
   "source": [
    "evaporation_score = []\n",
    "evaporation_timer = []\n",
    "for k in neighbors:\n",
    "    neighbor_search(X_train, X_test, y_train, y_test, k, evaporation_score, evaporation_timer)"
   ]
  },
  {
   "cell_type": "code",
   "execution_count": 52,
   "metadata": {
    "scrolled": true
   },
   "outputs": [
    {
     "data": {
      "image/png": "[encoded data removed]",
      "text/plain": [
       "<Figure size 432x288 with 1 Axes>"
      ]
     },
     "metadata": {
      "needs_background": "light"
     },
     "output_type": "display_data"
    }
   ],
   "source": [
    "plt.plot(neighbors, evaporation_score)\n",
    "plt.xlabel('Numbers of Neighbors K')\n",
    "plt.ylabel('RMSE')\n",
    "plt.title('K-Nearest Neighbors of Evaporation')\n",
    "plt.show()"
   ]
  },
  {
   "cell_type": "code",
   "execution_count": 53,
   "metadata": {},
   "outputs": [],
   "source": [
    "cv_evaporation_scores = []\n",
    "cv_evaporation_timer = []\n",
    "kf = KFold(10, True)\n",
    "fold = 0\n",
    "for k in neighbors:\n",
    "    temp_cv_scores = []\n",
    "    for train, test in kf.split(X):\n",
    "        fold += 1\n",
    "        X_train, X_test = X.values[train], X.values[test]\n",
    "        y_train, y_test = y.values[train], y.values[test]\n",
    "        cv_neighbor_search(X_train, X_test, y_train, y_test, k, temp_cv_scores, cv_evaporation_timer)\n",
    "    cv_evaporation_scores.append(np.min(temp_cv_scores))\n",
    "    cv_evaporation_timer.append(np.min(cv_evaporation_timer))"
   ]
  },
  {
   "cell_type": "code",
   "execution_count": 54,
   "metadata": {
    "scrolled": true
   },
   "outputs": [
    {
     "data": {
      "image/png": "[encoded data removed]",
      "text/plain": [
       "<Figure size 432x288 with 1 Axes>"
      ]
     },
     "metadata": {
      "needs_background": "light"
     },
     "output_type": "display_data"
    }
   ],
   "source": [
    "plt.plot(neighbors, evaporation_score, label='RMSE') \n",
    "plt.plot(neighbors, cv_evaporation_scores, label='CV-RMSE')\n",
    "plt.xlabel('Numbers of Neighbors K')\n",
    "plt.ylabel('RMSE')\n",
    "plt.title('K-Nearest Neighbors RMSE and 10-fold Cross Valdation of Evaporation')\n",
    "plt.legend(loc = 'upper right')\n",
    "plt.show()"
   ]
  },
  {
   "cell_type": "code",
   "execution_count": 55,
   "metadata": {
    "scrolled": true
   },
   "outputs": [
    {
     "name": "stdout",
     "output_type": "stream",
     "text": [
      "35\n"
     ]
    }
   ],
   "source": [
    "optimal_k = neighbors[cv_evaporation_scores.index(min(cv_evaporation_scores))]\n",
    "print(optimal_k)"
   ]
  },
  {
   "cell_type": "code",
   "execution_count": 56,
   "metadata": {},
   "outputs": [],
   "source": [
    "evaporation_model = KNeighborsRegressor(n_neighbors=23)\n",
    "evaporation_model.fit(X_train, y_train)\n",
    "evaporation_predictions = evaporation_model.predict(evaporation_null)\n",
    "evaporation_results = pd.DataFrame(evaporation_predictions, columns=['Evaporation'])\n",
    "evaporation_results = evaporation_results.round(1)\n",
    "weather_df['Evaporation'] = weather_df['Evaporation'].fillna(evaporation_results['Evaporation'].values[0])"
   ]
  },
  {
   "cell_type": "code",
   "execution_count": 57,
   "metadata": {},
   "outputs": [
    {
     "data": {
      "text/plain": [
       "count    142193.000000\n",
       "mean          5.268791\n",
       "std           3.176631\n",
       "min           0.000000\n",
       "25%           4.000000\n",
       "50%           5.000000\n",
       "75%           5.400000\n",
       "max         145.000000\n",
       "Name: Evaporation, dtype: float64"
      ]
     },
     "execution_count": 57,
     "metadata": {},
     "output_type": "execute_result"
    }
   ],
   "source": [
    "weather_df.Evaporation.describe()"
   ]
  },
  {
   "cell_type": "code",
   "execution_count": 58,
   "metadata": {},
   "outputs": [
    {
     "data": {
      "text/plain": [
       "0"
      ]
     },
     "execution_count": 58,
     "metadata": {},
     "output_type": "execute_result"
    }
   ],
   "source": [
    "weather_df.Evaporation.isna().sum()"
   ]
  },
  {
   "cell_type": "code",
   "execution_count": 59,
   "metadata": {
    "scrolled": false
   },
   "outputs": [
    {
     "name": "stdout",
     "output_type": "stream",
     "text": [
      "count    142193.000000\n",
      "mean          5.268791\n",
      "std           3.176631\n",
      "min           0.000000\n",
      "25%           4.000000\n",
      "50%           5.000000\n",
      "75%           5.400000\n",
      "max         145.000000\n",
      "Name: Evaporation, dtype: float64\n",
      "0\n"
     ]
    },
    {
     "data": {
      "text/plain": [
       "<matplotlib.axes._subplots.AxesSubplot at 0x1bf1b51d1d0>"
      ]
     },
     "execution_count": 59,
     "metadata": {},
     "output_type": "execute_result"
    },
    {
     "data": {
      "image/png": "[encoded data removed]",
      "text/plain": [
       "<Figure size 432x288 with 1 Axes>"
      ]
     },
     "metadata": {
      "needs_background": "light"
     },
     "output_type": "display_data"
    }
   ],
   "source": [
    "print(weather_df.Evaporation.describe())\n",
    "print(weather_df.Evaporation.isnull().sum())\n",
    "weather_df.Rainfall.value_counts()[:3].plot(kind='barh', title='Rainfall Count Filled')"
   ]
  },
  {
   "cell_type": "markdown",
   "metadata": {},
   "source": [
    "# Sunshine overview\n",
    "\n",
    "Sunshine is missing a lot of values too. Usually we will also apply the KNN search to predict the missing values however some domain knowledge needs to be applied here. We can not determine the amount of Sunshine through evaporation, min temp, and max temp. Perhaps with location but I believe a better values will be the clouds. As the more clouds there are, the less sunshine and vice versa. Therefore we will proceed to impute sunshine when we impute the clouds."
   ]
  },
  {
   "cell_type": "code",
   "execution_count": 60,
   "metadata": {},
   "outputs": [
    {
     "name": "stdout",
     "output_type": "stream",
     "text": [
      "count    74377.000000\n",
      "mean         7.624853\n",
      "std          3.781525\n",
      "min          0.000000\n",
      "25%          4.900000\n",
      "50%          8.500000\n",
      "75%         10.600000\n",
      "max         14.500000\n",
      "Name: Sunshine, dtype: float64\n",
      "67816\n"
     ]
    }
   ],
   "source": [
    "print(weather_df.Sunshine.describe())\n",
    "print(weather_df.Sunshine.isnull().sum())"
   ]
  },
  {
   "cell_type": "code",
   "execution_count": 61,
   "metadata": {
    "scrolled": true
   },
   "outputs": [
    {
     "data": {
      "text/plain": [
       "<matplotlib.axes._subplots.AxesSubplot at 0x1bf1b614cf8>"
      ]
     },
     "execution_count": 61,
     "metadata": {},
     "output_type": "execute_result"
    },
    {
     "data": {
      "image/png": "[encoded data removed]",
      "text/plain": [
       "<Figure size 432x288 with 1 Axes>"
      ]
     },
     "metadata": {
      "needs_background": "light"
     },
     "output_type": "display_data"
    }
   ],
   "source": [
    "weather_df.Sunshine.plot(kind='box', vert=False)"
   ]
  },
  {
   "cell_type": "markdown",
   "metadata": {},
   "source": [
    "# WindGustDirection Overview\n",
    "\n",
    "There is no simple way to impute the missing values for this as it is categorical data. Currently, binning the missing values into a label under 'Unknown' will work fine as it allows us to retain the rows rather than deleting them.\n",
    "\n",
    "However, a possible solution is to use a classifier prediction model to predict each possible direction of the wind and its likely hood. As there is only 16 possible wind direction, the classifier will need to be run 16 times. It is difficulty to guess the level of accuracy this will be.\n",
    "\n",
    "Therefore, we will proceed in using the binning technique for now and possibly come back and revise on it."
   ]
  },
  {
   "cell_type": "code",
   "execution_count": 62,
   "metadata": {},
   "outputs": [
    {
     "name": "stdout",
     "output_type": "stream",
     "text": [
      "W      9780\n",
      "SE     9309\n",
      "E      9071\n",
      "N      9033\n",
      "SSE    8993\n",
      "S      8949\n",
      "WSW    8901\n",
      "SW     8797\n",
      "SSW    8610\n",
      "WNW    8066\n",
      "NW     8003\n",
      "ENE    7992\n",
      "ESE    7305\n",
      "NE     7060\n",
      "NNW    6561\n",
      "NNE    6433\n",
      "Name: WindGustDir, dtype: int64\n",
      "9330\n"
     ]
    },
    {
     "data": {
      "text/plain": [
       "<matplotlib.axes._subplots.AxesSubplot at 0x1bf1b693438>"
      ]
     },
     "execution_count": 62,
     "metadata": {},
     "output_type": "execute_result"
    },
    {
     "data": {
      "image/png": "[encoded data removed]",
      "text/plain": [
       "<Figure size 432x288 with 1 Axes>"
      ]
     },
     "metadata": {
      "needs_background": "light"
     },
     "output_type": "display_data"
    }
   ],
   "source": [
    "print(weather_df.WindGustDir.value_counts())\n",
    "print(weather_df.WindGustDir.isnull().sum())\n",
    "weather_df.WindGustDir.value_counts().plot(kind='barh')"
   ]
  },
  {
   "cell_type": "code",
   "execution_count": 63,
   "metadata": {},
   "outputs": [
    {
     "name": "stdout",
     "output_type": "stream",
     "text": [
      "W          9780\n",
      "UNKNOWN    9330\n",
      "SE         9309\n",
      "E          9071\n",
      "N          9033\n",
      "SSE        8993\n",
      "S          8949\n",
      "WSW        8901\n",
      "SW         8797\n",
      "SSW        8610\n",
      "WNW        8066\n",
      "NW         8003\n",
      "ENE        7992\n",
      "ESE        7305\n",
      "NE         7060\n",
      "NNW        6561\n",
      "NNE        6433\n",
      "Name: WindGustDir, dtype: int64\n",
      "There is 0 missing values for WindGustDir\n"
     ]
    }
   ],
   "source": [
    "weather_df.WindGustDir.fillna('UNKNOWN', inplace = True)\n",
    "print(weather_df.WindGustDir.value_counts())\n",
    "print('There is {} missing values for WindGustDir'.format(weather_df.WindGustDir.isna().sum()) )"
   ]
  },
  {
   "cell_type": "markdown",
   "metadata": {},
   "source": [
    "# Wind Gust Speed\n",
    "\n",
    "We will be imputing with median due to the amount of outliers in the variable. However we will try using the WindGustDir variable to help determine the speed. Probably won't affect much."
   ]
  },
  {
   "cell_type": "code",
   "execution_count": 64,
   "metadata": {},
   "outputs": [
    {
     "name": "stdout",
     "output_type": "stream",
     "text": [
      "count    132923.000000\n",
      "mean         39.984292\n",
      "std          13.588801\n",
      "min           6.000000\n",
      "25%          31.000000\n",
      "50%          39.000000\n",
      "75%          48.000000\n",
      "max         135.000000\n",
      "Name: WindGustSpeed, dtype: float64\n",
      "9270\n"
     ]
    },
    {
     "data": {
      "text/plain": [
       "<matplotlib.axes._subplots.AxesSubplot at 0x1bf1be1ba58>"
      ]
     },
     "execution_count": 64,
     "metadata": {},
     "output_type": "execute_result"
    },
    {
     "data": {
      "image/png": "[encoded data removed]",
      "text/plain": [
       "<Figure size 432x288 with 1 Axes>"
      ]
     },
     "metadata": {
      "needs_background": "light"
     },
     "output_type": "display_data"
    }
   ],
   "source": [
    "print(weather_df.WindGustSpeed.describe())\n",
    "print(weather_df.WindGustSpeed.isnull().sum())\n",
    "weather_df.WindGustSpeed.plot(kind='box', vert=False)"
   ]
  },
  {
   "cell_type": "code",
   "execution_count": 65,
   "metadata": {},
   "outputs": [
    {
     "data": {
      "text/plain": [
       "0"
      ]
     },
     "execution_count": 65,
     "metadata": {},
     "output_type": "execute_result"
    }
   ],
   "source": [
    "weather_df.WindGustSpeed.fillna(weather_df.groupby('WindGustDir')['WindGustSpeed'].transform(\"median\"), inplace = True)\n",
    "weather_df.WindGustSpeed.isna().sum()"
   ]
  },
  {
   "cell_type": "code",
   "execution_count": 66,
   "metadata": {},
   "outputs": [
    {
     "name": "stdout",
     "output_type": "stream",
     "text": [
      "count    142193.000000\n",
      "mean         39.985316\n",
      "std          13.138386\n",
      "min           6.000000\n",
      "25%          31.000000\n",
      "50%          39.000000\n",
      "75%          46.000000\n",
      "max         135.000000\n",
      "Name: WindGustSpeed, dtype: float64\n"
     ]
    }
   ],
   "source": [
    "print(weather_df.WindGustSpeed.describe())"
   ]
  },
  {
   "cell_type": "markdown",
   "metadata": {},
   "source": [
    "# WindDir9am\n",
    "\n",
    "Same as WindGustDir"
   ]
  },
  {
   "cell_type": "code",
   "execution_count": 67,
   "metadata": {},
   "outputs": [
    {
     "name": "stdout",
     "output_type": "stream",
     "text": [
      "N      11393\n",
      "SE      9162\n",
      "E       9024\n",
      "SSE     8966\n",
      "NW      8552\n",
      "S       8493\n",
      "W       8260\n",
      "SW      8237\n",
      "NNE     7948\n",
      "NNW     7840\n",
      "ENE     7735\n",
      "ESE     7558\n",
      "NE      7527\n",
      "SSW     7448\n",
      "WNW     7194\n",
      "WSW     6843\n",
      "Name: WindDir9am, dtype: int64\n",
      "10013\n"
     ]
    },
    {
     "data": {
      "text/plain": [
       "<matplotlib.axes._subplots.AxesSubplot at 0x1bf1b4eac88>"
      ]
     },
     "execution_count": 67,
     "metadata": {},
     "output_type": "execute_result"
    },
    {
     "data": {
      "image/png": "[encoded data removed]",
      "text/plain": [
       "<Figure size 432x288 with 1 Axes>"
      ]
     },
     "metadata": {
      "needs_background": "light"
     },
     "output_type": "display_data"
    }
   ],
   "source": [
    "print(weather_df.WindDir9am.value_counts())\n",
    "print(weather_df.WindDir9am.isnull().sum())\n",
    "weather_df.WindDir9am.value_counts().plot(kind='barh')"
   ]
  },
  {
   "cell_type": "code",
   "execution_count": 68,
   "metadata": {},
   "outputs": [
    {
     "name": "stdout",
     "output_type": "stream",
     "text": [
      "There is 0 missing WindDir9am values\n"
     ]
    }
   ],
   "source": [
    "weather_df.WindDir9am.fillna(\"UNKNOWN\", inplace = True)\n",
    "print(\"There is {} missing WindDir9am values\".format(weather_df.WindDir9am.isna().sum()))"
   ]
  },
  {
   "cell_type": "markdown",
   "metadata": {},
   "source": [
    "# Wind Dir 3pm\n",
    "Same as WindGustDir"
   ]
  },
  {
   "cell_type": "code",
   "execution_count": 69,
   "metadata": {},
   "outputs": [
    {
     "name": "stdout",
     "output_type": "stream",
     "text": [
      "SE     10663\n",
      "W       9911\n",
      "S       9598\n",
      "WSW     9329\n",
      "SW      9182\n",
      "SSE     9142\n",
      "N       8667\n",
      "WNW     8656\n",
      "NW      8468\n",
      "ESE     8382\n",
      "E       8342\n",
      "NE      8164\n",
      "SSW     8010\n",
      "NNW     7733\n",
      "ENE     7724\n",
      "NNE     6444\n",
      "Name: WindDir3pm, dtype: int64\n",
      "3778\n"
     ]
    },
    {
     "data": {
      "text/plain": [
       "<matplotlib.axes._subplots.AxesSubplot at 0x1bf1b23a1d0>"
      ]
     },
     "execution_count": 69,
     "metadata": {},
     "output_type": "execute_result"
    },
    {
     "data": {
      "image/png": "[encoded data removed]",
      "text/plain": [
       "<Figure size 432x288 with 1 Axes>"
      ]
     },
     "metadata": {
      "needs_background": "light"
     },
     "output_type": "display_data"
    }
   ],
   "source": [
    "print(weather_df.WindDir3pm.value_counts())\n",
    "print(weather_df.WindDir3pm.isnull().sum())\n",
    "weather_df.WindDir3pm.value_counts().plot(kind='barh')"
   ]
  },
  {
   "cell_type": "code",
   "execution_count": 70,
   "metadata": {},
   "outputs": [
    {
     "name": "stdout",
     "output_type": "stream",
     "text": [
      "There is 0 missing WindDir3pm values\n"
     ]
    }
   ],
   "source": [
    "weather_df.WindDir3pm.fillna(\"UNKNOWN\", inplace = True)\n",
    "print(\"There is {} missing WindDir3pm values\".format(weather_df.WindDir3pm.isna().sum()))"
   ]
  },
  {
   "cell_type": "markdown",
   "metadata": {},
   "source": [
    "# WindSpeed9am\n",
    "\n",
    "Same as WindGustSpeed"
   ]
  },
  {
   "cell_type": "code",
   "execution_count": 71,
   "metadata": {},
   "outputs": [
    {
     "name": "stdout",
     "output_type": "stream",
     "text": [
      "count    140845.000000\n",
      "mean         14.001988\n",
      "std           8.893337\n",
      "min           0.000000\n",
      "25%           7.000000\n",
      "50%          13.000000\n",
      "75%          19.000000\n",
      "max         130.000000\n",
      "Name: WindSpeed9am, dtype: float64\n",
      "1348\n"
     ]
    },
    {
     "data": {
      "text/plain": [
       "<matplotlib.axes._subplots.AxesSubplot at 0x1bf1aec0f98>"
      ]
     },
     "execution_count": 71,
     "metadata": {},
     "output_type": "execute_result"
    },
    {
     "data": {
      "image/png": "[encoded data removed]",
      "text/plain": [
       "<Figure size 432x288 with 1 Axes>"
      ]
     },
     "metadata": {
      "needs_background": "light"
     },
     "output_type": "display_data"
    }
   ],
   "source": [
    "print(weather_df.WindSpeed9am.describe())\n",
    "print(weather_df.WindSpeed9am.isnull().sum())\n",
    "weather_df.WindSpeed9am.plot(kind='box', vert = False)"
   ]
  },
  {
   "cell_type": "code",
   "execution_count": 72,
   "metadata": {},
   "outputs": [
    {
     "name": "stdout",
     "output_type": "stream",
     "text": [
      "There is 0 missing values for WindSpeed9am\n"
     ]
    }
   ],
   "source": [
    "weather_df.WindSpeed9am.fillna(weather_df.WindSpeed9am.median(), inplace = True)\n",
    "print('There is {} missing values for WindSpeed9am'.format(weather_df.WindSpeed9am.isna().sum()))"
   ]
  },
  {
   "cell_type": "code",
   "execution_count": 73,
   "metadata": {},
   "outputs": [
    {
     "name": "stdout",
     "output_type": "stream",
     "text": [
      "count    142193.000000\n",
      "mean         13.992489\n",
      "std           8.851614\n",
      "min           0.000000\n",
      "25%           7.000000\n",
      "50%          13.000000\n",
      "75%          19.000000\n",
      "max         130.000000\n",
      "Name: WindSpeed9am, dtype: float64\n"
     ]
    },
    {
     "data": {
      "text/plain": [
       "<matplotlib.axes._subplots.AxesSubplot at 0x1bf1af2ef60>"
      ]
     },
     "execution_count": 73,
     "metadata": {},
     "output_type": "execute_result"
    },
    {
     "data": {
      "image/png": "[encoded data removed]",
      "text/plain": [
       "<Figure size 432x288 with 1 Axes>"
      ]
     },
     "metadata": {
      "needs_background": "light"
     },
     "output_type": "display_data"
    }
   ],
   "source": [
    "print(weather_df.WindSpeed9am.describe())\n",
    "weather_df.WindSpeed9am.plot(kind='box', vert = False)"
   ]
  },
  {
   "cell_type": "markdown",
   "metadata": {},
   "source": [
    "# Wind Speed 3pm\n",
    "Same as WindGustSpeed"
   ]
  },
  {
   "cell_type": "code",
   "execution_count": 74,
   "metadata": {
    "scrolled": true
   },
   "outputs": [
    {
     "name": "stdout",
     "output_type": "stream",
     "text": [
      "count    139563.000000\n",
      "mean         18.637576\n",
      "std           8.803345\n",
      "min           0.000000\n",
      "25%          13.000000\n",
      "50%          19.000000\n",
      "75%          24.000000\n",
      "max          87.000000\n",
      "Name: WindSpeed3pm, dtype: float64\n",
      "2630\n"
     ]
    },
    {
     "data": {
      "text/plain": [
       "<matplotlib.axes._subplots.AxesSubplot at 0x1bf1b3f8198>"
      ]
     },
     "execution_count": 74,
     "metadata": {},
     "output_type": "execute_result"
    },
    {
     "data": {
      "image/png": "[encoded data removed]",
      "text/plain": [
       "<Figure size 432x288 with 1 Axes>"
      ]
     },
     "metadata": {
      "needs_background": "light"
     },
     "output_type": "display_data"
    }
   ],
   "source": [
    "print(weather_df.WindSpeed3pm.describe())\n",
    "print(weather_df.WindSpeed3pm.isnull().sum())\n",
    "weather_df.WindSpeed3pm.plot(kind='box', vert = False)"
   ]
  },
  {
   "cell_type": "code",
   "execution_count": 75,
   "metadata": {},
   "outputs": [
    {
     "name": "stdout",
     "output_type": "stream",
     "text": [
      "There is 0 missing values for WindSpeed3pm\n"
     ]
    }
   ],
   "source": [
    "weather_df.WindSpeed3pm.fillna(weather_df.WindSpeed3pm.median(), inplace = True)\n",
    "print('There is {} missing values for WindSpeed3pm'.format(weather_df.WindSpeed3pm.isna().sum()))"
   ]
  },
  {
   "cell_type": "code",
   "execution_count": 76,
   "metadata": {},
   "outputs": [
    {
     "name": "stdout",
     "output_type": "stream",
     "text": [
      "count    142193.000000\n",
      "mean         18.644279\n",
      "std           8.721688\n",
      "min           0.000000\n",
      "25%          13.000000\n",
      "50%          19.000000\n",
      "75%          24.000000\n",
      "max          87.000000\n",
      "Name: WindSpeed3pm, dtype: float64\n"
     ]
    },
    {
     "data": {
      "text/plain": [
       "<matplotlib.axes._subplots.AxesSubplot at 0x1bf1b3b1828>"
      ]
     },
     "execution_count": 76,
     "metadata": {},
     "output_type": "execute_result"
    },
    {
     "data": {
      "image/png": "[encoded data removed]",
      "text/plain": [
       "<Figure size 432x288 with 1 Axes>"
      ]
     },
     "metadata": {
      "needs_background": "light"
     },
     "output_type": "display_data"
    }
   ],
   "source": [
    "print(weather_df.WindSpeed3pm.describe())\n",
    "weather_df.WindSpeed3pm.plot(kind='box', vert = False)"
   ]
  },
  {
   "cell_type": "markdown",
   "metadata": {},
   "source": [
    "# Humidity 9am\n",
    "Same as WindGustSpeed"
   ]
  },
  {
   "cell_type": "code",
   "execution_count": 77,
   "metadata": {
    "scrolled": true
   },
   "outputs": [
    {
     "name": "stdout",
     "output_type": "stream",
     "text": [
      "count    140419.000000\n",
      "mean         68.843810\n",
      "std          19.051293\n",
      "min           0.000000\n",
      "25%          57.000000\n",
      "50%          70.000000\n",
      "75%          83.000000\n",
      "max         100.000000\n",
      "Name: Humidity9am, dtype: float64\n",
      "1774\n"
     ]
    },
    {
     "data": {
      "text/plain": [
       "<matplotlib.axes._subplots.AxesSubplot at 0x1bf1b9ab400>"
      ]
     },
     "execution_count": 77,
     "metadata": {},
     "output_type": "execute_result"
    },
    {
     "data": {
      "image/png": "[encoded data removed]",
      "text/plain": [
       "<Figure size 432x288 with 1 Axes>"
      ]
     },
     "metadata": {
      "needs_background": "light"
     },
     "output_type": "display_data"
    }
   ],
   "source": [
    "print(weather_df.Humidity9am.describe())\n",
    "print(weather_df.Humidity9am.isnull().sum())\n",
    "weather_df.Humidity9am.plot(kind='box', vert = False)"
   ]
  },
  {
   "cell_type": "code",
   "execution_count": 78,
   "metadata": {},
   "outputs": [
    {
     "name": "stdout",
     "output_type": "stream",
     "text": [
      "There is 0 missing values for Humidity9am\n"
     ]
    }
   ],
   "source": [
    "weather_df.Humidity9am.fillna(weather_df.Humidity9am.median(), inplace = True)\n",
    "print('There is {} missing values for Humidity9am'.format(weather_df.Humidity9am.isna().sum()))"
   ]
  },
  {
   "cell_type": "code",
   "execution_count": 79,
   "metadata": {},
   "outputs": [
    {
     "name": "stdout",
     "output_type": "stream",
     "text": [
      "count    142193.000000\n",
      "mean         68.858235\n",
      "std          18.932512\n",
      "min           0.000000\n",
      "25%          57.000000\n",
      "50%          70.000000\n",
      "75%          83.000000\n",
      "max         100.000000\n",
      "Name: Humidity9am, dtype: float64\n"
     ]
    },
    {
     "data": {
      "text/plain": [
       "<matplotlib.axes._subplots.AxesSubplot at 0x1bf1ba01e80>"
      ]
     },
     "execution_count": 79,
     "metadata": {},
     "output_type": "execute_result"
    },
    {
     "data": {
      "image/png": "[encoded data removed]",
      "text/plain": [
       "<Figure size 432x288 with 1 Axes>"
      ]
     },
     "metadata": {
      "needs_background": "light"
     },
     "output_type": "display_data"
    }
   ],
   "source": [
    "print(weather_df.Humidity9am.describe())\n",
    "weather_df.Humidity9am.plot(kind='box', vert = False)"
   ]
  },
  {
   "cell_type": "markdown",
   "metadata": {},
   "source": [
    "# Humidity3pm\n",
    "Same as WindGustSpeed"
   ]
  },
  {
   "cell_type": "code",
   "execution_count": 80,
   "metadata": {
    "scrolled": true
   },
   "outputs": [
    {
     "name": "stdout",
     "output_type": "stream",
     "text": [
      "count    138583.000000\n",
      "mean         51.482606\n",
      "std          20.797772\n",
      "min           0.000000\n",
      "25%          37.000000\n",
      "50%          52.000000\n",
      "75%          66.000000\n",
      "max         100.000000\n",
      "Name: Humidity3pm, dtype: float64\n",
      "3610\n"
     ]
    },
    {
     "data": {
      "text/plain": [
       "<matplotlib.axes._subplots.AxesSubplot at 0x1bf1be5fa58>"
      ]
     },
     "execution_count": 80,
     "metadata": {},
     "output_type": "execute_result"
    },
    {
     "data": {
      "image/png": "[encoded data removed]",
      "text/plain": [
       "<Figure size 432x288 with 1 Axes>"
      ]
     },
     "metadata": {
      "needs_background": "light"
     },
     "output_type": "display_data"
    }
   ],
   "source": [
    "print(weather_df.Humidity3pm.describe())\n",
    "print(weather_df.Humidity3pm.isnull().sum())\n",
    "weather_df.Humidity3pm.plot(kind='box', vert = False)"
   ]
  },
  {
   "cell_type": "code",
   "execution_count": 81,
   "metadata": {},
   "outputs": [
    {
     "name": "stdout",
     "output_type": "stream",
     "text": [
      "There is 0 missing values for Humidity3pm\n"
     ]
    }
   ],
   "source": [
    "weather_df.Humidity3pm.fillna(weather_df.Humidity3pm.median(), inplace = True)\n",
    "print('There is {} missing values for Humidity3pm'.format(weather_df.Humidity3pm.isna().sum()))"
   ]
  },
  {
   "cell_type": "code",
   "execution_count": 82,
   "metadata": {},
   "outputs": [
    {
     "name": "stdout",
     "output_type": "stream",
     "text": [
      "count    142193.000000\n",
      "mean         51.495742\n",
      "std          20.532227\n",
      "min           0.000000\n",
      "25%          37.000000\n",
      "50%          52.000000\n",
      "75%          65.000000\n",
      "max         100.000000\n",
      "Name: Humidity3pm, dtype: float64\n"
     ]
    },
    {
     "data": {
      "text/plain": [
       "<matplotlib.axes._subplots.AxesSubplot at 0x1bf1becd3c8>"
      ]
     },
     "execution_count": 82,
     "metadata": {},
     "output_type": "execute_result"
    },
    {
     "data": {
      "image/png": "[encoded data removed]",
      "text/plain": [
       "<Figure size 432x288 with 1 Axes>"
      ]
     },
     "metadata": {
      "needs_background": "light"
     },
     "output_type": "display_data"
    }
   ],
   "source": [
    "print(weather_df.Humidity3pm.describe())\n",
    "weather_df.Humidity3pm.plot(kind='box', vert = False)"
   ]
  },
  {
   "cell_type": "markdown",
   "metadata": {},
   "source": [
    "# Pressure9am\n",
    "Same as WindGustSpeed"
   ]
  },
  {
   "cell_type": "code",
   "execution_count": 83,
   "metadata": {
    "scrolled": false
   },
   "outputs": [
    {
     "name": "stdout",
     "output_type": "stream",
     "text": [
      "count    128179.000000\n",
      "mean       1017.653758\n",
      "std           7.105476\n",
      "min         980.500000\n",
      "25%        1012.900000\n",
      "50%        1017.600000\n",
      "75%        1022.400000\n",
      "max        1041.000000\n",
      "Name: Pressure9am, dtype: float64\n",
      "14014\n"
     ]
    },
    {
     "data": {
      "text/plain": [
       "<matplotlib.axes._subplots.AxesSubplot at 0x1bf1b9effd0>"
      ]
     },
     "execution_count": 83,
     "metadata": {},
     "output_type": "execute_result"
    },
    {
     "data": {
      "image/png": "[encoded data removed]",
      "text/plain": [
       "<Figure size 432x288 with 1 Axes>"
      ]
     },
     "metadata": {
      "needs_background": "light"
     },
     "output_type": "display_data"
    }
   ],
   "source": [
    "print(weather_df.Pressure9am.describe())\n",
    "print(weather_df.Pressure9am.isnull().sum())\n",
    "weather_df.Pressure9am.plot(kind='box', vert = False)"
   ]
  },
  {
   "cell_type": "code",
   "execution_count": 84,
   "metadata": {},
   "outputs": [
    {
     "name": "stdout",
     "output_type": "stream",
     "text": [
      "There is 0 missing values for Pressure9am\n"
     ]
    }
   ],
   "source": [
    "weather_df.Pressure9am.fillna(weather_df.groupby('WindSpeed9am')['Pressure9am'].transform(\"median\"), inplace = True)\n",
    "weather_df.Pressure9am.fillna(weather_df.Pressure9am.median(), inplace = True)\n",
    "print('There is {} missing values for Pressure9am'.format(weather_df.Pressure9am.isna().sum()))"
   ]
  },
  {
   "cell_type": "code",
   "execution_count": 85,
   "metadata": {},
   "outputs": [
    {
     "name": "stdout",
     "output_type": "stream",
     "text": [
      "count    142193.000000\n",
      "mean       1017.722537\n",
      "std           6.772932\n",
      "min         980.500000\n",
      "25%        1013.500000\n",
      "50%        1017.700000\n",
      "75%        1021.800000\n",
      "max        1041.000000\n",
      "Name: Pressure9am, dtype: float64\n"
     ]
    },
    {
     "data": {
      "text/plain": [
       "<matplotlib.axes._subplots.AxesSubplot at 0x1bf1c8255f8>"
      ]
     },
     "execution_count": 85,
     "metadata": {},
     "output_type": "execute_result"
    },
    {
     "data": {
      "image/png": "[encoded data removed]",
      "text/plain": [
       "<Figure size 432x288 with 1 Axes>"
      ]
     },
     "metadata": {
      "needs_background": "light"
     },
     "output_type": "display_data"
    }
   ],
   "source": [
    "print(weather_df.Pressure9am.describe())\n",
    "weather_df.Pressure9am.plot(kind='box', vert = False)"
   ]
  },
  {
   "cell_type": "markdown",
   "metadata": {},
   "source": [
    "# Pressure3pm"
   ]
  },
  {
   "cell_type": "code",
   "execution_count": 86,
   "metadata": {
    "scrolled": true
   },
   "outputs": [
    {
     "name": "stdout",
     "output_type": "stream",
     "text": [
      "count    128212.000000\n",
      "mean       1015.258204\n",
      "std           7.036677\n",
      "min         977.100000\n",
      "25%        1010.400000\n",
      "50%        1015.200000\n",
      "75%        1020.000000\n",
      "max        1039.600000\n",
      "Name: Pressure3pm, dtype: float64\n",
      "13981\n"
     ]
    },
    {
     "data": {
      "text/plain": [
       "<matplotlib.axes._subplots.AxesSubplot at 0x1bf1c9ec0b8>"
      ]
     },
     "execution_count": 86,
     "metadata": {},
     "output_type": "execute_result"
    },
    {
     "data": {
      "image/png": "[encoded data removed]",
      "text/plain": [
       "<Figure size 432x288 with 1 Axes>"
      ]
     },
     "metadata": {
      "needs_background": "light"
     },
     "output_type": "display_data"
    }
   ],
   "source": [
    "print(weather_df.Pressure3pm.describe())\n",
    "print(weather_df.Pressure3pm.isnull().sum())\n",
    "weather_df.Pressure3pm.plot(kind='box', vert = False)"
   ]
  },
  {
   "cell_type": "code",
   "execution_count": 87,
   "metadata": {},
   "outputs": [
    {
     "name": "stdout",
     "output_type": "stream",
     "text": [
      "There is 0 missing values for Pressure3pm\n"
     ]
    }
   ],
   "source": [
    "weather_df.Pressure3pm.fillna(weather_df.groupby('WindSpeed3pm')['Pressure3pm'].transform(\"median\"), inplace = True)\n",
    "weather_df.Pressure3pm.fillna(weather_df.Pressure3pm.median(), inplace = True)\n",
    "print('There is {} missing values for Pressure3pm'.format(weather_df.Pressure3pm.isna().sum()))"
   ]
  },
  {
   "cell_type": "markdown",
   "metadata": {},
   "source": [
    "# Temp9am"
   ]
  },
  {
   "cell_type": "code",
   "execution_count": 88,
   "metadata": {
    "scrolled": true
   },
   "outputs": [
    {
     "name": "stdout",
     "output_type": "stream",
     "text": [
      "count    141289.000000\n",
      "mean         16.987509\n",
      "std           6.492838\n",
      "min          -7.200000\n",
      "25%          12.300000\n",
      "50%          16.700000\n",
      "75%          21.600000\n",
      "max          40.200000\n",
      "Name: Temp9am, dtype: float64\n",
      "904\n"
     ]
    },
    {
     "data": {
      "text/plain": [
       "<matplotlib.axes._subplots.AxesSubplot at 0x1bf1c90a3c8>"
      ]
     },
     "execution_count": 88,
     "metadata": {},
     "output_type": "execute_result"
    },
    {
     "data": {
      "image/png": "[encoded data removed]",
      "text/plain": [
       "<Figure size 432x288 with 1 Axes>"
      ]
     },
     "metadata": {
      "needs_background": "light"
     },
     "output_type": "display_data"
    }
   ],
   "source": [
    "print(weather_df.Temp9am.describe())\n",
    "print(weather_df.Temp9am.isnull().sum())\n",
    "weather_df.Temp9am.plot(kind='box', vert = False)"
   ]
  },
  {
   "cell_type": "code",
   "execution_count": 89,
   "metadata": {},
   "outputs": [
    {
     "name": "stdout",
     "output_type": "stream",
     "text": [
      "There is 0 missing values for Temp9am\n"
     ]
    }
   ],
   "source": [
    "weather_df.Temp9am.fillna(weather_df.groupby('MinTemp')['Temp9am'].transform(\"median\"), inplace = True)\n",
    "print('There is {} missing values for Temp9am'.format(weather_df.Temp9am.isna().sum()))"
   ]
  },
  {
   "cell_type": "code",
   "execution_count": 90,
   "metadata": {},
   "outputs": [
    {
     "name": "stdout",
     "output_type": "stream",
     "text": [
      "count    142193.000000\n",
      "mean         16.959450\n",
      "std           6.494093\n",
      "min          -7.200000\n",
      "25%          12.300000\n",
      "50%          16.700000\n",
      "75%          21.500000\n",
      "max          40.200000\n",
      "Name: Temp9am, dtype: float64\n"
     ]
    },
    {
     "data": {
      "text/plain": [
       "<matplotlib.axes._subplots.AxesSubplot at 0x1bf1c9686d8>"
      ]
     },
     "execution_count": 90,
     "metadata": {},
     "output_type": "execute_result"
    },
    {
     "data": {
      "image/png": "[encoded data removed]",
      "text/plain": [
       "<Figure size 432x288 with 1 Axes>"
      ]
     },
     "metadata": {
      "needs_background": "light"
     },
     "output_type": "display_data"
    }
   ],
   "source": [
    "print(weather_df.Temp9am.describe())\n",
    "weather_df.Temp9am.plot(kind='box', vert = False)"
   ]
  },
  {
   "cell_type": "markdown",
   "metadata": {},
   "source": [
    "# Temp3pm\n",
    "Same as WindGustDir"
   ]
  },
  {
   "cell_type": "code",
   "execution_count": 91,
   "metadata": {
    "scrolled": true
   },
   "outputs": [
    {
     "name": "stdout",
     "output_type": "stream",
     "text": [
      "count    139467.000000\n",
      "mean         21.687235\n",
      "std           6.937594\n",
      "min          -5.400000\n",
      "25%          16.600000\n",
      "50%          21.100000\n",
      "75%          26.400000\n",
      "max          46.700000\n",
      "Name: Temp3pm, dtype: float64\n",
      "2726\n"
     ]
    },
    {
     "data": {
      "text/plain": [
       "<matplotlib.axes._subplots.AxesSubplot at 0x1bf1cc654e0>"
      ]
     },
     "execution_count": 91,
     "metadata": {},
     "output_type": "execute_result"
    },
    {
     "data": {
      "image/png": "[encoded data removed]",
      "text/plain": [
       "<Figure size 432x288 with 1 Axes>"
      ]
     },
     "metadata": {
      "needs_background": "light"
     },
     "output_type": "display_data"
    }
   ],
   "source": [
    "print(weather_df.Temp3pm.describe())\n",
    "print(weather_df.Temp3pm.isnull().sum())\n",
    "weather_df.Temp3pm.plot(kind='box', vert = False)"
   ]
  },
  {
   "cell_type": "code",
   "execution_count": 92,
   "metadata": {},
   "outputs": [
    {
     "name": "stdout",
     "output_type": "stream",
     "text": [
      "There is 0 missing values for Temp3pm\n"
     ]
    }
   ],
   "source": [
    "weather_df.Temp3pm.fillna(weather_df.groupby('MaxTemp')['Temp3pm'].transform(\"median\"), inplace = True)\n",
    "weather_df.Temp3pm.fillna(weather_df.Temp3pm.median(), inplace = True)\n",
    "print('There is {} missing values for Temp3pm'.format(weather_df.Temp3pm.isna().sum()))"
   ]
  },
  {
   "cell_type": "code",
   "execution_count": 93,
   "metadata": {},
   "outputs": [
    {
     "name": "stdout",
     "output_type": "stream",
     "text": [
      "count    142193.000000\n",
      "mean         21.723727\n",
      "std           6.973222\n",
      "min          -5.400000\n",
      "25%          16.600000\n",
      "50%          21.100000\n",
      "75%          26.500000\n",
      "max          46.700000\n",
      "Name: Temp3pm, dtype: float64\n"
     ]
    },
    {
     "data": {
      "text/plain": [
       "<matplotlib.axes._subplots.AxesSubplot at 0x1bf1cb58400>"
      ]
     },
     "execution_count": 93,
     "metadata": {},
     "output_type": "execute_result"
    },
    {
     "data": {
      "image/png": "[encoded data removed]",
      "text/plain": [
       "<Figure size 432x288 with 1 Axes>"
      ]
     },
     "metadata": {
      "needs_background": "light"
     },
     "output_type": "display_data"
    }
   ],
   "source": [
    "print(weather_df.Temp3pm.describe())\n",
    "weather_df.Temp3pm.plot(kind='box', vert = False)"
   ]
  },
  {
   "cell_type": "markdown",
   "metadata": {},
   "source": [
    "# RISK MM\n",
    "\n",
    "### NOTE: USING THIS VALUE WILL GIVE PREDICTIONS OF WHETHER OR NOT IF IT WILL RAIN TOMORROW. DO NOT USE.\n"
   ]
  },
  {
   "cell_type": "code",
   "execution_count": 94,
   "metadata": {
    "scrolled": true
   },
   "outputs": [
    {
     "name": "stdout",
     "output_type": "stream",
     "text": [
      "count    142193.000000\n",
      "mean          2.360682\n",
      "std           8.477969\n",
      "min           0.000000\n",
      "25%           0.000000\n",
      "50%           0.000000\n",
      "75%           0.800000\n",
      "max         371.000000\n",
      "Name: RISK_MM, dtype: float64\n",
      "0\n"
     ]
    }
   ],
   "source": [
    "print(weather_df.RISK_MM.describe())\n",
    "print(weather_df.RISK_MM.isnull().sum())"
   ]
  },
  {
   "cell_type": "markdown",
   "metadata": {},
   "source": [
    "# RainToday"
   ]
  },
  {
   "cell_type": "code",
   "execution_count": 95,
   "metadata": {},
   "outputs": [
    {
     "name": "stdout",
     "output_type": "stream",
     "text": [
      "No     109332\n",
      "Yes     31455\n",
      "Name: RainToday, dtype: int64\n",
      "1406\n"
     ]
    }
   ],
   "source": [
    "print(weather_df.RainToday.value_counts())\n",
    "print(weather_df.RainToday.isnull().sum())"
   ]
  },
  {
   "cell_type": "code",
   "execution_count": 96,
   "metadata": {},
   "outputs": [],
   "source": [
    "rain_dict = {'No': 0, 'Yes': 1}\n",
    "weather_df['RainToday'] = weather_df['RainToday'].map(rain_dict)"
   ]
  },
  {
   "cell_type": "code",
   "execution_count": 97,
   "metadata": {},
   "outputs": [],
   "source": [
    "weather_df['RainToday'].fillna(0, inplace=True)"
   ]
  },
  {
   "cell_type": "code",
   "execution_count": 98,
   "metadata": {},
   "outputs": [
    {
     "data": {
      "text/plain": [
       "0"
      ]
     },
     "execution_count": 98,
     "metadata": {},
     "output_type": "execute_result"
    }
   ],
   "source": [
    "weather_df.RainToday.isnull().sum()"
   ]
  },
  {
   "cell_type": "markdown",
   "metadata": {},
   "source": [
    "# Cloud 9am\n",
    "Uncertain on what metric is being used to determine the clouds. So we will just proceed with using KNN to predict the missing values. In fact, it should be a multi-class binary issue. However we will just use regression for now and will fix this on later review."
   ]
  },
  {
   "cell_type": "code",
   "execution_count": 99,
   "metadata": {
    "scrolled": true
   },
   "outputs": [
    {
     "name": "stdout",
     "output_type": "stream",
     "text": [
      "count    88536.000000\n",
      "mean         4.437189\n",
      "std          2.887016\n",
      "min          0.000000\n",
      "25%          1.000000\n",
      "50%          5.000000\n",
      "75%          7.000000\n",
      "max          9.000000\n",
      "Name: Cloud9am, dtype: float64\n",
      "53657\n"
     ]
    },
    {
     "data": {
      "text/plain": [
       "<matplotlib.axes._subplots.AxesSubplot at 0x1bf1b43c160>"
      ]
     },
     "execution_count": 99,
     "metadata": {},
     "output_type": "execute_result"
    },
    {
     "data": {
      "image/png": "[encoded data removed]",
      "text/plain": [
       "<Figure size 432x288 with 1 Axes>"
      ]
     },
     "metadata": {
      "needs_background": "light"
     },
     "output_type": "display_data"
    }
   ],
   "source": [
    "print(weather_df.Cloud9am.describe())\n",
    "print(weather_df.Cloud9am.isnull().sum())\n",
    "weather_df.Cloud9am.plot(kind='box', vert = False)"
   ]
  },
  {
   "cell_type": "code",
   "execution_count": 100,
   "metadata": {
    "scrolled": true
   },
   "outputs": [],
   "source": [
    "cloud9am_null = weather_df.loc[weather_df.Cloud9am.isnull(), ['Temp9am', 'WindSpeed9am', 'Humidity9am', 'Pressure9am']]"
   ]
  },
  {
   "cell_type": "code",
   "execution_count": 101,
   "metadata": {},
   "outputs": [],
   "source": [
    "temp_df = pd.concat([weather_df.Temp9am, weather_df.WindSpeed9am, weather_df.Humidity9am, \n",
    "                              weather_df.Cloud9am, weather_df.Pressure9am], axis=1).dropna()\n",
    "X,y = temp_df.iloc[:,temp_df.columns != 'Cloud9am'], temp_df['Cloud9am']\n",
    "X_train, X_test, y_train, y_test = train_test_split(X, y, test_size = 0.2, random_state=42)"
   ]
  },
  {
   "cell_type": "code",
   "execution_count": 102,
   "metadata": {},
   "outputs": [
    {
     "name": "stdout",
     "output_type": "stream",
     "text": [
      "KNN on neighbors = 1 has a rmse of 3.438962433026404 and took 1.125 seconds to compute\n",
      "KNN on neighbors = 3 has a rmse of 2.8040727673389267 and took 1.5 seconds to compute\n",
      "KNN on neighbors = 5 has a rmse of 2.659584234250509 and took 1.65625 seconds to compute\n",
      "KNN on neighbors = 7 has a rmse of 2.6017399060379582 and took 1.65625 seconds to compute\n",
      "KNN on neighbors = 9 has a rmse of 2.563968125066214 and took 1.796875 seconds to compute\n",
      "KNN on neighbors = 11 has a rmse of 2.5372476086771183 and took 1.671875 seconds to compute\n",
      "KNN on neighbors = 13 has a rmse of 2.523462969456337 and took 1.6875 seconds to compute\n",
      "KNN on neighbors = 15 has a rmse of 2.5114073005028272 and took 1.828125 seconds to compute\n",
      "KNN on neighbors = 17 has a rmse of 2.50273778633754 and took 1.625 seconds to compute\n",
      "KNN on neighbors = 19 has a rmse of 2.494479675285486 and took 1.75 seconds to compute\n",
      "KNN on neighbors = 21 has a rmse of 2.4896079778760303 and took 1.734375 seconds to compute\n",
      "KNN on neighbors = 23 has a rmse of 2.486129039186673 and took 1.84375 seconds to compute\n",
      "KNN on neighbors = 25 has a rmse of 2.4803858535278023 and took 1.796875 seconds to compute\n",
      "KNN on neighbors = 27 has a rmse of 2.4783076742513774 and took 1.796875 seconds to compute\n",
      "KNN on neighbors = 29 has a rmse of 2.477616823738703 and took 1.90625 seconds to compute\n",
      "KNN on neighbors = 31 has a rmse of 2.476929817657098 and took 1.9375 seconds to compute\n",
      "KNN on neighbors = 33 has a rmse of 2.475722416925199 and took 1.8125 seconds to compute\n",
      "KNN on neighbors = 35 has a rmse of 2.475182684462765 and took 1.953125 seconds to compute\n",
      "KNN on neighbors = 37 has a rmse of 2.4739100030092334 and took 1.96875 seconds to compute\n",
      "KNN on neighbors = 39 has a rmse of 2.472308009093635 and took 1.84375 seconds to compute\n",
      "KNN on neighbors = 41 has a rmse of 2.471799441692507 and took 1.859375 seconds to compute\n",
      "KNN on neighbors = 43 has a rmse of 2.4695784382355086 and took 2.0 seconds to compute\n",
      "KNN on neighbors = 45 has a rmse of 2.4684394260294447 and took 2.0 seconds to compute\n",
      "KNN on neighbors = 47 has a rmse of 2.4670038133935215 and took 1.890625 seconds to compute\n",
      "KNN on neighbors = 49 has a rmse of 2.4665982334403087 and took 1.921875 seconds to compute\n"
     ]
    }
   ],
   "source": [
    "cloud9am_score = []\n",
    "cloud9am_timer = []\n",
    "for k in neighbors:\n",
    "    neighbor_search(X_train, X_test, y_train, y_test, k, cloud9am_score, cloud9am_timer)"
   ]
  },
  {
   "cell_type": "code",
   "execution_count": 103,
   "metadata": {},
   "outputs": [
    {
     "data": {
      "image/png": "[encoded data removed]",
      "text/plain": [
       "<Figure size 432x288 with 1 Axes>"
      ]
     },
     "metadata": {
      "needs_background": "light"
     },
     "output_type": "display_data"
    }
   ],
   "source": [
    "plt.plot(neighbors, cloud9am_score)\n",
    "plt.xlabel('Numbers of Neighbors K')\n",
    "plt.ylabel('RMSE')\n",
    "plt.title('K-Nearest Neighbors of Evaporation')\n",
    "plt.show()"
   ]
  },
  {
   "cell_type": "code",
   "execution_count": 104,
   "metadata": {},
   "outputs": [],
   "source": [
    "cv_cloud9am_scores = []\n",
    "cv_cloud9am_timer = []\n",
    "kf = KFold(10, True)\n",
    "fold = 0\n",
    "for k in neighbors:\n",
    "    temp_cv_scores = []\n",
    "    for train, test in kf.split(X):\n",
    "        fold += 1\n",
    "        X_train, X_test = X.values[train], X.values[test]\n",
    "        y_train, y_test = y.values[train], y.values[test]\n",
    "        cv_neighbor_search(X_train, X_test, y_train, y_test, k, temp_cv_scores, cv_cloud9am_timer)\n",
    "    cv_cloud9am_scores.append(np.min(temp_cv_scores))\n",
    "    cv_cloud9am_timer.append(np.min(cv_max_timer))"
   ]
  },
  {
   "cell_type": "code",
   "execution_count": 105,
   "metadata": {
    "scrolled": true
   },
   "outputs": [
    {
     "data": {
      "image/png": "[encoded data removed]",
      "text/plain": [
       "<Figure size 432x288 with 1 Axes>"
      ]
     },
     "metadata": {
      "needs_background": "light"
     },
     "output_type": "display_data"
    }
   ],
   "source": [
    "plt.plot(neighbors, cloud9am_score, label='RMSE') \n",
    "plt.plot(neighbors, cv_cloud9am_scores, label='CV-RMSE')\n",
    "plt.xlabel('Numbers of Neighbors K')\n",
    "plt.ylabel('RMSE')\n",
    "plt.title('K-Nearest Neighbors RMSE and 10-Fold Cross Validation of MaxTemp')\n",
    "plt.legend(loc='upper right')\n",
    "plt.show()"
   ]
  },
  {
   "cell_type": "code",
   "execution_count": 106,
   "metadata": {
    "scrolled": false
   },
   "outputs": [
    {
     "name": "stdout",
     "output_type": "stream",
     "text": [
      "47\n"
     ]
    }
   ],
   "source": [
    "optimal_k = neighbors[cv_cloud9am_scores.index(min(cv_cloud9am_scores))]\n",
    "print(optimal_k)"
   ]
  },
  {
   "cell_type": "code",
   "execution_count": 107,
   "metadata": {},
   "outputs": [],
   "source": [
    "cloud9am_model = KNeighborsRegressor(n_neighbors=31)\n",
    "cloud9am_model.fit(X_train, y_train)\n",
    "cloud9am_predictions = cloud9am_model.predict(cloud9am_null)\n",
    "cloud9am_results = pd.DataFrame(cloud9am_predictions, columns=['cloud9am'])\n",
    "cloud9am_results = cloud9am_results.round(1)\n",
    "weather_df['Cloud9am'] = weather_df['Cloud9am'].fillna(cloud9am_results['cloud9am'].values[0])"
   ]
  },
  {
   "cell_type": "code",
   "execution_count": 108,
   "metadata": {
    "scrolled": false
   },
   "outputs": [
    {
     "name": "stdout",
     "output_type": "stream",
     "text": [
      "count    142193.000000\n",
      "mean          3.932597\n",
      "std           2.368496\n",
      "min           0.000000\n",
      "25%           3.000000\n",
      "50%           3.100000\n",
      "75%           6.000000\n",
      "max           9.000000\n",
      "Name: Cloud9am, dtype: float64\n",
      "0\n"
     ]
    },
    {
     "data": {
      "text/plain": [
       "<matplotlib.axes._subplots.AxesSubplot at 0x1bf1bacf320>"
      ]
     },
     "execution_count": 108,
     "metadata": {},
     "output_type": "execute_result"
    },
    {
     "data": {
      "image/png": "[encoded data removed]",
      "text/plain": [
       "<Figure size 432x288 with 1 Axes>"
      ]
     },
     "metadata": {
      "needs_background": "light"
     },
     "output_type": "display_data"
    }
   ],
   "source": [
    "print(weather_df.Cloud9am.describe())\n",
    "print(weather_df.Cloud9am.isnull().sum())\n",
    "weather_df.Cloud9am.plot(kind='box', vert = False)"
   ]
  },
  {
   "cell_type": "markdown",
   "metadata": {},
   "source": [
    "# Cloud3pm\n",
    "Same as cloud9am"
   ]
  },
  {
   "cell_type": "code",
   "execution_count": 109,
   "metadata": {
    "scrolled": true
   },
   "outputs": [
    {
     "name": "stdout",
     "output_type": "stream",
     "text": [
      "count    85099.000000\n",
      "mean         4.503167\n",
      "std          2.720633\n",
      "min          0.000000\n",
      "25%          2.000000\n",
      "50%          5.000000\n",
      "75%          7.000000\n",
      "max          9.000000\n",
      "Name: Cloud3pm, dtype: float64\n",
      "57094\n"
     ]
    },
    {
     "data": {
      "text/plain": [
       "<matplotlib.axes._subplots.AxesSubplot at 0x1bf1bb1ac18>"
      ]
     },
     "execution_count": 109,
     "metadata": {},
     "output_type": "execute_result"
    },
    {
     "data": {
      "image/png": "[encoded data removed]",
      "text/plain": [
       "<Figure size 432x288 with 1 Axes>"
      ]
     },
     "metadata": {
      "needs_background": "light"
     },
     "output_type": "display_data"
    }
   ],
   "source": [
    "print(weather_df.Cloud3pm.describe())\n",
    "print(weather_df.Cloud3pm.isnull().sum())\n",
    "weather_df.Cloud3pm.plot(kind='box', vert = False)"
   ]
  },
  {
   "cell_type": "code",
   "execution_count": 110,
   "metadata": {
    "scrolled": true
   },
   "outputs": [],
   "source": [
    "cloud3pm_null = weather_df.loc[weather_df.Cloud3pm.isnull(), ['Temp9am', 'WindSpeed9am', 'Humidity9am', 'Pressure9am', \n",
    "                                                              'Cloud9am']]"
   ]
  },
  {
   "cell_type": "code",
   "execution_count": 111,
   "metadata": {},
   "outputs": [],
   "source": [
    "temp_df = pd.concat([weather_df.Temp9am, weather_df.WindSpeed9am, weather_df.Humidity9am, \n",
    "                              weather_df.Cloud9am, weather_df.Pressure9am, weather_df.Cloud3pm], axis=1).dropna()\n",
    "X,y = temp_df.iloc[:,temp_df.columns != 'Cloud3pm'], temp_df['Cloud3pm']\n",
    "X_train, X_test, y_train, y_test = train_test_split(X, y, test_size = 0.2, random_state=42)"
   ]
  },
  {
   "cell_type": "code",
   "execution_count": 112,
   "metadata": {},
   "outputs": [
    {
     "name": "stdout",
     "output_type": "stream",
     "text": [
      "KNN on neighbors = 1 has a rmse of 3.012742230291361 and took 0.140625 seconds to compute\n",
      "KNN on neighbors = 3 has a rmse of 2.449615001818734 and took 1.5 seconds to compute\n",
      "KNN on neighbors = 5 has a rmse of 2.3291399844105602 and took 1.640625 seconds to compute\n",
      "KNN on neighbors = 7 has a rmse of 2.2769393633948813 and took 1.6875 seconds to compute\n",
      "KNN on neighbors = 9 has a rmse of 2.240979720133156 and took 1.6875 seconds to compute\n",
      "KNN on neighbors = 11 has a rmse of 2.2252130815924693 and took 1.71875 seconds to compute\n",
      "KNN on neighbors = 13 has a rmse of 2.2103924930034355 and took 1.734375 seconds to compute\n",
      "KNN on neighbors = 15 has a rmse of 2.201054181312739 and took 1.875 seconds to compute\n",
      "KNN on neighbors = 17 has a rmse of 2.196367211071924 and took 1.765625 seconds to compute\n",
      "KNN on neighbors = 19 has a rmse of 2.191960221063232 and took 1.78125 seconds to compute\n",
      "KNN on neighbors = 21 has a rmse of 2.1886323142276765 and took 1.90625 seconds to compute\n",
      "KNN on neighbors = 23 has a rmse of 2.186221681258488 and took 1.921875 seconds to compute\n",
      "KNN on neighbors = 25 has a rmse of 2.182519356227001 and took 1.828125 seconds to compute\n",
      "KNN on neighbors = 27 has a rmse of 2.180874600706768 and took 1.859375 seconds to compute\n",
      "KNN on neighbors = 29 has a rmse of 2.1789301807887242 and took 1.859375 seconds to compute\n",
      "KNN on neighbors = 31 has a rmse of 2.1783270440723266 and took 1.984375 seconds to compute\n",
      "KNN on neighbors = 33 has a rmse of 2.176343753888327 and took 2.0 seconds to compute\n",
      "KNN on neighbors = 35 has a rmse of 2.1760033711460833 and took 1.90625 seconds to compute\n",
      "KNN on neighbors = 37 has a rmse of 2.1752970876118414 and took 2.03125 seconds to compute\n",
      "KNN on neighbors = 39 has a rmse of 2.1737910333036004 and took 2.046875 seconds to compute\n",
      "KNN on neighbors = 41 has a rmse of 2.173879355376847 and took 1.9375 seconds to compute\n",
      "KNN on neighbors = 43 has a rmse of 2.1729310123390047 and took 2.078125 seconds to compute\n",
      "KNN on neighbors = 45 has a rmse of 2.1723128230004045 and took 2.078125 seconds to compute\n",
      "KNN on neighbors = 47 has a rmse of 2.1716208951655673 and took 2.09375 seconds to compute\n",
      "KNN on neighbors = 49 has a rmse of 2.1714788990838643 and took 2.109375 seconds to compute\n"
     ]
    }
   ],
   "source": [
    "cloud3pm_score = []\n",
    "cloud3pm_timer = []\n",
    "for k in neighbors:\n",
    "    neighbor_search(X_train, X_test, y_train, y_test, k, cloud3pm_score, cloud3pm_timer)"
   ]
  },
  {
   "cell_type": "code",
   "execution_count": 113,
   "metadata": {},
   "outputs": [
    {
     "data": {
      "image/png": "[encoded data removed]",
      "text/plain": [
       "<Figure size 432x288 with 1 Axes>"
      ]
     },
     "metadata": {
      "needs_background": "light"
     },
     "output_type": "display_data"
    }
   ],
   "source": [
    "plt.plot(neighbors, cloud3pm_score)\n",
    "plt.xlabel('Numbers of Neighbors K')\n",
    "plt.ylabel('RMSE')\n",
    "plt.title('K-Nearest Neighbors of Evaporation')\n",
    "plt.show()"
   ]
  },
  {
   "cell_type": "code",
   "execution_count": 114,
   "metadata": {},
   "outputs": [],
   "source": [
    "cv_cloud3pm_scores = []\n",
    "cv_cloud3pm_timer = []\n",
    "kf = KFold(10, True)\n",
    "fold = 0\n",
    "for k in neighbors:\n",
    "    temp_cv_scores = []\n",
    "    for train, test in kf.split(X):\n",
    "        fold += 1\n",
    "        X_train, X_test = X.values[train], X.values[test]\n",
    "        y_train, y_test = y.values[train], y.values[test]\n",
    "        cv_neighbor_search(X_train, X_test, y_train, y_test, k, temp_cv_scores, cv_cloud3pm_timer)\n",
    "    cv_cloud3pm_scores.append(np.min(temp_cv_scores))\n",
    "    cv_cloud3pm_timer.append(np.min(cv_max_timer))"
   ]
  },
  {
   "cell_type": "code",
   "execution_count": 115,
   "metadata": {
    "scrolled": true
   },
   "outputs": [
    {
     "data": {
      "image/png": "[encoded data removed]",
      "text/plain": [
       "<Figure size 432x288 with 1 Axes>"
      ]
     },
     "metadata": {
      "needs_background": "light"
     },
     "output_type": "display_data"
    }
   ],
   "source": [
    "plt.plot(neighbors, cloud3pm_score, label='RMSE') \n",
    "plt.plot(neighbors, cv_cloud3pm_scores, label='CV-RMSE')\n",
    "plt.xlabel('Numbers of Neighbors K')\n",
    "plt.ylabel('RMSE')\n",
    "plt.title('K-Nearest Neighbors RMSE and 10-Fold Cross Validation of MaxTemp')\n",
    "plt.legend(loc='upper right')\n",
    "plt.show()"
   ]
  },
  {
   "cell_type": "code",
   "execution_count": 116,
   "metadata": {
    "scrolled": false
   },
   "outputs": [
    {
     "name": "stdout",
     "output_type": "stream",
     "text": [
      "41\n"
     ]
    }
   ],
   "source": [
    "optimal_k = neighbors[cv_cloud3pm_scores.index(min(cv_cloud3pm_scores))]\n",
    "print(optimal_k)"
   ]
  },
  {
   "cell_type": "code",
   "execution_count": 117,
   "metadata": {},
   "outputs": [],
   "source": [
    "cloud3pm_model = KNeighborsRegressor(n_neighbors=33)\n",
    "cloud3pm_model.fit(X_train, y_train)\n",
    "cloud3pm_predictions = cloud3pm_model.predict(cloud3pm_null)\n",
    "cloud3pm_results = pd.DataFrame(cloud3pm_predictions, columns=['cloud3pm'])\n",
    "cloud3pm_results = cloud3pm_results.round(1)\n",
    "weather_df['Cloud3pm'] = weather_df['Cloud3pm'].fillna(cloud3pm_results['cloud3pm'].values[0])"
   ]
  },
  {
   "cell_type": "code",
   "execution_count": 118,
   "metadata": {
    "scrolled": true
   },
   "outputs": [
    {
     "name": "stdout",
     "output_type": "stream",
     "text": [
      "count    142193.00000\n",
      "mean          4.90342\n",
      "std           2.16069\n",
      "min           0.00000\n",
      "25%           4.00000\n",
      "50%           5.50000\n",
      "75%           6.00000\n",
      "max           9.00000\n",
      "Name: Cloud3pm, dtype: float64\n",
      "0\n"
     ]
    },
    {
     "data": {
      "text/plain": [
       "<matplotlib.axes._subplots.AxesSubplot at 0x1bf1cec1ac8>"
      ]
     },
     "execution_count": 118,
     "metadata": {},
     "output_type": "execute_result"
    },
    {
     "data": {
      "image/png": "[encoded data removed]",
      "text/plain": [
       "<Figure size 432x288 with 1 Axes>"
      ]
     },
     "metadata": {
      "needs_background": "light"
     },
     "output_type": "display_data"
    }
   ],
   "source": [
    "print(weather_df.Cloud3pm.describe())\n",
    "print(weather_df.Cloud3pm.isnull().sum())\n",
    "weather_df.Cloud3pm.plot(kind='box', vert = False)"
   ]
  },
  {
   "cell_type": "markdown",
   "metadata": {},
   "source": [
    "# Sunshine\n",
    "\n",
    "Sunshine is the last variable with missing values. We will be using multiple variables to help predict it such as cloud3pm, 9am and whether if it rained or not."
   ]
  },
  {
   "cell_type": "code",
   "execution_count": 119,
   "metadata": {
    "scrolled": false
   },
   "outputs": [
    {
     "name": "stdout",
     "output_type": "stream",
     "text": [
      "count    74377.000000\n",
      "mean         7.624853\n",
      "std          3.781525\n",
      "min          0.000000\n",
      "25%          4.900000\n",
      "50%          8.500000\n",
      "75%         10.600000\n",
      "max         14.500000\n",
      "Name: Sunshine, dtype: float64\n",
      "67816\n"
     ]
    },
    {
     "data": {
      "text/plain": [
       "<matplotlib.axes._subplots.AxesSubplot at 0x1bf1d04e630>"
      ]
     },
     "execution_count": 119,
     "metadata": {},
     "output_type": "execute_result"
    },
    {
     "data": {
      "image/png": "[encoded data removed]",
      "text/plain": [
       "<Figure size 432x288 with 1 Axes>"
      ]
     },
     "metadata": {
      "needs_background": "light"
     },
     "output_type": "display_data"
    }
   ],
   "source": [
    "print(weather_df.Sunshine.describe())\n",
    "print(weather_df.Sunshine.isnull().sum())\n",
    "weather_df.Sunshine.plot(kind='box', vert = False)"
   ]
  },
  {
   "cell_type": "code",
   "execution_count": 120,
   "metadata": {
    "scrolled": true
   },
   "outputs": [],
   "source": [
    "sunshine_null = weather_df.loc[weather_df.Sunshine.isnull(), ['RainToday', 'Rainfall', 'Cloud9am', 'Cloud3pm']]"
   ]
  },
  {
   "cell_type": "code",
   "execution_count": 121,
   "metadata": {},
   "outputs": [],
   "source": [
    "temp_df = pd.concat([weather_df.Cloud3pm, weather_df.Cloud9am, weather_df.RainToday, \n",
    "                     weather_df.Rainfall, weather_df.Sunshine], axis=1).dropna()\n",
    "X,y = temp_df.iloc[:,temp_df.columns != 'Sunshine'], temp_df['Sunshine']\n",
    "X_train, X_test, y_train, y_test = train_test_split(X, y, test_size = 0.2, random_state=42)"
   ]
  },
  {
   "cell_type": "code",
   "execution_count": 122,
   "metadata": {},
   "outputs": [
    {
     "name": "stdout",
     "output_type": "stream",
     "text": [
      "KNN on neighbors = 1 has a rmse of 3.3899662934645076 and took 0.875 seconds to compute\n",
      "KNN on neighbors = 3 has a rmse of 2.7082915965372267 and took 2.203125 seconds to compute\n",
      "KNN on neighbors = 5 has a rmse of 2.5700383818566186 and took 2.3125 seconds to compute\n",
      "KNN on neighbors = 7 has a rmse of 2.5066719854645565 and took 2.328125 seconds to compute\n",
      "KNN on neighbors = 9 has a rmse of 2.464959078216262 and took 2.328125 seconds to compute\n",
      "KNN on neighbors = 11 has a rmse of 2.455079150076715 and took 2.328125 seconds to compute\n",
      "KNN on neighbors = 13 has a rmse of 2.449982735292396 and took 2.328125 seconds to compute\n",
      "KNN on neighbors = 15 has a rmse of 2.450937076254963 and took 2.34375 seconds to compute\n",
      "KNN on neighbors = 17 has a rmse of 2.45463656482879 and took 2.453125 seconds to compute\n",
      "KNN on neighbors = 19 has a rmse of 2.457998363023214 and took 2.453125 seconds to compute\n",
      "KNN on neighbors = 21 has a rmse of 2.442993380578681 and took 2.34375 seconds to compute\n",
      "KNN on neighbors = 23 has a rmse of 2.4368574786439665 and took 2.34375 seconds to compute\n",
      "KNN on neighbors = 25 has a rmse of 2.41978123851505 and took 2.46875 seconds to compute\n",
      "KNN on neighbors = 27 has a rmse of 2.4165311277980583 and took 2.234375 seconds to compute\n",
      "KNN on neighbors = 29 has a rmse of 2.413759468516858 and took 2.375 seconds to compute\n",
      "KNN on neighbors = 31 has a rmse of 2.415145978024718 and took 2.359375 seconds to compute\n",
      "KNN on neighbors = 33 has a rmse of 2.415321508849616 and took 2.484375 seconds to compute\n",
      "KNN on neighbors = 35 has a rmse of 2.4096097532671794 and took 2.25 seconds to compute\n",
      "KNN on neighbors = 37 has a rmse of 2.407626422151987 and took 2.375 seconds to compute\n",
      "KNN on neighbors = 39 has a rmse of 2.4077209570170877 and took 2.390625 seconds to compute\n",
      "KNN on neighbors = 41 has a rmse of 2.4072966700720393 and took 2.484375 seconds to compute\n",
      "KNN on neighbors = 43 has a rmse of 2.4080955147847463 and took 2.5 seconds to compute\n",
      "KNN on neighbors = 45 has a rmse of 2.4059987069856854 and took 2.265625 seconds to compute\n",
      "KNN on neighbors = 47 has a rmse of 2.404124270810385 and took 2.515625 seconds to compute\n",
      "KNN on neighbors = 49 has a rmse of 2.4053279090316235 and took 2.515625 seconds to compute\n"
     ]
    }
   ],
   "source": [
    "sunshine_score = []\n",
    "sunshine_timer = []\n",
    "for k in neighbors:\n",
    "    neighbor_search(X_train, X_test, y_train, y_test, k, sunshine_score, sunshine_timer)"
   ]
  },
  {
   "cell_type": "code",
   "execution_count": 123,
   "metadata": {},
   "outputs": [
    {
     "data": {
      "image/png": "[encoded data removed]",
      "text/plain": [
       "<Figure size 432x288 with 1 Axes>"
      ]
     },
     "metadata": {
      "needs_background": "light"
     },
     "output_type": "display_data"
    }
   ],
   "source": [
    "plt.plot(neighbors, sunshine_score)\n",
    "plt.xlabel('Numbers of Neighbors K')\n",
    "plt.ylabel('RMSE')\n",
    "plt.title('K-Nearest Neighbors of Evaporation')\n",
    "plt.show()"
   ]
  },
  {
   "cell_type": "code",
   "execution_count": 124,
   "metadata": {},
   "outputs": [],
   "source": [
    "cv_sunshine_scores = []\n",
    "cv_sunshine_timer = []\n",
    "kf = KFold(10, True)\n",
    "fold = 0\n",
    "for k in neighbors:\n",
    "    temp_cv_scores = []\n",
    "    for train, test in kf.split(X):\n",
    "        fold += 1\n",
    "        X_train, X_test = X.values[train], X.values[test]\n",
    "        y_train, y_test = y.values[train], y.values[test]\n",
    "        cv_neighbor_search(X_train, X_test, y_train, y_test, k, temp_cv_scores, cv_sunshine_timer)\n",
    "    cv_sunshine_scores.append(np.min(temp_cv_scores))\n",
    "    cv_sunshine_timer.append(np.min(cv_max_timer))"
   ]
  },
  {
   "cell_type": "code",
   "execution_count": 125,
   "metadata": {
    "scrolled": true
   },
   "outputs": [
    {
     "data": {
      "image/png": "[encoded data removed]",
      "text/plain": [
       "<Figure size 432x288 with 1 Axes>"
      ]
     },
     "metadata": {
      "needs_background": "light"
     },
     "output_type": "display_data"
    }
   ],
   "source": [
    "plt.plot(neighbors, sunshine_score, label='RMSE') \n",
    "plt.plot(neighbors, cv_sunshine_scores, label='CV-RMSE')\n",
    "plt.xlabel('Numbers of Neighbors K')\n",
    "plt.ylabel('RMSE')\n",
    "plt.title('K-Nearest Neighbors RMSE and 10-Fold Cross Validation of MaxTemp')\n",
    "plt.legend(loc='upper right')\n",
    "plt.show()"
   ]
  },
  {
   "cell_type": "code",
   "execution_count": 126,
   "metadata": {
    "scrolled": false
   },
   "outputs": [
    {
     "name": "stdout",
     "output_type": "stream",
     "text": [
      "33\n"
     ]
    }
   ],
   "source": [
    "optimal_k = neighbors[cv_sunshine_scores.index(min(cv_sunshine_scores))]\n",
    "print(optimal_k)"
   ]
  },
  {
   "cell_type": "code",
   "execution_count": 127,
   "metadata": {},
   "outputs": [],
   "source": [
    "sunshine_model = KNeighborsRegressor(n_neighbors=25)\n",
    "sunshine_model.fit(X_train, y_train)\n",
    "sunshine_predictions = sunshine_model.predict(sunshine_null)\n",
    "sunshine_results = pd.DataFrame(sunshine_predictions, columns=['sunshine'])\n",
    "sunshine_results = sunshine_results.round(1)\n",
    "weather_df['Sunshine'] = weather_df['Sunshine'].fillna(sunshine_results['sunshine'].values[0])"
   ]
  },
  {
   "cell_type": "code",
   "execution_count": 128,
   "metadata": {
    "scrolled": false
   },
   "outputs": [
    {
     "name": "stdout",
     "output_type": "stream",
     "text": [
      "count    142193.000000\n",
      "mean          8.996095\n",
      "std           3.089022\n",
      "min           0.000000\n",
      "25%           8.200000\n",
      "50%          10.500000\n",
      "75%          10.500000\n",
      "max          14.500000\n",
      "Name: Sunshine, dtype: float64\n",
      "0\n"
     ]
    },
    {
     "data": {
      "text/plain": [
       "<matplotlib.axes._subplots.AxesSubplot at 0x1bf1d09ffd0>"
      ]
     },
     "execution_count": 128,
     "metadata": {},
     "output_type": "execute_result"
    },
    {
     "data": {
      "image/png": "[encoded data removed]",
      "text/plain": [
       "<Figure size 432x288 with 1 Axes>"
      ]
     },
     "metadata": {
      "needs_background": "light"
     },
     "output_type": "display_data"
    }
   ],
   "source": [
    "print(weather_df.Sunshine.describe())\n",
    "print(weather_df.Sunshine.isnull().sum())\n",
    "weather_df.Sunshine.plot(kind='box', vert = False)"
   ]
  },
  {
   "cell_type": "markdown",
   "metadata": {},
   "source": [
    "# Final Missing Data Visualisation\n",
    "\n",
    "All data is filled"
   ]
  },
  {
   "cell_type": "code",
   "execution_count": 129,
   "metadata": {},
   "outputs": [
    {
     "data": {
      "text/plain": [
       "<matplotlib.axes._subplots.AxesSubplot at 0x1bf1dd22160>"
      ]
     },
     "execution_count": 129,
     "metadata": {},
     "output_type": "execute_result"
    },
    {
     "data": {
      "image/png": "[encoded data removed]",
      "text/plain": [
       "<Figure size 1800x720 with 2 Axes>"
      ]
     },
     "metadata": {
      "needs_background": "light"
     },
     "output_type": "display_data"
    }
   ],
   "source": [
    "missingno.matrix(weather_df, labels=True)"
   ]
  },
  {
   "cell_type": "code",
   "execution_count": 130,
   "metadata": {},
   "outputs": [],
   "source": [
    "weather_df.to_csv('WeatherAusReady.csv')"
   ]
  },
  {
   "cell_type": "code",
   "execution_count": null,
   "metadata": {},
   "outputs": [],
   "source": []
  }
 ],
 "metadata": {
  "kernelspec": {
   "display_name": "Python 3",
   "language": "python",
   "name": "python3"
  },
  "language_info": {
   "codemirror_mode": {
    "name": "ipython",
    "version": 3
   },
   "file_extension": ".py",
   "mimetype": "text/x-python",
   "name": "python",
   "nbconvert_exporter": "python",
   "pygments_lexer": "ipython3",
   "version": "3.7.3"
  }
 },
 "nbformat": 4,
 "nbformat_minor": 2
}
