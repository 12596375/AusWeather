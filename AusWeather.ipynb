{
 "cells": [
  {
   "cell_type": "code",
   "execution_count": 409,
   "metadata": {},
   "outputs": [],
   "source": [
    "import pandas as pd\n",
    "import numpy as np\n",
    "import missingno\n",
    "import seaborn as sns\n",
    "from sklearn.model_selection import train_test_split\n",
    "from sklearn.neighbors import KNeighborsRegressor\n",
    "from sklearn.neighbors import KNeighborsClassifier\n",
    "from sklearn.metrics import mean_squared_error\n",
    "from sklearn.metrics import recall_score\n",
    "from math import sqrt\n",
    "from time import process_time\n",
    "import matplotlib.pyplot as plt\n",
    "from sklearn.model_selection import KFold"
   ]
  },
  {
   "cell_type": "markdown",
   "metadata": {},
   "source": [
    "# AWS Bucket\n",
    "\n",
    "Using AWS Sagemaker t2.Medium to run this notebook, which I believe is just 4GB of Ram with the Intel Xeon. Thus all compute speed is from those technical specs. If you're running this on your own computer, remove the bucket, datakey and change data_location to where you are storinig the CSV file."
   ]
  },
  {
   "cell_type": "code",
   "execution_count": 410,
   "metadata": {},
   "outputs": [
    {
     "data": {
      "text/html": [
       "<div>\n",
       "<style scoped>\n",
       "    .dataframe tbody tr th:only-of-type {\n",
       "        vertical-align: middle;\n",
       "    }\n",
       "\n",
       "    .dataframe tbody tr th {\n",
       "        vertical-align: top;\n",
       "    }\n",
       "\n",
       "    .dataframe thead th {\n",
       "        text-align: right;\n",
       "    }\n",
       "</style>\n",
       "<table border=\"1\" class=\"dataframe\">\n",
       "  <thead>\n",
       "    <tr style=\"text-align: right;\">\n",
       "      <th></th>\n",
       "      <th>Date</th>\n",
       "      <th>Location</th>\n",
       "      <th>MinTemp</th>\n",
       "      <th>MaxTemp</th>\n",
       "      <th>Rainfall</th>\n",
       "      <th>Evaporation</th>\n",
       "      <th>Sunshine</th>\n",
       "      <th>WindGustDir</th>\n",
       "      <th>WindGustSpeed</th>\n",
       "      <th>WindDir9am</th>\n",
       "      <th>...</th>\n",
       "      <th>Humidity3pm</th>\n",
       "      <th>Pressure9am</th>\n",
       "      <th>Pressure3pm</th>\n",
       "      <th>Cloud9am</th>\n",
       "      <th>Cloud3pm</th>\n",
       "      <th>Temp9am</th>\n",
       "      <th>Temp3pm</th>\n",
       "      <th>RainToday</th>\n",
       "      <th>RISK_MM</th>\n",
       "      <th>RainTomorrow</th>\n",
       "    </tr>\n",
       "  </thead>\n",
       "  <tbody>\n",
       "    <tr>\n",
       "      <th>0</th>\n",
       "      <td>2008-12-01</td>\n",
       "      <td>Albury</td>\n",
       "      <td>13.4</td>\n",
       "      <td>22.9</td>\n",
       "      <td>0.6</td>\n",
       "      <td>NaN</td>\n",
       "      <td>NaN</td>\n",
       "      <td>W</td>\n",
       "      <td>44.0</td>\n",
       "      <td>W</td>\n",
       "      <td>...</td>\n",
       "      <td>22.0</td>\n",
       "      <td>1007.7</td>\n",
       "      <td>1007.1</td>\n",
       "      <td>8.0</td>\n",
       "      <td>NaN</td>\n",
       "      <td>16.9</td>\n",
       "      <td>21.8</td>\n",
       "      <td>No</td>\n",
       "      <td>0.0</td>\n",
       "      <td>No</td>\n",
       "    </tr>\n",
       "    <tr>\n",
       "      <th>1</th>\n",
       "      <td>2008-12-02</td>\n",
       "      <td>Albury</td>\n",
       "      <td>7.4</td>\n",
       "      <td>25.1</td>\n",
       "      <td>0.0</td>\n",
       "      <td>NaN</td>\n",
       "      <td>NaN</td>\n",
       "      <td>WNW</td>\n",
       "      <td>44.0</td>\n",
       "      <td>NNW</td>\n",
       "      <td>...</td>\n",
       "      <td>25.0</td>\n",
       "      <td>1010.6</td>\n",
       "      <td>1007.8</td>\n",
       "      <td>NaN</td>\n",
       "      <td>NaN</td>\n",
       "      <td>17.2</td>\n",
       "      <td>24.3</td>\n",
       "      <td>No</td>\n",
       "      <td>0.0</td>\n",
       "      <td>No</td>\n",
       "    </tr>\n",
       "    <tr>\n",
       "      <th>2</th>\n",
       "      <td>2008-12-03</td>\n",
       "      <td>Albury</td>\n",
       "      <td>12.9</td>\n",
       "      <td>25.7</td>\n",
       "      <td>0.0</td>\n",
       "      <td>NaN</td>\n",
       "      <td>NaN</td>\n",
       "      <td>WSW</td>\n",
       "      <td>46.0</td>\n",
       "      <td>W</td>\n",
       "      <td>...</td>\n",
       "      <td>30.0</td>\n",
       "      <td>1007.6</td>\n",
       "      <td>1008.7</td>\n",
       "      <td>NaN</td>\n",
       "      <td>2.0</td>\n",
       "      <td>21.0</td>\n",
       "      <td>23.2</td>\n",
       "      <td>No</td>\n",
       "      <td>0.0</td>\n",
       "      <td>No</td>\n",
       "    </tr>\n",
       "    <tr>\n",
       "      <th>3</th>\n",
       "      <td>2008-12-04</td>\n",
       "      <td>Albury</td>\n",
       "      <td>9.2</td>\n",
       "      <td>28.0</td>\n",
       "      <td>0.0</td>\n",
       "      <td>NaN</td>\n",
       "      <td>NaN</td>\n",
       "      <td>NE</td>\n",
       "      <td>24.0</td>\n",
       "      <td>SE</td>\n",
       "      <td>...</td>\n",
       "      <td>16.0</td>\n",
       "      <td>1017.6</td>\n",
       "      <td>1012.8</td>\n",
       "      <td>NaN</td>\n",
       "      <td>NaN</td>\n",
       "      <td>18.1</td>\n",
       "      <td>26.5</td>\n",
       "      <td>No</td>\n",
       "      <td>1.0</td>\n",
       "      <td>No</td>\n",
       "    </tr>\n",
       "    <tr>\n",
       "      <th>4</th>\n",
       "      <td>2008-12-05</td>\n",
       "      <td>Albury</td>\n",
       "      <td>17.5</td>\n",
       "      <td>32.3</td>\n",
       "      <td>1.0</td>\n",
       "      <td>NaN</td>\n",
       "      <td>NaN</td>\n",
       "      <td>W</td>\n",
       "      <td>41.0</td>\n",
       "      <td>ENE</td>\n",
       "      <td>...</td>\n",
       "      <td>33.0</td>\n",
       "      <td>1010.8</td>\n",
       "      <td>1006.0</td>\n",
       "      <td>7.0</td>\n",
       "      <td>8.0</td>\n",
       "      <td>17.8</td>\n",
       "      <td>29.7</td>\n",
       "      <td>No</td>\n",
       "      <td>0.2</td>\n",
       "      <td>No</td>\n",
       "    </tr>\n",
       "  </tbody>\n",
       "</table>\n",
       "<p>5 rows × 24 columns</p>\n",
       "</div>"
      ],
      "text/plain": [
       "         Date Location  MinTemp  MaxTemp  Rainfall  Evaporation  Sunshine  \\\n",
       "0  2008-12-01   Albury     13.4     22.9       0.6          NaN       NaN   \n",
       "1  2008-12-02   Albury      7.4     25.1       0.0          NaN       NaN   \n",
       "2  2008-12-03   Albury     12.9     25.7       0.0          NaN       NaN   \n",
       "3  2008-12-04   Albury      9.2     28.0       0.0          NaN       NaN   \n",
       "4  2008-12-05   Albury     17.5     32.3       1.0          NaN       NaN   \n",
       "\n",
       "  WindGustDir  WindGustSpeed WindDir9am  ... Humidity3pm  Pressure9am  \\\n",
       "0           W           44.0          W  ...        22.0       1007.7   \n",
       "1         WNW           44.0        NNW  ...        25.0       1010.6   \n",
       "2         WSW           46.0          W  ...        30.0       1007.6   \n",
       "3          NE           24.0         SE  ...        16.0       1017.6   \n",
       "4           W           41.0        ENE  ...        33.0       1010.8   \n",
       "\n",
       "   Pressure3pm  Cloud9am  Cloud3pm  Temp9am  Temp3pm  RainToday  RISK_MM  \\\n",
       "0       1007.1       8.0       NaN     16.9     21.8         No      0.0   \n",
       "1       1007.8       NaN       NaN     17.2     24.3         No      0.0   \n",
       "2       1008.7       NaN       2.0     21.0     23.2         No      0.0   \n",
       "3       1012.8       NaN       NaN     18.1     26.5         No      1.0   \n",
       "4       1006.0       7.0       8.0     17.8     29.7         No      0.2   \n",
       "\n",
       "   RainTomorrow  \n",
       "0            No  \n",
       "1            No  \n",
       "2            No  \n",
       "3            No  \n",
       "4            No  \n",
       "\n",
       "[5 rows x 24 columns]"
      ]
     },
     "execution_count": 410,
     "metadata": {},
     "output_type": "execute_result"
    }
   ],
   "source": [
    "bucket = 'andrew-data-sagemaker/WeatherClassifier'\n",
    "data_key = 'weatherAUS.csv' \n",
    "data_location = 's3://{}/{}'.format(bucket, data_key) \n",
    "weather_df = pd.read_csv(data_location)\n",
    "weather_df.head()"
   ]
  },
  {
   "cell_type": "markdown",
   "metadata": {},
   "source": [
    "# Create an id for each row by the index + 1 (index starts at 0)\n",
    "\n",
    "Using the index (index starts at 0, thus the need to +1 to make it start at 0) to create an ID for each row."
   ]
  },
  {
   "cell_type": "code",
   "execution_count": 411,
   "metadata": {},
   "outputs": [
    {
     "name": "stdout",
     "output_type": "stream",
     "text": [
      "(142193, 25)\n"
     ]
    },
    {
     "data": {
      "text/html": [
       "<div>\n",
       "<style scoped>\n",
       "    .dataframe tbody tr th:only-of-type {\n",
       "        vertical-align: middle;\n",
       "    }\n",
       "\n",
       "    .dataframe tbody tr th {\n",
       "        vertical-align: top;\n",
       "    }\n",
       "\n",
       "    .dataframe thead th {\n",
       "        text-align: right;\n",
       "    }\n",
       "</style>\n",
       "<table border=\"1\" class=\"dataframe\">\n",
       "  <thead>\n",
       "    <tr style=\"text-align: right;\">\n",
       "      <th></th>\n",
       "      <th>Date</th>\n",
       "      <th>Location</th>\n",
       "      <th>MinTemp</th>\n",
       "      <th>MaxTemp</th>\n",
       "      <th>Rainfall</th>\n",
       "      <th>Evaporation</th>\n",
       "      <th>Sunshine</th>\n",
       "      <th>WindGustDir</th>\n",
       "      <th>WindGustSpeed</th>\n",
       "      <th>WindDir9am</th>\n",
       "      <th>...</th>\n",
       "      <th>Pressure9am</th>\n",
       "      <th>Pressure3pm</th>\n",
       "      <th>Cloud9am</th>\n",
       "      <th>Cloud3pm</th>\n",
       "      <th>Temp9am</th>\n",
       "      <th>Temp3pm</th>\n",
       "      <th>RainToday</th>\n",
       "      <th>RISK_MM</th>\n",
       "      <th>RainTomorrow</th>\n",
       "      <th>id</th>\n",
       "    </tr>\n",
       "  </thead>\n",
       "  <tbody>\n",
       "    <tr>\n",
       "      <th>0</th>\n",
       "      <td>2008-12-01</td>\n",
       "      <td>Albury</td>\n",
       "      <td>13.4</td>\n",
       "      <td>22.9</td>\n",
       "      <td>0.6</td>\n",
       "      <td>NaN</td>\n",
       "      <td>NaN</td>\n",
       "      <td>W</td>\n",
       "      <td>44.0</td>\n",
       "      <td>W</td>\n",
       "      <td>...</td>\n",
       "      <td>1007.7</td>\n",
       "      <td>1007.1</td>\n",
       "      <td>8.0</td>\n",
       "      <td>NaN</td>\n",
       "      <td>16.9</td>\n",
       "      <td>21.8</td>\n",
       "      <td>No</td>\n",
       "      <td>0.0</td>\n",
       "      <td>No</td>\n",
       "      <td>1</td>\n",
       "    </tr>\n",
       "    <tr>\n",
       "      <th>1</th>\n",
       "      <td>2008-12-02</td>\n",
       "      <td>Albury</td>\n",
       "      <td>7.4</td>\n",
       "      <td>25.1</td>\n",
       "      <td>0.0</td>\n",
       "      <td>NaN</td>\n",
       "      <td>NaN</td>\n",
       "      <td>WNW</td>\n",
       "      <td>44.0</td>\n",
       "      <td>NNW</td>\n",
       "      <td>...</td>\n",
       "      <td>1010.6</td>\n",
       "      <td>1007.8</td>\n",
       "      <td>NaN</td>\n",
       "      <td>NaN</td>\n",
       "      <td>17.2</td>\n",
       "      <td>24.3</td>\n",
       "      <td>No</td>\n",
       "      <td>0.0</td>\n",
       "      <td>No</td>\n",
       "      <td>2</td>\n",
       "    </tr>\n",
       "    <tr>\n",
       "      <th>2</th>\n",
       "      <td>2008-12-03</td>\n",
       "      <td>Albury</td>\n",
       "      <td>12.9</td>\n",
       "      <td>25.7</td>\n",
       "      <td>0.0</td>\n",
       "      <td>NaN</td>\n",
       "      <td>NaN</td>\n",
       "      <td>WSW</td>\n",
       "      <td>46.0</td>\n",
       "      <td>W</td>\n",
       "      <td>...</td>\n",
       "      <td>1007.6</td>\n",
       "      <td>1008.7</td>\n",
       "      <td>NaN</td>\n",
       "      <td>2.0</td>\n",
       "      <td>21.0</td>\n",
       "      <td>23.2</td>\n",
       "      <td>No</td>\n",
       "      <td>0.0</td>\n",
       "      <td>No</td>\n",
       "      <td>3</td>\n",
       "    </tr>\n",
       "    <tr>\n",
       "      <th>3</th>\n",
       "      <td>2008-12-04</td>\n",
       "      <td>Albury</td>\n",
       "      <td>9.2</td>\n",
       "      <td>28.0</td>\n",
       "      <td>0.0</td>\n",
       "      <td>NaN</td>\n",
       "      <td>NaN</td>\n",
       "      <td>NE</td>\n",
       "      <td>24.0</td>\n",
       "      <td>SE</td>\n",
       "      <td>...</td>\n",
       "      <td>1017.6</td>\n",
       "      <td>1012.8</td>\n",
       "      <td>NaN</td>\n",
       "      <td>NaN</td>\n",
       "      <td>18.1</td>\n",
       "      <td>26.5</td>\n",
       "      <td>No</td>\n",
       "      <td>1.0</td>\n",
       "      <td>No</td>\n",
       "      <td>4</td>\n",
       "    </tr>\n",
       "    <tr>\n",
       "      <th>4</th>\n",
       "      <td>2008-12-05</td>\n",
       "      <td>Albury</td>\n",
       "      <td>17.5</td>\n",
       "      <td>32.3</td>\n",
       "      <td>1.0</td>\n",
       "      <td>NaN</td>\n",
       "      <td>NaN</td>\n",
       "      <td>W</td>\n",
       "      <td>41.0</td>\n",
       "      <td>ENE</td>\n",
       "      <td>...</td>\n",
       "      <td>1010.8</td>\n",
       "      <td>1006.0</td>\n",
       "      <td>7.0</td>\n",
       "      <td>8.0</td>\n",
       "      <td>17.8</td>\n",
       "      <td>29.7</td>\n",
       "      <td>No</td>\n",
       "      <td>0.2</td>\n",
       "      <td>No</td>\n",
       "      <td>5</td>\n",
       "    </tr>\n",
       "  </tbody>\n",
       "</table>\n",
       "<p>5 rows × 25 columns</p>\n",
       "</div>"
      ],
      "text/plain": [
       "         Date Location  MinTemp  MaxTemp  Rainfall  Evaporation  Sunshine  \\\n",
       "0  2008-12-01   Albury     13.4     22.9       0.6          NaN       NaN   \n",
       "1  2008-12-02   Albury      7.4     25.1       0.0          NaN       NaN   \n",
       "2  2008-12-03   Albury     12.9     25.7       0.0          NaN       NaN   \n",
       "3  2008-12-04   Albury      9.2     28.0       0.0          NaN       NaN   \n",
       "4  2008-12-05   Albury     17.5     32.3       1.0          NaN       NaN   \n",
       "\n",
       "  WindGustDir  WindGustSpeed WindDir9am  ... Pressure9am  Pressure3pm  \\\n",
       "0           W           44.0          W  ...      1007.7       1007.1   \n",
       "1         WNW           44.0        NNW  ...      1010.6       1007.8   \n",
       "2         WSW           46.0          W  ...      1007.6       1008.7   \n",
       "3          NE           24.0         SE  ...      1017.6       1012.8   \n",
       "4           W           41.0        ENE  ...      1010.8       1006.0   \n",
       "\n",
       "   Cloud9am  Cloud3pm  Temp9am  Temp3pm  RainToday  RISK_MM  RainTomorrow  id  \n",
       "0       8.0       NaN     16.9     21.8         No      0.0            No   1  \n",
       "1       NaN       NaN     17.2     24.3         No      0.0            No   2  \n",
       "2       NaN       2.0     21.0     23.2         No      0.0            No   3  \n",
       "3       NaN       NaN     18.1     26.5         No      1.0            No   4  \n",
       "4       7.0       8.0     17.8     29.7         No      0.2            No   5  \n",
       "\n",
       "[5 rows x 25 columns]"
      ]
     },
     "execution_count": 411,
     "metadata": {},
     "output_type": "execute_result"
    }
   ],
   "source": [
    "weather_df[\"id\"] = weather_df.index + 1\n",
    "print(weather_df.shape)\n",
    "weather_df.head()"
   ]
  },
  {
   "cell_type": "markdown",
   "metadata": {},
   "source": [
    "# Missing Values Visualisation\n",
    "\n",
    "By using a package called Missingno, it allows us to visualise how many columns have missing values. Grey bars means that it is filled where white indicates it has missing values. It does not provide an exact number for the missing numbers but it allows us to know that for example, Evaporation has lots of missing values."
   ]
  },
  {
   "cell_type": "code",
   "execution_count": 412,
   "metadata": {},
   "outputs": [
    {
     "data": {
      "text/plain": [
       "<matplotlib.axes._subplots.AxesSubplot at 0x7f6af9e7e978>"
      ]
     },
     "execution_count": 412,
     "metadata": {},
     "output_type": "execute_result"
    },
    {
     "data": {
      "image/png": "[encoded data removed]",
      "text/plain": [
       "<Figure size 1800x720 with 2 Axes>"
      ]
     },
     "metadata": {},
     "output_type": "display_data"
    }
   ],
   "source": [
    "missingno.matrix(weather_df, labels=True)"
   ]
  },
  {
   "cell_type": "markdown",
   "metadata": {},
   "source": [
    "# Location Overview\n",
    "\n",
    "The location column are where they recorded the weather data during the day. It's noted that there is no missing data but it is categorical string data. Thus, one hot encoding is required and most likely certain location would not benefit the model with the increase dimensionality from the encoding. However, we will proceed with the feature engineerinig after imputing all the missing values\n"
   ]
  },
  {
   "cell_type": "code",
   "execution_count": 413,
   "metadata": {
    "scrolled": true
   },
   "outputs": [
    {
     "name": "stdout",
     "output_type": "stream",
     "text": [
      "There are 49 locations\n"
     ]
    },
    {
     "data": {
      "image/png": "[encoded data removed]",
      "text/plain": [
       "<Figure size 432x288 with 1 Axes>"
      ]
     },
     "metadata": {},
     "output_type": "display_data"
    }
   ],
   "source": [
    "weather_df.Location.value_counts().plot(kind='barh')\n",
    "print('There are {} locations'.format(len(weather_df.Location.value_counts())))"
   ]
  },
  {
   "cell_type": "markdown",
   "metadata": {},
   "source": [
    "# Temperature Overview\n",
    "There are many temperature variables such as MinTemp, MaxTemp, Temp9am and Temp3pm. The main focus for the next couple cells will be imputing the missing values from Min and Max Temp. Min Temp and Max Temp from my intrepation means the minimum/lowest point and maximum/highest point of degrees during the day.\n",
    "\n",
    "Generally with such a low count of missing values between the two, we will usually just use the mean or median. However, an issue will arise if a row has a Min temp = 25 and Max temp = 23. This does not make sense at all, therefore we will attempt to use K-Nearest Neighbors(KNN) to locate the most similiar point. As both Min and Max temperature have missing values, we will create a new dataframe with both variables but dropping all NaNs. This will be used to train the model and then for example if we are predicting Max we will create a new dataframe where Max = NaN with the Min Temp. Thus the model will use the Min Temp to determine and impute the missing values.\n",
    "\n",
    "Another issue that arise from this method will be when both Min and Max temperature in a row is missing. Therefore, rather than deleting/removing the data, we will just fill it with the Mean on one side and continue with KNN approach. This will not be a perfect solution and most likely there will be a few rows where Min > Max which we will just make the Max = Min. \n",
    "\n",
    "Standard Practice of 10-fold Cross-Validation will be used on the model to ensure we will not be overfitting the model. We will also just use up to 50 Neighbors as if we are not happy with the results from the end predictive model then we will tweak this."
   ]
  },
  {
   "cell_type": "code",
   "execution_count": 414,
   "metadata": {},
   "outputs": [
    {
     "name": "stdout",
     "output_type": "stream",
     "text": [
      "count    141556.000000\n",
      "mean         12.186400\n",
      "std           6.403283\n",
      "min          -8.500000\n",
      "25%           7.600000\n",
      "50%          12.000000\n",
      "75%          16.800000\n",
      "max          33.900000\n",
      "Name: MinTemp, dtype: float64\n",
      "There are 637 missing values\n"
     ]
    }
   ],
   "source": [
    "print(weather_df.MinTemp.describe())\n",
    "print('There are {} missing values'.format(weather_df.MinTemp.isnull().sum()))"
   ]
  },
  {
   "cell_type": "code",
   "execution_count": 415,
   "metadata": {},
   "outputs": [
    {
     "data": {
      "text/plain": [
       "<matplotlib.axes._subplots.AxesSubplot at 0x7f6af997e358>"
      ]
     },
     "execution_count": 415,
     "metadata": {},
     "output_type": "execute_result"
    },
    {
     "data": {
      "image/png": "[encoded data removed]",
      "text/plain": [
       "<Figure size 432x288 with 1 Axes>"
      ]
     },
     "metadata": {},
     "output_type": "display_data"
    }
   ],
   "source": [
    "weather_df.MinTemp.plot(kind='box', vert=False)"
   ]
  },
  {
   "cell_type": "code",
   "execution_count": 416,
   "metadata": {},
   "outputs": [
    {
     "name": "stdout",
     "output_type": "stream",
     "text": [
      "count    141871.000000\n",
      "mean         23.226784\n",
      "std           7.117618\n",
      "min          -4.800000\n",
      "25%          17.900000\n",
      "50%          22.600000\n",
      "75%          28.200000\n",
      "max          48.100000\n",
      "Name: MaxTemp, dtype: float64\n",
      "There are 322 missing values\n"
     ]
    }
   ],
   "source": [
    "print(weather_df.MaxTemp.describe())\n",
    "print('There are {} missing values'.format(weather_df.MaxTemp.isnull().sum()))"
   ]
  },
  {
   "cell_type": "code",
   "execution_count": 417,
   "metadata": {},
   "outputs": [
    {
     "data": {
      "text/plain": [
       "<matplotlib.axes._subplots.AxesSubplot at 0x7f6afa165dd8>"
      ]
     },
     "execution_count": 417,
     "metadata": {},
     "output_type": "execute_result"
    },
    {
     "data": {
      "image/png": "[encoded data removed]",
      "text/plain": [
       "<Figure size 432x288 with 1 Axes>"
      ]
     },
     "metadata": {},
     "output_type": "display_data"
    }
   ],
   "source": [
    "weather_df.MaxTemp.plot(kind='box', vert=False)"
   ]
  },
  {
   "cell_type": "code",
   "execution_count": 418,
   "metadata": {
    "scrolled": true
   },
   "outputs": [
    {
     "data": {
      "text/html": [
       "<div>\n",
       "<style scoped>\n",
       "    .dataframe tbody tr th:only-of-type {\n",
       "        vertical-align: middle;\n",
       "    }\n",
       "\n",
       "    .dataframe tbody tr th {\n",
       "        vertical-align: top;\n",
       "    }\n",
       "\n",
       "    .dataframe thead th {\n",
       "        text-align: right;\n",
       "    }\n",
       "</style>\n",
       "<table border=\"1\" class=\"dataframe\">\n",
       "  <thead>\n",
       "    <tr style=\"text-align: right;\">\n",
       "      <th></th>\n",
       "      <th>Date</th>\n",
       "      <th>Location</th>\n",
       "      <th>MinTemp</th>\n",
       "      <th>MaxTemp</th>\n",
       "      <th>Rainfall</th>\n",
       "      <th>Evaporation</th>\n",
       "      <th>Sunshine</th>\n",
       "      <th>WindGustDir</th>\n",
       "      <th>WindGustSpeed</th>\n",
       "      <th>WindDir9am</th>\n",
       "      <th>...</th>\n",
       "      <th>Pressure9am</th>\n",
       "      <th>Pressure3pm</th>\n",
       "      <th>Cloud9am</th>\n",
       "      <th>Cloud3pm</th>\n",
       "      <th>Temp9am</th>\n",
       "      <th>Temp3pm</th>\n",
       "      <th>RainToday</th>\n",
       "      <th>RISK_MM</th>\n",
       "      <th>RainTomorrow</th>\n",
       "      <th>id</th>\n",
       "    </tr>\n",
       "  </thead>\n",
       "  <tbody>\n",
       "  </tbody>\n",
       "</table>\n",
       "<p>0 rows × 25 columns</p>\n",
       "</div>"
      ],
      "text/plain": [
       "Empty DataFrame\n",
       "Columns: [Date, Location, MinTemp, MaxTemp, Rainfall, Evaporation, Sunshine, WindGustDir, WindGustSpeed, WindDir9am, WindDir3pm, WindSpeed9am, WindSpeed3pm, Humidity9am, Humidity3pm, Pressure9am, Pressure3pm, Cloud9am, Cloud3pm, Temp9am, Temp3pm, RainToday, RISK_MM, RainTomorrow, id]\n",
       "Index: []\n",
       "\n",
       "[0 rows x 25 columns]"
      ]
     },
     "execution_count": 418,
     "metadata": {},
     "output_type": "execute_result"
    }
   ],
   "source": [
    "weather_df[weather_df.MaxTemp < weather_df.MinTemp]"
   ]
  },
  {
   "cell_type": "code",
   "execution_count": 419,
   "metadata": {},
   "outputs": [],
   "source": [
    "weather_df.loc[weather_df.MaxTemp.isna() & weather_df.MinTemp.isna(), ['MinTemp']] = 1000\n",
    "weather_df.loc[weather_df.MinTemp == 1000, ['MaxTemp']] = weather_df.MaxTemp.mean()\n",
    "weather_df.loc[weather_df['MinTemp'] == 1000, ['MinTemp']] = np.nan"
   ]
  },
  {
   "cell_type": "code",
   "execution_count": 420,
   "metadata": {},
   "outputs": [
    {
     "data": {
      "text/html": [
       "<div>\n",
       "<style scoped>\n",
       "    .dataframe tbody tr th:only-of-type {\n",
       "        vertical-align: middle;\n",
       "    }\n",
       "\n",
       "    .dataframe tbody tr th {\n",
       "        vertical-align: top;\n",
       "    }\n",
       "\n",
       "    .dataframe thead th {\n",
       "        text-align: right;\n",
       "    }\n",
       "</style>\n",
       "<table border=\"1\" class=\"dataframe\">\n",
       "  <thead>\n",
       "    <tr style=\"text-align: right;\">\n",
       "      <th></th>\n",
       "      <th>Date</th>\n",
       "      <th>Location</th>\n",
       "      <th>MinTemp</th>\n",
       "      <th>MaxTemp</th>\n",
       "      <th>Rainfall</th>\n",
       "      <th>Evaporation</th>\n",
       "      <th>Sunshine</th>\n",
       "      <th>WindGustDir</th>\n",
       "      <th>WindGustSpeed</th>\n",
       "      <th>WindDir9am</th>\n",
       "      <th>...</th>\n",
       "      <th>Pressure9am</th>\n",
       "      <th>Pressure3pm</th>\n",
       "      <th>Cloud9am</th>\n",
       "      <th>Cloud3pm</th>\n",
       "      <th>Temp9am</th>\n",
       "      <th>Temp3pm</th>\n",
       "      <th>RainToday</th>\n",
       "      <th>RISK_MM</th>\n",
       "      <th>RainTomorrow</th>\n",
       "      <th>id</th>\n",
       "    </tr>\n",
       "  </thead>\n",
       "  <tbody>\n",
       "  </tbody>\n",
       "</table>\n",
       "<p>0 rows × 25 columns</p>\n",
       "</div>"
      ],
      "text/plain": [
       "Empty DataFrame\n",
       "Columns: [Date, Location, MinTemp, MaxTemp, Rainfall, Evaporation, Sunshine, WindGustDir, WindGustSpeed, WindDir9am, WindDir3pm, WindSpeed9am, WindSpeed3pm, Humidity9am, Humidity3pm, Pressure9am, Pressure3pm, Cloud9am, Cloud3pm, Temp9am, Temp3pm, RainToday, RISK_MM, RainTomorrow, id]\n",
       "Index: []\n",
       "\n",
       "[0 rows x 25 columns]"
      ]
     },
     "execution_count": 420,
     "metadata": {},
     "output_type": "execute_result"
    }
   ],
   "source": [
    "weather_df.loc[weather_df.MinTemp.isnull() & weather_df.MaxTemp.isnull()] "
   ]
  },
  {
   "cell_type": "markdown",
   "metadata": {},
   "source": [
    "Convert nan matches to 1000\n",
    "Then fill na\n",
    "Then drop the 1000\n",
    "then fill with the means"
   ]
  },
  {
   "cell_type": "code",
   "execution_count": 421,
   "metadata": {},
   "outputs": [
    {
     "name": "stdout",
     "output_type": "stream",
     "text": [
      "Missing Max Temp: 234, Missing Min Temp: 637\n"
     ]
    }
   ],
   "source": [
    "print('Missing Max Temp: {}, Missing Min Temp: {}'.format(weather_df.MaxTemp.isnull().sum(), weather_df.MinTemp.isnull().sum()))"
   ]
  },
  {
   "cell_type": "code",
   "execution_count": 422,
   "metadata": {},
   "outputs": [],
   "source": [
    "Temp_df = pd.concat([weather_df.MinTemp, weather_df.MaxTemp], axis=1)\n",
    "Temp_df = Temp_df.dropna()\n",
    "X,y = Temp_df.iloc[:,Temp_df.columns != 'MaxTemp'], Temp_df['MaxTemp']\n",
    "X_train, X_test, y_train, y_test = train_test_split(X, y, test_size = 0.2, random_state=42)"
   ]
  },
  {
   "cell_type": "code",
   "execution_count": 423,
   "metadata": {},
   "outputs": [],
   "source": [
    "Temp_null = weather_df[weather_df.MaxTemp.isnull()]\n",
    "Max_null = pd.concat([Temp_null.MinTemp, Temp_null.MaxTemp], axis=1)\n",
    "Max_null = Max_null.drop(columns=['MaxTemp'])\n",
    "Max_null = Max_null.dropna()\n",
    "Temp_min_null = weather_df[weather_df.MinTemp.isnull()]\n",
    "Min_null = pd.concat([Temp_min_null.MinTemp, Temp_min_null.MaxTemp], axis=1)\n",
    "Min_null = Min_null.drop(columns=['MinTemp'])\n",
    "Min_null = Min_null.dropna()"
   ]
  },
  {
   "cell_type": "code",
   "execution_count": 424,
   "metadata": {
    "scrolled": true
   },
   "outputs": [
    {
     "name": "stdout",
     "output_type": "stream",
     "text": [
      "KNN on neighbors = 1 has a rmse of 6.781542024023599 and took 0.26626690399916697 seconds to compute\n",
      "KNN on neighbors = 3 has a rmse of 5.689193466811331 and took 0.26065009299964004 seconds to compute\n",
      "KNN on neighbors = 5 has a rmse of 5.389036449222861 and took 0.2655748779998248 seconds to compute\n",
      "KNN on neighbors = 7 has a rmse of 5.197258706930612 and took 0.27603698700022505 seconds to compute\n",
      "KNN on neighbors = 9 has a rmse of 5.111150780373005 and took 0.27546546299981856 seconds to compute\n",
      "KNN on neighbors = 11 has a rmse of 5.050606118728501 and took 0.27882280699941475 seconds to compute\n",
      "KNN on neighbors = 13 has a rmse of 5.004965838249654 and took 0.29090841299966996 seconds to compute\n",
      "KNN on neighbors = 15 has a rmse of 4.975065551999592 and took 0.29392956599986064 seconds to compute\n",
      "KNN on neighbors = 17 has a rmse of 4.951732633023714 and took 0.293359889000385 seconds to compute\n",
      "KNN on neighbors = 19 has a rmse of 4.936544310224405 and took 0.3042836899994654 seconds to compute\n",
      "KNN on neighbors = 21 has a rmse of 4.923701848647531 and took 0.31678179199934675 seconds to compute\n",
      "KNN on neighbors = 23 has a rmse of 4.914876647048697 and took 0.316375648999383 seconds to compute\n",
      "KNN on neighbors = 25 has a rmse of 4.899370832735585 and took 0.33158522299981996 seconds to compute\n",
      "KNN on neighbors = 27 has a rmse of 4.894406783505271 and took 0.3410696470000403 seconds to compute\n",
      "KNN on neighbors = 29 has a rmse of 4.887804047490555 and took 0.3517340489997878 seconds to compute\n",
      "KNN on neighbors = 31 has a rmse of 4.885014703672924 and took 0.3597346460001063 seconds to compute\n",
      "KNN on neighbors = 33 has a rmse of 4.87913963780446 and took 0.3688790900005188 seconds to compute\n",
      "KNN on neighbors = 35 has a rmse of 4.868722542043158 and took 0.3748395740003616 seconds to compute\n",
      "KNN on neighbors = 37 has a rmse of 4.861249353142295 and took 0.3929307640000843 seconds to compute\n",
      "KNN on neighbors = 39 has a rmse of 4.859309499711827 and took 0.39774980900074297 seconds to compute\n",
      "KNN on neighbors = 41 has a rmse of 4.856871227679257 and took 0.4062242529998912 seconds to compute\n",
      "KNN on neighbors = 43 has a rmse of 4.857857591951063 and took 0.41559331999997084 seconds to compute\n",
      "KNN on neighbors = 45 has a rmse of 4.854506254593047 and took 0.41516345699983503 seconds to compute\n",
      "KNN on neighbors = 47 has a rmse of 4.849898593805887 and took 0.4249869919995035 seconds to compute\n",
      "KNN on neighbors = 49 has a rmse of 4.84591067104098 and took 0.4233630409999023 seconds to compute\n"
     ]
    }
   ],
   "source": [
    "Neighbors_list = list(range(1,50))\n",
    "Neighbors = list(filter(lambda x: x %2 != 0, Neighbors_list))\n",
    "score = []\n",
    "for k in Neighbors:\n",
    "    start_time = process_time()\n",
    "    max_model = KNeighborsRegressor(n_neighbors=k)\n",
    "    max_model.fit(X_train, y_train)\n",
    "    max_predictions = max_model.predict(X_test)\n",
    "    mse = mean_squared_error(max_predictions, y_test)\n",
    "    rmse = sqrt(mse)\n",
    "    end_time = process_time()\n",
    "    time_lapsed = end_time - start_time\n",
    "    score.append(rmse)\n",
    "    print('KNN on neighbors = {} has a rmse of {} and took {} seconds to compute'.format(k, rmse, time_lapsed))"
   ]
  },
  {
   "cell_type": "code",
   "execution_count": 425,
   "metadata": {},
   "outputs": [
    {
     "data": {
      "image/png": "[encoded data removed]",
      "text/plain": [
       "<Figure size 432x288 with 1 Axes>"
      ]
     },
     "metadata": {},
     "output_type": "display_data"
    }
   ],
   "source": [
    "plt.plot(Neighbors, score)\n",
    "plt.xlabel('Numbers of Neighbors K')\n",
    "plt.ylabel('RMSE')\n",
    "plt.show()"
   ]
  },
  {
   "cell_type": "code",
   "execution_count": 426,
   "metadata": {},
   "outputs": [],
   "source": [
    "cv_scores = []\n",
    "kf = KFold(10, True)\n",
    "fold = 0\n",
    "for k in Neighbors:\n",
    "    cv_max_model = KNeighborsRegressor(n_neighbors=k)\n",
    "    temp_cv_scores = []\n",
    "    for train, test in kf.split(X):\n",
    "        fold += 1\n",
    "        X_train, X_test = X.values[train], X.values[test]\n",
    "        y_train, y_test = y.values[train], y.values[test]\n",
    "        cv_max_model.fit(X_train, y_train)\n",
    "        predictions = cv_max_model.predict(X_test)\n",
    "        mse = mean_squared_error(predictions, y_test)\n",
    "        rmse = sqrt(mse)\n",
    "        temp_cv_scores.append(rmse)\n",
    "    cv_scores.append(np.min(temp_cv_scores)) "
   ]
  },
  {
   "cell_type": "code",
   "execution_count": 427,
   "metadata": {},
   "outputs": [
    {
     "data": {
      "image/png": "[encoded data removed]",
      "text/plain": [
       "<Figure size 432x288 with 1 Axes>"
      ]
     },
     "metadata": {},
     "output_type": "display_data"
    }
   ],
   "source": [
    "plt.plot(Neighbors, score, Neighbors, cv_scores)\n",
    "plt.xlabel('Numbers of Neighbors K')\n",
    "plt.ylabel('RMSE')\n",
    "plt.show()"
   ]
  },
  {
   "cell_type": "code",
   "execution_count": 428,
   "metadata": {},
   "outputs": [
    {
     "name": "stdout",
     "output_type": "stream",
     "text": [
      "29\n"
     ]
    }
   ],
   "source": [
    "optimal_k = Neighbors[cv_scores.index(min(cv_scores))]\n",
    "print(optimal_k)"
   ]
  },
  {
   "cell_type": "code",
   "execution_count": 429,
   "metadata": {},
   "outputs": [],
   "source": [
    "max_model = KNeighborsRegressor(n_neighbors=47)\n",
    "max_model.fit(X_train, y_train)\n",
    "max_predictions = max_model.predict(Max_null)\n",
    "max_results = pd.DataFrame(max_predictions, columns=['MaxTemp'])\n",
    "max_results = max_results.round(1)\n",
    "weather_df['MaxTemp'] = weather_df['MaxTemp'].fillna(max_results['MaxTemp'].values[0])"
   ]
  },
  {
   "cell_type": "code",
   "execution_count": 430,
   "metadata": {
    "scrolled": true
   },
   "outputs": [
    {
     "data": {
      "text/plain": [
       "count    142193.000000\n",
       "mean         23.230854\n",
       "std           7.110261\n",
       "min          -4.800000\n",
       "25%          17.900000\n",
       "50%          22.700000\n",
       "75%          28.200000\n",
       "max          48.100000\n",
       "Name: MaxTemp, dtype: float64"
      ]
     },
     "execution_count": 430,
     "metadata": {},
     "output_type": "execute_result"
    }
   ],
   "source": [
    "weather_df.MaxTemp.describe()"
   ]
  },
  {
   "cell_type": "code",
   "execution_count": 431,
   "metadata": {},
   "outputs": [
    {
     "data": {
      "text/html": [
       "<div>\n",
       "<style scoped>\n",
       "    .dataframe tbody tr th:only-of-type {\n",
       "        vertical-align: middle;\n",
       "    }\n",
       "\n",
       "    .dataframe tbody tr th {\n",
       "        vertical-align: top;\n",
       "    }\n",
       "\n",
       "    .dataframe thead th {\n",
       "        text-align: right;\n",
       "    }\n",
       "</style>\n",
       "<table border=\"1\" class=\"dataframe\">\n",
       "  <thead>\n",
       "    <tr style=\"text-align: right;\">\n",
       "      <th></th>\n",
       "      <th>Date</th>\n",
       "      <th>Location</th>\n",
       "      <th>MinTemp</th>\n",
       "      <th>MaxTemp</th>\n",
       "      <th>Rainfall</th>\n",
       "      <th>Evaporation</th>\n",
       "      <th>Sunshine</th>\n",
       "      <th>WindGustDir</th>\n",
       "      <th>WindGustSpeed</th>\n",
       "      <th>WindDir9am</th>\n",
       "      <th>...</th>\n",
       "      <th>Pressure9am</th>\n",
       "      <th>Pressure3pm</th>\n",
       "      <th>Cloud9am</th>\n",
       "      <th>Cloud3pm</th>\n",
       "      <th>Temp9am</th>\n",
       "      <th>Temp3pm</th>\n",
       "      <th>RainToday</th>\n",
       "      <th>RISK_MM</th>\n",
       "      <th>RainTomorrow</th>\n",
       "      <th>id</th>\n",
       "    </tr>\n",
       "  </thead>\n",
       "  <tbody>\n",
       "    <tr>\n",
       "      <th>135042</th>\n",
       "      <td>2015-01-20</td>\n",
       "      <td>AliceSprings</td>\n",
       "      <td>25.8</td>\n",
       "      <td>25.7</td>\n",
       "      <td>0.0</td>\n",
       "      <td>12.0</td>\n",
       "      <td>11.7</td>\n",
       "      <td>WSW</td>\n",
       "      <td>52.0</td>\n",
       "      <td>WSW</td>\n",
       "      <td>...</td>\n",
       "      <td>1006.8</td>\n",
       "      <td>1004.5</td>\n",
       "      <td>6.0</td>\n",
       "      <td>7.0</td>\n",
       "      <td>35.3</td>\n",
       "      <td>41.1</td>\n",
       "      <td>No</td>\n",
       "      <td>0.0</td>\n",
       "      <td>No</td>\n",
       "      <td>135043</td>\n",
       "    </tr>\n",
       "    <tr>\n",
       "      <th>139360</th>\n",
       "      <td>2013-11-03</td>\n",
       "      <td>Katherine</td>\n",
       "      <td>26.9</td>\n",
       "      <td>25.7</td>\n",
       "      <td>0.0</td>\n",
       "      <td>9.2</td>\n",
       "      <td>NaN</td>\n",
       "      <td>NE</td>\n",
       "      <td>33.0</td>\n",
       "      <td>N</td>\n",
       "      <td>...</td>\n",
       "      <td>1011.9</td>\n",
       "      <td>1006.7</td>\n",
       "      <td>5.0</td>\n",
       "      <td>4.0</td>\n",
       "      <td>31.0</td>\n",
       "      <td>41.0</td>\n",
       "      <td>No</td>\n",
       "      <td>0.0</td>\n",
       "      <td>No</td>\n",
       "      <td>139361</td>\n",
       "    </tr>\n",
       "    <tr>\n",
       "      <th>140444</th>\n",
       "      <td>2016-10-31</td>\n",
       "      <td>Katherine</td>\n",
       "      <td>28.0</td>\n",
       "      <td>25.7</td>\n",
       "      <td>0.0</td>\n",
       "      <td>14.6</td>\n",
       "      <td>NaN</td>\n",
       "      <td>NW</td>\n",
       "      <td>41.0</td>\n",
       "      <td>NNW</td>\n",
       "      <td>...</td>\n",
       "      <td>1010.7</td>\n",
       "      <td>1005.5</td>\n",
       "      <td>5.0</td>\n",
       "      <td>NaN</td>\n",
       "      <td>33.0</td>\n",
       "      <td>NaN</td>\n",
       "      <td>No</td>\n",
       "      <td>0.0</td>\n",
       "      <td>No</td>\n",
       "      <td>140445</td>\n",
       "    </tr>\n",
       "  </tbody>\n",
       "</table>\n",
       "<p>3 rows × 25 columns</p>\n",
       "</div>"
      ],
      "text/plain": [
       "              Date      Location  MinTemp  MaxTemp  Rainfall  Evaporation  \\\n",
       "135042  2015-01-20  AliceSprings     25.8     25.7       0.0         12.0   \n",
       "139360  2013-11-03     Katherine     26.9     25.7       0.0          9.2   \n",
       "140444  2016-10-31     Katherine     28.0     25.7       0.0         14.6   \n",
       "\n",
       "        Sunshine WindGustDir  WindGustSpeed WindDir9am  ... Pressure9am  \\\n",
       "135042      11.7         WSW           52.0        WSW  ...      1006.8   \n",
       "139360       NaN          NE           33.0          N  ...      1011.9   \n",
       "140444       NaN          NW           41.0        NNW  ...      1010.7   \n",
       "\n",
       "        Pressure3pm  Cloud9am  Cloud3pm  Temp9am  Temp3pm  RainToday  RISK_MM  \\\n",
       "135042       1004.5       6.0       7.0     35.3     41.1         No      0.0   \n",
       "139360       1006.7       5.0       4.0     31.0     41.0         No      0.0   \n",
       "140444       1005.5       5.0       NaN     33.0      NaN         No      0.0   \n",
       "\n",
       "        RainTomorrow      id  \n",
       "135042            No  135043  \n",
       "139360            No  139361  \n",
       "140444            No  140445  \n",
       "\n",
       "[3 rows x 25 columns]"
      ]
     },
     "execution_count": 431,
     "metadata": {},
     "output_type": "execute_result"
    }
   ],
   "source": [
    "weather_df.loc[weather_df.MaxTemp < weather_df.MinTemp]"
   ]
  },
  {
   "cell_type": "code",
   "execution_count": 432,
   "metadata": {},
   "outputs": [],
   "source": [
    "weather_df.loc[weather_df.MaxTemp < weather_df.MinTemp, 'MaxTemp'] = weather_df['MinTemp']"
   ]
  },
  {
   "cell_type": "code",
   "execution_count": 433,
   "metadata": {},
   "outputs": [
    {
     "data": {
      "text/html": [
       "<div>\n",
       "<style scoped>\n",
       "    .dataframe tbody tr th:only-of-type {\n",
       "        vertical-align: middle;\n",
       "    }\n",
       "\n",
       "    .dataframe tbody tr th {\n",
       "        vertical-align: top;\n",
       "    }\n",
       "\n",
       "    .dataframe thead th {\n",
       "        text-align: right;\n",
       "    }\n",
       "</style>\n",
       "<table border=\"1\" class=\"dataframe\">\n",
       "  <thead>\n",
       "    <tr style=\"text-align: right;\">\n",
       "      <th></th>\n",
       "      <th>MinTemp</th>\n",
       "      <th>MaxTemp</th>\n",
       "    </tr>\n",
       "  </thead>\n",
       "  <tbody>\n",
       "  </tbody>\n",
       "</table>\n",
       "</div>"
      ],
      "text/plain": [
       "Empty DataFrame\n",
       "Columns: [MinTemp, MaxTemp]\n",
       "Index: []"
      ]
     },
     "execution_count": 433,
     "metadata": {},
     "output_type": "execute_result"
    }
   ],
   "source": [
    "weather_df.loc[weather_df.MaxTemp < weather_df.MinTemp, ['MinTemp', 'MaxTemp']]"
   ]
  },
  {
   "cell_type": "code",
   "execution_count": 434,
   "metadata": {},
   "outputs": [],
   "source": [
    "Temp_df = pd.concat([weather_df.MinTemp, weather_df.MaxTemp], axis=1)\n",
    "Temp_df = Temp_df.dropna()\n",
    "X,y = Temp_df.iloc[:,Temp_df.columns != 'MinTemp'], Temp_df['MinTemp']\n",
    "X_train, X_test, y_train, y_test = train_test_split(X, y, test_size = 0.2, random_state=42)"
   ]
  },
  {
   "cell_type": "code",
   "execution_count": 435,
   "metadata": {},
   "outputs": [
    {
     "name": "stdout",
     "output_type": "stream",
     "text": [
      "KNN on neighbors = 1 has a rmse of 6.020081275812805 and took 0.25032776900025056 seconds to compute\n",
      "KNN on neighbors = 3 has a rmse of 4.936960443413521 and took 0.2534261760001755 seconds to compute\n",
      "KNN on neighbors = 5 has a rmse of 4.712349865469635 and took 0.2510115549994225 seconds to compute\n",
      "KNN on neighbors = 7 has a rmse of 4.624632490631033 and took 0.2867028549999304 seconds to compute\n",
      "KNN on neighbors = 9 has a rmse of 4.538391367494617 and took 0.26265558900013275 seconds to compute\n",
      "KNN on neighbors = 11 has a rmse of 4.494744772975678 and took 0.26168851900001755 seconds to compute\n",
      "KNN on neighbors = 13 has a rmse of 4.459624421633076 and took 0.2696914520001883 seconds to compute\n",
      "KNN on neighbors = 15 has a rmse of 4.430308842860259 and took 0.27738616399983584 seconds to compute\n",
      "KNN on neighbors = 17 has a rmse of 4.4128361036925305 and took 0.282572206999248 seconds to compute\n",
      "KNN on neighbors = 19 has a rmse of 4.407156465807938 and took 0.28910998099945573 seconds to compute\n",
      "KNN on neighbors = 21 has a rmse of 4.399291053609844 and took 0.30302750900045794 seconds to compute\n",
      "KNN on neighbors = 23 has a rmse of 4.398792886945586 and took 0.31777757800045947 seconds to compute\n",
      "KNN on neighbors = 25 has a rmse of 4.389008737541979 and took 0.3216578739993565 seconds to compute\n",
      "KNN on neighbors = 27 has a rmse of 4.378573978753921 and took 0.33337799300079496 seconds to compute\n",
      "KNN on neighbors = 29 has a rmse of 4.375060841846393 and took 0.346435215999918 seconds to compute\n",
      "KNN on neighbors = 31 has a rmse of 4.371625979799621 and took 0.35404099599963956 seconds to compute\n",
      "KNN on neighbors = 33 has a rmse of 4.367348259057312 and took 0.36100234600053227 seconds to compute\n",
      "KNN on neighbors = 35 has a rmse of 4.363821365996198 and took 0.364664484000059 seconds to compute\n",
      "KNN on neighbors = 37 has a rmse of 4.3595610000716585 and took 0.3748364450002555 seconds to compute\n",
      "KNN on neighbors = 39 has a rmse of 4.356964518934761 and took 0.3910049900005106 seconds to compute\n",
      "KNN on neighbors = 41 has a rmse of 4.351626820512687 and took 0.39484387999982573 seconds to compute\n",
      "KNN on neighbors = 43 has a rmse of 4.351323204986424 and took 0.4088956280002094 seconds to compute\n",
      "KNN on neighbors = 45 has a rmse of 4.349555954454595 and took 0.41819523999947705 seconds to compute\n",
      "KNN on neighbors = 47 has a rmse of 4.34738141880178 and took 0.42132476899951143 seconds to compute\n",
      "KNN on neighbors = 49 has a rmse of 4.344448277594856 and took 0.4301823530004185 seconds to compute\n"
     ]
    }
   ],
   "source": [
    "Neighbors_list = list(range(1,50))\n",
    "Neighbors = list(filter(lambda x: x %2 != 0, Neighbors_list))\n",
    "min_score = []\n",
    "for k in Neighbors:\n",
    "    start_time = process_time()\n",
    "    min_model = KNeighborsRegressor(n_neighbors=k)\n",
    "    min_model.fit(X_train, y_train)\n",
    "    min_predictions = min_model.predict(X_test)\n",
    "    mse = mean_squared_error(min_predictions, y_test)\n",
    "    rmse = sqrt(mse)\n",
    "    end_time = process_time()\n",
    "    time_lapsed = end_time - start_time\n",
    "    min_score.append(rmse)\n",
    "    print('KNN on neighbors = {} has a rmse of {} and took {} seconds to compute'.format(k, rmse, time_lapsed))"
   ]
  },
  {
   "cell_type": "code",
   "execution_count": 436,
   "metadata": {
    "scrolled": true
   },
   "outputs": [
    {
     "data": {
      "image/png": "[encoded data removed]",
      "text/plain": [
       "<Figure size 432x288 with 1 Axes>"
      ]
     },
     "metadata": {},
     "output_type": "display_data"
    }
   ],
   "source": [
    "plt.plot(Neighbors, min_score)\n",
    "plt.xlabel('Numbers of Neighbors K')\n",
    "plt.ylabel('RMSE')\n",
    "plt.show()"
   ]
  },
  {
   "cell_type": "code",
   "execution_count": 437,
   "metadata": {},
   "outputs": [],
   "source": [
    "min_cv_scores = []\n",
    "kf = KFold(10, True)\n",
    "fold = 0\n",
    "for k in Neighbors:\n",
    "    min_cv_model = KNeighborsRegressor(n_neighbors=k)\n",
    "    temp_cv_scores = []\n",
    "    for train, test in kf.split(X):\n",
    "        fold += 1\n",
    "        X_train, X_test = X.values[train], X.values[test]\n",
    "        y_train, y_test = y.values[train], y.values[test]\n",
    "        min_cv_model.fit(X_train, y_train)\n",
    "        predictions = min_cv_model.predict(X_test)\n",
    "        mse = mean_squared_error(predictions, y_test)\n",
    "        rmse = sqrt(mse)\n",
    "        temp_cv_scores.append(rmse)\n",
    "    min_cv_scores.append(np.min(temp_cv_scores)) "
   ]
  },
  {
   "cell_type": "code",
   "execution_count": 438,
   "metadata": {},
   "outputs": [
    {
     "data": {
      "image/png": "[encoded data removed]",
      "text/plain": [
       "<Figure size 432x288 with 1 Axes>"
      ]
     },
     "metadata": {},
     "output_type": "display_data"
    }
   ],
   "source": [
    "plt.plot(Neighbors, min_score, Neighbors, min_cv_scores)\n",
    "plt.xlabel('Numbers of Neighbors K')\n",
    "plt.ylabel('RMSE')\n",
    "plt.show()"
   ]
  },
  {
   "cell_type": "code",
   "execution_count": 439,
   "metadata": {},
   "outputs": [
    {
     "name": "stdout",
     "output_type": "stream",
     "text": [
      "47\n"
     ]
    }
   ],
   "source": [
    "optimal_k = Neighbors[min_cv_scores.index(min(min_cv_scores))]\n",
    "print(optimal_k)"
   ]
  },
  {
   "cell_type": "code",
   "execution_count": 440,
   "metadata": {},
   "outputs": [],
   "source": [
    "min_model = KNeighborsRegressor(n_neighbors=37)\n",
    "min_model.fit(X_train, y_train)\n",
    "min_predictions = min_model.predict(Min_null)\n",
    "min_results = pd.DataFrame(min_predictions, columns=['MinTemp'])\n",
    "min_results = min_results.round(1)\n",
    "weather_df['MinTemp'] = weather_df['MinTemp'].fillna(min_results['MinTemp'].values[0])"
   ]
  },
  {
   "cell_type": "code",
   "execution_count": 441,
   "metadata": {},
   "outputs": [
    {
     "data": {
      "text/plain": [
       "count    142193.000000\n",
       "mean         12.173021\n",
       "std           6.392036\n",
       "min          -8.500000\n",
       "25%           7.600000\n",
       "50%          12.000000\n",
       "75%          16.800000\n",
       "max          33.900000\n",
       "Name: MinTemp, dtype: float64"
      ]
     },
     "execution_count": 441,
     "metadata": {},
     "output_type": "execute_result"
    }
   ],
   "source": [
    "weather_df.MinTemp.describe()"
   ]
  },
  {
   "cell_type": "code",
   "execution_count": 442,
   "metadata": {
    "scrolled": true
   },
   "outputs": [
    {
     "data": {
      "text/html": [
       "<div>\n",
       "<style scoped>\n",
       "    .dataframe tbody tr th:only-of-type {\n",
       "        vertical-align: middle;\n",
       "    }\n",
       "\n",
       "    .dataframe tbody tr th {\n",
       "        vertical-align: top;\n",
       "    }\n",
       "\n",
       "    .dataframe thead th {\n",
       "        text-align: right;\n",
       "    }\n",
       "</style>\n",
       "<table border=\"1\" class=\"dataframe\">\n",
       "  <thead>\n",
       "    <tr style=\"text-align: right;\">\n",
       "      <th></th>\n",
       "      <th>Date</th>\n",
       "      <th>Location</th>\n",
       "      <th>MinTemp</th>\n",
       "      <th>MaxTemp</th>\n",
       "      <th>Rainfall</th>\n",
       "      <th>Evaporation</th>\n",
       "      <th>Sunshine</th>\n",
       "      <th>WindGustDir</th>\n",
       "      <th>WindGustSpeed</th>\n",
       "      <th>WindDir9am</th>\n",
       "      <th>...</th>\n",
       "      <th>Pressure9am</th>\n",
       "      <th>Pressure3pm</th>\n",
       "      <th>Cloud9am</th>\n",
       "      <th>Cloud3pm</th>\n",
       "      <th>Temp9am</th>\n",
       "      <th>Temp3pm</th>\n",
       "      <th>RainToday</th>\n",
       "      <th>RISK_MM</th>\n",
       "      <th>RainTomorrow</th>\n",
       "      <th>id</th>\n",
       "    </tr>\n",
       "  </thead>\n",
       "  <tbody>\n",
       "    <tr>\n",
       "      <th>50953</th>\n",
       "      <td>2009-06-06</td>\n",
       "      <td>MountGinini</td>\n",
       "      <td>9.2</td>\n",
       "      <td>3.2</td>\n",
       "      <td>NaN</td>\n",
       "      <td>NaN</td>\n",
       "      <td>NaN</td>\n",
       "      <td>WSW</td>\n",
       "      <td>43.0</td>\n",
       "      <td>NaN</td>\n",
       "      <td>...</td>\n",
       "      <td>NaN</td>\n",
       "      <td>NaN</td>\n",
       "      <td>NaN</td>\n",
       "      <td>NaN</td>\n",
       "      <td>NaN</td>\n",
       "      <td>NaN</td>\n",
       "      <td>NaN</td>\n",
       "      <td>7.4</td>\n",
       "      <td>Yes</td>\n",
       "      <td>50954</td>\n",
       "    </tr>\n",
       "    <tr>\n",
       "      <th>50973</th>\n",
       "      <td>2009-06-27</td>\n",
       "      <td>MountGinini</td>\n",
       "      <td>9.2</td>\n",
       "      <td>4.2</td>\n",
       "      <td>NaN</td>\n",
       "      <td>NaN</td>\n",
       "      <td>NaN</td>\n",
       "      <td>NNE</td>\n",
       "      <td>26.0</td>\n",
       "      <td>NaN</td>\n",
       "      <td>...</td>\n",
       "      <td>NaN</td>\n",
       "      <td>NaN</td>\n",
       "      <td>NaN</td>\n",
       "      <td>NaN</td>\n",
       "      <td>NaN</td>\n",
       "      <td>NaN</td>\n",
       "      <td>NaN</td>\n",
       "      <td>2.6</td>\n",
       "      <td>Yes</td>\n",
       "      <td>50974</td>\n",
       "    </tr>\n",
       "    <tr>\n",
       "      <th>50981</th>\n",
       "      <td>2009-07-07</td>\n",
       "      <td>MountGinini</td>\n",
       "      <td>9.2</td>\n",
       "      <td>-1.3</td>\n",
       "      <td>NaN</td>\n",
       "      <td>NaN</td>\n",
       "      <td>NaN</td>\n",
       "      <td>E</td>\n",
       "      <td>37.0</td>\n",
       "      <td>NaN</td>\n",
       "      <td>...</td>\n",
       "      <td>NaN</td>\n",
       "      <td>NaN</td>\n",
       "      <td>NaN</td>\n",
       "      <td>NaN</td>\n",
       "      <td>NaN</td>\n",
       "      <td>-1.6</td>\n",
       "      <td>NaN</td>\n",
       "      <td>0.0</td>\n",
       "      <td>No</td>\n",
       "      <td>50982</td>\n",
       "    </tr>\n",
       "    <tr>\n",
       "      <th>51032</th>\n",
       "      <td>2009-08-30</td>\n",
       "      <td>MountGinini</td>\n",
       "      <td>9.2</td>\n",
       "      <td>0.1</td>\n",
       "      <td>32.6</td>\n",
       "      <td>NaN</td>\n",
       "      <td>NaN</td>\n",
       "      <td>W</td>\n",
       "      <td>102.0</td>\n",
       "      <td>NaN</td>\n",
       "      <td>...</td>\n",
       "      <td>NaN</td>\n",
       "      <td>NaN</td>\n",
       "      <td>NaN</td>\n",
       "      <td>NaN</td>\n",
       "      <td>NaN</td>\n",
       "      <td>-1.4</td>\n",
       "      <td>Yes</td>\n",
       "      <td>2.4</td>\n",
       "      <td>Yes</td>\n",
       "      <td>51033</td>\n",
       "    </tr>\n",
       "    <tr>\n",
       "      <th>51034</th>\n",
       "      <td>2009-09-01</td>\n",
       "      <td>MountGinini</td>\n",
       "      <td>9.2</td>\n",
       "      <td>6.6</td>\n",
       "      <td>2.6</td>\n",
       "      <td>NaN</td>\n",
       "      <td>NaN</td>\n",
       "      <td>W</td>\n",
       "      <td>61.0</td>\n",
       "      <td>NaN</td>\n",
       "      <td>...</td>\n",
       "      <td>NaN</td>\n",
       "      <td>NaN</td>\n",
       "      <td>NaN</td>\n",
       "      <td>NaN</td>\n",
       "      <td>NaN</td>\n",
       "      <td>NaN</td>\n",
       "      <td>Yes</td>\n",
       "      <td>0.0</td>\n",
       "      <td>No</td>\n",
       "      <td>51035</td>\n",
       "    </tr>\n",
       "    <tr>\n",
       "      <th>51038</th>\n",
       "      <td>2009-09-05</td>\n",
       "      <td>MountGinini</td>\n",
       "      <td>9.2</td>\n",
       "      <td>7.6</td>\n",
       "      <td>0.2</td>\n",
       "      <td>NaN</td>\n",
       "      <td>NaN</td>\n",
       "      <td>WSW</td>\n",
       "      <td>41.0</td>\n",
       "      <td>NaN</td>\n",
       "      <td>...</td>\n",
       "      <td>NaN</td>\n",
       "      <td>NaN</td>\n",
       "      <td>NaN</td>\n",
       "      <td>NaN</td>\n",
       "      <td>NaN</td>\n",
       "      <td>5.9</td>\n",
       "      <td>No</td>\n",
       "      <td>0.0</td>\n",
       "      <td>No</td>\n",
       "      <td>51039</td>\n",
       "    </tr>\n",
       "    <tr>\n",
       "      <th>51053</th>\n",
       "      <td>2009-09-24</td>\n",
       "      <td>MountGinini</td>\n",
       "      <td>9.2</td>\n",
       "      <td>4.9</td>\n",
       "      <td>NaN</td>\n",
       "      <td>NaN</td>\n",
       "      <td>NaN</td>\n",
       "      <td>SW</td>\n",
       "      <td>85.0</td>\n",
       "      <td>NaN</td>\n",
       "      <td>...</td>\n",
       "      <td>NaN</td>\n",
       "      <td>NaN</td>\n",
       "      <td>NaN</td>\n",
       "      <td>NaN</td>\n",
       "      <td>NaN</td>\n",
       "      <td>NaN</td>\n",
       "      <td>NaN</td>\n",
       "      <td>0.0</td>\n",
       "      <td>No</td>\n",
       "      <td>51054</td>\n",
       "    </tr>\n",
       "    <tr>\n",
       "      <th>51064</th>\n",
       "      <td>2009-10-05</td>\n",
       "      <td>MountGinini</td>\n",
       "      <td>9.2</td>\n",
       "      <td>8.6</td>\n",
       "      <td>6.4</td>\n",
       "      <td>NaN</td>\n",
       "      <td>NaN</td>\n",
       "      <td>NaN</td>\n",
       "      <td>NaN</td>\n",
       "      <td>NaN</td>\n",
       "      <td>...</td>\n",
       "      <td>NaN</td>\n",
       "      <td>NaN</td>\n",
       "      <td>NaN</td>\n",
       "      <td>NaN</td>\n",
       "      <td>NaN</td>\n",
       "      <td>NaN</td>\n",
       "      <td>Yes</td>\n",
       "      <td>3.8</td>\n",
       "      <td>Yes</td>\n",
       "      <td>51065</td>\n",
       "    </tr>\n",
       "    <tr>\n",
       "      <th>51065</th>\n",
       "      <td>2009-10-06</td>\n",
       "      <td>MountGinini</td>\n",
       "      <td>9.2</td>\n",
       "      <td>5.6</td>\n",
       "      <td>3.8</td>\n",
       "      <td>NaN</td>\n",
       "      <td>NaN</td>\n",
       "      <td>NaN</td>\n",
       "      <td>NaN</td>\n",
       "      <td>NaN</td>\n",
       "      <td>...</td>\n",
       "      <td>NaN</td>\n",
       "      <td>NaN</td>\n",
       "      <td>NaN</td>\n",
       "      <td>NaN</td>\n",
       "      <td>NaN</td>\n",
       "      <td>5.0</td>\n",
       "      <td>Yes</td>\n",
       "      <td>5.4</td>\n",
       "      <td>Yes</td>\n",
       "      <td>51066</td>\n",
       "    </tr>\n",
       "    <tr>\n",
       "      <th>51070</th>\n",
       "      <td>2009-10-11</td>\n",
       "      <td>MountGinini</td>\n",
       "      <td>9.2</td>\n",
       "      <td>7.9</td>\n",
       "      <td>0.0</td>\n",
       "      <td>NaN</td>\n",
       "      <td>NaN</td>\n",
       "      <td>W</td>\n",
       "      <td>31.0</td>\n",
       "      <td>NaN</td>\n",
       "      <td>...</td>\n",
       "      <td>NaN</td>\n",
       "      <td>NaN</td>\n",
       "      <td>NaN</td>\n",
       "      <td>NaN</td>\n",
       "      <td>NaN</td>\n",
       "      <td>5.2</td>\n",
       "      <td>No</td>\n",
       "      <td>2.4</td>\n",
       "      <td>Yes</td>\n",
       "      <td>51071</td>\n",
       "    </tr>\n",
       "    <tr>\n",
       "      <th>51256</th>\n",
       "      <td>2010-06-05</td>\n",
       "      <td>MountGinini</td>\n",
       "      <td>9.2</td>\n",
       "      <td>7.2</td>\n",
       "      <td>NaN</td>\n",
       "      <td>NaN</td>\n",
       "      <td>NaN</td>\n",
       "      <td>W</td>\n",
       "      <td>26.0</td>\n",
       "      <td>NaN</td>\n",
       "      <td>...</td>\n",
       "      <td>NaN</td>\n",
       "      <td>NaN</td>\n",
       "      <td>NaN</td>\n",
       "      <td>NaN</td>\n",
       "      <td>NaN</td>\n",
       "      <td>6.0</td>\n",
       "      <td>NaN</td>\n",
       "      <td>0.0</td>\n",
       "      <td>No</td>\n",
       "      <td>51257</td>\n",
       "    </tr>\n",
       "    <tr>\n",
       "      <th>51258</th>\n",
       "      <td>2010-06-09</td>\n",
       "      <td>MountGinini</td>\n",
       "      <td>9.2</td>\n",
       "      <td>-2.7</td>\n",
       "      <td>NaN</td>\n",
       "      <td>NaN</td>\n",
       "      <td>NaN</td>\n",
       "      <td>WSW</td>\n",
       "      <td>48.0</td>\n",
       "      <td>NaN</td>\n",
       "      <td>...</td>\n",
       "      <td>NaN</td>\n",
       "      <td>NaN</td>\n",
       "      <td>NaN</td>\n",
       "      <td>NaN</td>\n",
       "      <td>-4.2</td>\n",
       "      <td>-2.9</td>\n",
       "      <td>NaN</td>\n",
       "      <td>4.4</td>\n",
       "      <td>Yes</td>\n",
       "      <td>51259</td>\n",
       "    </tr>\n",
       "    <tr>\n",
       "      <th>51277</th>\n",
       "      <td>2010-07-01</td>\n",
       "      <td>MountGinini</td>\n",
       "      <td>9.2</td>\n",
       "      <td>0.0</td>\n",
       "      <td>NaN</td>\n",
       "      <td>NaN</td>\n",
       "      <td>NaN</td>\n",
       "      <td>W</td>\n",
       "      <td>39.0</td>\n",
       "      <td>NaN</td>\n",
       "      <td>...</td>\n",
       "      <td>NaN</td>\n",
       "      <td>NaN</td>\n",
       "      <td>NaN</td>\n",
       "      <td>NaN</td>\n",
       "      <td>NaN</td>\n",
       "      <td>-1.5</td>\n",
       "      <td>NaN</td>\n",
       "      <td>0.0</td>\n",
       "      <td>No</td>\n",
       "      <td>51278</td>\n",
       "    </tr>\n",
       "    <tr>\n",
       "      <th>51281</th>\n",
       "      <td>2010-07-09</td>\n",
       "      <td>MountGinini</td>\n",
       "      <td>9.2</td>\n",
       "      <td>3.8</td>\n",
       "      <td>NaN</td>\n",
       "      <td>NaN</td>\n",
       "      <td>NaN</td>\n",
       "      <td>ENE</td>\n",
       "      <td>41.0</td>\n",
       "      <td>NaN</td>\n",
       "      <td>...</td>\n",
       "      <td>NaN</td>\n",
       "      <td>NaN</td>\n",
       "      <td>NaN</td>\n",
       "      <td>NaN</td>\n",
       "      <td>NaN</td>\n",
       "      <td>2.2</td>\n",
       "      <td>NaN</td>\n",
       "      <td>0.2</td>\n",
       "      <td>No</td>\n",
       "      <td>51282</td>\n",
       "    </tr>\n",
       "    <tr>\n",
       "      <th>51283</th>\n",
       "      <td>2010-07-12</td>\n",
       "      <td>MountGinini</td>\n",
       "      <td>9.2</td>\n",
       "      <td>5.1</td>\n",
       "      <td>NaN</td>\n",
       "      <td>NaN</td>\n",
       "      <td>NaN</td>\n",
       "      <td>NNE</td>\n",
       "      <td>39.0</td>\n",
       "      <td>NaN</td>\n",
       "      <td>...</td>\n",
       "      <td>NaN</td>\n",
       "      <td>NaN</td>\n",
       "      <td>NaN</td>\n",
       "      <td>NaN</td>\n",
       "      <td>NaN</td>\n",
       "      <td>3.0</td>\n",
       "      <td>NaN</td>\n",
       "      <td>0.0</td>\n",
       "      <td>No</td>\n",
       "      <td>51284</td>\n",
       "    </tr>\n",
       "    <tr>\n",
       "      <th>51286</th>\n",
       "      <td>2010-07-17</td>\n",
       "      <td>MountGinini</td>\n",
       "      <td>9.2</td>\n",
       "      <td>2.4</td>\n",
       "      <td>NaN</td>\n",
       "      <td>NaN</td>\n",
       "      <td>NaN</td>\n",
       "      <td>WNW</td>\n",
       "      <td>33.0</td>\n",
       "      <td>NaN</td>\n",
       "      <td>...</td>\n",
       "      <td>NaN</td>\n",
       "      <td>NaN</td>\n",
       "      <td>NaN</td>\n",
       "      <td>NaN</td>\n",
       "      <td>NaN</td>\n",
       "      <td>NaN</td>\n",
       "      <td>NaN</td>\n",
       "      <td>0.0</td>\n",
       "      <td>No</td>\n",
       "      <td>51287</td>\n",
       "    </tr>\n",
       "    <tr>\n",
       "      <th>51287</th>\n",
       "      <td>2010-07-21</td>\n",
       "      <td>MountGinini</td>\n",
       "      <td>9.2</td>\n",
       "      <td>2.9</td>\n",
       "      <td>NaN</td>\n",
       "      <td>NaN</td>\n",
       "      <td>NaN</td>\n",
       "      <td>S</td>\n",
       "      <td>26.0</td>\n",
       "      <td>NaN</td>\n",
       "      <td>...</td>\n",
       "      <td>NaN</td>\n",
       "      <td>NaN</td>\n",
       "      <td>NaN</td>\n",
       "      <td>NaN</td>\n",
       "      <td>NaN</td>\n",
       "      <td>2.5</td>\n",
       "      <td>NaN</td>\n",
       "      <td>0.0</td>\n",
       "      <td>No</td>\n",
       "      <td>51288</td>\n",
       "    </tr>\n",
       "    <tr>\n",
       "      <th>51300</th>\n",
       "      <td>2010-08-10</td>\n",
       "      <td>MountGinini</td>\n",
       "      <td>9.2</td>\n",
       "      <td>4.3</td>\n",
       "      <td>NaN</td>\n",
       "      <td>NaN</td>\n",
       "      <td>NaN</td>\n",
       "      <td>NaN</td>\n",
       "      <td>NaN</td>\n",
       "      <td>NaN</td>\n",
       "      <td>...</td>\n",
       "      <td>NaN</td>\n",
       "      <td>NaN</td>\n",
       "      <td>NaN</td>\n",
       "      <td>NaN</td>\n",
       "      <td>NaN</td>\n",
       "      <td>NaN</td>\n",
       "      <td>NaN</td>\n",
       "      <td>32.2</td>\n",
       "      <td>Yes</td>\n",
       "      <td>51301</td>\n",
       "    </tr>\n",
       "    <tr>\n",
       "      <th>51302</th>\n",
       "      <td>2010-08-13</td>\n",
       "      <td>MountGinini</td>\n",
       "      <td>9.2</td>\n",
       "      <td>6.6</td>\n",
       "      <td>NaN</td>\n",
       "      <td>NaN</td>\n",
       "      <td>NaN</td>\n",
       "      <td>NaN</td>\n",
       "      <td>NaN</td>\n",
       "      <td>NaN</td>\n",
       "      <td>...</td>\n",
       "      <td>NaN</td>\n",
       "      <td>NaN</td>\n",
       "      <td>NaN</td>\n",
       "      <td>NaN</td>\n",
       "      <td>-0.4</td>\n",
       "      <td>5.8</td>\n",
       "      <td>NaN</td>\n",
       "      <td>0.0</td>\n",
       "      <td>No</td>\n",
       "      <td>51303</td>\n",
       "    </tr>\n",
       "    <tr>\n",
       "      <th>51318</th>\n",
       "      <td>2010-09-03</td>\n",
       "      <td>MountGinini</td>\n",
       "      <td>9.2</td>\n",
       "      <td>7.1</td>\n",
       "      <td>NaN</td>\n",
       "      <td>NaN</td>\n",
       "      <td>NaN</td>\n",
       "      <td>NNE</td>\n",
       "      <td>44.0</td>\n",
       "      <td>NaN</td>\n",
       "      <td>...</td>\n",
       "      <td>NaN</td>\n",
       "      <td>NaN</td>\n",
       "      <td>NaN</td>\n",
       "      <td>NaN</td>\n",
       "      <td>NaN</td>\n",
       "      <td>1.7</td>\n",
       "      <td>NaN</td>\n",
       "      <td>24.6</td>\n",
       "      <td>Yes</td>\n",
       "      <td>51319</td>\n",
       "    </tr>\n",
       "    <tr>\n",
       "      <th>51569</th>\n",
       "      <td>2011-06-22</td>\n",
       "      <td>MountGinini</td>\n",
       "      <td>9.2</td>\n",
       "      <td>0.1</td>\n",
       "      <td>NaN</td>\n",
       "      <td>NaN</td>\n",
       "      <td>NaN</td>\n",
       "      <td>W</td>\n",
       "      <td>54.0</td>\n",
       "      <td>NaN</td>\n",
       "      <td>...</td>\n",
       "      <td>NaN</td>\n",
       "      <td>NaN</td>\n",
       "      <td>NaN</td>\n",
       "      <td>NaN</td>\n",
       "      <td>NaN</td>\n",
       "      <td>NaN</td>\n",
       "      <td>NaN</td>\n",
       "      <td>3.8</td>\n",
       "      <td>Yes</td>\n",
       "      <td>51570</td>\n",
       "    </tr>\n",
       "    <tr>\n",
       "      <th>51598</th>\n",
       "      <td>2011-07-22</td>\n",
       "      <td>MountGinini</td>\n",
       "      <td>9.2</td>\n",
       "      <td>0.1</td>\n",
       "      <td>NaN</td>\n",
       "      <td>NaN</td>\n",
       "      <td>NaN</td>\n",
       "      <td>ESE</td>\n",
       "      <td>46.0</td>\n",
       "      <td>NaN</td>\n",
       "      <td>...</td>\n",
       "      <td>NaN</td>\n",
       "      <td>NaN</td>\n",
       "      <td>NaN</td>\n",
       "      <td>NaN</td>\n",
       "      <td>NaN</td>\n",
       "      <td>-0.1</td>\n",
       "      <td>NaN</td>\n",
       "      <td>0.0</td>\n",
       "      <td>No</td>\n",
       "      <td>51599</td>\n",
       "    </tr>\n",
       "    <tr>\n",
       "      <th>51919</th>\n",
       "      <td>2012-06-18</td>\n",
       "      <td>MountGinini</td>\n",
       "      <td>9.2</td>\n",
       "      <td>4.5</td>\n",
       "      <td>NaN</td>\n",
       "      <td>NaN</td>\n",
       "      <td>NaN</td>\n",
       "      <td>SW</td>\n",
       "      <td>52.0</td>\n",
       "      <td>NaN</td>\n",
       "      <td>...</td>\n",
       "      <td>NaN</td>\n",
       "      <td>NaN</td>\n",
       "      <td>NaN</td>\n",
       "      <td>NaN</td>\n",
       "      <td>NaN</td>\n",
       "      <td>NaN</td>\n",
       "      <td>NaN</td>\n",
       "      <td>1.8</td>\n",
       "      <td>Yes</td>\n",
       "      <td>51920</td>\n",
       "    </tr>\n",
       "    <tr>\n",
       "      <th>51930</th>\n",
       "      <td>2012-07-03</td>\n",
       "      <td>MountGinini</td>\n",
       "      <td>9.2</td>\n",
       "      <td>0.0</td>\n",
       "      <td>NaN</td>\n",
       "      <td>NaN</td>\n",
       "      <td>NaN</td>\n",
       "      <td>S</td>\n",
       "      <td>56.0</td>\n",
       "      <td>NaN</td>\n",
       "      <td>...</td>\n",
       "      <td>NaN</td>\n",
       "      <td>NaN</td>\n",
       "      <td>NaN</td>\n",
       "      <td>NaN</td>\n",
       "      <td>NaN</td>\n",
       "      <td>NaN</td>\n",
       "      <td>NaN</td>\n",
       "      <td>3.2</td>\n",
       "      <td>Yes</td>\n",
       "      <td>51931</td>\n",
       "    </tr>\n",
       "    <tr>\n",
       "      <th>51976</th>\n",
       "      <td>2012-08-26</td>\n",
       "      <td>MountGinini</td>\n",
       "      <td>9.2</td>\n",
       "      <td>1.0</td>\n",
       "      <td>NaN</td>\n",
       "      <td>NaN</td>\n",
       "      <td>NaN</td>\n",
       "      <td>SW</td>\n",
       "      <td>44.0</td>\n",
       "      <td>NaN</td>\n",
       "      <td>...</td>\n",
       "      <td>NaN</td>\n",
       "      <td>NaN</td>\n",
       "      <td>NaN</td>\n",
       "      <td>NaN</td>\n",
       "      <td>NaN</td>\n",
       "      <td>0.1</td>\n",
       "      <td>NaN</td>\n",
       "      <td>1.2</td>\n",
       "      <td>Yes</td>\n",
       "      <td>51977</td>\n",
       "    </tr>\n",
       "    <tr>\n",
       "      <th>52179</th>\n",
       "      <td>2013-05-18</td>\n",
       "      <td>MountGinini</td>\n",
       "      <td>9.2</td>\n",
       "      <td>2.4</td>\n",
       "      <td>NaN</td>\n",
       "      <td>NaN</td>\n",
       "      <td>NaN</td>\n",
       "      <td>SW</td>\n",
       "      <td>50.0</td>\n",
       "      <td>NaN</td>\n",
       "      <td>...</td>\n",
       "      <td>NaN</td>\n",
       "      <td>NaN</td>\n",
       "      <td>NaN</td>\n",
       "      <td>NaN</td>\n",
       "      <td>NaN</td>\n",
       "      <td>0.4</td>\n",
       "      <td>NaN</td>\n",
       "      <td>0.8</td>\n",
       "      <td>No</td>\n",
       "      <td>52180</td>\n",
       "    </tr>\n",
       "  </tbody>\n",
       "</table>\n",
       "<p>26 rows × 25 columns</p>\n",
       "</div>"
      ],
      "text/plain": [
       "             Date     Location  MinTemp  MaxTemp  Rainfall  Evaporation  \\\n",
       "50953  2009-06-06  MountGinini      9.2      3.2       NaN          NaN   \n",
       "50973  2009-06-27  MountGinini      9.2      4.2       NaN          NaN   \n",
       "50981  2009-07-07  MountGinini      9.2     -1.3       NaN          NaN   \n",
       "51032  2009-08-30  MountGinini      9.2      0.1      32.6          NaN   \n",
       "51034  2009-09-01  MountGinini      9.2      6.6       2.6          NaN   \n",
       "51038  2009-09-05  MountGinini      9.2      7.6       0.2          NaN   \n",
       "51053  2009-09-24  MountGinini      9.2      4.9       NaN          NaN   \n",
       "51064  2009-10-05  MountGinini      9.2      8.6       6.4          NaN   \n",
       "51065  2009-10-06  MountGinini      9.2      5.6       3.8          NaN   \n",
       "51070  2009-10-11  MountGinini      9.2      7.9       0.0          NaN   \n",
       "51256  2010-06-05  MountGinini      9.2      7.2       NaN          NaN   \n",
       "51258  2010-06-09  MountGinini      9.2     -2.7       NaN          NaN   \n",
       "51277  2010-07-01  MountGinini      9.2      0.0       NaN          NaN   \n",
       "51281  2010-07-09  MountGinini      9.2      3.8       NaN          NaN   \n",
       "51283  2010-07-12  MountGinini      9.2      5.1       NaN          NaN   \n",
       "51286  2010-07-17  MountGinini      9.2      2.4       NaN          NaN   \n",
       "51287  2010-07-21  MountGinini      9.2      2.9       NaN          NaN   \n",
       "51300  2010-08-10  MountGinini      9.2      4.3       NaN          NaN   \n",
       "51302  2010-08-13  MountGinini      9.2      6.6       NaN          NaN   \n",
       "51318  2010-09-03  MountGinini      9.2      7.1       NaN          NaN   \n",
       "51569  2011-06-22  MountGinini      9.2      0.1       NaN          NaN   \n",
       "51598  2011-07-22  MountGinini      9.2      0.1       NaN          NaN   \n",
       "51919  2012-06-18  MountGinini      9.2      4.5       NaN          NaN   \n",
       "51930  2012-07-03  MountGinini      9.2      0.0       NaN          NaN   \n",
       "51976  2012-08-26  MountGinini      9.2      1.0       NaN          NaN   \n",
       "52179  2013-05-18  MountGinini      9.2      2.4       NaN          NaN   \n",
       "\n",
       "       Sunshine WindGustDir  WindGustSpeed WindDir9am  ... Pressure9am  \\\n",
       "50953       NaN         WSW           43.0        NaN  ...         NaN   \n",
       "50973       NaN         NNE           26.0        NaN  ...         NaN   \n",
       "50981       NaN           E           37.0        NaN  ...         NaN   \n",
       "51032       NaN           W          102.0        NaN  ...         NaN   \n",
       "51034       NaN           W           61.0        NaN  ...         NaN   \n",
       "51038       NaN         WSW           41.0        NaN  ...         NaN   \n",
       "51053       NaN          SW           85.0        NaN  ...         NaN   \n",
       "51064       NaN         NaN            NaN        NaN  ...         NaN   \n",
       "51065       NaN         NaN            NaN        NaN  ...         NaN   \n",
       "51070       NaN           W           31.0        NaN  ...         NaN   \n",
       "51256       NaN           W           26.0        NaN  ...         NaN   \n",
       "51258       NaN         WSW           48.0        NaN  ...         NaN   \n",
       "51277       NaN           W           39.0        NaN  ...         NaN   \n",
       "51281       NaN         ENE           41.0        NaN  ...         NaN   \n",
       "51283       NaN         NNE           39.0        NaN  ...         NaN   \n",
       "51286       NaN         WNW           33.0        NaN  ...         NaN   \n",
       "51287       NaN           S           26.0        NaN  ...         NaN   \n",
       "51300       NaN         NaN            NaN        NaN  ...         NaN   \n",
       "51302       NaN         NaN            NaN        NaN  ...         NaN   \n",
       "51318       NaN         NNE           44.0        NaN  ...         NaN   \n",
       "51569       NaN           W           54.0        NaN  ...         NaN   \n",
       "51598       NaN         ESE           46.0        NaN  ...         NaN   \n",
       "51919       NaN          SW           52.0        NaN  ...         NaN   \n",
       "51930       NaN           S           56.0        NaN  ...         NaN   \n",
       "51976       NaN          SW           44.0        NaN  ...         NaN   \n",
       "52179       NaN          SW           50.0        NaN  ...         NaN   \n",
       "\n",
       "       Pressure3pm  Cloud9am  Cloud3pm  Temp9am  Temp3pm  RainToday  RISK_MM  \\\n",
       "50953          NaN       NaN       NaN      NaN      NaN        NaN      7.4   \n",
       "50973          NaN       NaN       NaN      NaN      NaN        NaN      2.6   \n",
       "50981          NaN       NaN       NaN      NaN     -1.6        NaN      0.0   \n",
       "51032          NaN       NaN       NaN      NaN     -1.4        Yes      2.4   \n",
       "51034          NaN       NaN       NaN      NaN      NaN        Yes      0.0   \n",
       "51038          NaN       NaN       NaN      NaN      5.9         No      0.0   \n",
       "51053          NaN       NaN       NaN      NaN      NaN        NaN      0.0   \n",
       "51064          NaN       NaN       NaN      NaN      NaN        Yes      3.8   \n",
       "51065          NaN       NaN       NaN      NaN      5.0        Yes      5.4   \n",
       "51070          NaN       NaN       NaN      NaN      5.2         No      2.4   \n",
       "51256          NaN       NaN       NaN      NaN      6.0        NaN      0.0   \n",
       "51258          NaN       NaN       NaN     -4.2     -2.9        NaN      4.4   \n",
       "51277          NaN       NaN       NaN      NaN     -1.5        NaN      0.0   \n",
       "51281          NaN       NaN       NaN      NaN      2.2        NaN      0.2   \n",
       "51283          NaN       NaN       NaN      NaN      3.0        NaN      0.0   \n",
       "51286          NaN       NaN       NaN      NaN      NaN        NaN      0.0   \n",
       "51287          NaN       NaN       NaN      NaN      2.5        NaN      0.0   \n",
       "51300          NaN       NaN       NaN      NaN      NaN        NaN     32.2   \n",
       "51302          NaN       NaN       NaN     -0.4      5.8        NaN      0.0   \n",
       "51318          NaN       NaN       NaN      NaN      1.7        NaN     24.6   \n",
       "51569          NaN       NaN       NaN      NaN      NaN        NaN      3.8   \n",
       "51598          NaN       NaN       NaN      NaN     -0.1        NaN      0.0   \n",
       "51919          NaN       NaN       NaN      NaN      NaN        NaN      1.8   \n",
       "51930          NaN       NaN       NaN      NaN      NaN        NaN      3.2   \n",
       "51976          NaN       NaN       NaN      NaN      0.1        NaN      1.2   \n",
       "52179          NaN       NaN       NaN      NaN      0.4        NaN      0.8   \n",
       "\n",
       "       RainTomorrow     id  \n",
       "50953           Yes  50954  \n",
       "50973           Yes  50974  \n",
       "50981            No  50982  \n",
       "51032           Yes  51033  \n",
       "51034            No  51035  \n",
       "51038            No  51039  \n",
       "51053            No  51054  \n",
       "51064           Yes  51065  \n",
       "51065           Yes  51066  \n",
       "51070           Yes  51071  \n",
       "51256            No  51257  \n",
       "51258           Yes  51259  \n",
       "51277            No  51278  \n",
       "51281            No  51282  \n",
       "51283            No  51284  \n",
       "51286            No  51287  \n",
       "51287            No  51288  \n",
       "51300           Yes  51301  \n",
       "51302            No  51303  \n",
       "51318           Yes  51319  \n",
       "51569           Yes  51570  \n",
       "51598            No  51599  \n",
       "51919           Yes  51920  \n",
       "51930           Yes  51931  \n",
       "51976           Yes  51977  \n",
       "52179            No  52180  \n",
       "\n",
       "[26 rows x 25 columns]"
      ]
     },
     "execution_count": 442,
     "metadata": {},
     "output_type": "execute_result"
    }
   ],
   "source": [
    "weather_df[weather_df.MaxTemp < weather_df.MinTemp]"
   ]
  },
  {
   "cell_type": "code",
   "execution_count": 443,
   "metadata": {},
   "outputs": [],
   "source": [
    "weather_df.loc[weather_df.MaxTemp < weather_df.MinTemp, ['MinTemp']] = weather_df['MaxTemp']"
   ]
  },
  {
   "cell_type": "code",
   "execution_count": 444,
   "metadata": {},
   "outputs": [
    {
     "data": {
      "text/html": [
       "<div>\n",
       "<style scoped>\n",
       "    .dataframe tbody tr th:only-of-type {\n",
       "        vertical-align: middle;\n",
       "    }\n",
       "\n",
       "    .dataframe tbody tr th {\n",
       "        vertical-align: top;\n",
       "    }\n",
       "\n",
       "    .dataframe thead th {\n",
       "        text-align: right;\n",
       "    }\n",
       "</style>\n",
       "<table border=\"1\" class=\"dataframe\">\n",
       "  <thead>\n",
       "    <tr style=\"text-align: right;\">\n",
       "      <th></th>\n",
       "      <th>Date</th>\n",
       "      <th>Location</th>\n",
       "      <th>MinTemp</th>\n",
       "      <th>MaxTemp</th>\n",
       "      <th>Rainfall</th>\n",
       "      <th>Evaporation</th>\n",
       "      <th>Sunshine</th>\n",
       "      <th>WindGustDir</th>\n",
       "      <th>WindGustSpeed</th>\n",
       "      <th>WindDir9am</th>\n",
       "      <th>...</th>\n",
       "      <th>Pressure9am</th>\n",
       "      <th>Pressure3pm</th>\n",
       "      <th>Cloud9am</th>\n",
       "      <th>Cloud3pm</th>\n",
       "      <th>Temp9am</th>\n",
       "      <th>Temp3pm</th>\n",
       "      <th>RainToday</th>\n",
       "      <th>RISK_MM</th>\n",
       "      <th>RainTomorrow</th>\n",
       "      <th>id</th>\n",
       "    </tr>\n",
       "  </thead>\n",
       "  <tbody>\n",
       "  </tbody>\n",
       "</table>\n",
       "<p>0 rows × 25 columns</p>\n",
       "</div>"
      ],
      "text/plain": [
       "Empty DataFrame\n",
       "Columns: [Date, Location, MinTemp, MaxTemp, Rainfall, Evaporation, Sunshine, WindGustDir, WindGustSpeed, WindDir9am, WindDir3pm, WindSpeed9am, WindSpeed3pm, Humidity9am, Humidity3pm, Pressure9am, Pressure3pm, Cloud9am, Cloud3pm, Temp9am, Temp3pm, RainToday, RISK_MM, RainTomorrow, id]\n",
       "Index: []\n",
       "\n",
       "[0 rows x 25 columns]"
      ]
     },
     "execution_count": 444,
     "metadata": {},
     "output_type": "execute_result"
    }
   ],
   "source": [
    "weather_df.loc[weather_df.MaxTemp < weather_df.MinTemp]"
   ]
  },
  {
   "cell_type": "code",
   "execution_count": 445,
   "metadata": {},
   "outputs": [
    {
     "name": "stdout",
     "output_type": "stream",
     "text": [
      "There is 0 missing values in MinTemp\n",
      "There is 0 missing values in MaxTemp\n"
     ]
    }
   ],
   "source": [
    "print('There is {} missing values in MinTemp'.format(weather_df.MinTemp.isnull().sum()))\n",
    "print('There is {} missing values in MaxTemp'.format(weather_df.MaxTemp.isnull().sum()))"
   ]
  },
  {
   "cell_type": "markdown",
   "metadata": {},
   "source": [
    "# Rainfall overview\n",
    "\n",
    "As rainfall have 1406 missing values, we will just impute with the median due to the amoount of outliers."
   ]
  },
  {
   "cell_type": "code",
   "execution_count": 446,
   "metadata": {},
   "outputs": [
    {
     "name": "stdout",
     "output_type": "stream",
     "text": [
      "count    140787.000000\n",
      "mean          2.349974\n",
      "std           8.465173\n",
      "min           0.000000\n",
      "25%           0.000000\n",
      "50%           0.000000\n",
      "75%           0.800000\n",
      "max         371.000000\n",
      "Name: Rainfall, dtype: float64\n",
      "There are 1406 missing values\n"
     ]
    }
   ],
   "source": [
    "print(weather_df.Rainfall.describe())\n",
    "print('There are {} missing values'.format(weather_df.Rainfall.isnull().sum()))"
   ]
  },
  {
   "cell_type": "code",
   "execution_count": 447,
   "metadata": {},
   "outputs": [
    {
     "data": {
      "text/plain": [
       "0"
      ]
     },
     "execution_count": 447,
     "metadata": {},
     "output_type": "execute_result"
    }
   ],
   "source": [
    "weather_df.Rainfall.fillna(weather_df.Rainfall.median(), inplace = True)\n",
    "weather_df.Rainfall.isnull().sum()"
   ]
  },
  {
   "cell_type": "code",
   "execution_count": 448,
   "metadata": {},
   "outputs": [
    {
     "data": {
      "text/plain": [
       "<matplotlib.axes._subplots.AxesSubplot at 0x7f6af9bf73c8>"
      ]
     },
     "execution_count": 448,
     "metadata": {},
     "output_type": "execute_result"
    },
    {
     "data": {
      "image/png": "[encoded data removed]",
      "text/plain": [
       "<Figure size 432x288 with 1 Axes>"
      ]
     },
     "metadata": {},
     "output_type": "display_data"
    }
   ],
   "source": [
    "weather_df.Rainfall.value_counts()[:3].plot(kind='barh')"
   ]
  },
  {
   "cell_type": "markdown",
   "metadata": {},
   "source": [
    "# Evaporation Overview\n",
    "\n",
    "Evaporation is one of the main variable with many missing values. Once again, we will be using KNN to predict and impute this data. We will be using the "
   ]
  },
  {
   "cell_type": "code",
   "execution_count": 449,
   "metadata": {},
   "outputs": [
    {
     "name": "stdout",
     "output_type": "stream",
     "text": [
      "60843\n",
      "142193\n"
     ]
    }
   ],
   "source": [
    "print(weather_df.Evaporation.isnull().sum())\n",
    "print(len(weather_df.Evaporation))"
   ]
  },
  {
   "cell_type": "code",
   "execution_count": 450,
   "metadata": {},
   "outputs": [],
   "source": [
    "evaporation_temp_df = pd.concat([weather_df.MaxTemp, weather_df.MinTemp, weather_df.Evaporation], axis=1)\n",
    "evaporation_null = evaporation_temp_df[evaporation_temp_df.Evaporation.isnull()]\n",
    "evaporation_temp_df = evaporation_temp_df.dropna()\n",
    "evaporation_null = evaporation_null.drop(columns = ['Evaporation'])"
   ]
  },
  {
   "cell_type": "code",
   "execution_count": 451,
   "metadata": {},
   "outputs": [],
   "source": [
    "X,y = evaporation_temp_df.iloc[:,evaporation_temp_df.columns != 'Evaporation'], evaporation_temp_df['Evaporation']\n",
    "X_train, X_test, y_train, y_test = train_test_split(X, y, test_size = 0.2, random_state=42)"
   ]
  },
  {
   "cell_type": "code",
   "execution_count": 452,
   "metadata": {},
   "outputs": [
    {
     "name": "stdout",
     "output_type": "stream",
     "text": [
      "KNN on neighbors = 1 has a rmse of 4.694779561613628 and took 0.09895962700011296 seconds to compute\n",
      "KNN on neighbors = 3 has a rmse of 3.9062129867125748 and took 0.09952941099982127 seconds to compute\n",
      "KNN on neighbors = 5 has a rmse of 3.7387905876619616 and took 0.11584778900032688 seconds to compute\n",
      "KNN on neighbors = 7 has a rmse of 3.6622017384966745 and took 0.11385672999949747 seconds to compute\n",
      "KNN on neighbors = 9 has a rmse of 3.6189192204188005 and took 0.12290692900023714 seconds to compute\n",
      "KNN on neighbors = 11 has a rmse of 3.5863463656180445 and took 0.1298672989996703 seconds to compute\n",
      "KNN on neighbors = 13 has a rmse of 3.5655491073714 and took 0.14176799600045342 seconds to compute\n",
      "KNN on neighbors = 15 has a rmse of 3.551891319129553 and took 0.13750941600028455 seconds to compute\n",
      "KNN on neighbors = 17 has a rmse of 3.54183988223709 and took 0.14220906599985028 seconds to compute\n",
      "KNN on neighbors = 19 has a rmse of 3.5352091973905977 and took 0.15450449099989783 seconds to compute\n",
      "KNN on neighbors = 21 has a rmse of 3.5276939643484426 and took 0.16108147500017367 seconds to compute\n",
      "KNN on neighbors = 23 has a rmse of 3.520945250679338 and took 0.1702899880001496 seconds to compute\n",
      "KNN on neighbors = 25 has a rmse of 3.5147671834040604 and took 0.1723548469999514 seconds to compute\n",
      "KNN on neighbors = 27 has a rmse of 3.5104348222247848 and took 0.17955768199954036 seconds to compute\n",
      "KNN on neighbors = 29 has a rmse of 3.5095611351210483 and took 0.18500408199997764 seconds to compute\n",
      "KNN on neighbors = 31 has a rmse of 3.504949255918616 and took 0.18972624399975757 seconds to compute\n",
      "KNN on neighbors = 33 has a rmse of 3.502503643619268 and took 0.19323282499954075 seconds to compute\n",
      "KNN on neighbors = 35 has a rmse of 3.500464255515164 and took 0.1951768250000896 seconds to compute\n",
      "KNN on neighbors = 37 has a rmse of 3.4986030891117736 and took 0.19317340700035857 seconds to compute\n",
      "KNN on neighbors = 39 has a rmse of 3.4945264673744565 and took 0.20376681899961113 seconds to compute\n",
      "KNN on neighbors = 41 has a rmse of 3.491506744254437 and took 0.21412461399995664 seconds to compute\n",
      "KNN on neighbors = 43 has a rmse of 3.4895467421427298 and took 0.2183473690001847 seconds to compute\n",
      "KNN on neighbors = 45 has a rmse of 3.4880920397165847 and took 0.22349792400018487 seconds to compute\n",
      "KNN on neighbors = 47 has a rmse of 3.4850591696749618 and took 0.23709841700019751 seconds to compute\n",
      "KNN on neighbors = 49 has a rmse of 3.484419981287812 and took 0.2450417350000862 seconds to compute\n"
     ]
    }
   ],
   "source": [
    "Neighbors_list = list(range(1,50))\n",
    "Neighbors = list(filter(lambda x: x %2 != 0, Neighbors_list))\n",
    "min_score = []\n",
    "for k in Neighbors:\n",
    "    start_time = process_time()\n",
    "    evaporation_model = KNeighborsRegressor(n_neighbors=k)\n",
    "    evaporation_model.fit(X_train, y_train)\n",
    "    evaporation_predictions = evaporation_model.predict(X_test)\n",
    "    mse = mean_squared_error(evaporation_predictions, y_test)\n",
    "    rmse = sqrt(mse)\n",
    "    end_time = process_time()\n",
    "    time_lapsed = end_time - start_time\n",
    "    min_score.append(rmse)\n",
    "    print('KNN on neighbors = {} has a rmse of {} and took {} seconds to compute'.format(k, rmse, time_lapsed))"
   ]
  },
  {
   "cell_type": "code",
   "execution_count": 453,
   "metadata": {
    "scrolled": true
   },
   "outputs": [
    {
     "data": {
      "image/png": "[encoded data removed]",
      "text/plain": [
       "<Figure size 432x288 with 1 Axes>"
      ]
     },
     "metadata": {},
     "output_type": "display_data"
    }
   ],
   "source": [
    "plt.plot(Neighbors, min_score)\n",
    "plt.xlabel('Numbers of Neighbors K')\n",
    "plt.ylabel('RMSE')\n",
    "plt.show()"
   ]
  },
  {
   "cell_type": "code",
   "execution_count": 454,
   "metadata": {},
   "outputs": [],
   "source": [
    "cv_scores = []\n",
    "kf = KFold(10, True)\n",
    "fold = 0\n",
    "for k in Neighbors:\n",
    "    cv_evaporation_model = KNeighborsRegressor(n_neighbors=k)\n",
    "    temp_cv_scores = []\n",
    "    for train, test in kf.split(X):\n",
    "        fold += 1\n",
    "        X_train, X_test = X.values[train], X.values[test]\n",
    "        y_train, y_test = y.values[train], y.values[test]\n",
    "        cv_evaporation_model.fit(X_train, y_train)\n",
    "        predictions = cv_evaporation_model.predict(X_test)\n",
    "        mse = mean_squared_error(predictions, y_test)\n",
    "        rmse = sqrt(mse)\n",
    "        temp_cv_scores.append(rmse)\n",
    "    cv_scores.append(np.min(temp_cv_scores)) "
   ]
  },
  {
   "cell_type": "code",
   "execution_count": 455,
   "metadata": {
    "scrolled": true
   },
   "outputs": [
    {
     "data": {
      "image/png": "[encoded data removed]",
      "text/plain": [
       "<Figure size 432x288 with 1 Axes>"
      ]
     },
     "metadata": {},
     "output_type": "display_data"
    }
   ],
   "source": [
    "plt.plot(Neighbors, min_score, Neighbors, cv_scores)\n",
    "plt.xlabel('Numbers of Neighbors K')\n",
    "plt.ylabel('RMSE')\n",
    "plt.show()"
   ]
  },
  {
   "cell_type": "code",
   "execution_count": 456,
   "metadata": {
    "scrolled": true
   },
   "outputs": [
    {
     "name": "stdout",
     "output_type": "stream",
     "text": [
      "1\n"
     ]
    }
   ],
   "source": [
    "optimal_k = Neighbors[temp_cv_scores.index(min(temp_cv_scores))]\n",
    "print(optimal_k)"
   ]
  },
  {
   "cell_type": "code",
   "execution_count": 457,
   "metadata": {},
   "outputs": [],
   "source": [
    "evaporation_model = KNeighborsRegressor(n_neighbors=1)\n",
    "evaporation_model.fit(X_train, y_train)\n",
    "evaporation_predictions = evaporation_model.predict(evaporation_null)\n",
    "evaporation_results = pd.DataFrame(evaporation_predictions, columns=['Evaporation'])\n",
    "evaporation_results = evaporation_results.round(1)\n",
    "weather_df['Evaporation'] = weather_df['Evaporation'].fillna(evaporation_results['Evaporation'].values[0])"
   ]
  },
  {
   "cell_type": "code",
   "execution_count": 458,
   "metadata": {},
   "outputs": [
    {
     "data": {
      "text/plain": [
       "count    142193.000000\n",
       "mean          8.007289\n",
       "std           4.318089\n",
       "min           0.000000\n",
       "25%           4.000000\n",
       "50%           9.400000\n",
       "75%          11.400000\n",
       "max         145.000000\n",
       "Name: Evaporation, dtype: float64"
      ]
     },
     "execution_count": 458,
     "metadata": {},
     "output_type": "execute_result"
    }
   ],
   "source": [
    "weather_df.Evaporation.describe()"
   ]
  },
  {
   "cell_type": "code",
   "execution_count": 459,
   "metadata": {},
   "outputs": [
    {
     "data": {
      "text/plain": [
       "0"
      ]
     },
     "execution_count": 459,
     "metadata": {},
     "output_type": "execute_result"
    }
   ],
   "source": [
    "weather_df.Evaporation.isna().sum()"
   ]
  },
  {
   "cell_type": "code",
   "execution_count": 460,
   "metadata": {
    "scrolled": true
   },
   "outputs": [
    {
     "name": "stdout",
     "output_type": "stream",
     "text": [
      "count    142193.000000\n",
      "mean          8.007289\n",
      "std           4.318089\n",
      "min           0.000000\n",
      "25%           4.000000\n",
      "50%           9.400000\n",
      "75%          11.400000\n",
      "max         145.000000\n",
      "Name: Evaporation, dtype: float64\n",
      "0\n"
     ]
    },
    {
     "data": {
      "text/plain": [
       "<matplotlib.axes._subplots.AxesSubplot at 0x7f6af9a47588>"
      ]
     },
     "execution_count": 460,
     "metadata": {},
     "output_type": "execute_result"
    },
    {
     "data": {
      "image/png": "[encoded data removed]",
      "text/plain": [
       "<Figure size 432x288 with 1 Axes>"
      ]
     },
     "metadata": {},
     "output_type": "display_data"
    }
   ],
   "source": [
    "print(weather_df.Evaporation.describe())\n",
    "print(weather_df.Evaporation.isnull().sum())\n",
    "weather_df.Evaporation.plot(kind='box', vert = False)"
   ]
  },
  {
   "cell_type": "markdown",
   "metadata": {},
   "source": [
    "# Sunshine overview\n",
    "\n",
    "Sunshine is missing a lot of values too. Usually we will also apply the KNN search to predict the missing values however some domain knowledge needs to be applied here. We can not determine the amount of Sunshine through evaporation, min temp, and max temp. Perhaps with location but I believe a better values will be the clouds. As the more clouds there are, the less sunshine and vice versa. Therefore we will proceed to impute sunshine when we impute the clouds."
   ]
  },
  {
   "cell_type": "code",
   "execution_count": 461,
   "metadata": {},
   "outputs": [
    {
     "name": "stdout",
     "output_type": "stream",
     "text": [
      "count    74377.000000\n",
      "mean         7.624853\n",
      "std          3.781525\n",
      "min          0.000000\n",
      "25%          4.900000\n",
      "50%          8.500000\n",
      "75%         10.600000\n",
      "max         14.500000\n",
      "Name: Sunshine, dtype: float64\n",
      "67816\n"
     ]
    }
   ],
   "source": [
    "print(weather_df.Sunshine.describe())\n",
    "print(weather_df.Sunshine.isnull().sum())"
   ]
  },
  {
   "cell_type": "code",
   "execution_count": 462,
   "metadata": {
    "scrolled": true
   },
   "outputs": [
    {
     "data": {
      "text/plain": [
       "<matplotlib.axes._subplots.AxesSubplot at 0x7f6af9a1ce80>"
      ]
     },
     "execution_count": 462,
     "metadata": {},
     "output_type": "execute_result"
    },
    {
     "data": {
      "image/png": "[encoded data removed]",
      "text/plain": [
       "<Figure size 432x288 with 1 Axes>"
      ]
     },
     "metadata": {},
     "output_type": "display_data"
    }
   ],
   "source": [
    "weather_df.Sunshine.plot(kind='box', vert=False)"
   ]
  },
  {
   "cell_type": "markdown",
   "metadata": {},
   "source": [
    "# WindGustDirection Overview\n",
    "\n",
    "There is no simple way to impute the missing values for this as it is categorical data. Currently, binning the missing values into a label under 'Unknown' will work fine as it allows us to retain the rows rather than deleting them.\n",
    "\n",
    "However, a possible solution is to use a classifier prediction model to predict each possible direction of the wind and its likely hood. As there is only 16 possible wind direction, the classifier will need to be run 16 times. It is difficulty to guess the level of accuracy this will be.\n",
    "\n",
    "Therefore, we will proceed in using the binning technique for now and possibly come back and revise on it."
   ]
  },
  {
   "cell_type": "code",
   "execution_count": 463,
   "metadata": {},
   "outputs": [
    {
     "name": "stdout",
     "output_type": "stream",
     "text": [
      "W      9780\n",
      "SE     9309\n",
      "E      9071\n",
      "N      9033\n",
      "SSE    8993\n",
      "S      8949\n",
      "WSW    8901\n",
      "SW     8797\n",
      "SSW    8610\n",
      "WNW    8066\n",
      "NW     8003\n",
      "ENE    7992\n",
      "ESE    7305\n",
      "NE     7060\n",
      "NNW    6561\n",
      "NNE    6433\n",
      "Name: WindGustDir, dtype: int64\n",
      "9330\n"
     ]
    },
    {
     "data": {
      "text/plain": [
       "<matplotlib.axes._subplots.AxesSubplot at 0x7f6af99fa8d0>"
      ]
     },
     "execution_count": 463,
     "metadata": {},
     "output_type": "execute_result"
    },
    {
     "data": {
      "image/png": "[encoded data removed]",
      "text/plain": [
       "<Figure size 432x288 with 1 Axes>"
      ]
     },
     "metadata": {},
     "output_type": "display_data"
    }
   ],
   "source": [
    "print(weather_df.WindGustDir.value_counts())\n",
    "print(weather_df.WindGustDir.isnull().sum())\n",
    "weather_df.WindGustDir.value_counts().plot(kind='barh')"
   ]
  },
  {
   "cell_type": "code",
   "execution_count": 464,
   "metadata": {},
   "outputs": [
    {
     "name": "stdout",
     "output_type": "stream",
     "text": [
      "W          9780\n",
      "UNKNOWN    9330\n",
      "SE         9309\n",
      "E          9071\n",
      "N          9033\n",
      "SSE        8993\n",
      "S          8949\n",
      "WSW        8901\n",
      "SW         8797\n",
      "SSW        8610\n",
      "WNW        8066\n",
      "NW         8003\n",
      "ENE        7992\n",
      "ESE        7305\n",
      "NE         7060\n",
      "NNW        6561\n",
      "NNE        6433\n",
      "Name: WindGustDir, dtype: int64\n",
      "There is 0 missing values for WindGustDir\n"
     ]
    }
   ],
   "source": [
    "weather_df.WindGustDir.fillna('UNKNOWN', inplace = True)\n",
    "print(weather_df.WindGustDir.value_counts())\n",
    "print('There is {} missing values for WindGustDir'.format(weather_df.WindGustDir.isna().sum()) )"
   ]
  },
  {
   "cell_type": "markdown",
   "metadata": {},
   "source": [
    "# Wind Gust Speed\n",
    "\n",
    "We will be imputing with median due to the amount of outliers in the variable. However we will try using the WindGustDir variable to help determine the speed. Probably won't affect much."
   ]
  },
  {
   "cell_type": "code",
   "execution_count": 465,
   "metadata": {},
   "outputs": [
    {
     "name": "stdout",
     "output_type": "stream",
     "text": [
      "count    132923.000000\n",
      "mean         39.984292\n",
      "std          13.588801\n",
      "min           6.000000\n",
      "25%          31.000000\n",
      "50%          39.000000\n",
      "75%          48.000000\n",
      "max         135.000000\n",
      "Name: WindGustSpeed, dtype: float64\n",
      "9270\n"
     ]
    },
    {
     "data": {
      "text/plain": [
       "<matplotlib.axes._subplots.AxesSubplot at 0x7f6af98cafd0>"
      ]
     },
     "execution_count": 465,
     "metadata": {},
     "output_type": "execute_result"
    },
    {
     "data": {
      "image/png": "[encoded data removed]",
      "text/plain": [
       "<Figure size 432x288 with 1 Axes>"
      ]
     },
     "metadata": {},
     "output_type": "display_data"
    }
   ],
   "source": [
    "print(weather_df.WindGustSpeed.describe())\n",
    "print(weather_df.WindGustSpeed.isnull().sum())\n",
    "weather_df.WindGustSpeed.plot(kind='box', vert=False)"
   ]
  },
  {
   "cell_type": "code",
   "execution_count": 466,
   "metadata": {},
   "outputs": [
    {
     "data": {
      "text/plain": [
       "0"
      ]
     },
     "execution_count": 466,
     "metadata": {},
     "output_type": "execute_result"
    }
   ],
   "source": [
    "weather_df.WindGustSpeed.fillna(weather_df.groupby('WindGustDir')['WindGustSpeed'].transform(\"median\"), inplace = True)\n",
    "weather_df.WindGustSpeed.isna().sum()"
   ]
  },
  {
   "cell_type": "code",
   "execution_count": 467,
   "metadata": {},
   "outputs": [
    {
     "name": "stdout",
     "output_type": "stream",
     "text": [
      "count    142193.000000\n",
      "mean         39.985316\n",
      "std          13.138386\n",
      "min           6.000000\n",
      "25%          31.000000\n",
      "50%          39.000000\n",
      "75%          46.000000\n",
      "max         135.000000\n",
      "Name: WindGustSpeed, dtype: float64\n"
     ]
    }
   ],
   "source": [
    "print(weather_df.WindGustSpeed.describe())"
   ]
  },
  {
   "cell_type": "markdown",
   "metadata": {},
   "source": [
    "# WindDir9am\n",
    "\n",
    "Same as WindGustDir"
   ]
  },
  {
   "cell_type": "code",
   "execution_count": 468,
   "metadata": {},
   "outputs": [
    {
     "name": "stdout",
     "output_type": "stream",
     "text": [
      "N      11393\n",
      "SE      9162\n",
      "E       9024\n",
      "SSE     8966\n",
      "NW      8552\n",
      "S       8493\n",
      "W       8260\n",
      "SW      8237\n",
      "NNE     7948\n",
      "NNW     7840\n",
      "ENE     7735\n",
      "ESE     7558\n",
      "NE      7527\n",
      "SSW     7448\n",
      "WNW     7194\n",
      "WSW     6843\n",
      "Name: WindDir9am, dtype: int64\n",
      "10013\n"
     ]
    },
    {
     "data": {
      "text/plain": [
       "<matplotlib.axes._subplots.AxesSubplot at 0x7f6af98b5400>"
      ]
     },
     "execution_count": 468,
     "metadata": {},
     "output_type": "execute_result"
    },
    {
     "data": {
      "image/png": "[encoded data removed]",
      "text/plain": [
       "<Figure size 432x288 with 1 Axes>"
      ]
     },
     "metadata": {},
     "output_type": "display_data"
    }
   ],
   "source": [
    "print(weather_df.WindDir9am.value_counts())\n",
    "print(weather_df.WindDir9am.isnull().sum())\n",
    "weather_df.WindDir9am.value_counts().plot(kind='barh')"
   ]
  },
  {
   "cell_type": "code",
   "execution_count": 469,
   "metadata": {},
   "outputs": [
    {
     "name": "stdout",
     "output_type": "stream",
     "text": [
      "There is 0 missing WindDir9am values\n"
     ]
    }
   ],
   "source": [
    "weather_df.WindDir9am.fillna(\"UNKNOWN\", inplace = True)\n",
    "print(\"There is {} missing WindDir9am values\".format(weather_df.WindDir9am.isna().sum()))"
   ]
  },
  {
   "cell_type": "markdown",
   "metadata": {},
   "source": [
    "# Wind Dir 3pm\n",
    "Same as WindGustDir"
   ]
  },
  {
   "cell_type": "code",
   "execution_count": 470,
   "metadata": {},
   "outputs": [
    {
     "name": "stdout",
     "output_type": "stream",
     "text": [
      "SE     10663\n",
      "W       9911\n",
      "S       9598\n",
      "WSW     9329\n",
      "SW      9182\n",
      "SSE     9142\n",
      "N       8667\n",
      "WNW     8656\n",
      "NW      8468\n",
      "ESE     8382\n",
      "E       8342\n",
      "NE      8164\n",
      "SSW     8010\n",
      "NNW     7733\n",
      "ENE     7724\n",
      "NNE     6444\n",
      "Name: WindDir3pm, dtype: int64\n",
      "3778\n"
     ]
    },
    {
     "data": {
      "text/plain": [
       "<matplotlib.axes._subplots.AxesSubplot at 0x7f6af982ef28>"
      ]
     },
     "execution_count": 470,
     "metadata": {},
     "output_type": "execute_result"
    },
    {
     "data": {
      "image/png": "[encoded data removed]",
      "text/plain": [
       "<Figure size 432x288 with 1 Axes>"
      ]
     },
     "metadata": {},
     "output_type": "display_data"
    }
   ],
   "source": [
    "print(weather_df.WindDir3pm.value_counts())\n",
    "print(weather_df.WindDir3pm.isnull().sum())\n",
    "weather_df.WindDir3pm.value_counts().plot(kind='barh')"
   ]
  },
  {
   "cell_type": "code",
   "execution_count": 471,
   "metadata": {},
   "outputs": [
    {
     "name": "stdout",
     "output_type": "stream",
     "text": [
      "There is 0 missing WindDir3pm values\n"
     ]
    }
   ],
   "source": [
    "weather_df.WindDir3pm.fillna(\"UNKNOWN\", inplace = True)\n",
    "print(\"There is {} missing WindDir3pm values\".format(weather_df.WindDir3pm.isna().sum()))"
   ]
  },
  {
   "cell_type": "markdown",
   "metadata": {},
   "source": [
    "# WindSpeed9am\n",
    "\n",
    "Same as WindGustSpeed"
   ]
  },
  {
   "cell_type": "code",
   "execution_count": 472,
   "metadata": {},
   "outputs": [
    {
     "name": "stdout",
     "output_type": "stream",
     "text": [
      "count    140845.000000\n",
      "mean         14.001988\n",
      "std           8.893337\n",
      "min           0.000000\n",
      "25%           7.000000\n",
      "50%          13.000000\n",
      "75%          19.000000\n",
      "max         130.000000\n",
      "Name: WindSpeed9am, dtype: float64\n",
      "1348\n"
     ]
    },
    {
     "data": {
      "text/plain": [
       "<matplotlib.axes._subplots.AxesSubplot at 0x7f6af9754dd8>"
      ]
     },
     "execution_count": 472,
     "metadata": {},
     "output_type": "execute_result"
    },
    {
     "data": {
      "image/png": "[encoded data removed]",
      "text/plain": [
       "<Figure size 432x288 with 1 Axes>"
      ]
     },
     "metadata": {},
     "output_type": "display_data"
    }
   ],
   "source": [
    "print(weather_df.WindSpeed9am.describe())\n",
    "print(weather_df.WindSpeed9am.isnull().sum())\n",
    "weather_df.WindSpeed9am.plot(kind='box', vert = False)"
   ]
  },
  {
   "cell_type": "code",
   "execution_count": 473,
   "metadata": {},
   "outputs": [
    {
     "name": "stdout",
     "output_type": "stream",
     "text": [
      "There is 0 missing values for WindSpeed9am\n"
     ]
    }
   ],
   "source": [
    "weather_df.WindSpeed9am.fillna(weather_df.WindSpeed9am.median(), inplace = True)\n",
    "print('There is {} missing values for WindSpeed9am'.format(weather_df.WindSpeed9am.isna().sum()))"
   ]
  },
  {
   "cell_type": "code",
   "execution_count": 474,
   "metadata": {},
   "outputs": [
    {
     "name": "stdout",
     "output_type": "stream",
     "text": [
      "count    142193.000000\n",
      "mean         13.992489\n",
      "std           8.851614\n",
      "min           0.000000\n",
      "25%           7.000000\n",
      "50%          13.000000\n",
      "75%          19.000000\n",
      "max         130.000000\n",
      "Name: WindSpeed9am, dtype: float64\n"
     ]
    },
    {
     "data": {
      "text/plain": [
       "<matplotlib.axes._subplots.AxesSubplot at 0x7f6af9732a58>"
      ]
     },
     "execution_count": 474,
     "metadata": {},
     "output_type": "execute_result"
    },
    {
     "data": {
      "image/png": "[encoded data removed]",
      "text/plain": [
       "<Figure size 432x288 with 1 Axes>"
      ]
     },
     "metadata": {},
     "output_type": "display_data"
    }
   ],
   "source": [
    "print(weather_df.WindSpeed9am.describe())\n",
    "weather_df.WindSpeed9am.plot(kind='box', vert = False)"
   ]
  },
  {
   "cell_type": "markdown",
   "metadata": {},
   "source": [
    "# Wind Speed 3pm\n",
    "Same as WindGustSpeed"
   ]
  },
  {
   "cell_type": "code",
   "execution_count": 475,
   "metadata": {
    "scrolled": true
   },
   "outputs": [
    {
     "name": "stdout",
     "output_type": "stream",
     "text": [
      "count    139563.000000\n",
      "mean         18.637576\n",
      "std           8.803345\n",
      "min           0.000000\n",
      "25%          13.000000\n",
      "50%          19.000000\n",
      "75%          24.000000\n",
      "max          87.000000\n",
      "Name: WindSpeed3pm, dtype: float64\n",
      "2630\n"
     ]
    },
    {
     "data": {
      "text/plain": [
       "<matplotlib.axes._subplots.AxesSubplot at 0x7f6af961b160>"
      ]
     },
     "execution_count": 475,
     "metadata": {},
     "output_type": "execute_result"
    },
    {
     "data": {
      "image/png": "[encoded data removed]",
      "text/plain": [
       "<Figure size 432x288 with 1 Axes>"
      ]
     },
     "metadata": {},
     "output_type": "display_data"
    }
   ],
   "source": [
    "print(weather_df.WindSpeed3pm.describe())\n",
    "print(weather_df.WindSpeed3pm.isnull().sum())\n",
    "weather_df.WindSpeed3pm.plot(kind='box', vert = False)"
   ]
  },
  {
   "cell_type": "code",
   "execution_count": 476,
   "metadata": {},
   "outputs": [
    {
     "name": "stdout",
     "output_type": "stream",
     "text": [
      "There is 0 missing values for WindSpeed3pm\n"
     ]
    }
   ],
   "source": [
    "weather_df.WindSpeed3pm.fillna(weather_df.WindSpeed3pm.median(), inplace = True)\n",
    "print('There is {} missing values for WindSpeed3pm'.format(weather_df.WindSpeed3pm.isna().sum()))"
   ]
  },
  {
   "cell_type": "code",
   "execution_count": 477,
   "metadata": {},
   "outputs": [
    {
     "name": "stdout",
     "output_type": "stream",
     "text": [
      "count    142193.000000\n",
      "mean         18.644279\n",
      "std           8.721688\n",
      "min           0.000000\n",
      "25%          13.000000\n",
      "50%          19.000000\n",
      "75%          24.000000\n",
      "max          87.000000\n",
      "Name: WindSpeed3pm, dtype: float64\n"
     ]
    },
    {
     "data": {
      "text/plain": [
       "<matplotlib.axes._subplots.AxesSubplot at 0x7f6af95d5438>"
      ]
     },
     "execution_count": 477,
     "metadata": {},
     "output_type": "execute_result"
    },
    {
     "data": {
      "image/png": "[encoded data removed]",
      "text/plain": [
       "<Figure size 432x288 with 1 Axes>"
      ]
     },
     "metadata": {},
     "output_type": "display_data"
    }
   ],
   "source": [
    "print(weather_df.WindSpeed3pm.describe())\n",
    "weather_df.WindSpeed3pm.plot(kind='box', vert = False)"
   ]
  },
  {
   "cell_type": "markdown",
   "metadata": {},
   "source": [
    "# Humidity 9am\n",
    "Same as WindGustSpeed"
   ]
  },
  {
   "cell_type": "code",
   "execution_count": 478,
   "metadata": {
    "scrolled": true
   },
   "outputs": [
    {
     "name": "stdout",
     "output_type": "stream",
     "text": [
      "count    140419.000000\n",
      "mean         68.843810\n",
      "std          19.051293\n",
      "min           0.000000\n",
      "25%          57.000000\n",
      "50%          70.000000\n",
      "75%          83.000000\n",
      "max         100.000000\n",
      "Name: Humidity9am, dtype: float64\n",
      "1774\n"
     ]
    },
    {
     "data": {
      "text/plain": [
       "<matplotlib.axes._subplots.AxesSubplot at 0x7f6af95ab630>"
      ]
     },
     "execution_count": 478,
     "metadata": {},
     "output_type": "execute_result"
    },
    {
     "data": {
      "image/png": "[encoded data removed]",
      "text/plain": [
       "<Figure size 432x288 with 1 Axes>"
      ]
     },
     "metadata": {},
     "output_type": "display_data"
    }
   ],
   "source": [
    "print(weather_df.Humidity9am.describe())\n",
    "print(weather_df.Humidity9am.isnull().sum())\n",
    "weather_df.Humidity9am.plot(kind='box', vert = False)"
   ]
  },
  {
   "cell_type": "code",
   "execution_count": 479,
   "metadata": {},
   "outputs": [
    {
     "name": "stdout",
     "output_type": "stream",
     "text": [
      "There is 0 missing values for Humidity9am\n"
     ]
    }
   ],
   "source": [
    "weather_df.Humidity9am.fillna(weather_df.Humidity9am.median(), inplace = True)\n",
    "print('There is {} missing values for Humidity9am'.format(weather_df.Humidity9am.isna().sum()))"
   ]
  },
  {
   "cell_type": "code",
   "execution_count": 480,
   "metadata": {},
   "outputs": [
    {
     "name": "stdout",
     "output_type": "stream",
     "text": [
      "count    142193.000000\n",
      "mean         68.858235\n",
      "std          18.932512\n",
      "min           0.000000\n",
      "25%          57.000000\n",
      "50%          70.000000\n",
      "75%          83.000000\n",
      "max         100.000000\n",
      "Name: Humidity9am, dtype: float64\n"
     ]
    },
    {
     "data": {
      "text/plain": [
       "<matplotlib.axes._subplots.AxesSubplot at 0x7f6af950a400>"
      ]
     },
     "execution_count": 480,
     "metadata": {},
     "output_type": "execute_result"
    },
    {
     "data": {
      "image/png": "[encoded data removed]",
      "text/plain": [
       "<Figure size 432x288 with 1 Axes>"
      ]
     },
     "metadata": {},
     "output_type": "display_data"
    }
   ],
   "source": [
    "print(weather_df.Humidity9am.describe())\n",
    "weather_df.Humidity9am.plot(kind='box', vert = False)"
   ]
  },
  {
   "cell_type": "markdown",
   "metadata": {},
   "source": [
    "# Humidity3pm\n",
    "Same as WindGustSpeed"
   ]
  },
  {
   "cell_type": "code",
   "execution_count": 481,
   "metadata": {
    "scrolled": true
   },
   "outputs": [
    {
     "name": "stdout",
     "output_type": "stream",
     "text": [
      "count    138583.000000\n",
      "mean         51.482606\n",
      "std          20.797772\n",
      "min           0.000000\n",
      "25%          37.000000\n",
      "50%          52.000000\n",
      "75%          66.000000\n",
      "max         100.000000\n",
      "Name: Humidity3pm, dtype: float64\n",
      "3610\n"
     ]
    },
    {
     "data": {
      "text/plain": [
       "<matplotlib.axes._subplots.AxesSubplot at 0x7f6af94d99b0>"
      ]
     },
     "execution_count": 481,
     "metadata": {},
     "output_type": "execute_result"
    },
    {
     "data": {
      "image/png": "[encoded data removed]",
      "text/plain": [
       "<Figure size 432x288 with 1 Axes>"
      ]
     },
     "metadata": {},
     "output_type": "display_data"
    }
   ],
   "source": [
    "print(weather_df.Humidity3pm.describe())\n",
    "print(weather_df.Humidity3pm.isnull().sum())\n",
    "weather_df.Humidity3pm.plot(kind='box', vert = False)"
   ]
  },
  {
   "cell_type": "code",
   "execution_count": 482,
   "metadata": {},
   "outputs": [
    {
     "name": "stdout",
     "output_type": "stream",
     "text": [
      "There is 0 missing values for Humidity3pm\n"
     ]
    }
   ],
   "source": [
    "weather_df.Humidity3pm.fillna(weather_df.Humidity3pm.median(), inplace = True)\n",
    "print('There is {} missing values for Humidity3pm'.format(weather_df.Humidity3pm.isna().sum()))"
   ]
  },
  {
   "cell_type": "code",
   "execution_count": 483,
   "metadata": {},
   "outputs": [
    {
     "name": "stdout",
     "output_type": "stream",
     "text": [
      "count    142193.000000\n",
      "mean         51.495742\n",
      "std          20.532227\n",
      "min           0.000000\n",
      "25%          37.000000\n",
      "50%          52.000000\n",
      "75%          65.000000\n",
      "max         100.000000\n",
      "Name: Humidity3pm, dtype: float64\n"
     ]
    },
    {
     "data": {
      "text/plain": [
       "<matplotlib.axes._subplots.AxesSubplot at 0x7f6af94ba668>"
      ]
     },
     "execution_count": 483,
     "metadata": {},
     "output_type": "execute_result"
    },
    {
     "data": {
      "image/png": "[encoded data removed]",
      "text/plain": [
       "<Figure size 432x288 with 1 Axes>"
      ]
     },
     "metadata": {},
     "output_type": "display_data"
    }
   ],
   "source": [
    "print(weather_df.Humidity3pm.describe())\n",
    "weather_df.Humidity3pm.plot(kind='box', vert = False)"
   ]
  },
  {
   "cell_type": "markdown",
   "metadata": {},
   "source": [
    "# Pressure9am\n",
    "Same as WindGustSpeed"
   ]
  },
  {
   "cell_type": "code",
   "execution_count": 484,
   "metadata": {
    "scrolled": false
   },
   "outputs": [
    {
     "name": "stdout",
     "output_type": "stream",
     "text": [
      "count    128179.000000\n",
      "mean       1017.653758\n",
      "std           7.105476\n",
      "min         980.500000\n",
      "25%        1012.900000\n",
      "50%        1017.600000\n",
      "75%        1022.400000\n",
      "max        1041.000000\n",
      "Name: Pressure9am, dtype: float64\n",
      "14014\n"
     ]
    },
    {
     "data": {
      "text/plain": [
       "<matplotlib.axes._subplots.AxesSubplot at 0x7f6af9408a58>"
      ]
     },
     "execution_count": 484,
     "metadata": {},
     "output_type": "execute_result"
    },
    {
     "data": {
      "image/png": "[encoded data removed]",
      "text/plain": [
       "<Figure size 432x288 with 1 Axes>"
      ]
     },
     "metadata": {},
     "output_type": "display_data"
    }
   ],
   "source": [
    "print(weather_df.Pressure9am.describe())\n",
    "print(weather_df.Pressure9am.isnull().sum())\n",
    "weather_df.Pressure9am.plot(kind='box', vert = False)"
   ]
  },
  {
   "cell_type": "code",
   "execution_count": 485,
   "metadata": {},
   "outputs": [
    {
     "name": "stdout",
     "output_type": "stream",
     "text": [
      "There is 0 missing values for Pressure9am\n"
     ]
    }
   ],
   "source": [
    "weather_df.Pressure9am.fillna(weather_df.groupby('WindSpeed9am')['Pressure9am'].transform(\"median\"), inplace = True)\n",
    "weather_df.Pressure9am.fillna(weather_df.Pressure9am.median(), inplace = True)\n",
    "print('There is {} missing values for Pressure9am'.format(weather_df.Pressure9am.isna().sum()))"
   ]
  },
  {
   "cell_type": "code",
   "execution_count": 486,
   "metadata": {},
   "outputs": [
    {
     "name": "stdout",
     "output_type": "stream",
     "text": [
      "count    142193.000000\n",
      "mean       1017.722537\n",
      "std           6.772932\n",
      "min         980.500000\n",
      "25%        1013.500000\n",
      "50%        1017.700000\n",
      "75%        1021.800000\n",
      "max        1041.000000\n",
      "Name: Pressure9am, dtype: float64\n"
     ]
    },
    {
     "data": {
      "text/plain": [
       "<matplotlib.axes._subplots.AxesSubplot at 0x7f6af97bba58>"
      ]
     },
     "execution_count": 486,
     "metadata": {},
     "output_type": "execute_result"
    },
    {
     "data": {
      "image/png": "[encoded data removed]",
      "text/plain": [
       "<Figure size 432x288 with 1 Axes>"
      ]
     },
     "metadata": {},
     "output_type": "display_data"
    }
   ],
   "source": [
    "print(weather_df.Pressure9am.describe())\n",
    "weather_df.Pressure9am.plot(kind='box', vert = False)"
   ]
  },
  {
   "cell_type": "markdown",
   "metadata": {},
   "source": [
    "# Pressure3pm"
   ]
  },
  {
   "cell_type": "code",
   "execution_count": 487,
   "metadata": {
    "scrolled": true
   },
   "outputs": [
    {
     "name": "stdout",
     "output_type": "stream",
     "text": [
      "count    128212.000000\n",
      "mean       1015.258204\n",
      "std           7.036677\n",
      "min         977.100000\n",
      "25%        1010.400000\n",
      "50%        1015.200000\n",
      "75%        1020.000000\n",
      "max        1039.600000\n",
      "Name: Pressure3pm, dtype: float64\n",
      "13981\n"
     ]
    },
    {
     "data": {
      "text/plain": [
       "<matplotlib.axes._subplots.AxesSubplot at 0x7f6af9353278>"
      ]
     },
     "execution_count": 487,
     "metadata": {},
     "output_type": "execute_result"
    },
    {
     "data": {
      "image/png": "[encoded data removed]",
      "text/plain": [
       "<Figure size 432x288 with 1 Axes>"
      ]
     },
     "metadata": {},
     "output_type": "display_data"
    }
   ],
   "source": [
    "print(weather_df.Pressure3pm.describe())\n",
    "print(weather_df.Pressure3pm.isnull().sum())\n",
    "weather_df.Pressure3pm.plot(kind='box', vert = False)"
   ]
  },
  {
   "cell_type": "code",
   "execution_count": 488,
   "metadata": {},
   "outputs": [
    {
     "name": "stdout",
     "output_type": "stream",
     "text": [
      "There is 0 missing values for Pressure3pm\n"
     ]
    }
   ],
   "source": [
    "weather_df.Pressure3pm.fillna(weather_df.groupby('WindSpeed3pm')['Pressure3pm'].transform(\"median\"), inplace = True)\n",
    "weather_df.Pressure3pm.fillna(weather_df.Pressure3pm.median(), inplace = True)\n",
    "print('There is {} missing values for Pressure3pm'.format(weather_df.Pressure3pm.isna().sum()))"
   ]
  },
  {
   "cell_type": "markdown",
   "metadata": {},
   "source": [
    "# Temp9am"
   ]
  },
  {
   "cell_type": "code",
   "execution_count": 489,
   "metadata": {
    "scrolled": true
   },
   "outputs": [
    {
     "name": "stdout",
     "output_type": "stream",
     "text": [
      "count    141289.000000\n",
      "mean         16.987509\n",
      "std           6.492838\n",
      "min          -7.200000\n",
      "25%          12.300000\n",
      "50%          16.700000\n",
      "75%          21.600000\n",
      "max          40.200000\n",
      "Name: Temp9am, dtype: float64\n",
      "904\n"
     ]
    },
    {
     "data": {
      "text/plain": [
       "<matplotlib.axes._subplots.AxesSubplot at 0x7f6af932c390>"
      ]
     },
     "execution_count": 489,
     "metadata": {},
     "output_type": "execute_result"
    },
    {
     "data": {
      "image/png": "[encoded data removed]",
      "text/plain": [
       "<Figure size 432x288 with 1 Axes>"
      ]
     },
     "metadata": {},
     "output_type": "display_data"
    }
   ],
   "source": [
    "print(weather_df.Temp9am.describe())\n",
    "print(weather_df.Temp9am.isnull().sum())\n",
    "weather_df.Temp9am.plot(kind='box', vert = False)"
   ]
  },
  {
   "cell_type": "code",
   "execution_count": 490,
   "metadata": {},
   "outputs": [
    {
     "name": "stdout",
     "output_type": "stream",
     "text": [
      "There is 0 missing values for Temp9am\n"
     ]
    }
   ],
   "source": [
    "weather_df.Temp9am.fillna(weather_df.groupby('MinTemp')['Temp9am'].transform(\"median\"), inplace = True)\n",
    "print('There is {} missing values for Temp9am'.format(weather_df.Temp9am.isna().sum()))"
   ]
  },
  {
   "cell_type": "code",
   "execution_count": 491,
   "metadata": {},
   "outputs": [
    {
     "name": "stdout",
     "output_type": "stream",
     "text": [
      "count    142193.000000\n",
      "mean         16.959450\n",
      "std           6.494093\n",
      "min          -7.200000\n",
      "25%          12.300000\n",
      "50%          16.700000\n",
      "75%          21.500000\n",
      "max          40.200000\n",
      "Name: Temp9am, dtype: float64\n"
     ]
    },
    {
     "data": {
      "text/plain": [
       "<matplotlib.axes._subplots.AxesSubplot at 0x7f6af92f5a20>"
      ]
     },
     "execution_count": 491,
     "metadata": {},
     "output_type": "execute_result"
    },
    {
     "data": {
      "image/png": "[encoded data removed]",
      "text/plain": [
       "<Figure size 432x288 with 1 Axes>"
      ]
     },
     "metadata": {},
     "output_type": "display_data"
    }
   ],
   "source": [
    "print(weather_df.Temp9am.describe())\n",
    "weather_df.Temp9am.plot(kind='box', vert = False)"
   ]
  },
  {
   "cell_type": "markdown",
   "metadata": {},
   "source": [
    "# Temp3pm\n",
    "Same as WindGustDir"
   ]
  },
  {
   "cell_type": "code",
   "execution_count": 492,
   "metadata": {
    "scrolled": true
   },
   "outputs": [
    {
     "name": "stdout",
     "output_type": "stream",
     "text": [
      "count    139467.000000\n",
      "mean         21.687235\n",
      "std           6.937594\n",
      "min          -5.400000\n",
      "25%          16.600000\n",
      "50%          21.100000\n",
      "75%          26.400000\n",
      "max          46.700000\n",
      "Name: Temp3pm, dtype: float64\n",
      "2726\n"
     ]
    },
    {
     "data": {
      "text/plain": [
       "<matplotlib.axes._subplots.AxesSubplot at 0x7f6af924aa20>"
      ]
     },
     "execution_count": 492,
     "metadata": {},
     "output_type": "execute_result"
    },
    {
     "data": {
      "image/png": "[encoded data removed]",
      "text/plain": [
       "<Figure size 432x288 with 1 Axes>"
      ]
     },
     "metadata": {},
     "output_type": "display_data"
    }
   ],
   "source": [
    "print(weather_df.Temp3pm.describe())\n",
    "print(weather_df.Temp3pm.isnull().sum())\n",
    "weather_df.Temp3pm.plot(kind='box', vert = False)"
   ]
  },
  {
   "cell_type": "code",
   "execution_count": 493,
   "metadata": {},
   "outputs": [
    {
     "name": "stdout",
     "output_type": "stream",
     "text": [
      "There is 0 missing values for Temp3pm\n"
     ]
    }
   ],
   "source": [
    "weather_df.Temp3pm.fillna(weather_df.groupby('MaxTemp')['Temp3pm'].transform(\"median\"), inplace = True)\n",
    "weather_df.Temp3pm.fillna(weather_df.Temp3pm.median(), inplace = True)\n",
    "print('There is {} missing values for Temp3pm'.format(weather_df.Temp3pm.isna().sum()))"
   ]
  },
  {
   "cell_type": "code",
   "execution_count": 494,
   "metadata": {},
   "outputs": [
    {
     "name": "stdout",
     "output_type": "stream",
     "text": [
      "count    142193.000000\n",
      "mean         21.724988\n",
      "std           6.973398\n",
      "min          -5.400000\n",
      "25%          16.600000\n",
      "50%          21.100000\n",
      "75%          26.500000\n",
      "max          46.700000\n",
      "Name: Temp3pm, dtype: float64\n"
     ]
    },
    {
     "data": {
      "text/plain": [
       "<matplotlib.axes._subplots.AxesSubplot at 0x7f6af9233710>"
      ]
     },
     "execution_count": 494,
     "metadata": {},
     "output_type": "execute_result"
    },
    {
     "data": {
      "image/png": "[encoded data removed]",
      "text/plain": [
       "<Figure size 432x288 with 1 Axes>"
      ]
     },
     "metadata": {},
     "output_type": "display_data"
    }
   ],
   "source": [
    "print(weather_df.Temp3pm.describe())\n",
    "weather_df.Temp3pm.plot(kind='box', vert = False)"
   ]
  },
  {
   "cell_type": "markdown",
   "metadata": {},
   "source": [
    "# RISK MM\n",
    "\n",
    "### NOTE: USING THIS VALUE WILL GIVE PREDICTIONS OF WHETHER OR NOT IF IT WILL RAIN TOMORROW. DO NOT USE.\n"
   ]
  },
  {
   "cell_type": "code",
   "execution_count": 495,
   "metadata": {
    "scrolled": true
   },
   "outputs": [
    {
     "name": "stdout",
     "output_type": "stream",
     "text": [
      "count    142193.000000\n",
      "mean          2.360682\n",
      "std           8.477969\n",
      "min           0.000000\n",
      "25%           0.000000\n",
      "50%           0.000000\n",
      "75%           0.800000\n",
      "max         371.000000\n",
      "Name: RISK_MM, dtype: float64\n",
      "0\n"
     ]
    }
   ],
   "source": [
    "print(weather_df.RISK_MM.describe())\n",
    "print(weather_df.RISK_MM.isnull().sum())"
   ]
  },
  {
   "cell_type": "markdown",
   "metadata": {},
   "source": [
    "# RainToday\n",
    "\n",
    "Important variable because if it rain today then it might possibly rain more the next day. And the data collection was through strings of 'Yest' and 'No'. So we will binarise it by a simple data dictionary map. Then we will use KNN to determine the missing values. Using rainfall, it should predict 100% accurate as if there is rainfall then there is rain. If there is no rainfall then no rain. \n",
    "\n",
    "## TO BE NOTED: Running the cross validation takes considerable amount of time"
   ]
  },
  {
   "cell_type": "code",
   "execution_count": 496,
   "metadata": {},
   "outputs": [
    {
     "name": "stdout",
     "output_type": "stream",
     "text": [
      "No     109332\n",
      "Yes     31455\n",
      "Name: RainToday, dtype: int64\n",
      "1406\n"
     ]
    }
   ],
   "source": [
    "print(weather_df.RainToday.value_counts())\n",
    "print(weather_df.RainToday.isnull().sum())"
   ]
  },
  {
   "cell_type": "code",
   "execution_count": 497,
   "metadata": {},
   "outputs": [],
   "source": [
    "rainDict = {'No': 0, 'Yes': 1}\n",
    "weather_df['RainToday'] = weather_df['RainToday'].map(rainDict)"
   ]
  },
  {
   "cell_type": "code",
   "execution_count": 498,
   "metadata": {},
   "outputs": [
    {
     "name": "stdout",
     "output_type": "stream",
     "text": [
      "0.0    109332\n",
      "1.0     31455\n",
      "Name: RainToday, dtype: int64\n"
     ]
    }
   ],
   "source": [
    "print(weather_df.RainToday.value_counts())"
   ]
  },
  {
   "cell_type": "code",
   "execution_count": 499,
   "metadata": {},
   "outputs": [],
   "source": [
    "X,y = rainToday_temp_df.iloc[:,rainToday_temp_df.columns != 'RainToday'], rainToday_temp_df['RainToday']\n",
    "X_train, X_test, y_train, y_test = train_test_split(X, y, test_size = 0.2, random_state=42)"
   ]
  },
  {
   "cell_type": "code",
   "execution_count": 500,
   "metadata": {
    "scrolled": false
   },
   "outputs": [
    {
     "name": "stdout",
     "output_type": "stream",
     "text": [
      "KNN on neighbors = 1 has a recall_score of 1.0 and took 15.443669633999889 seconds to compute\n",
      "KNN on neighbors = 3 has a recall_score of 1.0 and took 15.507811997000317 seconds to compute\n",
      "KNN on neighbors = 5 has a recall_score of 1.0 and took 15.452134479999586 seconds to compute\n",
      "KNN on neighbors = 7 has a recall_score of 1.0 and took 15.443094498001301 seconds to compute\n",
      "KNN on neighbors = 9 has a recall_score of 1.0 and took 15.475915728000473 seconds to compute\n",
      "KNN on neighbors = 11 has a recall_score of 1.0 and took 15.481066317999648 seconds to compute\n",
      "KNN on neighbors = 13 has a recall_score of 1.0 and took 15.475299630001246 seconds to compute\n",
      "KNN on neighbors = 15 has a recall_score of 1.0 and took 15.483987718000208 seconds to compute\n",
      "KNN on neighbors = 17 has a recall_score of 1.0 and took 15.493005414999061 seconds to compute\n",
      "KNN on neighbors = 19 has a recall_score of 1.0 and took 15.493438667999726 seconds to compute\n",
      "KNN on neighbors = 21 has a recall_score of 1.0 and took 15.484817208000095 seconds to compute\n",
      "KNN on neighbors = 23 has a recall_score of 1.0 and took 15.482612984000298 seconds to compute\n",
      "KNN on neighbors = 25 has a recall_score of 1.0 and took 15.520293749999837 seconds to compute\n",
      "KNN on neighbors = 27 has a recall_score of 1.0 and took 15.557737496999835 seconds to compute\n",
      "KNN on neighbors = 29 has a recall_score of 1.0 and took 15.52344286600055 seconds to compute\n",
      "KNN on neighbors = 31 has a recall_score of 1.0 and took 15.515781874000822 seconds to compute\n",
      "KNN on neighbors = 33 has a recall_score of 1.0 and took 15.533989031000601 seconds to compute\n",
      "KNN on neighbors = 35 has a recall_score of 1.0 and took 15.559016266999606 seconds to compute\n",
      "KNN on neighbors = 37 has a recall_score of 1.0 and took 15.536859800999082 seconds to compute\n",
      "KNN on neighbors = 39 has a recall_score of 1.0 and took 15.577533710000353 seconds to compute\n",
      "KNN on neighbors = 41 has a recall_score of 1.0 and took 15.571663238999463 seconds to compute\n",
      "KNN on neighbors = 43 has a recall_score of 1.0 and took 15.604683614999885 seconds to compute\n",
      "KNN on neighbors = 45 has a recall_score of 1.0 and took 15.583731654000076 seconds to compute\n",
      "KNN on neighbors = 47 has a recall_score of 1.0 and took 15.591079708001416 seconds to compute\n",
      "KNN on neighbors = 49 has a recall_score of 1.0 and took 15.62407518100008 seconds to compute\n"
     ]
    }
   ],
   "source": [
    "Neighbors_list = list(range(1,50))\n",
    "Neighbors = list(filter(lambda x: x %2 != 0, Neighbors_list))\n",
    "min_score = []\n",
    "for k in Neighbors:\n",
    "    start_time = process_time()\n",
    "    rainToday_model = KNeighborsClassifier(n_neighbors=k)\n",
    "    rainToday_model.fit(X_train, y_train)\n",
    "    rainToday_predictions = rainToday_model.predict(X_test)\n",
    "    rainToday_recall = recall_score(rainToday_predictions, y_test, average = 'weighted')\n",
    "    end_time = process_time()\n",
    "    time_lapsed = end_time - start_time\n",
    "    min_score.append(rainToday_recall)\n",
    "    print('KNN on neighbors = {} has a recall_score of {} and took {} seconds to compute'.format(k, rainToday_recall, \n",
    "                                                                                                 time_lapsed))"
   ]
  },
  {
   "cell_type": "code",
   "execution_count": 501,
   "metadata": {},
   "outputs": [
    {
     "data": {
      "image/png": "[encoded data removed]",
      "text/plain": [
       "<Figure size 432x288 with 1 Axes>"
      ]
     },
     "metadata": {},
     "output_type": "display_data"
    }
   ],
   "source": [
    "plt.plot(Neighbors, min_score)\n",
    "plt.xlabel('Numbers of Neighbors K')\n",
    "plt.ylabel('Recall')\n",
    "plt.show()"
   ]
  },
  {
   "cell_type": "code",
   "execution_count": 502,
   "metadata": {},
   "outputs": [
    {
     "name": "stdout",
     "output_type": "stream",
     "text": [
      "Neighbors 1 has a score of 1.0\n",
      "Neighbors 3 has a score of 1.0\n",
      "Neighbors 5 has a score of 1.0\n",
      "Neighbors 7 has a score of 1.0\n",
      "Neighbors 9 has a score of 1.0\n",
      "Neighbors 11 has a score of 1.0\n",
      "Neighbors 13 has a score of 1.0\n",
      "Neighbors 15 has a score of 1.0\n",
      "Neighbors 17 has a score of 1.0\n",
      "Neighbors 19 has a score of 1.0\n",
      "Neighbors 21 has a score of 1.0\n",
      "Neighbors 23 has a score of 1.0\n",
      "Neighbors 25 has a score of 1.0\n",
      "Neighbors 27 has a score of 1.0\n",
      "Neighbors 29 has a score of 1.0\n",
      "Neighbors 31 has a score of 1.0\n",
      "Neighbors 33 has a score of 1.0\n",
      "Neighbors 35 has a score of 1.0\n",
      "Neighbors 37 has a score of 1.0\n",
      "Neighbors 39 has a score of 1.0\n",
      "Neighbors 41 has a score of 1.0\n",
      "Neighbors 43 has a score of 1.0\n",
      "Neighbors 45 has a score of 1.0\n",
      "Neighbors 47 has a score of 1.0\n",
      "Neighbors 49 has a score of 1.0\n"
     ]
    }
   ],
   "source": [
    "cv_scores = []\n",
    "kf = KFold(10, True)\n",
    "fold = 0\n",
    "for k in Neighbors:\n",
    "    cv_rainToday_model = KNeighborsClassifier(n_neighbors=k)\n",
    "    temp_cv_scores = []\n",
    "    for train, test in kf.split(X):\n",
    "        fold += 1\n",
    "        X_train, X_test = X.values[train], X.values[test]\n",
    "        y_train, y_test = y.values[train], y.values[test]\n",
    "        cv_rainToday_model.fit(X_train, y_train)\n",
    "        rainToday_predictions = rainToday_model.predict(X_test)\n",
    "        rainToday_recall = recall_score(rainToday_predictions, y_test, average = 'weighted')\n",
    "        temp_cv_scores.append(rainToday_recall)\n",
    "    cv_scores.append(np.min(temp_cv_scores))\n",
    "    print('Neighbors {} has a score of {}'.format(k, np.min(temp_cv_scores)))"
   ]
  },
  {
   "cell_type": "code",
   "execution_count": 503,
   "metadata": {
    "scrolled": true
   },
   "outputs": [
    {
     "data": {
      "image/png": "[encoded data removed]",
      "text/plain": [
       "<Figure size 432x288 with 1 Axes>"
      ]
     },
     "metadata": {},
     "output_type": "display_data"
    }
   ],
   "source": [
    "plt.plot(Neighbors, min_score, Neighbors, cv_scores)\n",
    "plt.xlabel('Numbers of Neighbors K')\n",
    "plt.ylabel('RMSE')\n",
    "plt.show()"
   ]
  },
  {
   "cell_type": "code",
   "execution_count": 504,
   "metadata": {
    "scrolled": true
   },
   "outputs": [
    {
     "name": "stdout",
     "output_type": "stream",
     "text": [
      "1\n"
     ]
    }
   ],
   "source": [
    "optimal_k = Neighbors[temp_cv_scores.index(min(temp_cv_scores))]\n",
    "print(optimal_k)"
   ]
  },
  {
   "cell_type": "code",
   "execution_count": 505,
   "metadata": {},
   "outputs": [],
   "source": [
    "rainToday_model = KNeighborsRegressor(n_neighbors=1)\n",
    "rainToday_model.fit(X_train, y_train)\n",
    "rainToday_predictions = rainToday_model.predict(rainToday_null)\n",
    "rainToday_results = pd.DataFrame(rainToday_predictions, columns=['RainToday'])\n",
    "weather_df['RainToday'] = weather_df['RainToday'].fillna(rainToday_results['RainToday'].values[0])"
   ]
  },
  {
   "cell_type": "code",
   "execution_count": 506,
   "metadata": {},
   "outputs": [
    {
     "data": {
      "text/plain": [
       "0"
      ]
     },
     "execution_count": 506,
     "metadata": {},
     "output_type": "execute_result"
    }
   ],
   "source": [
    "weather_df.RainToday.isnull().sum()"
   ]
  },
  {
   "cell_type": "markdown",
   "metadata": {},
   "source": [
    "# Cloud 9am\n",
    "Uncertain on what metric is being used to determine the clouds. So we will just proceed with using KNN to predict the missing values. In fact, it should be a multi-class binary issue. However we will just use regression for now and will fix this on later review."
   ]
  },
  {
   "cell_type": "code",
   "execution_count": 507,
   "metadata": {
    "scrolled": false
   },
   "outputs": [
    {
     "name": "stdout",
     "output_type": "stream",
     "text": [
      "count    88536.000000\n",
      "mean         4.437189\n",
      "std          2.887016\n",
      "min          0.000000\n",
      "25%          1.000000\n",
      "50%          5.000000\n",
      "75%          7.000000\n",
      "max          9.000000\n",
      "Name: Cloud9am, dtype: float64\n",
      "53657\n"
     ]
    },
    {
     "data": {
      "text/plain": [
       "<matplotlib.axes._subplots.AxesSubplot at 0x7f6af9a857b8>"
      ]
     },
     "execution_count": 507,
     "metadata": {},
     "output_type": "execute_result"
    },
    {
     "data": {
      "image/png": "[encoded data removed]",
      "text/plain": [
       "<Figure size 432x288 with 1 Axes>"
      ]
     },
     "metadata": {},
     "output_type": "display_data"
    }
   ],
   "source": [
    "print(weather_df.Cloud9am.describe())\n",
    "print(weather_df.Cloud9am.isnull().sum())\n",
    "weather_df.Cloud9am.plot(kind='box', vert = False)"
   ]
  },
  {
   "cell_type": "code",
   "execution_count": 508,
   "metadata": {},
   "outputs": [],
   "source": [
    "Cloud9am_temp_df = pd.concat([weather_df.Temp9am, weather_df.WindSpeed9am, weather_df.Humidity9am, \n",
    "                              weather_df.Cloud9am, weather_df.Pressure9am], axis=1)\n",
    "Cloud9am_null = Cloud9am_temp_df[Cloud9am_temp_df.Cloud9am.isnull()]\n",
    "Cloud9am_temp_df = Cloud9am_temp_df.dropna()\n",
    "Cloud9am_null = Cloud9am_null.drop(columns = ['Cloud9am'])"
   ]
  },
  {
   "cell_type": "code",
   "execution_count": 510,
   "metadata": {},
   "outputs": [],
   "source": [
    "X,y = Cloud9am_temp_df.iloc[:,Cloud9am_temp_df.columns != 'Cloud9am'], Cloud9am_temp_df['Cloud9am']\n",
    "X_train, X_test, y_train, y_test = train_test_split(X, y, test_size = 0.2, random_state=42)"
   ]
  },
  {
   "cell_type": "code",
   "execution_count": 511,
   "metadata": {
    "scrolled": false
   },
   "outputs": [
    {
     "name": "stdout",
     "output_type": "stream",
     "text": [
      "KNN on neighbors = 1 has a rmse of 3.438962433026404 and took 0.2079238409987738 seconds to compute\n",
      "KNN on neighbors = 3 has a rmse of 2.8040727673389267 and took 0.2572592579999764 seconds to compute\n",
      "KNN on neighbors = 5 has a rmse of 2.659584234250509 and took 0.2839292389999173 seconds to compute\n",
      "KNN on neighbors = 7 has a rmse of 2.6017399060379582 and took 0.31296238100003393 seconds to compute\n",
      "KNN on neighbors = 9 has a rmse of 2.563968125066214 and took 0.3350019790013903 seconds to compute\n",
      "KNN on neighbors = 11 has a rmse of 2.5372476086771183 and took 0.3605538899992098 seconds to compute\n",
      "KNN on neighbors = 13 has a rmse of 2.523462969456337 and took 0.38510283899995557 seconds to compute\n",
      "KNN on neighbors = 15 has a rmse of 2.5114073005028272 and took 0.39541509700029565 seconds to compute\n",
      "KNN on neighbors = 17 has a rmse of 2.50273778633754 and took 0.41648626899950614 seconds to compute\n",
      "KNN on neighbors = 19 has a rmse of 2.494479675285486 and took 0.43427924000025087 seconds to compute\n",
      "KNN on neighbors = 21 has a rmse of 2.4896079778760303 and took 0.45217043600132456 seconds to compute\n",
      "KNN on neighbors = 23 has a rmse of 2.486129039186673 and took 0.46994015500058595 seconds to compute\n",
      "KNN on neighbors = 25 has a rmse of 2.4803858535278023 and took 0.4873380909994012 seconds to compute\n",
      "KNN on neighbors = 27 has a rmse of 2.4783076742513774 and took 0.5040610509986436 seconds to compute\n",
      "KNN on neighbors = 29 has a rmse of 2.477616823738703 and took 0.5230814660008036 seconds to compute\n",
      "KNN on neighbors = 31 has a rmse of 2.476929817657098 and took 0.5986092719995213 seconds to compute\n",
      "KNN on neighbors = 33 has a rmse of 2.475722416925199 and took 0.5622653209993587 seconds to compute\n",
      "KNN on neighbors = 35 has a rmse of 2.475182684462765 and took 0.5840437280003243 seconds to compute\n",
      "KNN on neighbors = 37 has a rmse of 2.4739100030092334 and took 0.5992095960009465 seconds to compute\n",
      "KNN on neighbors = 39 has a rmse of 2.472308009093635 and took 0.6030815419999271 seconds to compute\n",
      "KNN on neighbors = 41 has a rmse of 2.471799441692507 and took 0.6220377279987588 seconds to compute\n",
      "KNN on neighbors = 43 has a rmse of 2.4695784382355086 and took 0.6362979740006267 seconds to compute\n",
      "KNN on neighbors = 45 has a rmse of 2.4684394260294447 and took 0.6420651419994101 seconds to compute\n",
      "KNN on neighbors = 47 has a rmse of 2.4670038133935215 and took 0.6629169089992502 seconds to compute\n",
      "KNN on neighbors = 49 has a rmse of 2.4665982334403087 and took 0.6841182950010989 seconds to compute\n"
     ]
    }
   ],
   "source": [
    "Neighbors_list = list(range(1,50))\n",
    "Neighbors = list(filter(lambda x: x %2 != 0, Neighbors_list))\n",
    "min_score = []\n",
    "for k in Neighbors:\n",
    "    start_time = process_time()\n",
    "    Cloud9am_model = KNeighborsRegressor(n_neighbors=k)\n",
    "    Cloud9am_model.fit(X_train, y_train)\n",
    "    Cloud9am_predictions = Cloud9am_model.predict(X_test)\n",
    "    mse = mean_squared_error(Cloud9am_predictions, y_test)\n",
    "    rmse = sqrt(mse)\n",
    "    end_time = process_time()\n",
    "    time_lapsed = end_time - start_time\n",
    "    min_score.append(rmse)\n",
    "    print('KNN on neighbors = {} has a rmse of {} and took {} seconds to compute'.format(k, rmse, time_lapsed))"
   ]
  },
  {
   "cell_type": "code",
   "execution_count": 512,
   "metadata": {},
   "outputs": [
    {
     "data": {
      "image/png": "[encoded data removed]",
      "text/plain": [
       "<Figure size 432x288 with 1 Axes>"
      ]
     },
     "metadata": {},
     "output_type": "display_data"
    }
   ],
   "source": [
    "plt.plot(Neighbors, min_score)\n",
    "plt.xlabel('Numbers of Neighbors K')\n",
    "plt.ylabel('RMSE')\n",
    "plt.show()"
   ]
  },
  {
   "cell_type": "code",
   "execution_count": 256,
   "metadata": {},
   "outputs": [
    {
     "name": "stdout",
     "output_type": "stream",
     "text": [
      "Neighbors 1 has a score of 3.3987260156288115\n",
      "Neighbors 3 has a score of 2.7779005206512326\n",
      "Neighbors 5 has a score of 2.6460322185776235\n",
      "Neighbors 7 has a score of 2.5757902653766322\n",
      "Neighbors 9 has a score of 2.5481650883711944\n",
      "Neighbors 11 has a score of 2.5220810345731595\n",
      "Neighbors 13 has a score of 2.5124380663234063\n",
      "Neighbors 15 has a score of 2.4523073235211172\n",
      "Neighbors 17 has a score of 2.4868895635980035\n",
      "Neighbors 19 has a score of 2.484749910562521\n",
      "Neighbors 21 has a score of 2.4700754544443244\n",
      "Neighbors 23 has a score of 2.476930822800301\n",
      "Neighbors 25 has a score of 2.471630038773121\n",
      "Neighbors 27 has a score of 2.453358223625393\n",
      "Neighbors 29 has a score of 2.459970892242549\n",
      "Neighbors 31 has a score of 2.4621164215276536\n",
      "Neighbors 33 has a score of 2.450048151607733\n",
      "Neighbors 35 has a score of 2.4578318085080393\n",
      "Neighbors 37 has a score of 2.4560486352274573\n",
      "Neighbors 39 has a score of 2.445801884651285\n",
      "Neighbors 41 has a score of 2.4488476174161042\n",
      "Neighbors 43 has a score of 2.449638181353594\n",
      "Neighbors 45 has a score of 2.442501135817475\n",
      "Neighbors 47 has a score of 2.4492789352132482\n",
      "Neighbors 49 has a score of 2.4523247638587184\n"
     ]
    }
   ],
   "source": [
    "cv_scores = []\n",
    "kf = KFold(10, True)\n",
    "fold = 0\n",
    "for k in Neighbors:\n",
    "    cv_Cloud9am_model = KNeighborsRegressor(n_neighbors=k)\n",
    "    temp_cv_scores = []\n",
    "    for train, test in kf.split(X):\n",
    "        fold += 1\n",
    "        X_train, X_test = X.values[train], X.values[test]\n",
    "        y_train, y_test = y.values[train], y.values[test]\n",
    "        cv_Cloud9am_model.fit(X_train, y_train)\n",
    "        predictions = cv_Cloud9am_model.predict(X_test)\n",
    "        mse = mean_squared_error(predictions, y_test)\n",
    "        rmse = sqrt(mse)\n",
    "        temp_cv_scores.append(rmse)\n",
    "    cv_scores.append(np.min(temp_cv_scores))\n",
    "    print('Neighbors {} has a score of {}'.format(k, np.min(temp_cv_scores)))"
   ]
  },
  {
   "cell_type": "code",
   "execution_count": 257,
   "metadata": {
    "scrolled": true
   },
   "outputs": [
    {
     "data": {
      "image/png": "[encoded data removed]",
      "text/plain": [
       "<Figure size 432x288 with 1 Axes>"
      ]
     },
     "metadata": {},
     "output_type": "display_data"
    }
   ],
   "source": [
    "plt.plot(Neighbors, min_score, Neighbors, cv_scores)\n",
    "plt.xlabel('Numbers of Neighbors K')\n",
    "plt.ylabel('RMSE')\n",
    "plt.show()"
   ]
  },
  {
   "cell_type": "code",
   "execution_count": 258,
   "metadata": {
    "scrolled": false
   },
   "outputs": [
    {
     "name": "stdout",
     "output_type": "stream",
     "text": [
      "19\n"
     ]
    }
   ],
   "source": [
    "optimal_k = Neighbors[temp_cv_scores.index(min(temp_cv_scores))]\n",
    "print(optimal_k)"
   ]
  },
  {
   "cell_type": "code",
   "execution_count": 513,
   "metadata": {},
   "outputs": [],
   "source": [
    "Cloud9am_model = KNeighborsRegressor(n_neighbors=19)\n",
    "Cloud9am_model.fit(X_train, y_train)\n",
    "Cloud9am_predictions = Cloud9am_model.predict(Cloud9am_null)\n",
    "Cloud9am_results = pd.DataFrame(Cloud9am_predictions, columns=['Cloud9am'])\n",
    "Cloud9am_results = Cloud9am_results.round(0)\n",
    "weather_df['Cloud9am'] = weather_df['Cloud9am'].fillna(Cloud9am_results['Cloud9am'].values[0])"
   ]
  },
  {
   "cell_type": "code",
   "execution_count": 515,
   "metadata": {
    "scrolled": false
   },
   "outputs": [
    {
     "name": "stdout",
     "output_type": "stream",
     "text": [
      "count    142193.000000\n",
      "mean          3.894861\n",
      "std           2.382218\n",
      "min           0.000000\n",
      "25%           3.000000\n",
      "50%           3.000000\n",
      "75%           6.000000\n",
      "max           9.000000\n",
      "Name: Cloud9am, dtype: float64\n",
      "0\n"
     ]
    },
    {
     "data": {
      "text/plain": [
       "<matplotlib.axes._subplots.AxesSubplot at 0x7f6af9d21ef0>"
      ]
     },
     "execution_count": 515,
     "metadata": {},
     "output_type": "execute_result"
    },
    {
     "data": {
      "image/png": "[encoded data removed]",
      "text/plain": [
       "<Figure size 432x288 with 1 Axes>"
      ]
     },
     "metadata": {},
     "output_type": "display_data"
    }
   ],
   "source": [
    "print(weather_df.Cloud9am.describe())\n",
    "print(weather_df.Cloud9am.isnull().sum())\n",
    "weather_df.Cloud9am.plot(kind='box', vert = False)"
   ]
  },
  {
   "cell_type": "markdown",
   "metadata": {},
   "source": [
    "# Cloud3pm\n",
    "Same as cloud9am"
   ]
  },
  {
   "cell_type": "code",
   "execution_count": 516,
   "metadata": {
    "scrolled": true
   },
   "outputs": [
    {
     "name": "stdout",
     "output_type": "stream",
     "text": [
      "count    85099.000000\n",
      "mean         4.503167\n",
      "std          2.720633\n",
      "min          0.000000\n",
      "25%          2.000000\n",
      "50%          5.000000\n",
      "75%          7.000000\n",
      "max          9.000000\n",
      "Name: Cloud3pm, dtype: float64\n",
      "57094\n"
     ]
    },
    {
     "data": {
      "text/plain": [
       "<matplotlib.axes._subplots.AxesSubplot at 0x7f6af96bd588>"
      ]
     },
     "execution_count": 516,
     "metadata": {},
     "output_type": "execute_result"
    },
    {
     "data": {
      "image/png": "[encoded data removed]",
      "text/plain": [
       "<Figure size 432x288 with 1 Axes>"
      ]
     },
     "metadata": {},
     "output_type": "display_data"
    }
   ],
   "source": [
    "print(weather_df.Cloud3pm.describe())\n",
    "print(weather_df.Cloud3pm.isnull().sum())\n",
    "weather_df.Cloud3pm.plot(kind='box', vert = False)"
   ]
  },
  {
   "cell_type": "code",
   "execution_count": 517,
   "metadata": {},
   "outputs": [],
   "source": [
    "Cloud3pm_temp_df = pd.concat([weather_df.Temp3pm, weather_df.WindSpeed3pm, weather_df.Humidity3pm, weather_df.RISK_MM,\n",
    "                              weather_df.Cloud3pm, weather_df.Pressure3pm, weather_df.RainToday, weather_df.MaxTemp], axis=1)\n",
    "Cloud3pm_null = Cloud3pm_temp_df[Cloud3pm_temp_df.Cloud3pm.isnull()]\n",
    "Cloud3pm_temp_df = Cloud3pm_temp_df.dropna()\n",
    "Cloud3pm_null = Cloud3pm_null.drop(columns = ['Cloud3pm'])"
   ]
  },
  {
   "cell_type": "code",
   "execution_count": 518,
   "metadata": {},
   "outputs": [],
   "source": [
    "X,y = Cloud3pm_temp_df.iloc[:,Cloud3pm_temp_df.columns != 'Cloud3pm'], Cloud3pm_temp_df['Cloud3pm']\n",
    "X_train, X_test, y_train, y_test = train_test_split(X, y, test_size = 0.2, random_state=42)"
   ]
  },
  {
   "cell_type": "code",
   "execution_count": 519,
   "metadata": {
    "scrolled": false
   },
   "outputs": [
    {
     "name": "stdout",
     "output_type": "stream",
     "text": [
      "KNN on neighbors = 1 has a rmse of 3.085921939804439 and took 2.6260365420002927 seconds to compute\n",
      "KNN on neighbors = 3 has a rmse of 2.5130927560314618 and took 2.8171455070005322 seconds to compute\n",
      "KNN on neighbors = 5 has a rmse of 2.3958841519500096 and took 2.852143657999477 seconds to compute\n",
      "KNN on neighbors = 7 has a rmse of 2.3393840153264227 and took 2.9075366479992226 seconds to compute\n",
      "KNN on neighbors = 9 has a rmse of 2.3083360612990544 and took 3.0061516120003944 seconds to compute\n",
      "KNN on neighbors = 11 has a rmse of 2.291067862196486 and took 2.998757479001142 seconds to compute\n",
      "KNN on neighbors = 13 has a rmse of 2.27641638593907 and took 3.0652735700004996 seconds to compute\n",
      "KNN on neighbors = 15 has a rmse of 2.2648064992210033 and took 3.072667035001359 seconds to compute\n",
      "KNN on neighbors = 17 has a rmse of 2.257516783922168 and took 3.178355237001597 seconds to compute\n",
      "KNN on neighbors = 19 has a rmse of 2.24883963128783 and took 3.2244623309998133 seconds to compute\n",
      "KNN on neighbors = 21 has a rmse of 2.2435820791945424 and took 3.2203600560005725 seconds to compute\n",
      "KNN on neighbors = 23 has a rmse of 2.239518368751147 and took 3.244925343000432 seconds to compute\n",
      "KNN on neighbors = 25 has a rmse of 2.2353885510461176 and took 3.3102151340008277 seconds to compute\n",
      "KNN on neighbors = 27 has a rmse of 2.2310609464908437 and took 3.2916100559996266 seconds to compute\n",
      "KNN on neighbors = 29 has a rmse of 2.2278585542749663 and took 3.3569244550017174 seconds to compute\n",
      "KNN on neighbors = 31 has a rmse of 2.2271272235834325 and took 3.4050377840012516 seconds to compute\n",
      "KNN on neighbors = 33 has a rmse of 2.226209952775533 and took 3.431333012000323 seconds to compute\n",
      "KNN on neighbors = 35 has a rmse of 2.2243872321874254 and took 3.4567945829985547 seconds to compute\n",
      "KNN on neighbors = 37 has a rmse of 2.223123589688355 and took 3.486231229999248 seconds to compute\n",
      "KNN on neighbors = 39 has a rmse of 2.2219541163746106 and took 3.435950645000048 seconds to compute\n",
      "KNN on neighbors = 41 has a rmse of 2.221026639795349 and took 3.578406279000774 seconds to compute\n",
      "KNN on neighbors = 43 has a rmse of 2.220998743732256 and took 3.514610870000979 seconds to compute\n",
      "KNN on neighbors = 45 has a rmse of 2.219019542250205 and took 3.600636122000651 seconds to compute\n",
      "KNN on neighbors = 47 has a rmse of 2.2183758420491526 and took 3.665757496999504 seconds to compute\n",
      "KNN on neighbors = 49 has a rmse of 2.217443585369825 and took 3.609156131000418 seconds to compute\n"
     ]
    }
   ],
   "source": [
    "Neighbors_list = list(range(1,50))\n",
    "Neighbors = list(filter(lambda x: x %2 != 0, Neighbors_list))\n",
    "min_score = []\n",
    "for k in Neighbors:\n",
    "    start_time = process_time()\n",
    "    Cloud3pm_model = KNeighborsRegressor(n_neighbors=k)\n",
    "    Cloud3pm_model.fit(X_train, y_train)\n",
    "    Cloud3pm_predictions = Cloud3pm_model.predict(X_test)\n",
    "    mse = mean_squared_error(Cloud3pm_predictions, y_test)\n",
    "    rmse = sqrt(mse)\n",
    "    end_time = process_time()\n",
    "    time_lapsed = end_time - start_time\n",
    "    min_score.append(rmse)\n",
    "    print('KNN on neighbors = {} has a rmse of {} and took {} seconds to compute'.format(k, rmse, time_lapsed))"
   ]
  },
  {
   "cell_type": "code",
   "execution_count": 268,
   "metadata": {
    "scrolled": true
   },
   "outputs": [
    {
     "data": {
      "image/png": "[encoded data removed]",
      "text/plain": [
       "<Figure size 432x288 with 1 Axes>"
      ]
     },
     "metadata": {},
     "output_type": "display_data"
    }
   ],
   "source": [
    "plt.plot(Neighbors, min_score)\n",
    "plt.xlabel('Numbers of Neighbors K')\n",
    "plt.ylabel('RMSE')\n",
    "plt.show()"
   ]
  },
  {
   "cell_type": "code",
   "execution_count": 269,
   "metadata": {},
   "outputs": [
    {
     "name": "stdout",
     "output_type": "stream",
     "text": [
      "Neighbors 1 has a score of 3.0342928368858035\n",
      "Neighbors 3 has a score of 2.483605994016789\n",
      "Neighbors 5 has a score of 2.3519104917539044\n",
      "Neighbors 7 has a score of 2.3095891970320133\n",
      "Neighbors 9 has a score of 2.2801157675479256\n",
      "Neighbors 11 has a score of 2.2532587794076155\n",
      "Neighbors 13 has a score of 2.2343858510284473\n",
      "Neighbors 15 has a score of 2.2267586546997395\n",
      "Neighbors 17 has a score of 2.2123888741890845\n",
      "Neighbors 19 has a score of 2.2142063733772903\n",
      "Neighbors 21 has a score of 2.2161783135969673\n",
      "Neighbors 23 has a score of 2.2010753832254832\n",
      "Neighbors 25 has a score of 2.2042604617680164\n",
      "Neighbors 27 has a score of 2.1982363091556407\n",
      "Neighbors 29 has a score of 2.203950406965274\n",
      "Neighbors 31 has a score of 2.191377078524614\n",
      "Neighbors 33 has a score of 2.1897827454392753\n",
      "Neighbors 35 has a score of 2.1805230857755626\n",
      "Neighbors 37 has a score of 2.197816771258124\n",
      "Neighbors 39 has a score of 2.1912079452329007\n",
      "Neighbors 41 has a score of 2.1927656478487703\n",
      "Neighbors 43 has a score of 2.1816422391374637\n",
      "Neighbors 45 has a score of 2.181055977982256\n",
      "Neighbors 47 has a score of 2.1869259432728456\n",
      "Neighbors 49 has a score of 2.1863865222269236\n"
     ]
    }
   ],
   "source": [
    "cv_scores = []\n",
    "kf = KFold(10, True)\n",
    "for k in Neighbors:\n",
    "    cv_Cloud9am_model = KNeighborsRegressor(n_neighbors=k)\n",
    "    temp_cv_scores = []\n",
    "    for train, test in kf.split(X):\n",
    "        X_train, X_test = X.values[train], X.values[test]\n",
    "        y_train, y_test = y.values[train], y.values[test]\n",
    "        cv_Cloud9am_model.fit(X_train, y_train)\n",
    "        predictions = cv_Cloud9am_model.predict(X_test)\n",
    "        mse = mean_squared_error(predictions, y_test)\n",
    "        rmse = sqrt(mse)\n",
    "        temp_cv_scores.append(rmse)\n",
    "    cv_scores.append(np.min(temp_cv_scores))\n",
    "    print('Neighbors {} has a score of {}'.format(k, np.min(temp_cv_scores)))"
   ]
  },
  {
   "cell_type": "code",
   "execution_count": 270,
   "metadata": {
    "scrolled": true
   },
   "outputs": [
    {
     "data": {
      "image/png": "[encoded data removed]",
      "text/plain": [
       "<Figure size 432x288 with 1 Axes>"
      ]
     },
     "metadata": {},
     "output_type": "display_data"
    }
   ],
   "source": [
    "plt.plot(Neighbors, min_score, Neighbors, cv_scores)\n",
    "plt.xlabel('Numbers of Neighbors K')\n",
    "plt.ylabel('RMSE')\n",
    "plt.show()"
   ]
  },
  {
   "cell_type": "code",
   "execution_count": 271,
   "metadata": {
    "scrolled": false
   },
   "outputs": [
    {
     "name": "stdout",
     "output_type": "stream",
     "text": [
      "5\n"
     ]
    }
   ],
   "source": [
    "optimal_k = Neighbors[temp_cv_scores.index(min(temp_cv_scores))]\n",
    "print(optimal_k)"
   ]
  },
  {
   "cell_type": "code",
   "execution_count": 520,
   "metadata": {},
   "outputs": [],
   "source": [
    "Cloud3pm_model = KNeighborsRegressor(n_neighbors=5)\n",
    "Cloud3pm_model.fit(X_train, y_train)\n",
    "Cloud3pm_predictions = Cloud3pm_model.predict(Cloud3pm_null)\n",
    "Cloud3pm_results = pd.DataFrame(Cloud3pm_predictions, columns=['Cloud3pm'])\n",
    "Cloud3pm_results = Cloud3pm_results.round(0)\n",
    "weather_df['Cloud3pm'] = weather_df['Cloud3pm'].fillna(Cloud3pm_results['Cloud3pm'].values[0])"
   ]
  },
  {
   "cell_type": "code",
   "execution_count": 521,
   "metadata": {
    "scrolled": true
   },
   "outputs": [
    {
     "name": "stdout",
     "output_type": "stream",
     "text": [
      "count    142193.000000\n",
      "mean          3.899608\n",
      "std           2.229971\n",
      "min           0.000000\n",
      "25%           3.000000\n",
      "50%           3.000000\n",
      "75%           6.000000\n",
      "max           9.000000\n",
      "Name: Cloud3pm, dtype: float64\n",
      "0\n"
     ]
    },
    {
     "data": {
      "text/plain": [
       "<matplotlib.axes._subplots.AxesSubplot at 0x7f6af967bba8>"
      ]
     },
     "execution_count": 521,
     "metadata": {},
     "output_type": "execute_result"
    },
    {
     "data": {
      "image/png": "[encoded data removed]",
      "text/plain": [
       "<Figure size 432x288 with 1 Axes>"
      ]
     },
     "metadata": {},
     "output_type": "display_data"
    }
   ],
   "source": [
    "print(weather_df.Cloud3pm.describe())\n",
    "print(weather_df.Cloud3pm.isnull().sum())\n",
    "weather_df.Cloud3pm.plot(kind='box', vert = False)"
   ]
  },
  {
   "cell_type": "markdown",
   "metadata": {},
   "source": [
    "# Sunshine\n",
    "\n",
    "Sunshine is the last variable with missing values. We will be using multiple variables to help predict it such as cloud3pm, 9am and whether if it rained or not."
   ]
  },
  {
   "cell_type": "code",
   "execution_count": 522,
   "metadata": {
    "scrolled": false
   },
   "outputs": [
    {
     "name": "stdout",
     "output_type": "stream",
     "text": [
      "count    74377.000000\n",
      "mean         7.624853\n",
      "std          3.781525\n",
      "min          0.000000\n",
      "25%          4.900000\n",
      "50%          8.500000\n",
      "75%         10.600000\n",
      "max         14.500000\n",
      "Name: Sunshine, dtype: float64\n",
      "67816\n"
     ]
    },
    {
     "data": {
      "text/plain": [
       "<matplotlib.axes._subplots.AxesSubplot at 0x7f6af9b16f98>"
      ]
     },
     "execution_count": 522,
     "metadata": {},
     "output_type": "execute_result"
    },
    {
     "data": {
      "image/png": "[encoded data removed]",
      "text/plain": [
       "<Figure size 432x288 with 1 Axes>"
      ]
     },
     "metadata": {},
     "output_type": "display_data"
    }
   ],
   "source": [
    "print(weather_df.Sunshine.describe())\n",
    "print(weather_df.Sunshine.isnull().sum())\n",
    "weather_df.Sunshine.plot(kind='box', vert = False)"
   ]
  },
  {
   "cell_type": "code",
   "execution_count": 523,
   "metadata": {},
   "outputs": [],
   "source": [
    "Sunshine_temp_df = pd.concat([weather_df.Cloud3pm, weather_df.Cloud9am, weather_df.RainToday, weather_df.Rainfall, \n",
    "                              weather_df.Sunshine], axis=1)\n",
    "Sunshine_null = Sunshine_temp_df[Sunshine_temp_df.Sunshine.isnull()]\n",
    "Sunshine_temp_df = Sunshine_temp_df.dropna()\n",
    "Sunshine_null = Sunshine_null.drop(columns = ['Sunshine'])"
   ]
  },
  {
   "cell_type": "code",
   "execution_count": 524,
   "metadata": {},
   "outputs": [],
   "source": [
    "X,y = Sunshine_temp_df.iloc[:,Sunshine_temp_df.columns != 'Sunshine'], Sunshine_temp_df['Sunshine']\n",
    "X_train, X_test, y_train, y_test = train_test_split(X, y, test_size = 0.2, random_state=42)"
   ]
  },
  {
   "cell_type": "code",
   "execution_count": 525,
   "metadata": {
    "scrolled": true
   },
   "outputs": [
    {
     "name": "stdout",
     "output_type": "stream",
     "text": [
      "KNN on neighbors = 1 has a rmse of 3.187541921440581 and took 1.8908393980000255 seconds to compute\n",
      "KNN on neighbors = 3 has a rmse of 2.7125721305732107 and took 1.9174501379984576 seconds to compute\n",
      "KNN on neighbors = 5 has a rmse of 2.607456606405711 and took 1.969951556999149 seconds to compute\n",
      "KNN on neighbors = 7 has a rmse of 2.5575165363321277 and took 1.9289383239993185 seconds to compute\n",
      "KNN on neighbors = 9 has a rmse of 2.535757993187692 and took 1.957903742999406 seconds to compute\n",
      "KNN on neighbors = 11 has a rmse of 2.511827085907923 and took 1.9782408350001788 seconds to compute\n",
      "KNN on neighbors = 13 has a rmse of 2.4923051515178027 and took 1.9748348670000269 seconds to compute\n",
      "KNN on neighbors = 15 has a rmse of 2.4704993443123353 and took 1.9632511190011428 seconds to compute\n",
      "KNN on neighbors = 17 has a rmse of 2.4573712557554535 and took 1.9517105109989643 seconds to compute\n",
      "KNN on neighbors = 19 has a rmse of 2.4461945826441815 and took 1.9794292870010395 seconds to compute\n",
      "KNN on neighbors = 21 has a rmse of 2.4443335001048956 and took 1.9914559990011185 seconds to compute\n",
      "KNN on neighbors = 23 has a rmse of 2.4506920761334863 and took 2.020142813000348 seconds to compute\n",
      "KNN on neighbors = 25 has a rmse of 2.4493906533533205 and took 1.9975914189999457 seconds to compute\n",
      "KNN on neighbors = 27 has a rmse of 2.4448821662399793 and took 1.9827988319993892 seconds to compute\n",
      "KNN on neighbors = 29 has a rmse of 2.4409099995851546 and took 1.979783763999876 seconds to compute\n",
      "KNN on neighbors = 31 has a rmse of 2.438608259480494 and took 2.0298433560001286 seconds to compute\n",
      "KNN on neighbors = 33 has a rmse of 2.4375967347389556 and took 2.0345082089988864 seconds to compute\n",
      "KNN on neighbors = 35 has a rmse of 2.4369827912654327 and took 2.0317902810002124 seconds to compute\n",
      "KNN on neighbors = 37 has a rmse of 2.436332823437765 and took 2.036336269999083 seconds to compute\n",
      "KNN on neighbors = 39 has a rmse of 2.433353986538814 and took 2.0283327699999063 seconds to compute\n",
      "KNN on neighbors = 41 has a rmse of 2.4346445237826133 and took 2.0452922900003614 seconds to compute\n",
      "KNN on neighbors = 43 has a rmse of 2.4365133770598804 and took 2.025933912000255 seconds to compute\n",
      "KNN on neighbors = 45 has a rmse of 2.432552680797768 and took 2.027304973000355 seconds to compute\n",
      "KNN on neighbors = 47 has a rmse of 2.433644814250985 and took 2.0738449140008015 seconds to compute\n",
      "KNN on neighbors = 49 has a rmse of 2.432848765369351 and took 2.0919183869991684 seconds to compute\n"
     ]
    }
   ],
   "source": [
    "Neighbors_list = list(range(1,50))\n",
    "Neighbors = list(filter(lambda x: x %2 != 0, Neighbors_list))\n",
    "min_score = []\n",
    "for k in Neighbors:\n",
    "    start_time = process_time()\n",
    "    Sunshine_model = KNeighborsRegressor(n_neighbors=k)\n",
    "    Sunshine_model.fit(X_train, y_train)\n",
    "    Sunshine_predictions = Sunshine_model.predict(X_test)\n",
    "    mse = mean_squared_error(Sunshine_predictions, y_test)\n",
    "    rmse = sqrt(mse)\n",
    "    end_time = process_time()\n",
    "    time_lapsed = end_time - start_time\n",
    "    min_score.append(rmse)\n",
    "    print('KNN on neighbors = {} has a rmse of {} and took {} seconds to compute'.format(k, rmse, time_lapsed))"
   ]
  },
  {
   "cell_type": "code",
   "execution_count": 280,
   "metadata": {
    "scrolled": false
   },
   "outputs": [
    {
     "data": {
      "image/png": "[encoded data removed]",
      "text/plain": [
       "<Figure size 432x288 with 1 Axes>"
      ]
     },
     "metadata": {},
     "output_type": "display_data"
    }
   ],
   "source": [
    "plt.plot(Neighbors, min_score)\n",
    "plt.xlabel('Numbers of Neighbors K')\n",
    "plt.ylabel('RMSE')\n",
    "plt.show()"
   ]
  },
  {
   "cell_type": "code",
   "execution_count": 281,
   "metadata": {},
   "outputs": [
    {
     "name": "stdout",
     "output_type": "stream",
     "text": [
      "Neighbors 1 has a score of 3.0878916151422273\n",
      "Neighbors 3 has a score of 2.6528598299227033\n",
      "Neighbors 5 has a score of 2.5802026765008157\n",
      "Neighbors 7 has a score of 2.5216465961059082\n",
      "Neighbors 9 has a score of 2.4694513645330325\n",
      "Neighbors 11 has a score of 2.4738124916583684\n",
      "Neighbors 13 has a score of 2.4589009652338834\n",
      "Neighbors 15 has a score of 2.448005685515033\n",
      "Neighbors 17 has a score of 2.425901470337631\n",
      "Neighbors 19 has a score of 2.448864032750505\n",
      "Neighbors 21 has a score of 2.418107452971572\n",
      "Neighbors 23 has a score of 2.419164103041782\n",
      "Neighbors 25 has a score of 2.4038692360679708\n",
      "Neighbors 27 has a score of 2.421501843263427\n",
      "Neighbors 29 has a score of 2.418080830807017\n",
      "Neighbors 31 has a score of 2.4070282679256763\n",
      "Neighbors 33 has a score of 2.431727442473522\n",
      "Neighbors 35 has a score of 2.401641663148376\n",
      "Neighbors 37 has a score of 2.418888697589944\n",
      "Neighbors 39 has a score of 2.388357872832878\n",
      "Neighbors 41 has a score of 2.421779185850185\n",
      "Neighbors 43 has a score of 2.4148359344974275\n",
      "Neighbors 45 has a score of 2.391336154273874\n",
      "Neighbors 47 has a score of 2.419485233972119\n",
      "Neighbors 49 has a score of 2.440963671230538\n"
     ]
    }
   ],
   "source": [
    "cv_scores = []\n",
    "kf = KFold(10, True)\n",
    "for k in Neighbors:\n",
    "    cv_Sunshine_model = KNeighborsRegressor(n_neighbors=k)\n",
    "    temp_cv_scores = []\n",
    "    for train, test in kf.split(X):\n",
    "        X_train, X_test = X.values[train], X.values[test]\n",
    "        y_train, y_test = y.values[train], y.values[test]\n",
    "        cv_Sunshine_model.fit(X_train, y_train)\n",
    "        predictions = cv_Sunshine_model.predict(X_test)\n",
    "        mse = mean_squared_error(predictions, y_test)\n",
    "        rmse = sqrt(mse)\n",
    "        temp_cv_scores.append(rmse)\n",
    "    cv_scores.append(np.min(temp_cv_scores))\n",
    "    print('Neighbors {} has a score of {}'.format(k, np.min(temp_cv_scores)))"
   ]
  },
  {
   "cell_type": "code",
   "execution_count": 282,
   "metadata": {
    "scrolled": false
   },
   "outputs": [
    {
     "data": {
      "image/png": "[encoded data removed]",
      "text/plain": [
       "<Figure size 432x288 with 1 Axes>"
      ]
     },
     "metadata": {},
     "output_type": "display_data"
    }
   ],
   "source": [
    "plt.plot(Neighbors, min_score, Neighbors, cv_scores)\n",
    "plt.xlabel('Numbers of Neighbors K')\n",
    "plt.ylabel('RMSE')\n",
    "plt.show()"
   ]
  },
  {
   "cell_type": "code",
   "execution_count": 283,
   "metadata": {
    "scrolled": false
   },
   "outputs": [
    {
     "name": "stdout",
     "output_type": "stream",
     "text": [
      "15\n"
     ]
    }
   ],
   "source": [
    "optimal_k = Neighbors[temp_cv_scores.index(min(temp_cv_scores))]\n",
    "print(optimal_k)"
   ]
  },
  {
   "cell_type": "code",
   "execution_count": 526,
   "metadata": {},
   "outputs": [],
   "source": [
    "Sunshine_model = KNeighborsRegressor(n_neighbors=15)\n",
    "Sunshine_model.fit(X_train, y_train)\n",
    "Sunshine_predictions = Sunshine_model.predict(Sunshine_null)\n",
    "Sunshine_results = pd.DataFrame(Sunshine_predictions, columns=['Sunshine'])\n",
    "weather_df['Sunshine'] = weather_df['Sunshine'].fillna(Sunshine_results['Sunshine'].values[0])"
   ]
  },
  {
   "cell_type": "code",
   "execution_count": 527,
   "metadata": {
    "scrolled": false
   },
   "outputs": [
    {
     "name": "stdout",
     "output_type": "stream",
     "text": [
      "count    142193.000000\n",
      "mean          5.479536\n",
      "std           3.539423\n",
      "min           0.000000\n",
      "25%           3.126667\n",
      "50%           3.126667\n",
      "75%           8.700000\n",
      "max          14.500000\n",
      "Name: Sunshine, dtype: float64\n",
      "0\n"
     ]
    },
    {
     "data": {
      "text/plain": [
       "<matplotlib.axes._subplots.AxesSubplot at 0x7f6af9ce8630>"
      ]
     },
     "execution_count": 527,
     "metadata": {},
     "output_type": "execute_result"
    },
    {
     "data": {
      "image/png": "[encoded data removed]",
      "text/plain": [
       "<Figure size 432x288 with 1 Axes>"
      ]
     },
     "metadata": {},
     "output_type": "display_data"
    }
   ],
   "source": [
    "print(weather_df.Sunshine.describe())\n",
    "print(weather_df.Sunshine.isnull().sum())\n",
    "weather_df.Sunshine.plot(kind='box', vert = False)"
   ]
  },
  {
   "cell_type": "markdown",
   "metadata": {},
   "source": [
    "# Final Missing Data Visualisation\n",
    "\n",
    "All data is filled"
   ]
  },
  {
   "cell_type": "code",
   "execution_count": 528,
   "metadata": {},
   "outputs": [
    {
     "data": {
      "text/plain": [
       "<matplotlib.axes._subplots.AxesSubplot at 0x7f6af9dd6d68>"
      ]
     },
     "execution_count": 528,
     "metadata": {},
     "output_type": "execute_result"
    },
    {
     "data": {
      "image/png": "[encoded data removed]",
      "text/plain": [
       "<Figure size 1800x720 with 2 Axes>"
      ]
     },
     "metadata": {},
     "output_type": "display_data"
    }
   ],
   "source": [
    "missingno.matrix(weather_df, labels=True)"
   ]
  },
  {
   "cell_type": "code",
   "execution_count": 529,
   "metadata": {},
   "outputs": [],
   "source": [
    "weather_df.to_csv('WeatherAusReady.csv')"
   ]
  }
 ],
 "metadata": {
  "kernelspec": {
   "display_name": "conda_python3",
   "language": "python",
   "name": "conda_python3"
  },
  "language_info": {
   "codemirror_mode": {
    "name": "ipython",
    "version": 3
   },
   "file_extension": ".py",
   "mimetype": "text/x-python",
   "name": "python",
   "nbconvert_exporter": "python",
   "pygments_lexer": "ipython3",
   "version": "3.6.5"
  }
 },
 "nbformat": 4,
 "nbformat_minor": 2
}
